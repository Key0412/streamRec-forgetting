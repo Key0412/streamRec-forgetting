{
 "cells": [
  {
   "cell_type": "markdown",
   "metadata": {},
   "source": [
    "Neste notebook:\n",
    "* Avaliação de usuários por bucket  \n",
    "    * em média, e mediana, em quantos buckets os utilizadores estão.  \n",
    "    * quantos usuários novos estão em cada bucket e quantos não ocorrem\n",
    "\n",
    "Objetivo:\n",
    "* explorar caracteristicas dos datasets que permitam\n",
    "    * avaliar se o dataset é util para a análise  \n",
    "    * escolher o número de buckets  "
   ]
  },
  {
   "cell_type": "markdown",
   "metadata": {},
   "source": [
    "Vamos definir o numero de itens em cada bucket como 50k"
   ]
  },
  {
   "cell_type": "code",
   "execution_count": 1,
   "metadata": {},
   "outputs": [],
   "source": [
    "import os\n",
    "import sys\n",
    "sys.path.append(os.path.abspath('') + '/..')"
   ]
  },
  {
   "cell_type": "code",
   "execution_count": 2,
   "metadata": {},
   "outputs": [],
   "source": [
    "from data import ImplicitData\n",
    "from recommenders_implicit import ISGD  # ISGD framework, BISGD,\n",
    "from eval_implicit import EvaluateAndStore # EvaluateAndStore para guardar estados do modelo e holdouts, a avaliação prequencial de ratings implicitos é opcional, , EvalHoldout\n",
    "from dataset_evaluation_utils import * #get_interactions_info, plot_interactions_per_month, plot_user_presence_distribution, plot_n_users_per_bucket, plot_bucket_size\n",
    "\n",
    "from datetime import datetime, timedelta\n",
    "\n",
    "import joblib\n",
    "import pandas as pd \n",
    "import numpy as np \n",
    "import seaborn as sns\n",
    "import matplotlib.pyplot as plt\n",
    "sns.set_style('whitegrid')"
   ]
  },
  {
   "cell_type": "markdown",
   "metadata": {
    "tags": []
   },
   "source": [
    "___\n",
    "# Amazon Kindle_store\n",
    "Small subset, ratings only.  \n",
    "https://nijianmo.github.io/amazon/index.html\n"
   ]
  },
  {
   "cell_type": "code",
   "execution_count": 3,
   "metadata": {},
   "outputs": [],
   "source": [
    "# importa dataset 'amazon kindle store'\n",
    "data = pd.read_csv(\"../datasets/Kindle_Store.csv\", names=['user_id', 'item_id', 'rating', 'timestamp'])\n",
    "dataset_name = 'Amazon_Kindle_Store'\n",
    "user_col = 'user_id'"
   ]
  },
  {
   "cell_type": "code",
   "execution_count": 4,
   "metadata": {},
   "outputs": [
    {
     "data": {
      "text/plain": [
       "(5722988, 4)"
      ]
     },
     "execution_count": 4,
     "metadata": {},
     "output_type": "execute_result"
    }
   ],
   "source": [
    "data.shape"
   ]
  },
  {
   "cell_type": "code",
   "execution_count": 5,
   "metadata": {},
   "outputs": [
    {
     "data": {
      "text/html": [
       "<div>\n",
       "<style scoped>\n",
       "    .dataframe tbody tr th:only-of-type {\n",
       "        vertical-align: middle;\n",
       "    }\n",
       "\n",
       "    .dataframe tbody tr th {\n",
       "        vertical-align: top;\n",
       "    }\n",
       "\n",
       "    .dataframe thead th {\n",
       "        text-align: right;\n",
       "    }\n",
       "</style>\n",
       "<table border=\"1\" class=\"dataframe\">\n",
       "  <thead>\n",
       "    <tr style=\"text-align: right;\">\n",
       "      <th></th>\n",
       "      <th>user_id</th>\n",
       "      <th>item_id</th>\n",
       "      <th>rating</th>\n",
       "      <th>timestamp</th>\n",
       "    </tr>\n",
       "  </thead>\n",
       "  <tbody>\n",
       "    <tr>\n",
       "      <th>0</th>\n",
       "      <td>1423600150</td>\n",
       "      <td>A27UD5HYAKBL97</td>\n",
       "      <td>4.0</td>\n",
       "      <td>1356739200</td>\n",
       "    </tr>\n",
       "    <tr>\n",
       "      <th>1</th>\n",
       "      <td>1423600150</td>\n",
       "      <td>A8P5DK8LLOYGH</td>\n",
       "      <td>5.0</td>\n",
       "      <td>1330992000</td>\n",
       "    </tr>\n",
       "    <tr>\n",
       "      <th>2</th>\n",
       "      <td>1423600150</td>\n",
       "      <td>A3OM9W7DXSUIIY</td>\n",
       "      <td>5.0</td>\n",
       "      <td>1250035200</td>\n",
       "    </tr>\n",
       "    <tr>\n",
       "      <th>3</th>\n",
       "      <td>1423600150</td>\n",
       "      <td>A3DPAR2PWB9BT8</td>\n",
       "      <td>3.0</td>\n",
       "      <td>1162512000</td>\n",
       "    </tr>\n",
       "    <tr>\n",
       "      <th>4</th>\n",
       "      <td>1423600150</td>\n",
       "      <td>A2ONTBSAX7GIOV</td>\n",
       "      <td>5.0</td>\n",
       "      <td>1144713600</td>\n",
       "    </tr>\n",
       "  </tbody>\n",
       "</table>\n",
       "</div>"
      ],
      "text/plain": [
       "      user_id         item_id  rating   timestamp\n",
       "0  1423600150  A27UD5HYAKBL97     4.0  1356739200\n",
       "1  1423600150   A8P5DK8LLOYGH     5.0  1330992000\n",
       "2  1423600150  A3OM9W7DXSUIIY     5.0  1250035200\n",
       "3  1423600150  A3DPAR2PWB9BT8     3.0  1162512000\n",
       "4  1423600150  A2ONTBSAX7GIOV     5.0  1144713600"
      ]
     },
     "execution_count": 5,
     "metadata": {},
     "output_type": "execute_result"
    }
   ],
   "source": [
    "data.head()"
   ]
  },
  {
   "cell_type": "code",
   "execution_count": 6,
   "metadata": {},
   "outputs": [
    {
     "data": {
      "text/plain": [
       "B00C2WDD5I     True\n",
       "B00YN6XHMU     True\n",
       "B00DMCV7K0     True\n",
       "B0142IHZPI     True\n",
       "B00XSSYR50     True\n",
       "              ...  \n",
       "B008W6NII0    False\n",
       "B00UTE7S6G    False\n",
       "B00XQW9T3I    False\n",
       "B004Z2I3L2    False\n",
       "B00YTRCRQ0    False\n",
       "Name: user_id, Length: 493849, dtype: bool"
      ]
     },
     "execution_count": 6,
     "metadata": {},
     "output_type": "execute_result"
    }
   ],
   "source": [
    "data['user_id'].value_counts() >= 5"
   ]
  },
  {
   "cell_type": "code",
   "execution_count": 7,
   "metadata": {},
   "outputs": [],
   "source": [
    "k_core_users = data['user_id'].value_counts()[ data['user_id'].value_counts() >= 5 ].index"
   ]
  },
  {
   "cell_type": "code",
   "execution_count": 8,
   "metadata": {},
   "outputs": [],
   "source": [
    "data = data.set_index('user_id').loc[k_core_users].reset_index()"
   ]
  },
  {
   "cell_type": "code",
   "execution_count": 9,
   "metadata": {},
   "outputs": [
    {
     "data": {
      "text/plain": [
       "(5138479, 4)"
      ]
     },
     "execution_count": 9,
     "metadata": {},
     "output_type": "execute_result"
    }
   ],
   "source": [
    "data.shape"
   ]
  },
  {
   "cell_type": "markdown",
   "metadata": {},
   "source": [
    "### Keep only high ratings"
   ]
  },
  {
   "cell_type": "code",
   "execution_count": 10,
   "metadata": {},
   "outputs": [
    {
     "data": {
      "text/plain": [
       "<AxesSubplot:ylabel='Frequency'>"
      ]
     },
     "execution_count": 10,
     "metadata": {},
     "output_type": "execute_result"
    },
    {
     "data": {
      "image/png": "[encoded data removed]",
      "text/plain": [
       "<Figure size 432x288 with 1 Axes>"
      ]
     },
     "metadata": {},
     "output_type": "display_data"
    }
   ],
   "source": [
    "data['rating'].plot(kind='hist')"
   ]
  },
  {
   "cell_type": "code",
   "execution_count": 11,
   "metadata": {},
   "outputs": [],
   "source": [
    "pos_ratings = np.quantile(data['rating'], q=0.8)"
   ]
  },
  {
   "cell_type": "code",
   "execution_count": 12,
   "metadata": {},
   "outputs": [
    {
     "data": {
      "text/plain": [
       "5.0"
      ]
     },
     "execution_count": 12,
     "metadata": {},
     "output_type": "execute_result"
    }
   ],
   "source": [
    "pos_ratings"
   ]
  },
  {
   "cell_type": "code",
   "execution_count": 13,
   "metadata": {},
   "outputs": [],
   "source": [
    "data = data[ data['rating'] == pos_ratings ].drop(columns='rating')"
   ]
  },
  {
   "cell_type": "code",
   "execution_count": 14,
   "metadata": {},
   "outputs": [
    {
     "data": {
      "text/plain": [
       "3133324"
      ]
     },
     "execution_count": 14,
     "metadata": {},
     "output_type": "execute_result"
    }
   ],
   "source": [
    "# number of remaining cases\n",
    "data.shape[0]"
   ]
  },
  {
   "cell_type": "markdown",
   "metadata": {},
   "source": [
    "### Convert timestamp"
   ]
  },
  {
   "cell_type": "code",
   "execution_count": 15,
   "metadata": {},
   "outputs": [
    {
     "name": "stdout",
     "output_type": "stream",
     "text": [
      "CPU times: user 4.24 s, sys: 192 ms, total: 4.43 s\n",
      "Wall time: 4.48 s\n"
     ]
    }
   ],
   "source": [
    "%%time\n",
    "data['date'] = data['timestamp'].apply(lambda x: datetime.fromtimestamp(x) ) # convert unix timestamp to date\n",
    "data = data.sort_values(by='date') # sort by date"
   ]
  },
  {
   "cell_type": "code",
   "execution_count": 16,
   "metadata": {},
   "outputs": [
    {
     "data": {
      "text/html": [
       "<div>\n",
       "<style scoped>\n",
       "    .dataframe tbody tr th:only-of-type {\n",
       "        vertical-align: middle;\n",
       "    }\n",
       "\n",
       "    .dataframe tbody tr th {\n",
       "        vertical-align: top;\n",
       "    }\n",
       "\n",
       "    .dataframe thead th {\n",
       "        text-align: right;\n",
       "    }\n",
       "</style>\n",
       "<table border=\"1\" class=\"dataframe\">\n",
       "  <thead>\n",
       "    <tr style=\"text-align: right;\">\n",
       "      <th></th>\n",
       "      <th>user_id</th>\n",
       "      <th>item_id</th>\n",
       "      <th>timestamp</th>\n",
       "      <th>date</th>\n",
       "    </tr>\n",
       "  </thead>\n",
       "  <tbody>\n",
       "    <tr>\n",
       "      <th>108347</th>\n",
       "      <td>B01D6NM4VA</td>\n",
       "      <td>A3IMAGCSRXL12Y</td>\n",
       "      <td>872208000</td>\n",
       "      <td>1997-08-22</td>\n",
       "    </tr>\n",
       "    <tr>\n",
       "      <th>2972856</th>\n",
       "      <td>B0046A9VX2</td>\n",
       "      <td>A2KTTIY7HSLBFV</td>\n",
       "      <td>872208000</td>\n",
       "      <td>1997-08-22</td>\n",
       "    </tr>\n",
       "    <tr>\n",
       "      <th>3865042</th>\n",
       "      <td>B003R4ZOP2</td>\n",
       "      <td>A20UN1U2RQ0Y36</td>\n",
       "      <td>872640000</td>\n",
       "      <td>1997-08-27</td>\n",
       "    </tr>\n",
       "    <tr>\n",
       "      <th>624889</th>\n",
       "      <td>B01CKOE0VS</td>\n",
       "      <td>A2MWX5AW7CF0S6</td>\n",
       "      <td>872985600</td>\n",
       "      <td>1997-08-31</td>\n",
       "    </tr>\n",
       "    <tr>\n",
       "      <th>2103940</th>\n",
       "      <td>B003ZUXXCO</td>\n",
       "      <td>A3HK0X2QGA7O1V</td>\n",
       "      <td>873158400</td>\n",
       "      <td>1997-09-02</td>\n",
       "    </tr>\n",
       "  </tbody>\n",
       "</table>\n",
       "</div>"
      ],
      "text/plain": [
       "            user_id         item_id  timestamp       date\n",
       "108347   B01D6NM4VA  A3IMAGCSRXL12Y  872208000 1997-08-22\n",
       "2972856  B0046A9VX2  A2KTTIY7HSLBFV  872208000 1997-08-22\n",
       "3865042  B003R4ZOP2  A20UN1U2RQ0Y36  872640000 1997-08-27\n",
       "624889   B01CKOE0VS  A2MWX5AW7CF0S6  872985600 1997-08-31\n",
       "2103940  B003ZUXXCO  A3HK0X2QGA7O1V  873158400 1997-09-02"
      ]
     },
     "execution_count": 16,
     "metadata": {},
     "output_type": "execute_result"
    }
   ],
   "source": [
    "data.head()"
   ]
  },
  {
   "cell_type": "code",
   "execution_count": 17,
   "metadata": {},
   "outputs": [
    {
     "data": {
      "text/html": [
       "<div>\n",
       "<style scoped>\n",
       "    .dataframe tbody tr th:only-of-type {\n",
       "        vertical-align: middle;\n",
       "    }\n",
       "\n",
       "    .dataframe tbody tr th {\n",
       "        vertical-align: top;\n",
       "    }\n",
       "\n",
       "    .dataframe thead th {\n",
       "        text-align: right;\n",
       "    }\n",
       "</style>\n",
       "<table border=\"1\" class=\"dataframe\">\n",
       "  <thead>\n",
       "    <tr style=\"text-align: right;\">\n",
       "      <th></th>\n",
       "      <th>user_id</th>\n",
       "      <th>item_id</th>\n",
       "      <th>timestamp</th>\n",
       "      <th>date</th>\n",
       "    </tr>\n",
       "  </thead>\n",
       "  <tbody>\n",
       "    <tr>\n",
       "      <th>4087948</th>\n",
       "      <td>B01GBSN7HC</td>\n",
       "      <td>A1OMUMW86KOHCZ</td>\n",
       "      <td>1538352000</td>\n",
       "      <td>2018-10-01</td>\n",
       "    </tr>\n",
       "    <tr>\n",
       "      <th>2653703</th>\n",
       "      <td>B01GQPYUTE</td>\n",
       "      <td>A3U7LZJOP0K3VQ</td>\n",
       "      <td>1538352000</td>\n",
       "      <td>2018-10-01</td>\n",
       "    </tr>\n",
       "    <tr>\n",
       "      <th>944276</th>\n",
       "      <td>B01GF9OSI4</td>\n",
       "      <td>A34NDDTQPT7ZI4</td>\n",
       "      <td>1538352000</td>\n",
       "      <td>2018-10-01</td>\n",
       "    </tr>\n",
       "    <tr>\n",
       "      <th>4927797</th>\n",
       "      <td>B01HAKH654</td>\n",
       "      <td>A2XP39MF3QAZV0</td>\n",
       "      <td>1538438400</td>\n",
       "      <td>2018-10-02</td>\n",
       "    </tr>\n",
       "    <tr>\n",
       "      <th>2807600</th>\n",
       "      <td>B01H45TR0M</td>\n",
       "      <td>A2N5017ICZCW2L</td>\n",
       "      <td>1538438400</td>\n",
       "      <td>2018-10-02</td>\n",
       "    </tr>\n",
       "  </tbody>\n",
       "</table>\n",
       "</div>"
      ],
      "text/plain": [
       "            user_id         item_id   timestamp       date\n",
       "4087948  B01GBSN7HC  A1OMUMW86KOHCZ  1538352000 2018-10-01\n",
       "2653703  B01GQPYUTE  A3U7LZJOP0K3VQ  1538352000 2018-10-01\n",
       "944276   B01GF9OSI4  A34NDDTQPT7ZI4  1538352000 2018-10-01\n",
       "4927797  B01HAKH654  A2XP39MF3QAZV0  1538438400 2018-10-02\n",
       "2807600  B01H45TR0M  A2N5017ICZCW2L  1538438400 2018-10-02"
      ]
     },
     "execution_count": 17,
     "metadata": {},
     "output_type": "execute_result"
    }
   ],
   "source": [
    "data.tail()"
   ]
  },
  {
   "cell_type": "code",
   "execution_count": 18,
   "metadata": {},
   "outputs": [
    {
     "name": "stdout",
     "output_type": "stream",
     "text": [
      "CPU times: user 37.9 s, sys: 549 ms, total: 38.5 s\n",
      "Wall time: 39 s\n"
     ]
    }
   ],
   "source": [
    "%%time\n",
    "# keep year-month\n",
    "data['date'] = data['date'].apply(lambda x: datetime.strptime( str(x.year)+'-'+str(x.month), '%Y-%m' ))"
   ]
  },
  {
   "cell_type": "markdown",
   "metadata": {},
   "source": [
    "## Evaluating Time defined Buckets "
   ]
  },
  {
   "cell_type": "markdown",
   "metadata": {},
   "source": [
    "Sampling the dataset"
   ]
  },
  {
   "cell_type": "code",
   "execution_count": 19,
   "metadata": {},
   "outputs": [
    {
     "name": "stdout",
     "output_type": "stream",
     "text": [
      "CPU times: user 1.44 s, sys: 33.5 ms, total: 1.47 s\n",
      "Wall time: 1.47 s\n"
     ]
    }
   ],
   "source": [
    "%%time\n",
    "interactions_per_month = data.groupby(by=['date']).count().iloc[:, 0]\n",
    "interactions_per_month.name = 'count'\n",
    "interactions_per_month=interactions_per_month.reset_index()"
   ]
  },
  {
   "cell_type": "code",
   "execution_count": 20,
   "metadata": {},
   "outputs": [
    {
     "data": {
      "text/plain": [
       "<AxesSubplot:xlabel='date'>"
      ]
     },
     "execution_count": 20,
     "metadata": {},
     "output_type": "execute_result"
    },
    {
     "data": {
      "image/png": "[encoded data removed]",
      "text/plain": [
       "<Figure size 432x288 with 1 Axes>"
      ]
     },
     "metadata": {},
     "output_type": "display_data"
    }
   ],
   "source": [
    "_ = interactions_per_month.copy()\n",
    "_['date'] = _['date'].dt.year\n",
    "_.groupby('date').sum().plot(kind='bar')"
   ]
  },
  {
   "cell_type": "code",
   "execution_count": 21,
   "metadata": {},
   "outputs": [],
   "source": [
    "# y_filter = (data['date'] < datetime.strptime('2014-04', '%Y-%m')) & (datetime.strptime('2014', '%Y') <= data['date']) \n",
    "# y_filter = (data['date'] < datetime.strptime('2015', '%Y')) & (datetime.strptime('2014', '%Y') <= data['date']) \n",
    "y_filter = (data['date'] < datetime.strptime('2014-04', '%Y-%m')) & (datetime.strptime('2014', '%Y') <= data['date']) "
   ]
  },
  {
   "cell_type": "code",
   "execution_count": 22,
   "metadata": {},
   "outputs": [],
   "source": [
    "data = data[y_filter]"
   ]
  },
  {
   "cell_type": "code",
   "execution_count": 23,
   "metadata": {},
   "outputs": [
    {
     "data": {
      "text/plain": [
       "150020"
      ]
     },
     "execution_count": 23,
     "metadata": {},
     "output_type": "execute_result"
    }
   ],
   "source": [
    "# number of remaining cases\n",
    "data.shape[0]"
   ]
  },
  {
   "cell_type": "markdown",
   "metadata": {},
   "source": [
    "Sampling the dataset - only most frequent users (overall)"
   ]
  },
  {
   "cell_type": "code",
   "execution_count": 24,
   "metadata": {},
   "outputs": [
    {
     "name": "stdout",
     "output_type": "stream",
     "text": [
      "CPU times: user 92.2 ms, sys: 150 µs, total: 92.3 ms\n",
      "Wall time: 91.7 ms\n"
     ]
    }
   ],
   "source": [
    "%%time\n",
    "# ( data[:1000000].groupby(by=['user_id'])['date'].nunique() > 1 ).sum()\n",
    "user_freq_over_months = data.groupby(by=['user_id'])['date'].nunique()"
   ]
  },
  {
   "cell_type": "code",
   "execution_count": 25,
   "metadata": {},
   "outputs": [
    {
     "data": {
      "text/plain": [
       "<AxesSubplot:ylabel='Frequency'>"
      ]
     },
     "execution_count": 25,
     "metadata": {},
     "output_type": "execute_result"
    },
    {
     "data": {
      "image/png": "[encoded data removed]",
      "text/plain": [
       "<Figure size 432x288 with 1 Axes>"
      ]
     },
     "metadata": {},
     "output_type": "display_data"
    }
   ],
   "source": [
    "user_freq_over_months.plot(kind='hist',bins=user_freq_over_months.max())"
   ]
  },
  {
   "cell_type": "code",
   "execution_count": 26,
   "metadata": {},
   "outputs": [],
   "source": [
    "# # sample the dataset to contain only interactions from frequent users (that occur every month).\n",
    "# # there is still a huge number of interactions - 1694351\n",
    "# _ = data.set_index('user_id').loc[freq_users]\n",
    "# _.shape\n",
    "_ = data.set_index('user_id').copy()"
   ]
  },
  {
   "cell_type": "code",
   "execution_count": 27,
   "metadata": {},
   "outputs": [
    {
     "data": {
      "text/plain": [
       "<AxesSubplot:>"
      ]
     },
     "execution_count": 27,
     "metadata": {},
     "output_type": "execute_result"
    },
    {
     "data": {
      "image/png": "[encoded data removed]",
      "text/plain": [
       "<Figure size 432x288 with 1 Axes>"
      ]
     },
     "metadata": {},
     "output_type": "display_data"
    }
   ],
   "source": [
    "# frequency of users that occur every month:\n",
    "_.reset_index()['user_id'].value_counts().plot(kind='box')"
   ]
  },
  {
   "cell_type": "code",
   "execution_count": 28,
   "metadata": {},
   "outputs": [],
   "source": [
    "u = data['user_id'].value_counts().reset_index()['index'].to_list()"
   ]
  },
  {
   "cell_type": "code",
   "execution_count": 29,
   "metadata": {},
   "outputs": [],
   "source": [
    "# to user, or not to use p ?\n",
    "p = (data['user_id'].value_counts()/data['user_id'].shape[0])"
   ]
  },
  {
   "cell_type": "code",
   "execution_count": 30,
   "metadata": {},
   "outputs": [],
   "source": [
    "prop = 0.75\n",
    "s = round( len( u )*prop )"
   ]
  },
  {
   "cell_type": "code",
   "execution_count": 31,
   "metadata": {},
   "outputs": [],
   "source": [
    "np.random.seed(42)\n",
    "sampled_users = list( np.random.choice(u, size=s, replace=False, p=p) ) # , p=p"
   ]
  },
  {
   "cell_type": "code",
   "execution_count": 32,
   "metadata": {},
   "outputs": [
    {
     "data": {
      "text/html": [
       "<div>\n",
       "<style scoped>\n",
       "    .dataframe tbody tr th:only-of-type {\n",
       "        vertical-align: middle;\n",
       "    }\n",
       "\n",
       "    .dataframe tbody tr th {\n",
       "        vertical-align: top;\n",
       "    }\n",
       "\n",
       "    .dataframe thead th {\n",
       "        text-align: right;\n",
       "    }\n",
       "</style>\n",
       "<table border=\"1\" class=\"dataframe\">\n",
       "  <thead>\n",
       "    <tr style=\"text-align: right;\">\n",
       "      <th></th>\n",
       "      <th>item_id</th>\n",
       "      <th>timestamp</th>\n",
       "      <th>date</th>\n",
       "    </tr>\n",
       "    <tr>\n",
       "      <th>user_id</th>\n",
       "      <th></th>\n",
       "      <th></th>\n",
       "      <th></th>\n",
       "    </tr>\n",
       "  </thead>\n",
       "  <tbody>\n",
       "    <tr>\n",
       "      <th>B00H2BNE7Q</th>\n",
       "      <td>A1LKG4AGWDQYGF</td>\n",
       "      <td>1389312000</td>\n",
       "      <td>2014-01-01</td>\n",
       "    </tr>\n",
       "    <tr>\n",
       "      <th>B00H2BNE7Q</th>\n",
       "      <td>A2LZM0U9WGLCZM</td>\n",
       "      <td>1390003200</td>\n",
       "      <td>2014-01-01</td>\n",
       "    </tr>\n",
       "    <tr>\n",
       "      <th>B00H2BNE7Q</th>\n",
       "      <td>A1G00H8TOVASLK</td>\n",
       "      <td>1390867200</td>\n",
       "      <td>2014-01-01</td>\n",
       "    </tr>\n",
       "    <tr>\n",
       "      <th>B00H2BNE7Q</th>\n",
       "      <td>A21UKX1QHROV92</td>\n",
       "      <td>1391040000</td>\n",
       "      <td>2014-01-01</td>\n",
       "    </tr>\n",
       "    <tr>\n",
       "      <th>B00H2BNE7Q</th>\n",
       "      <td>A3CO70Y9SVVPQR</td>\n",
       "      <td>1392076800</td>\n",
       "      <td>2014-02-01</td>\n",
       "    </tr>\n",
       "    <tr>\n",
       "      <th>...</th>\n",
       "      <td>...</td>\n",
       "      <td>...</td>\n",
       "      <td>...</td>\n",
       "    </tr>\n",
       "    <tr>\n",
       "      <th>B007HONZSG</th>\n",
       "      <td>A3F5UEUNS9KD19</td>\n",
       "      <td>1393200000</td>\n",
       "      <td>2014-02-01</td>\n",
       "    </tr>\n",
       "    <tr>\n",
       "      <th>B007HONZSG</th>\n",
       "      <td>A19VJ9FBQ80FJ5</td>\n",
       "      <td>1393459200</td>\n",
       "      <td>2014-02-01</td>\n",
       "    </tr>\n",
       "    <tr>\n",
       "      <th>B007HONZSG</th>\n",
       "      <td>A1FR6GC1XUSJ45</td>\n",
       "      <td>1393804800</td>\n",
       "      <td>2014-03-01</td>\n",
       "    </tr>\n",
       "    <tr>\n",
       "      <th>B007HONZSG</th>\n",
       "      <td>A2XOFEN12FQ7N</td>\n",
       "      <td>1393891200</td>\n",
       "      <td>2014-03-01</td>\n",
       "    </tr>\n",
       "    <tr>\n",
       "      <th>B007HONZSG</th>\n",
       "      <td>A17BNSQU05D2ZA</td>\n",
       "      <td>1393891200</td>\n",
       "      <td>2014-03-01</td>\n",
       "    </tr>\n",
       "  </tbody>\n",
       "</table>\n",
       "<p>138644 rows × 3 columns</p>\n",
       "</div>"
      ],
      "text/plain": [
       "                   item_id   timestamp       date\n",
       "user_id                                          \n",
       "B00H2BNE7Q  A1LKG4AGWDQYGF  1389312000 2014-01-01\n",
       "B00H2BNE7Q  A2LZM0U9WGLCZM  1390003200 2014-01-01\n",
       "B00H2BNE7Q  A1G00H8TOVASLK  1390867200 2014-01-01\n",
       "B00H2BNE7Q  A21UKX1QHROV92  1391040000 2014-01-01\n",
       "B00H2BNE7Q  A3CO70Y9SVVPQR  1392076800 2014-02-01\n",
       "...                    ...         ...        ...\n",
       "B007HONZSG  A3F5UEUNS9KD19  1393200000 2014-02-01\n",
       "B007HONZSG  A19VJ9FBQ80FJ5  1393459200 2014-02-01\n",
       "B007HONZSG  A1FR6GC1XUSJ45  1393804800 2014-03-01\n",
       "B007HONZSG   A2XOFEN12FQ7N  1393891200 2014-03-01\n",
       "B007HONZSG  A17BNSQU05D2ZA  1393891200 2014-03-01\n",
       "\n",
       "[138644 rows x 3 columns]"
      ]
     },
     "execution_count": 32,
     "metadata": {},
     "output_type": "execute_result"
    }
   ],
   "source": [
    "_.loc[sampled_users]"
   ]
  },
  {
   "cell_type": "code",
   "execution_count": 33,
   "metadata": {},
   "outputs": [
    {
     "data": {
      "text/plain": [
       "99138"
      ]
     },
     "execution_count": 33,
     "metadata": {},
     "output_type": "execute_result"
    }
   ],
   "source": [
    "_.loc[sampled_users]['item_id'].nunique()"
   ]
  },
  {
   "cell_type": "code",
   "execution_count": 34,
   "metadata": {},
   "outputs": [
    {
     "data": {
      "text/plain": [
       "<AxesSubplot:>"
      ]
     },
     "execution_count": 34,
     "metadata": {},
     "output_type": "execute_result"
    },
    {
     "data": {
      "image/png": "[encoded data removed]",
      "text/plain": [
       "<Figure size 432x288 with 1 Axes>"
      ]
     },
     "metadata": {},
     "output_type": "display_data"
    }
   ],
   "source": [
    "# frequency of users:\n",
    "_.loc[sampled_users].reset_index()['user_id'].value_counts().plot(kind='box')"
   ]
  },
  {
   "cell_type": "code",
   "execution_count": 35,
   "metadata": {},
   "outputs": [
    {
     "name": "stdout",
     "output_type": "stream",
     "text": [
      "CPU times: user 280 ms, sys: 8.33 ms, total: 289 ms\n",
      "Wall time: 285 ms\n"
     ]
    },
    {
     "data": {
      "text/plain": [
       "<AxesSubplot:ylabel='Frequency'>"
      ]
     },
     "execution_count": 35,
     "metadata": {},
     "output_type": "execute_result"
    },
    {
     "data": {
      "image/png": "[encoded data removed]",
      "text/plain": [
       "<Figure size 432x288 with 1 Axes>"
      ]
     },
     "metadata": {},
     "output_type": "display_data"
    }
   ],
   "source": [
    "%%time\n",
    "# ( data[:1000000].groupby(by=['user_id'])['date'].nunique() > 1 ).sum()\n",
    "user_freq_over_months_sample = _.loc[sampled_users].reset_index().groupby(by=['user_id'])['date'].nunique()\n",
    "user_freq_over_months_sample.plot(kind='hist',bins=user_freq_over_months_sample.max())"
   ]
  },
  {
   "cell_type": "code",
   "execution_count": 36,
   "metadata": {},
   "outputs": [
    {
     "data": {
      "text/plain": [
       "(35915, 106107)"
      ]
     },
     "execution_count": 36,
     "metadata": {},
     "output_type": "execute_result"
    }
   ],
   "source": [
    "data['user_id'].nunique(), data['item_id'].nunique() # original number of users, original number of items"
   ]
  },
  {
   "cell_type": "code",
   "execution_count": 37,
   "metadata": {},
   "outputs": [
    {
     "data": {
      "text/plain": [
       "(26936, 99138)"
      ]
     },
     "execution_count": 37,
     "metadata": {},
     "output_type": "execute_result"
    }
   ],
   "source": [
    "# _.loc[freq_users].reset_index()['user_id'].nunique(), _.loc[freq_users].reset_index()['item_id'].nunique() # sample number of users, and of items\n",
    "_.loc[sampled_users].reset_index()['user_id'].nunique(), _.loc[sampled_users].reset_index()['item_id'].nunique() # sample number of users, and of items"
   ]
  },
  {
   "cell_type": "code",
   "execution_count": 38,
   "metadata": {},
   "outputs": [
    {
     "data": {
      "image/png": "[encoded data removed]",
      "text/plain": [
       "<Figure size 432x720 with 1 Axes>"
      ]
     },
     "metadata": {},
     "output_type": "display_data"
    }
   ],
   "source": [
    "# %%time\n",
    "# plot_interactions_per_month(data=_.loc[freq_users].reset_index(), dataset_name=dataset_name)\n",
    "plot_interactions_per_month(data=_.loc[sampled_users].reset_index(), dataset_name=dataset_name)"
   ]
  },
  {
   "cell_type": "code",
   "execution_count": 39,
   "metadata": {},
   "outputs": [
    {
     "name": "stdout",
     "output_type": "stream",
     "text": [
      "138644\n"
     ]
    }
   ],
   "source": [
    "USE_THRESHOLD = True\n",
    "# all users 0.009303\n",
    "# USING p = 0.75 increased performance, by a bit, 0.011201\n",
    "# USING p = 0.5 increased performance, by a bit, 0.010228\n",
    "# USING p = 0.25 increased performance, 0.010836\n",
    "\n",
    "if USE_THRESHOLD: \n",
    "    data = _.loc[sampled_users].reset_index()\n",
    "    data = data.sort_values(by=['timestamp', 'user_id', 'item_id'])\n",
    "    print(data.shape[0])\n",
    "else:\n",
    "    print(data.shape[0])\n",
    "# new sample\n",
    "data.to_csv('output/amazonkindle_dump/2nd_sampled_amazon_kindle.csv', index=False)"
   ]
  },
  {
   "cell_type": "markdown",
   "metadata": {},
   "source": [
    "How many interactions occur in each month / year?"
   ]
  },
  {
   "cell_type": "code",
   "execution_count": 40,
   "metadata": {},
   "outputs": [],
   "source": [
    "interactions_per_month = data.groupby(by=['date']).count().iloc[:, 0]\n",
    "interactions_per_month.name = 'count'\n",
    "interactions_per_month=interactions_per_month.reset_index()"
   ]
  },
  {
   "cell_type": "code",
   "execution_count": 41,
   "metadata": {},
   "outputs": [
    {
     "name": "stdout",
     "output_type": "stream",
     "text": [
      "CPU times: user 213 ms, sys: 0 ns, total: 213 ms\n",
      "Wall time: 212 ms\n"
     ]
    },
    {
     "data": {
      "image/png": "[encoded data removed]",
      "text/plain": [
       "<Figure size 432x720 with 1 Axes>"
      ]
     },
     "metadata": {},
     "output_type": "display_data"
    }
   ],
   "source": [
    "%%time\n",
    "plot_interactions_per_month(data=data, dataset_name=dataset_name)"
   ]
  },
  {
   "cell_type": "markdown",
   "metadata": {},
   "source": [
    "What is the user presence distribution based on month, quarter, and semester?"
   ]
  },
  {
   "cell_type": "code",
   "execution_count": 42,
   "metadata": {},
   "outputs": [
    {
     "name": "stdout",
     "output_type": "stream",
     "text": [
      "0.0 %\n",
      "25.0 %\n",
      "50.0 %\n",
      "75.0 %\n",
      "CPU times: user 6min 12s, sys: 401 ms, total: 6min 13s\n",
      "Wall time: 6min 20s\n"
     ]
    }
   ],
   "source": [
    "%%time\n",
    "# 3min 16s\n",
    "user_presence_df, user_month_interactions = get_interactions_info(data=data, user_col=user_col)\n",
    "\n",
    "# new sample\n",
    "user_presence_df.to_csv('output/amazonkindle_dump/2nd_sample_user_presence_df.csv', index=False)\n",
    "user_month_interactions.to_csv('output/amazonkindle_dump/2nd_sample_user_month_interactions.csv', index=False)"
   ]
  },
  {
   "cell_type": "code",
   "execution_count": 43,
   "metadata": {},
   "outputs": [
    {
     "data": {
      "text/html": [
       "<div>\n",
       "<style scoped>\n",
       "    .dataframe tbody tr th:only-of-type {\n",
       "        vertical-align: middle;\n",
       "    }\n",
       "\n",
       "    .dataframe tbody tr th {\n",
       "        vertical-align: top;\n",
       "    }\n",
       "\n",
       "    .dataframe thead th {\n",
       "        text-align: right;\n",
       "    }\n",
       "</style>\n",
       "<table border=\"1\" class=\"dataframe\">\n",
       "  <thead>\n",
       "    <tr style=\"text-align: right;\">\n",
       "      <th></th>\n",
       "      <th>UserID</th>\n",
       "      <th>month_%</th>\n",
       "    </tr>\n",
       "  </thead>\n",
       "  <tbody>\n",
       "    <tr>\n",
       "      <th>0</th>\n",
       "      <td>B00I2DO4K4</td>\n",
       "      <td>1.0</td>\n",
       "    </tr>\n",
       "    <tr>\n",
       "      <th>1</th>\n",
       "      <td>B005FCVU02</td>\n",
       "      <td>1.0</td>\n",
       "    </tr>\n",
       "    <tr>\n",
       "      <th>2</th>\n",
       "      <td>B00H0FIZAU</td>\n",
       "      <td>1.0</td>\n",
       "    </tr>\n",
       "    <tr>\n",
       "      <th>3</th>\n",
       "      <td>B0092XHPWM</td>\n",
       "      <td>1.0</td>\n",
       "    </tr>\n",
       "    <tr>\n",
       "      <th>4</th>\n",
       "      <td>B0084KFV8E</td>\n",
       "      <td>1.0</td>\n",
       "    </tr>\n",
       "  </tbody>\n",
       "</table>\n",
       "</div>"
      ],
      "text/plain": [
       "       UserID  month_%\n",
       "0  B00I2DO4K4      1.0\n",
       "1  B005FCVU02      1.0\n",
       "2  B00H0FIZAU      1.0\n",
       "3  B0092XHPWM      1.0\n",
       "4  B0084KFV8E      1.0"
      ]
     },
     "execution_count": 43,
     "metadata": {},
     "output_type": "execute_result"
    }
   ],
   "source": [
    "user_presence_df.head()"
   ]
  },
  {
   "cell_type": "code",
   "execution_count": 44,
   "metadata": {},
   "outputs": [
    {
     "data": {
      "image/png": "[encoded data removed]",
      "text/plain": [
       "<Figure size 1224x288 with 3 Axes>"
      ]
     },
     "metadata": {},
     "output_type": "display_data"
    }
   ],
   "source": [
    "# plotting user frequency distribution\n",
    "plot_user_presence_distribution(user_presence_df, dataset_name=dataset_name)"
   ]
  },
  {
   "cell_type": "markdown",
   "metadata": {},
   "source": [
    "How many examples are there per quarter and semester?"
   ]
  },
  {
   "cell_type": "code",
   "execution_count": 45,
   "metadata": {},
   "outputs": [],
   "source": [
    "# plot_interactions_per_qns(user_interactions=user_trimestre_interactions, date_range=trimestres, dataset_name=dataset_name, type_of_range='quarter')"
   ]
  },
  {
   "cell_type": "code",
   "execution_count": 46,
   "metadata": {},
   "outputs": [],
   "source": [
    "# plot_interactions_per_qns(user_interactions=user_semestre_interactions, date_range=semestres, dataset_name=dataset_name, type_of_range='semester')"
   ]
  },
  {
   "cell_type": "markdown",
   "metadata": {},
   "source": [
    "How many FREQUENT users (occur in 80% or more intervals) exist?"
   ]
  },
  {
   "cell_type": "code",
   "execution_count": 47,
   "metadata": {},
   "outputs": [],
   "source": [
    "# defining threshold\n",
    "frequency_threshold = 1"
   ]
  },
  {
   "cell_type": "code",
   "execution_count": 48,
   "metadata": {},
   "outputs": [
    {
     "name": "stdout",
     "output_type": "stream",
     "text": [
      "4842 users of 26936 (17.976%) occurr in 100% or more months.\n"
     ]
    }
   ],
   "source": [
    "# frequent_users_month, frequent_users_trimestre, frequent_users_semestre = get_frequent_users(user_presence_df, frequency_threshold=frequency_threshold)\n",
    "frequent_users_month = get_frequent_users(user_presence_df, frequency_threshold=frequency_threshold)"
   ]
  },
  {
   "cell_type": "code",
   "execution_count": 49,
   "metadata": {},
   "outputs": [
    {
     "data": {
      "text/plain": [
       "['output/amazonkindle_dump/2nd_sample_frequent_users_month.joblib']"
      ]
     },
     "execution_count": 49,
     "metadata": {},
     "output_type": "execute_result"
    }
   ],
   "source": [
    "# old huge sample\n",
    "# joblib.dump(frequent_users_month, 'output/amazonbooks_dump/frequent_users_month.joblib')\n",
    "\n",
    "# new sample\n",
    "joblib.dump(frequent_users_month, 'output/amazonkindle_dump/2nd_sample_frequent_users_month.joblib')"
   ]
  }
 ],
 "metadata": {
  "interpreter": {
   "hash": "93164e1ba08303257f1d4f69270dc17556e83319233af9462e0c249160adc063"
  },
  "kernelspec": {
   "display_name": "streamrec_venv",
   "language": "python",
   "name": "streamrec_venv"
  },
  "language_info": {
   "codemirror_mode": {
    "name": "ipython",
    "version": 3
   },
   "file_extension": ".py",
   "mimetype": "text/x-python",
   "name": "python",
   "nbconvert_exporter": "python",
   "pygments_lexer": "ipython3",
   "version": "3.8.10"
  }
 },
 "nbformat": 4,
 "nbformat_minor": 4
}
