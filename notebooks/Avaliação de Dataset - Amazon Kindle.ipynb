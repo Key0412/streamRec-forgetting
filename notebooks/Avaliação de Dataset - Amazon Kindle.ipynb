{
 "cells": [
  {
   "cell_type": "markdown",
   "metadata": {},
   "source": [
    "Neste notebook:\n",
    "* Avaliação de usuários por bucket  \n",
    "    * em média, e mediana, em quantos buckets os utilizadores estão.  \n",
    "    * quantos usuários novos estão em cada bucket e quantos não ocorrem\n",
    "\n",
    "Objetivo:\n",
    "* explorar caracteristicas dos datasets que permitam\n",
    "    * avaliar se o dataset é util para a análise  \n",
    "    * escolher o número de buckets  "
   ]
  },
  {
   "cell_type": "markdown",
   "metadata": {},
   "source": [
    "Vamos definir o numero de itens em cada bucket como 50k"
   ]
  },
  {
   "cell_type": "code",
   "execution_count": 1,
   "metadata": {},
   "outputs": [],
   "source": [
    "import os\n",
    "import sys\n",
    "sys.path.append(os.path.abspath('') + '/..')"
   ]
  },
  {
   "cell_type": "code",
   "execution_count": 2,
   "metadata": {},
   "outputs": [],
   "source": [
    "from data import ImplicitData\n",
    "from recommenders_implicit import ISGD  # ISGD framework, BISGD,\n",
    "from eval_implicit import EvaluateAndStore # EvaluateAndStore para guardar estados do modelo e holdouts, a avaliação prequencial de ratings implicitos é opcional, , EvalHoldout\n",
    "from dataset_evaluation_utils import * #get_interactions_info, plot_interactions_per_month, plot_user_presence_distribution, plot_n_users_per_bucket, plot_bucket_size\n",
    "\n",
    "from datetime import datetime, timedelta\n",
    "\n",
    "import joblib\n",
    "import pandas as pd \n",
    "import numpy as np \n",
    "import seaborn as sns\n",
    "import matplotlib.pyplot as plt\n",
    "sns.set_style('whitegrid')"
   ]
  },
  {
   "cell_type": "markdown",
   "metadata": {
    "tags": []
   },
   "source": [
    "___\n",
    "# Amazon Kindle_store\n",
    "Small subset, ratings only.  \n",
    "https://nijianmo.github.io/amazon/index.html\n"
   ]
  },
  {
   "cell_type": "code",
   "execution_count": 3,
   "metadata": {},
   "outputs": [],
   "source": [
    "# importa dataset 'amazon kindle store'\n",
    "data = pd.read_csv(\"../datasets/Kindle_Store.csv\", names=['user_id', 'item_id', 'rating', 'timestamp'])\n",
    "dataset_name = 'Amazon_Kindle_Store'\n",
    "user_col = 'user_id'"
   ]
  },
  {
   "cell_type": "code",
   "execution_count": 4,
   "metadata": {},
   "outputs": [
    {
     "data": {
      "text/plain": [
       "(5722988, 4)"
      ]
     },
     "execution_count": 4,
     "metadata": {},
     "output_type": "execute_result"
    }
   ],
   "source": [
    "data.shape"
   ]
  },
  {
   "cell_type": "code",
   "execution_count": 5,
   "metadata": {},
   "outputs": [
    {
     "data": {
      "text/html": [
       "<div>\n",
       "<style scoped>\n",
       "    .dataframe tbody tr th:only-of-type {\n",
       "        vertical-align: middle;\n",
       "    }\n",
       "\n",
       "    .dataframe tbody tr th {\n",
       "        vertical-align: top;\n",
       "    }\n",
       "\n",
       "    .dataframe thead th {\n",
       "        text-align: right;\n",
       "    }\n",
       "</style>\n",
       "<table border=\"1\" class=\"dataframe\">\n",
       "  <thead>\n",
       "    <tr style=\"text-align: right;\">\n",
       "      <th></th>\n",
       "      <th>user_id</th>\n",
       "      <th>item_id</th>\n",
       "      <th>rating</th>\n",
       "      <th>timestamp</th>\n",
       "    </tr>\n",
       "  </thead>\n",
       "  <tbody>\n",
       "    <tr>\n",
       "      <th>0</th>\n",
       "      <td>1423600150</td>\n",
       "      <td>A27UD5HYAKBL97</td>\n",
       "      <td>4.0</td>\n",
       "      <td>1356739200</td>\n",
       "    </tr>\n",
       "    <tr>\n",
       "      <th>1</th>\n",
       "      <td>1423600150</td>\n",
       "      <td>A8P5DK8LLOYGH</td>\n",
       "      <td>5.0</td>\n",
       "      <td>1330992000</td>\n",
       "    </tr>\n",
       "    <tr>\n",
       "      <th>2</th>\n",
       "      <td>1423600150</td>\n",
       "      <td>A3OM9W7DXSUIIY</td>\n",
       "      <td>5.0</td>\n",
       "      <td>1250035200</td>\n",
       "    </tr>\n",
       "    <tr>\n",
       "      <th>3</th>\n",
       "      <td>1423600150</td>\n",
       "      <td>A3DPAR2PWB9BT8</td>\n",
       "      <td>3.0</td>\n",
       "      <td>1162512000</td>\n",
       "    </tr>\n",
       "    <tr>\n",
       "      <th>4</th>\n",
       "      <td>1423600150</td>\n",
       "      <td>A2ONTBSAX7GIOV</td>\n",
       "      <td>5.0</td>\n",
       "      <td>1144713600</td>\n",
       "    </tr>\n",
       "  </tbody>\n",
       "</table>\n",
       "</div>"
      ],
      "text/plain": [
       "      user_id         item_id  rating   timestamp\n",
       "0  1423600150  A27UD5HYAKBL97     4.0  1356739200\n",
       "1  1423600150   A8P5DK8LLOYGH     5.0  1330992000\n",
       "2  1423600150  A3OM9W7DXSUIIY     5.0  1250035200\n",
       "3  1423600150  A3DPAR2PWB9BT8     3.0  1162512000\n",
       "4  1423600150  A2ONTBSAX7GIOV     5.0  1144713600"
      ]
     },
     "execution_count": 5,
     "metadata": {},
     "output_type": "execute_result"
    }
   ],
   "source": [
    "data.head()"
   ]
  },
  {
   "cell_type": "markdown",
   "metadata": {},
   "source": [
    "### Keep only high ratings"
   ]
  },
  {
   "cell_type": "code",
   "execution_count": 6,
   "metadata": {},
   "outputs": [
    {
     "data": {
      "text/plain": [
       "<AxesSubplot:ylabel='Frequency'>"
      ]
     },
     "execution_count": 6,
     "metadata": {},
     "output_type": "execute_result"
    },
    {
     "data": {
      "image/png": "[encoded data removed]",
      "text/plain": [
       "<Figure size 432x288 with 1 Axes>"
      ]
     },
     "metadata": {},
     "output_type": "display_data"
    }
   ],
   "source": [
    "data['rating'].plot(kind='hist')"
   ]
  },
  {
   "cell_type": "code",
   "execution_count": 7,
   "metadata": {},
   "outputs": [],
   "source": [
    "pos_ratings = np.quantile(data['rating'], q=0.8)"
   ]
  },
  {
   "cell_type": "code",
   "execution_count": 8,
   "metadata": {},
   "outputs": [
    {
     "data": {
      "text/plain": [
       "5.0"
      ]
     },
     "execution_count": 8,
     "metadata": {},
     "output_type": "execute_result"
    }
   ],
   "source": [
    "pos_ratings"
   ]
  },
  {
   "cell_type": "code",
   "execution_count": 9,
   "metadata": {},
   "outputs": [],
   "source": [
    "data = data[ data['rating'] == pos_ratings ].drop(columns='rating')"
   ]
  },
  {
   "cell_type": "code",
   "execution_count": 10,
   "metadata": {},
   "outputs": [
    {
     "data": {
      "text/plain": [
       "3479780"
      ]
     },
     "execution_count": 10,
     "metadata": {},
     "output_type": "execute_result"
    }
   ],
   "source": [
    "# number of remaining cases\n",
    "data.shape[0]"
   ]
  },
  {
   "cell_type": "markdown",
   "metadata": {},
   "source": [
    "### Convert timestamp"
   ]
  },
  {
   "cell_type": "code",
   "execution_count": 11,
   "metadata": {},
   "outputs": [
    {
     "name": "stdout",
     "output_type": "stream",
     "text": [
      "CPU times: user 4.35 s, sys: 413 ms, total: 4.76 s\n",
      "Wall time: 4.76 s\n"
     ]
    }
   ],
   "source": [
    "%%time\n",
    "data['date'] = data['timestamp'].apply(lambda x: datetime.fromtimestamp(x) ) # convert unix timestamp to date\n",
    "data = data.sort_values(by='date') # sort by date"
   ]
  },
  {
   "cell_type": "code",
   "execution_count": 12,
   "metadata": {},
   "outputs": [
    {
     "data": {
      "text/html": [
       "<div>\n",
       "<style scoped>\n",
       "    .dataframe tbody tr th:only-of-type {\n",
       "        vertical-align: middle;\n",
       "    }\n",
       "\n",
       "    .dataframe tbody tr th {\n",
       "        vertical-align: top;\n",
       "    }\n",
       "\n",
       "    .dataframe thead th {\n",
       "        text-align: right;\n",
       "    }\n",
       "</style>\n",
       "<table border=\"1\" class=\"dataframe\">\n",
       "  <thead>\n",
       "    <tr style=\"text-align: right;\">\n",
       "      <th></th>\n",
       "      <th>user_id</th>\n",
       "      <th>item_id</th>\n",
       "      <th>timestamp</th>\n",
       "      <th>date</th>\n",
       "    </tr>\n",
       "  </thead>\n",
       "  <tbody>\n",
       "    <tr>\n",
       "      <th>3957826</th>\n",
       "      <td>B009DRL8LG</td>\n",
       "      <td>A1IBL0XQRJ200W</td>\n",
       "      <td>871603200</td>\n",
       "      <td>1997-08-15</td>\n",
       "    </tr>\n",
       "    <tr>\n",
       "      <th>92533</th>\n",
       "      <td>B0046A9VX2</td>\n",
       "      <td>A2KTTIY7HSLBFV</td>\n",
       "      <td>872208000</td>\n",
       "      <td>1997-08-22</td>\n",
       "    </tr>\n",
       "    <tr>\n",
       "      <th>3365139</th>\n",
       "      <td>B01D6NM4VA</td>\n",
       "      <td>A3IMAGCSRXL12Y</td>\n",
       "      <td>872208000</td>\n",
       "      <td>1997-08-22</td>\n",
       "    </tr>\n",
       "    <tr>\n",
       "      <th>3599648</th>\n",
       "      <td>B003YJEWLM</td>\n",
       "      <td>A1OFN8369L3EP2</td>\n",
       "      <td>872553600</td>\n",
       "      <td>1997-08-26</td>\n",
       "    </tr>\n",
       "    <tr>\n",
       "      <th>80659</th>\n",
       "      <td>B003R4ZOP2</td>\n",
       "      <td>A20UN1U2RQ0Y36</td>\n",
       "      <td>872640000</td>\n",
       "      <td>1997-08-27</td>\n",
       "    </tr>\n",
       "  </tbody>\n",
       "</table>\n",
       "</div>"
      ],
      "text/plain": [
       "            user_id         item_id  timestamp       date\n",
       "3957826  B009DRL8LG  A1IBL0XQRJ200W  871603200 1997-08-15\n",
       "92533    B0046A9VX2  A2KTTIY7HSLBFV  872208000 1997-08-22\n",
       "3365139  B01D6NM4VA  A3IMAGCSRXL12Y  872208000 1997-08-22\n",
       "3599648  B003YJEWLM  A1OFN8369L3EP2  872553600 1997-08-26\n",
       "80659    B003R4ZOP2  A20UN1U2RQ0Y36  872640000 1997-08-27"
      ]
     },
     "execution_count": 12,
     "metadata": {},
     "output_type": "execute_result"
    }
   ],
   "source": [
    "data.head()"
   ]
  },
  {
   "cell_type": "code",
   "execution_count": 13,
   "metadata": {},
   "outputs": [
    {
     "data": {
      "text/html": [
       "<div>\n",
       "<style scoped>\n",
       "    .dataframe tbody tr th:only-of-type {\n",
       "        vertical-align: middle;\n",
       "    }\n",
       "\n",
       "    .dataframe tbody tr th {\n",
       "        vertical-align: top;\n",
       "    }\n",
       "\n",
       "    .dataframe thead th {\n",
       "        text-align: right;\n",
       "    }\n",
       "</style>\n",
       "<table border=\"1\" class=\"dataframe\">\n",
       "  <thead>\n",
       "    <tr style=\"text-align: right;\">\n",
       "      <th></th>\n",
       "      <th>user_id</th>\n",
       "      <th>item_id</th>\n",
       "      <th>timestamp</th>\n",
       "      <th>date</th>\n",
       "    </tr>\n",
       "  </thead>\n",
       "  <tbody>\n",
       "    <tr>\n",
       "      <th>5717958</th>\n",
       "      <td>B01HCB4LFE</td>\n",
       "      <td>A3S8GNGO2T7VEQ</td>\n",
       "      <td>1538352000</td>\n",
       "      <td>2018-10-01</td>\n",
       "    </tr>\n",
       "    <tr>\n",
       "      <th>5698088</th>\n",
       "      <td>B01GLZGGRI</td>\n",
       "      <td>AHXGHTNAI6VR8</td>\n",
       "      <td>1538352000</td>\n",
       "      <td>2018-10-01</td>\n",
       "    </tr>\n",
       "    <tr>\n",
       "      <th>5694162</th>\n",
       "      <td>B01GGCYJ16</td>\n",
       "      <td>A3L9TMJW3EJRJE</td>\n",
       "      <td>1538352000</td>\n",
       "      <td>2018-10-01</td>\n",
       "    </tr>\n",
       "    <tr>\n",
       "      <th>5716270</th>\n",
       "      <td>B01HAKH654</td>\n",
       "      <td>A2XP39MF3QAZV0</td>\n",
       "      <td>1538438400</td>\n",
       "      <td>2018-10-02</td>\n",
       "    </tr>\n",
       "    <tr>\n",
       "      <th>5711666</th>\n",
       "      <td>B01H45TR0M</td>\n",
       "      <td>A2N5017ICZCW2L</td>\n",
       "      <td>1538438400</td>\n",
       "      <td>2018-10-02</td>\n",
       "    </tr>\n",
       "  </tbody>\n",
       "</table>\n",
       "</div>"
      ],
      "text/plain": [
       "            user_id         item_id   timestamp       date\n",
       "5717958  B01HCB4LFE  A3S8GNGO2T7VEQ  1538352000 2018-10-01\n",
       "5698088  B01GLZGGRI   AHXGHTNAI6VR8  1538352000 2018-10-01\n",
       "5694162  B01GGCYJ16  A3L9TMJW3EJRJE  1538352000 2018-10-01\n",
       "5716270  B01HAKH654  A2XP39MF3QAZV0  1538438400 2018-10-02\n",
       "5711666  B01H45TR0M  A2N5017ICZCW2L  1538438400 2018-10-02"
      ]
     },
     "execution_count": 13,
     "metadata": {},
     "output_type": "execute_result"
    }
   ],
   "source": [
    "data.tail()"
   ]
  },
  {
   "cell_type": "code",
   "execution_count": 14,
   "metadata": {},
   "outputs": [],
   "source": [
    "# keep year-month\n",
    "data['date'] = data['date'].apply(lambda x: datetime.strptime( str(x.year)+'-'+str(x.month), '%Y-%m' ))"
   ]
  },
  {
   "cell_type": "markdown",
   "metadata": {},
   "source": [
    "## Evaluating Time defined Buckets "
   ]
  },
  {
   "cell_type": "markdown",
   "metadata": {},
   "source": [
    "Sampling the dataset"
   ]
  },
  {
   "cell_type": "code",
   "execution_count": 15,
   "metadata": {},
   "outputs": [
    {
     "name": "stdout",
     "output_type": "stream",
     "text": [
      "CPU times: user 1.43 s, sys: 8.96 ms, total: 1.44 s\n",
      "Wall time: 1.43 s\n"
     ]
    }
   ],
   "source": [
    "%%time\n",
    "interactions_per_month = data.groupby(by=['date']).count().iloc[:, 0]\n",
    "interactions_per_month.name = 'count'\n",
    "interactions_per_month=interactions_per_month.reset_index()"
   ]
  },
  {
   "cell_type": "code",
   "execution_count": 16,
   "metadata": {},
   "outputs": [
    {
     "data": {
      "text/plain": [
       "<AxesSubplot:xlabel='date'>"
      ]
     },
     "execution_count": 16,
     "metadata": {},
     "output_type": "execute_result"
    },
    {
     "data": {
      "image/png": "[encoded data removed]",
      "text/plain": [
       "<Figure size 432x288 with 1 Axes>"
      ]
     },
     "metadata": {},
     "output_type": "display_data"
    }
   ],
   "source": [
    "_ = interactions_per_month.copy()\n",
    "_['date'] = _['date'].dt.year\n",
    "_.groupby('date').sum().plot(kind='bar')"
   ]
  },
  {
   "cell_type": "code",
   "execution_count": 17,
   "metadata": {},
   "outputs": [],
   "source": [
    "y_filter = (data['date'] < datetime.strptime('2014-04', '%Y-%m')) & (datetime.strptime('2014', '%Y') <= data['date']) \n",
    "# y_filter = (data['date'] < datetime.strptime('2015', '%Y')) & (datetime.strptime('2014', '%Y') <= data['date']) "
   ]
  },
  {
   "cell_type": "code",
   "execution_count": 18,
   "metadata": {},
   "outputs": [],
   "source": [
    "data = data[y_filter]"
   ]
  },
  {
   "cell_type": "code",
   "execution_count": 19,
   "metadata": {},
   "outputs": [
    {
     "data": {
      "text/plain": [
       "166612"
      ]
     },
     "execution_count": 19,
     "metadata": {},
     "output_type": "execute_result"
    }
   ],
   "source": [
    "# number of remaining cases\n",
    "data.shape[0]"
   ]
  },
  {
   "cell_type": "markdown",
   "metadata": {},
   "source": [
    "Sampling the dataset - only most frequent users (overall)"
   ]
  },
  {
   "cell_type": "code",
   "execution_count": 20,
   "metadata": {},
   "outputs": [
    {
     "name": "stdout",
     "output_type": "stream",
     "text": [
      "CPU times: user 141 ms, sys: 111 µs, total: 142 ms\n",
      "Wall time: 141 ms\n"
     ]
    }
   ],
   "source": [
    "%%time\n",
    "# ( data[:1000000].groupby(by=['user_id'])['date'].nunique() > 1 ).sum()\n",
    "user_freq_over_months = data.groupby(by=['user_id'])['date'].nunique()"
   ]
  },
  {
   "cell_type": "code",
   "execution_count": 21,
   "metadata": {},
   "outputs": [
    {
     "data": {
      "text/plain": [
       "<AxesSubplot:ylabel='Frequency'>"
      ]
     },
     "execution_count": 21,
     "metadata": {},
     "output_type": "execute_result"
    },
    {
     "data": {
      "image/png": "[encoded data removed]",
      "text/plain": [
       "<Figure size 432x288 with 1 Axes>"
      ]
     },
     "metadata": {},
     "output_type": "display_data"
    }
   ],
   "source": [
    "user_freq_over_months.plot(kind='hist',bins=user_freq_over_months.max())"
   ]
  },
  {
   "cell_type": "code",
   "execution_count": 22,
   "metadata": {},
   "outputs": [],
   "source": [
    "# # we'll filter users with frequency higher than q\n",
    "# threshold = np.quantile(user_freq_over_months, q=0.5)\n",
    "# threshold"
   ]
  },
  {
   "cell_type": "code",
   "execution_count": 23,
   "metadata": {},
   "outputs": [],
   "source": [
    "# # there are this many users with freq above the threshold\n",
    "# (user_freq_over_months >= threshold).sum()"
   ]
  },
  {
   "cell_type": "code",
   "execution_count": 24,
   "metadata": {},
   "outputs": [],
   "source": [
    "# # index of frequent users\n",
    "# freq_users = user_freq_over_months[user_freq_over_months >= threshold].index"
   ]
  },
  {
   "cell_type": "code",
   "execution_count": 25,
   "metadata": {},
   "outputs": [],
   "source": [
    "# # sample the dataset to contain only interactions from frequent users (that occur every month).\n",
    "# # there is still a huge number of interactions - 1694351\n",
    "# _ = data.set_index('user_id').loc[freq_users]\n",
    "# _.shape\n",
    "_ = data.set_index('user_id').copy()"
   ]
  },
  {
   "cell_type": "code",
   "execution_count": 26,
   "metadata": {},
   "outputs": [
    {
     "data": {
      "text/plain": [
       "<AxesSubplot:>"
      ]
     },
     "execution_count": 26,
     "metadata": {},
     "output_type": "execute_result"
    },
    {
     "data": {
      "image/png": "[encoded data removed]",
      "text/plain": [
       "<Figure size 432x288 with 1 Axes>"
      ]
     },
     "metadata": {},
     "output_type": "display_data"
    }
   ],
   "source": [
    "# frequency of users that occur every month:\n",
    "_.reset_index()['user_id'].value_counts().plot(kind='box')"
   ]
  },
  {
   "cell_type": "code",
   "execution_count": 27,
   "metadata": {},
   "outputs": [],
   "source": [
    "u = data['user_id'].value_counts().reset_index()['index'].to_list()"
   ]
  },
  {
   "cell_type": "code",
   "execution_count": 28,
   "metadata": {},
   "outputs": [],
   "source": [
    "# to user, or not to use p ?\n",
    "p = (data['user_id'].value_counts()/data['user_id'].shape[0])"
   ]
  },
  {
   "cell_type": "code",
   "execution_count": 29,
   "metadata": {},
   "outputs": [],
   "source": [
    "prop = 0.2\n",
    "s = round( len( u )*prop )"
   ]
  },
  {
   "cell_type": "code",
   "execution_count": 30,
   "metadata": {},
   "outputs": [],
   "source": [
    "np.random.seed(42)\n",
    "sampled_users = list( np.random.choice(u, size=s, replace=False, p=p) ) # , p=p"
   ]
  },
  {
   "cell_type": "code",
   "execution_count": 31,
   "metadata": {},
   "outputs": [
    {
     "data": {
      "text/html": [
       "<div>\n",
       "<style scoped>\n",
       "    .dataframe tbody tr th:only-of-type {\n",
       "        vertical-align: middle;\n",
       "    }\n",
       "\n",
       "    .dataframe tbody tr th {\n",
       "        vertical-align: top;\n",
       "    }\n",
       "\n",
       "    .dataframe thead th {\n",
       "        text-align: right;\n",
       "    }\n",
       "</style>\n",
       "<table border=\"1\" class=\"dataframe\">\n",
       "  <thead>\n",
       "    <tr style=\"text-align: right;\">\n",
       "      <th></th>\n",
       "      <th>item_id</th>\n",
       "      <th>timestamp</th>\n",
       "      <th>date</th>\n",
       "    </tr>\n",
       "    <tr>\n",
       "      <th>user_id</th>\n",
       "      <th></th>\n",
       "      <th></th>\n",
       "      <th></th>\n",
       "    </tr>\n",
       "  </thead>\n",
       "  <tbody>\n",
       "    <tr>\n",
       "      <th>B00540L9II</th>\n",
       "      <td>A8YTE1TF5277L</td>\n",
       "      <td>1389052800</td>\n",
       "      <td>2014-01-01</td>\n",
       "    </tr>\n",
       "    <tr>\n",
       "      <th>B00540L9II</th>\n",
       "      <td>A23UO5C3VLGA7Z</td>\n",
       "      <td>1389571200</td>\n",
       "      <td>2014-01-01</td>\n",
       "    </tr>\n",
       "    <tr>\n",
       "      <th>B00540L9II</th>\n",
       "      <td>APAMQMI5I3L05</td>\n",
       "      <td>1389830400</td>\n",
       "      <td>2014-01-01</td>\n",
       "    </tr>\n",
       "    <tr>\n",
       "      <th>B00540L9II</th>\n",
       "      <td>A3OP7WDIKONK0O</td>\n",
       "      <td>1390003200</td>\n",
       "      <td>2014-01-01</td>\n",
       "    </tr>\n",
       "    <tr>\n",
       "      <th>B00540L9II</th>\n",
       "      <td>A33IPI2VSA2HXC</td>\n",
       "      <td>1390089600</td>\n",
       "      <td>2014-01-01</td>\n",
       "    </tr>\n",
       "    <tr>\n",
       "      <th>...</th>\n",
       "      <td>...</td>\n",
       "      <td>...</td>\n",
       "      <td>...</td>\n",
       "    </tr>\n",
       "    <tr>\n",
       "      <th>B00EX6BDFS</th>\n",
       "      <td>A10W5M10DGKVYQ</td>\n",
       "      <td>1395100800</td>\n",
       "      <td>2014-03-01</td>\n",
       "    </tr>\n",
       "    <tr>\n",
       "      <th>B00H2ZK6FU</th>\n",
       "      <td>A3IRQCW03LJA0G</td>\n",
       "      <td>1389052800</td>\n",
       "      <td>2014-01-01</td>\n",
       "    </tr>\n",
       "    <tr>\n",
       "      <th>B00H2ZK6FU</th>\n",
       "      <td>A1F7ME5TYXFH8I</td>\n",
       "      <td>1392595200</td>\n",
       "      <td>2014-02-01</td>\n",
       "    </tr>\n",
       "    <tr>\n",
       "      <th>B00H2ZK6FU</th>\n",
       "      <td>A2PG7QT0JG98XV</td>\n",
       "      <td>1394236800</td>\n",
       "      <td>2014-03-01</td>\n",
       "    </tr>\n",
       "    <tr>\n",
       "      <th>B00H2ZK6FU</th>\n",
       "      <td>A3O5CXCECW3Q1J</td>\n",
       "      <td>1394409600</td>\n",
       "      <td>2014-03-01</td>\n",
       "    </tr>\n",
       "  </tbody>\n",
       "</table>\n",
       "<p>88823 rows × 3 columns</p>\n",
       "</div>"
      ],
      "text/plain": [
       "                   item_id   timestamp       date\n",
       "user_id                                          \n",
       "B00540L9II   A8YTE1TF5277L  1389052800 2014-01-01\n",
       "B00540L9II  A23UO5C3VLGA7Z  1389571200 2014-01-01\n",
       "B00540L9II   APAMQMI5I3L05  1389830400 2014-01-01\n",
       "B00540L9II  A3OP7WDIKONK0O  1390003200 2014-01-01\n",
       "B00540L9II  A33IPI2VSA2HXC  1390089600 2014-01-01\n",
       "...                    ...         ...        ...\n",
       "B00EX6BDFS  A10W5M10DGKVYQ  1395100800 2014-03-01\n",
       "B00H2ZK6FU  A3IRQCW03LJA0G  1389052800 2014-01-01\n",
       "B00H2ZK6FU  A1F7ME5TYXFH8I  1392595200 2014-02-01\n",
       "B00H2ZK6FU  A2PG7QT0JG98XV  1394236800 2014-03-01\n",
       "B00H2ZK6FU  A3O5CXCECW3Q1J  1394409600 2014-03-01\n",
       "\n",
       "[88823 rows x 3 columns]"
      ]
     },
     "execution_count": 31,
     "metadata": {},
     "output_type": "execute_result"
    }
   ],
   "source": [
    "_.loc[sampled_users]"
   ]
  },
  {
   "cell_type": "code",
   "execution_count": 32,
   "metadata": {},
   "outputs": [
    {
     "data": {
      "text/plain": [
       "68944"
      ]
     },
     "execution_count": 32,
     "metadata": {},
     "output_type": "execute_result"
    }
   ],
   "source": [
    "_.loc[sampled_users]['item_id'].nunique()"
   ]
  },
  {
   "cell_type": "code",
   "execution_count": 33,
   "metadata": {},
   "outputs": [
    {
     "data": {
      "text/plain": [
       "<AxesSubplot:>"
      ]
     },
     "execution_count": 33,
     "metadata": {},
     "output_type": "execute_result"
    },
    {
     "data": {
      "image/png": "[encoded data removed]",
      "text/plain": [
       "<Figure size 432x288 with 1 Axes>"
      ]
     },
     "metadata": {},
     "output_type": "display_data"
    }
   ],
   "source": [
    "# frequency of users:\n",
    "_.loc[sampled_users].reset_index()['user_id'].value_counts().plot(kind='box')"
   ]
  },
  {
   "cell_type": "code",
   "execution_count": 34,
   "metadata": {},
   "outputs": [
    {
     "name": "stdout",
     "output_type": "stream",
     "text": [
      "CPU times: user 166 ms, sys: 4.15 ms, total: 170 ms\n",
      "Wall time: 167 ms\n"
     ]
    },
    {
     "data": {
      "text/plain": [
       "<AxesSubplot:ylabel='Frequency'>"
      ]
     },
     "execution_count": 34,
     "metadata": {},
     "output_type": "execute_result"
    },
    {
     "data": {
      "image/png": "[encoded data removed]",
      "text/plain": [
       "<Figure size 432x288 with 1 Axes>"
      ]
     },
     "metadata": {},
     "output_type": "display_data"
    }
   ],
   "source": [
    "%%time\n",
    "# ( data[:1000000].groupby(by=['user_id'])['date'].nunique() > 1 ).sum()\n",
    "user_freq_over_months_sample = _.loc[sampled_users].reset_index().groupby(by=['user_id'])['date'].nunique()\n",
    "user_freq_over_months_sample.plot(kind='hist',bins=user_freq_over_months_sample.max())"
   ]
  },
  {
   "cell_type": "code",
   "execution_count": 35,
   "metadata": {},
   "outputs": [],
   "source": [
    "# np.quantile(_.reset_index()['user_id'].value_counts(), 0.9)"
   ]
  },
  {
   "cell_type": "code",
   "execution_count": 36,
   "metadata": {},
   "outputs": [],
   "source": [
    "# # nu = int( _.reset_index()['user_id'].nunique()*0.0025 ) # 0.05% of users\n",
    "# threshold = np.quantile(_.reset_index()['user_id'].value_counts(), 0.9) #_.reset_index()['user_id'].value_counts().iloc[:nu].min() # sample 5% of users with highest freq, this freq is the threshold\n",
    "# freq_users = _.reset_index()['user_id'].value_counts()[ _.reset_index()['user_id'].value_counts() >= threshold ].index"
   ]
  },
  {
   "cell_type": "code",
   "execution_count": 37,
   "metadata": {},
   "outputs": [],
   "source": [
    "# _.reset_index()['user_id'].value_counts()[ _.reset_index()['user_id'].value_counts() >= threshold ]"
   ]
  },
  {
   "cell_type": "code",
   "execution_count": 38,
   "metadata": {},
   "outputs": [
    {
     "data": {
      "text/plain": [
       "(49878, 117672)"
      ]
     },
     "execution_count": 38,
     "metadata": {},
     "output_type": "execute_result"
    }
   ],
   "source": [
    "data['user_id'].nunique(), data['item_id'].nunique() # original number of users, original number of items"
   ]
  },
  {
   "cell_type": "code",
   "execution_count": 39,
   "metadata": {},
   "outputs": [
    {
     "data": {
      "text/plain": [
       "(9976, 68944)"
      ]
     },
     "execution_count": 39,
     "metadata": {},
     "output_type": "execute_result"
    }
   ],
   "source": [
    "# _.loc[freq_users].reset_index()['user_id'].nunique(), _.loc[freq_users].reset_index()['item_id'].nunique() # sample number of users, and of items\n",
    "_.loc[sampled_users].reset_index()['user_id'].nunique(), _.loc[sampled_users].reset_index()['item_id'].nunique() # sample number of users, and of items"
   ]
  },
  {
   "cell_type": "code",
   "execution_count": 40,
   "metadata": {},
   "outputs": [
    {
     "data": {
      "image/png": "[encoded data removed]",
      "text/plain": [
       "<Figure size 432x720 with 1 Axes>"
      ]
     },
     "metadata": {},
     "output_type": "display_data"
    }
   ],
   "source": [
    "# %%time\n",
    "# plot_interactions_per_month(data=_.loc[freq_users].reset_index(), dataset_name=dataset_name)\n",
    "plot_interactions_per_month(data=_.loc[sampled_users].reset_index(), dataset_name=dataset_name)"
   ]
  },
  {
   "cell_type": "code",
   "execution_count": 41,
   "metadata": {},
   "outputs": [],
   "source": [
    "# # sample again:\n",
    "# # the frequency of the 5000th user with most interactions is used as threshold\n",
    "# nu = int( _.reset_index()['user_id'].nunique()*0.05 ) # 5% of users\n",
    "# threshold = _.reset_index()['user_id'].value_counts().iloc[:nu].min() # sample 10% of users with highest freq, this freq is the threshold\n",
    "# freq_users = _.reset_index()['user_id'].value_counts()[ _.reset_index()['user_id'].value_counts() >= threshold ].index"
   ]
  },
  {
   "cell_type": "code",
   "execution_count": 42,
   "metadata": {},
   "outputs": [],
   "source": [
    "# _.reset_index()['user_id'].value_counts()[ _.reset_index()['user_id'].value_counts() >= threshold ]"
   ]
  },
  {
   "cell_type": "code",
   "execution_count": 43,
   "metadata": {},
   "outputs": [],
   "source": [
    "# data['user_id'].nunique(), data['item_id'].nunique() # original number of users, original number of items"
   ]
  },
  {
   "cell_type": "code",
   "execution_count": 44,
   "metadata": {},
   "outputs": [],
   "source": [
    "# _.loc[freq_users].reset_index()['user_id'].nunique(), _.loc[freq_users].reset_index()['item_id'].nunique() # sample number of users, and of items"
   ]
  },
  {
   "cell_type": "code",
   "execution_count": 45,
   "metadata": {},
   "outputs": [],
   "source": [
    "# previous (huge) sample\n",
    "# data = data.set_index('user_id').loc[freq_users].reset_index()\n",
    "# new sample - only 500 most frequent users, from users that occur in every month\n",
    "# data = _.loc[freq_users].reset_index()\n",
    "data = _.loc[sampled_users].reset_index()\n",
    "data = data.sort_values(by='timestamp')"
   ]
  },
  {
   "cell_type": "code",
   "execution_count": 46,
   "metadata": {},
   "outputs": [
    {
     "data": {
      "text/plain": [
       "88823"
      ]
     },
     "execution_count": 46,
     "metadata": {},
     "output_type": "execute_result"
    }
   ],
   "source": [
    "# number of remaining cases\n",
    "data.shape[0]"
   ]
  },
  {
   "cell_type": "code",
   "execution_count": 47,
   "metadata": {},
   "outputs": [],
   "source": [
    "# sort by timestamp\n",
    "# data = data.sort_values(by=['timestamp'])"
   ]
  },
  {
   "cell_type": "code",
   "execution_count": 48,
   "metadata": {},
   "outputs": [],
   "source": [
    "# previous (huge) sample\n",
    "# data.to_csv('output/amazonbooks_dump/sampled_amazon_books.csv', index=False)\n",
    "\n",
    "# new sample\n",
    "data.to_csv('output/amazonkindle_dump/2nd_sampled_amazon_kindle.csv', index=False)"
   ]
  },
  {
   "cell_type": "markdown",
   "metadata": {},
   "source": [
    "How many interactions occur in each month / year?"
   ]
  },
  {
   "cell_type": "code",
   "execution_count": 49,
   "metadata": {},
   "outputs": [],
   "source": [
    "interactions_per_month = data.groupby(by=['date']).count().iloc[:, 0]\n",
    "interactions_per_month.name = 'count'\n",
    "interactions_per_month=interactions_per_month.reset_index()"
   ]
  },
  {
   "cell_type": "code",
   "execution_count": 50,
   "metadata": {},
   "outputs": [
    {
     "name": "stdout",
     "output_type": "stream",
     "text": [
      "CPU times: user 175 ms, sys: 234 µs, total: 175 ms\n",
      "Wall time: 174 ms\n"
     ]
    },
    {
     "data": {
      "image/png": "[encoded data removed]",
      "text/plain": [
       "<Figure size 432x720 with 1 Axes>"
      ]
     },
     "metadata": {},
     "output_type": "display_data"
    }
   ],
   "source": [
    "%%time\n",
    "plot_interactions_per_month(data=data, dataset_name=dataset_name)"
   ]
  },
  {
   "cell_type": "markdown",
   "metadata": {},
   "source": [
    "What is the user presence distribution based on month, quarter, and semester?"
   ]
  },
  {
   "cell_type": "code",
   "execution_count": 51,
   "metadata": {},
   "outputs": [
    {
     "name": "stdout",
     "output_type": "stream",
     "text": [
      "0.0 %\n",
      "25.0 %\n",
      "50.0 %\n",
      "75.0 %\n",
      "CPU times: user 56.7 s, sys: 35.1 ms, total: 56.8 s\n",
      "Wall time: 56.8 s\n"
     ]
    }
   ],
   "source": [
    "%%time\n",
    "# 3min 16s\n",
    "user_presence_df, user_month_interactions = get_interactions_info(data=data, user_col=user_col)\n",
    "\n",
    "# new sample\n",
    "user_presence_df.to_csv('output/amazonkindle_dump/2nd_sample_user_presence_df.csv', index=False)\n",
    "user_month_interactions.to_csv('output/amazonkindle_dump/2nd_sample_user_month_interactions.csv', index=False)"
   ]
  },
  {
   "cell_type": "code",
   "execution_count": 52,
   "metadata": {},
   "outputs": [
    {
     "data": {
      "text/html": [
       "<div>\n",
       "<style scoped>\n",
       "    .dataframe tbody tr th:only-of-type {\n",
       "        vertical-align: middle;\n",
       "    }\n",
       "\n",
       "    .dataframe tbody tr th {\n",
       "        vertical-align: top;\n",
       "    }\n",
       "\n",
       "    .dataframe thead th {\n",
       "        text-align: right;\n",
       "    }\n",
       "</style>\n",
       "<table border=\"1\" class=\"dataframe\">\n",
       "  <thead>\n",
       "    <tr style=\"text-align: right;\">\n",
       "      <th></th>\n",
       "      <th>UserID</th>\n",
       "      <th>month_%</th>\n",
       "    </tr>\n",
       "  </thead>\n",
       "  <tbody>\n",
       "    <tr>\n",
       "      <th>0</th>\n",
       "      <td>B00HCMAUIQ</td>\n",
       "      <td>1.0</td>\n",
       "    </tr>\n",
       "    <tr>\n",
       "      <th>1</th>\n",
       "      <td>B00FNH2MLA</td>\n",
       "      <td>1.0</td>\n",
       "    </tr>\n",
       "    <tr>\n",
       "      <th>2</th>\n",
       "      <td>B00FBTR6HK</td>\n",
       "      <td>1.0</td>\n",
       "    </tr>\n",
       "    <tr>\n",
       "      <th>3</th>\n",
       "      <td>B00HZUY35G</td>\n",
       "      <td>1.0</td>\n",
       "    </tr>\n",
       "    <tr>\n",
       "      <th>4</th>\n",
       "      <td>B001A06VJ8</td>\n",
       "      <td>1.0</td>\n",
       "    </tr>\n",
       "  </tbody>\n",
       "</table>\n",
       "</div>"
      ],
      "text/plain": [
       "       UserID  month_%\n",
       "0  B00HCMAUIQ      1.0\n",
       "1  B00FNH2MLA      1.0\n",
       "2  B00FBTR6HK      1.0\n",
       "3  B00HZUY35G      1.0\n",
       "4  B001A06VJ8      1.0"
      ]
     },
     "execution_count": 52,
     "metadata": {},
     "output_type": "execute_result"
    }
   ],
   "source": [
    "user_presence_df.head()"
   ]
  },
  {
   "cell_type": "code",
   "execution_count": 53,
   "metadata": {},
   "outputs": [
    {
     "data": {
      "image/png": "[encoded data removed]",
      "text/plain": [
       "<Figure size 1224x288 with 3 Axes>"
      ]
     },
     "metadata": {},
     "output_type": "display_data"
    }
   ],
   "source": [
    "# plotting user frequency distribution\n",
    "plot_user_presence_distribution(user_presence_df, dataset_name=dataset_name)"
   ]
  },
  {
   "cell_type": "markdown",
   "metadata": {},
   "source": [
    "How many examples are there per quarter and semester?"
   ]
  },
  {
   "cell_type": "code",
   "execution_count": 54,
   "metadata": {},
   "outputs": [],
   "source": [
    "# plot_interactions_per_qns(user_interactions=user_trimestre_interactions, date_range=trimestres, dataset_name=dataset_name, type_of_range='quarter')"
   ]
  },
  {
   "cell_type": "code",
   "execution_count": 55,
   "metadata": {},
   "outputs": [],
   "source": [
    "# plot_interactions_per_qns(user_interactions=user_semestre_interactions, date_range=semestres, dataset_name=dataset_name, type_of_range='semester')"
   ]
  },
  {
   "cell_type": "markdown",
   "metadata": {},
   "source": [
    "How many FREQUENT users (occur in 80% or more intervals) exist?"
   ]
  },
  {
   "cell_type": "code",
   "execution_count": 56,
   "metadata": {},
   "outputs": [],
   "source": [
    "# defining threshold\n",
    "frequency_threshold = 0.0"
   ]
  },
  {
   "cell_type": "code",
   "execution_count": 57,
   "metadata": {},
   "outputs": [
    {
     "name": "stdout",
     "output_type": "stream",
     "text": [
      "9976 users of 9976 (100.0%) occurr in 0.0% or more months.\n"
     ]
    }
   ],
   "source": [
    "# frequent_users_month, frequent_users_trimestre, frequent_users_semestre = get_frequent_users(user_presence_df, frequency_threshold=frequency_threshold)\n",
    "frequent_users_month = get_frequent_users(user_presence_df, frequency_threshold=frequency_threshold)"
   ]
  },
  {
   "cell_type": "code",
   "execution_count": 58,
   "metadata": {},
   "outputs": [
    {
     "data": {
      "text/plain": [
       "['output/amazonkindle_dump/2nd_sample_frequent_users_month.joblib']"
      ]
     },
     "execution_count": 58,
     "metadata": {},
     "output_type": "execute_result"
    }
   ],
   "source": [
    "# old huge sample\n",
    "# joblib.dump(frequent_users_month, 'output/amazonbooks_dump/frequent_users_month.joblib')\n",
    "\n",
    "# new sample\n",
    "joblib.dump(frequent_users_month, 'output/amazonkindle_dump/2nd_sample_frequent_users_month.joblib')"
   ]
  }
 ],
 "metadata": {
  "interpreter": {
   "hash": "93164e1ba08303257f1d4f69270dc17556e83319233af9462e0c249160adc063"
  },
  "kernelspec": {
   "display_name": "streamrec_venv",
   "language": "python",
   "name": "streamrec_venv"
  },
  "language_info": {
   "codemirror_mode": {
    "name": "ipython",
    "version": 3
   },
   "file_extension": ".py",
   "mimetype": "text/x-python",
   "name": "python",
   "nbconvert_exporter": "python",
   "pygments_lexer": "ipython3",
   "version": "3.8.10"
  }
 },
 "nbformat": 4,
 "nbformat_minor": 4
}
