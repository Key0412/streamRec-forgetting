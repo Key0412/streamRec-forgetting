{
 "cells": [
  {
   "cell_type": "markdown",
   "metadata": {},
   "source": [
    "Neste notebook:\n",
    "* Avaliação de usuários por bucket  \n",
    "    * em média, e mediana, em quantos buckets os utilizadores estão.  \n",
    "    * quantos usuários novos estão em cada bucket e quantos não ocorrem\n",
    "\n",
    "Objetivo:\n",
    "* explorar caracteristicas dos datasets que permitam\n",
    "    * avaliar se o dataset é util para a análise  \n",
    "    * escolher o número de buckets  "
   ]
  },
  {
   "cell_type": "markdown",
   "metadata": {},
   "source": [
    "Vamos definir o numero de itens em cada bucket como 50k"
   ]
  },
  {
   "cell_type": "code",
   "execution_count": 1,
   "metadata": {},
   "outputs": [],
   "source": [
    "import os\n",
    "import sys\n",
    "sys.path.append(os.path.abspath('') + '/..')"
   ]
  },
  {
   "cell_type": "code",
   "execution_count": 2,
   "metadata": {},
   "outputs": [],
   "source": [
    "from data import ImplicitData\n",
    "from recommenders_implicit import ISGD  # ISGD framework, BISGD,\n",
    "from eval_implicit import EvaluateAndStore # EvaluateAndStore para guardar estados do modelo e holdouts, a avaliação prequencial de ratings implicitos é opcional, , EvalHoldout\n",
    "from dataset_evaluation_utils import * #get_interactions_info, plot_interactions_per_month, plot_user_presence_distribution, plot_n_users_per_bucket, plot_bucket_size\n",
    "\n",
    "from datetime import datetime, timedelta\n",
    "\n",
    "import joblib\n",
    "import pandas as pd \n",
    "import numpy as np \n",
    "import seaborn as sns\n",
    "import matplotlib.pyplot as plt\n",
    "sns.set_style('whitegrid')"
   ]
  },
  {
   "cell_type": "markdown",
   "metadata": {},
   "source": [
    "# Store buckets"
   ]
  },
  {
   "cell_type": "markdown",
   "metadata": {},
   "source": [
    "___\n",
    "### Palco 2010"
   ]
  },
  {
   "cell_type": "code",
   "execution_count": 3,
   "metadata": {},
   "outputs": [],
   "source": [
    "# importa dataset 'palco playlists'\n",
    "data = pd.read_csv(\"../datasets/palco_2010.tsv\",\"\\t\")"
   ]
  },
  {
   "cell_type": "code",
   "execution_count": 4,
   "metadata": {},
   "outputs": [],
   "source": [
    "# Necessary Preprocess - create date from timestamp\n",
    "data['date'] = data['timestamp'].apply(lambda x: datetime.strptime(x.split()[0], '%Y-%m-%d') )\n",
    "data['year'] = data['date'].dt.year\n",
    "data['month'] = data['date'].dt.month\n",
    "data['date'] = data[['year', 'month']].apply(lambda x: datetime.strptime( str(x[0])+'/'+str(x[1]), '%Y/%m' ) , axis=1)"
   ]
  },
  {
   "cell_type": "markdown",
   "metadata": {},
   "source": [
    "#### Evaluating Time defined Buckets "
   ]
  },
  {
   "cell_type": "markdown",
   "metadata": {},
   "source": [
    "How many interactions occur in each month?"
   ]
  },
  {
   "cell_type": "code",
   "execution_count": 5,
   "metadata": {},
   "outputs": [
    {
     "data": {
      "image/png": "[encoded data removed]",
      "text/plain": [
       "<Figure size 432x720 with 1 Axes>"
      ]
     },
     "metadata": {},
     "output_type": "display_data"
    }
   ],
   "source": [
    "plot_interactions_per_month(data=data, dataset_name='Palco2010')"
   ]
  },
  {
   "cell_type": "markdown",
   "metadata": {},
   "source": [
    "What is the user presence distribution based on month, quarter, and semester?"
   ]
  },
  {
   "cell_type": "code",
   "execution_count": 6,
   "metadata": {},
   "outputs": [],
   "source": [
    "user_presence_df, user_month_interactions, trimestres, user_trimestre_interactions, semestres, user_semestre_interactions = get_interactions_info(data=data, user_col='user_id')"
   ]
  },
  {
   "cell_type": "code",
   "execution_count": 7,
   "metadata": {},
   "outputs": [
    {
     "data": {
      "text/html": [
       "<div>\n",
       "<style scoped>\n",
       "    .dataframe tbody tr th:only-of-type {\n",
       "        vertical-align: middle;\n",
       "    }\n",
       "\n",
       "    .dataframe tbody tr th {\n",
       "        vertical-align: top;\n",
       "    }\n",
       "\n",
       "    .dataframe thead th {\n",
       "        text-align: right;\n",
       "    }\n",
       "</style>\n",
       "<table border=\"1\" class=\"dataframe\">\n",
       "  <thead>\n",
       "    <tr style=\"text-align: right;\">\n",
       "      <th></th>\n",
       "      <th>UserID</th>\n",
       "      <th>month_%</th>\n",
       "      <th>trimestre_%</th>\n",
       "      <th>semestre_%</th>\n",
       "    </tr>\n",
       "  </thead>\n",
       "  <tbody>\n",
       "    <tr>\n",
       "      <th>0</th>\n",
       "      <td>1234</td>\n",
       "      <td>1.0</td>\n",
       "      <td>0.75</td>\n",
       "      <td>1.0</td>\n",
       "    </tr>\n",
       "    <tr>\n",
       "      <th>1</th>\n",
       "      <td>163</td>\n",
       "      <td>1.0</td>\n",
       "      <td>0.75</td>\n",
       "      <td>1.0</td>\n",
       "    </tr>\n",
       "    <tr>\n",
       "      <th>2</th>\n",
       "      <td>92</td>\n",
       "      <td>1.0</td>\n",
       "      <td>0.75</td>\n",
       "      <td>1.0</td>\n",
       "    </tr>\n",
       "    <tr>\n",
       "      <th>3</th>\n",
       "      <td>480</td>\n",
       "      <td>1.0</td>\n",
       "      <td>0.75</td>\n",
       "      <td>1.0</td>\n",
       "    </tr>\n",
       "    <tr>\n",
       "      <th>4</th>\n",
       "      <td>2721</td>\n",
       "      <td>1.0</td>\n",
       "      <td>0.75</td>\n",
       "      <td>1.0</td>\n",
       "    </tr>\n",
       "  </tbody>\n",
       "</table>\n",
       "</div>"
      ],
      "text/plain": [
       "   UserID  month_%  trimestre_%  semestre_%\n",
       "0    1234      1.0         0.75         1.0\n",
       "1     163      1.0         0.75         1.0\n",
       "2      92      1.0         0.75         1.0\n",
       "3     480      1.0         0.75         1.0\n",
       "4    2721      1.0         0.75         1.0"
      ]
     },
     "execution_count": 7,
     "metadata": {},
     "output_type": "execute_result"
    }
   ],
   "source": [
    "user_presence_df.head()"
   ]
  },
  {
   "cell_type": "code",
   "execution_count": 8,
   "metadata": {},
   "outputs": [
    {
     "data": {
      "image/png": "[encoded data removed]",
      "text/plain": [
       "<Figure size 1224x288 with 3 Axes>"
      ]
     },
     "metadata": {},
     "output_type": "display_data"
    }
   ],
   "source": [
    "# plotting user frequency distribution\n",
    "plot_user_presence_distribution(user_presence_df, dataset_name='Palco2010')"
   ]
  },
  {
   "cell_type": "markdown",
   "metadata": {},
   "source": [
    "How many examples are there per quarter and semester?"
   ]
  },
  {
   "cell_type": "code",
   "execution_count": 9,
   "metadata": {},
   "outputs": [
    {
     "data": {
      "image/png": "[encoded data removed]",
      "text/plain": [
       "<Figure size 432x720 with 1 Axes>"
      ]
     },
     "metadata": {},
     "output_type": "display_data"
    }
   ],
   "source": [
    "plot_interactions_per_qns(user_interactions=user_trimestre_interactions, date_range=trimestres, dataset_name='Palco2010', type_of_range='quarter')"
   ]
  },
  {
   "cell_type": "code",
   "execution_count": 10,
   "metadata": {},
   "outputs": [
    {
     "data": {
      "image/png": "[encoded data removed]",
      "text/plain": [
       "<Figure size 432x720 with 1 Axes>"
      ]
     },
     "metadata": {},
     "output_type": "display_data"
    }
   ],
   "source": [
    "plot_interactions_per_qns(user_interactions=user_semestre_interactions, date_range=semestres, dataset_name='Palco2010', type_of_range='semester')"
   ]
  },
  {
   "cell_type": "markdown",
   "metadata": {},
   "source": [
    "How many FREQUENT users (occur in 80% or more intervals) exist?"
   ]
  },
  {
   "cell_type": "code",
   "execution_count": 11,
   "metadata": {},
   "outputs": [],
   "source": [
    "# defining threshold\n",
    "frequency_threshold = 0.8"
   ]
  },
  {
   "cell_type": "code",
   "execution_count": 12,
   "metadata": {},
   "outputs": [
    {
     "name": "stdout",
     "output_type": "stream",
     "text": [
      "109 users of 7580 (1.438%) occurr in 80.0% or more months.\n",
      "0 users of 7580 (0.0%) occurr in 80.0% or more quarters.\n",
      "1102 users of 7580 (14.538%) occurr in 80.0% or more semesters.\n"
     ]
    }
   ],
   "source": [
    "frequent_users_month, frequent_users_trimestre, frequent_users_semestre = get_frequent_users(user_presence_df, frequency_threshold=frequency_threshold)"
   ]
  },
  {
   "cell_type": "markdown",
   "metadata": {},
   "source": [
    "In median terms, how many times FREQUENT users appear in each quarter, and semester?"
   ]
  },
  {
   "cell_type": "code",
   "execution_count": 13,
   "metadata": {},
   "outputs": [
    {
     "data": {
      "text/html": [
       "<div>\n",
       "<style scoped>\n",
       "    .dataframe tbody tr th:only-of-type {\n",
       "        vertical-align: middle;\n",
       "    }\n",
       "\n",
       "    .dataframe tbody tr th {\n",
       "        vertical-align: top;\n",
       "    }\n",
       "\n",
       "    .dataframe thead th {\n",
       "        text-align: right;\n",
       "    }\n",
       "</style>\n",
       "<table border=\"1\" class=\"dataframe\">\n",
       "  <thead>\n",
       "    <tr style=\"text-align: right;\">\n",
       "      <th></th>\n",
       "      <th>possible_holdout_users</th>\n",
       "      <th>median_freq_user_interactions</th>\n",
       "    </tr>\n",
       "  </thead>\n",
       "  <tbody>\n",
       "    <tr>\n",
       "      <th>0</th>\n",
       "      <td>0</td>\n",
       "      <td>NaN</td>\n",
       "    </tr>\n",
       "    <tr>\n",
       "      <th>1</th>\n",
       "      <td>0</td>\n",
       "      <td>NaN</td>\n",
       "    </tr>\n",
       "    <tr>\n",
       "      <th>2</th>\n",
       "      <td>0</td>\n",
       "      <td>NaN</td>\n",
       "    </tr>\n",
       "    <tr>\n",
       "      <th>3</th>\n",
       "      <td>0</td>\n",
       "      <td>NaN</td>\n",
       "    </tr>\n",
       "  </tbody>\n",
       "</table>\n",
       "</div>"
      ],
      "text/plain": [
       "   possible_holdout_users  median_freq_user_interactions\n",
       "0                       0                            NaN\n",
       "1                       0                            NaN\n",
       "2                       0                            NaN\n",
       "3                       0                            NaN"
      ]
     },
     "execution_count": 13,
     "metadata": {},
     "output_type": "execute_result"
    }
   ],
   "source": [
    "freq_user_quarter_info = get_frequent_user_statistics(\n",
    "    interactions_df=user_trimestre_interactions, frequent_users_list=frequent_users_trimestre)\n",
    "freq_user_quarter_info"
   ]
  },
  {
   "cell_type": "code",
   "execution_count": 14,
   "metadata": {},
   "outputs": [],
   "source": [
    "# # frequent user interaction per quarter\n",
    "# plot_interactions_per_qns(user_interactions=user_trimestre_interactions.loc[frequent_users_trimestre],\n",
    "#     date_range=trimestres)"
   ]
  },
  {
   "cell_type": "code",
   "execution_count": 15,
   "metadata": {},
   "outputs": [
    {
     "data": {
      "text/html": [
       "<div>\n",
       "<style scoped>\n",
       "    .dataframe tbody tr th:only-of-type {\n",
       "        vertical-align: middle;\n",
       "    }\n",
       "\n",
       "    .dataframe tbody tr th {\n",
       "        vertical-align: top;\n",
       "    }\n",
       "\n",
       "    .dataframe thead th {\n",
       "        text-align: right;\n",
       "    }\n",
       "</style>\n",
       "<table border=\"1\" class=\"dataframe\">\n",
       "  <thead>\n",
       "    <tr style=\"text-align: right;\">\n",
       "      <th></th>\n",
       "      <th>possible_holdout_users</th>\n",
       "      <th>median_freq_user_interactions</th>\n",
       "    </tr>\n",
       "  </thead>\n",
       "  <tbody>\n",
       "    <tr>\n",
       "      <th>0</th>\n",
       "      <td>749</td>\n",
       "      <td>2.0</td>\n",
       "    </tr>\n",
       "    <tr>\n",
       "      <th>1</th>\n",
       "      <td>487</td>\n",
       "      <td>1.0</td>\n",
       "    </tr>\n",
       "  </tbody>\n",
       "</table>\n",
       "</div>"
      ],
      "text/plain": [
       "   possible_holdout_users  median_freq_user_interactions\n",
       "0                     749                            2.0\n",
       "1                     487                            1.0"
      ]
     },
     "execution_count": 15,
     "metadata": {},
     "output_type": "execute_result"
    }
   ],
   "source": [
    "freq_user_semester_info = get_frequent_user_statistics(\n",
    "    interactions_df=user_semestre_interactions, frequent_users_list=frequent_users_semestre)\n",
    "freq_user_semester_info"
   ]
  },
  {
   "cell_type": "code",
   "execution_count": 16,
   "metadata": {},
   "outputs": [],
   "source": [
    "# plot_interactions_per_qns(user_interactions=user_semestre_interactions.loc[frequent_users_semestre], date_range=semestres, type_of_range='semester')"
   ]
  },
  {
   "cell_type": "code",
   "execution_count": 17,
   "metadata": {},
   "outputs": [],
   "source": [
    "# these are the users that should be used in holdouts, and only their last interactions\n",
    "# BUT, there are users that do not appear in some intervals, and some have only one interaction\n",
    "user_trimestre_interactions.loc[frequent_users_trimestre]\n",
    "user_semestre_interactions.loc[frequent_users_semestre];"
   ]
  },
  {
   "cell_type": "markdown",
   "metadata": {},
   "source": [
    "#### Evaluating Interactions 50E3 sized Buckets "
   ]
  },
  {
   "cell_type": "code",
   "execution_count": 18,
   "metadata": {},
   "outputs": [],
   "source": [
    "n_iter_bucket = 50E3\n",
    "\n",
    "interval_start, interval_end = get_bucket_intervals(data, n_iter_bucket)    "
   ]
  },
  {
   "cell_type": "markdown",
   "metadata": {},
   "source": [
    "How many users per bucket?    "
   ]
  },
  {
   "cell_type": "code",
   "execution_count": 19,
   "metadata": {},
   "outputs": [
    {
     "data": {
      "image/png": "[encoded data removed]",
      "text/plain": [
       "<Figure size 432x288 with 1 Axes>"
      ]
     },
     "metadata": {},
     "output_type": "display_data"
    }
   ],
   "source": [
    "plot_users_per_fixed_bucket(data, 'user_id', interval_start, interval_end)"
   ]
  },
  {
   "cell_type": "markdown",
   "metadata": {},
   "source": [
    "How many FREQUENT users (occur in 80% or more intervals) exist?"
   ]
  },
  {
   "cell_type": "code",
   "execution_count": 21,
   "metadata": {},
   "outputs": [],
   "source": [
    "user_bucket_interactions_df, dates_fixed_buckets_df = get_fixed_buckets_info(data, 'user_id', interval_start, interval_end)"
   ]
  },
  {
   "cell_type": "code",
   "execution_count": 22,
   "metadata": {},
   "outputs": [
    {
     "data": {
      "text/plain": [
       "0.8"
      ]
     },
     "execution_count": 22,
     "metadata": {},
     "output_type": "execute_result"
    }
   ],
   "source": [
    "frequency_threshold"
   ]
  },
  {
   "cell_type": "code",
   "execution_count": 23,
   "metadata": {},
   "outputs": [
    {
     "name": "stdout",
     "output_type": "stream",
     "text": [
      "147 users of 7580 (1.939%) occur in 80.0% or more buckets.\n"
     ]
    }
   ],
   "source": [
    "frequent_users_bucket = get_frequent_users_fixed_buckets(user_bucket_interactions_df, frequency_threshold)"
   ]
  },
  {
   "cell_type": "markdown",
   "metadata": {},
   "source": [
    "In median terms, how many times FREQUENT users appear in each bucket?"
   ]
  },
  {
   "cell_type": "code",
   "execution_count": 24,
   "metadata": {},
   "outputs": [
    {
     "data": {
      "text/html": [
       "<div>\n",
       "<style scoped>\n",
       "    .dataframe tbody tr th:only-of-type {\n",
       "        vertical-align: middle;\n",
       "    }\n",
       "\n",
       "    .dataframe tbody tr th {\n",
       "        vertical-align: top;\n",
       "    }\n",
       "\n",
       "    .dataframe thead th {\n",
       "        text-align: right;\n",
       "    }\n",
       "</style>\n",
       "<table border=\"1\" class=\"dataframe\">\n",
       "  <thead>\n",
       "    <tr style=\"text-align: right;\">\n",
       "      <th></th>\n",
       "      <th>possible_holdout_users</th>\n",
       "      <th>median_freq_user_interactions</th>\n",
       "    </tr>\n",
       "  </thead>\n",
       "  <tbody>\n",
       "    <tr>\n",
       "      <th>0</th>\n",
       "      <td>125</td>\n",
       "      <td>39.0</td>\n",
       "    </tr>\n",
       "    <tr>\n",
       "      <th>1</th>\n",
       "      <td>129</td>\n",
       "      <td>32.0</td>\n",
       "    </tr>\n",
       "    <tr>\n",
       "      <th>2</th>\n",
       "      <td>135</td>\n",
       "      <td>49.0</td>\n",
       "    </tr>\n",
       "    <tr>\n",
       "      <th>3</th>\n",
       "      <td>141</td>\n",
       "      <td>38.0</td>\n",
       "    </tr>\n",
       "    <tr>\n",
       "      <th>4</th>\n",
       "      <td>132</td>\n",
       "      <td>39.0</td>\n",
       "    </tr>\n",
       "    <tr>\n",
       "      <th>5</th>\n",
       "      <td>133</td>\n",
       "      <td>27.0</td>\n",
       "    </tr>\n",
       "    <tr>\n",
       "      <th>6</th>\n",
       "      <td>139</td>\n",
       "      <td>34.0</td>\n",
       "    </tr>\n",
       "    <tr>\n",
       "      <th>7</th>\n",
       "      <td>130</td>\n",
       "      <td>30.0</td>\n",
       "    </tr>\n",
       "    <tr>\n",
       "      <th>8</th>\n",
       "      <td>126</td>\n",
       "      <td>23.0</td>\n",
       "    </tr>\n",
       "    <tr>\n",
       "      <th>9</th>\n",
       "      <td>126</td>\n",
       "      <td>21.0</td>\n",
       "    </tr>\n",
       "    <tr>\n",
       "      <th>10</th>\n",
       "      <td>120</td>\n",
       "      <td>19.0</td>\n",
       "    </tr>\n",
       "    <tr>\n",
       "      <th>11</th>\n",
       "      <td>109</td>\n",
       "      <td>16.0</td>\n",
       "    </tr>\n",
       "  </tbody>\n",
       "</table>\n",
       "</div>"
      ],
      "text/plain": [
       "    possible_holdout_users  median_freq_user_interactions\n",
       "0                      125                           39.0\n",
       "1                      129                           32.0\n",
       "2                      135                           49.0\n",
       "3                      141                           38.0\n",
       "4                      132                           39.0\n",
       "5                      133                           27.0\n",
       "6                      139                           34.0\n",
       "7                      130                           30.0\n",
       "8                      126                           23.0\n",
       "9                      126                           21.0\n",
       "10                     120                           19.0\n",
       "11                     109                           16.0"
      ]
     },
     "execution_count": 24,
     "metadata": {},
     "output_type": "execute_result"
    }
   ],
   "source": [
    "freq_user_bucket_info = get_frequent_user_statistics(user_bucket_interactions_df, frequent_users_bucket)\n",
    "freq_user_bucket_info"
   ]
  },
  {
   "cell_type": "code",
   "execution_count": 25,
   "metadata": {},
   "outputs": [
    {
     "data": {
      "image/png": "[encoded data removed]",
      "text/plain": [
       "<Figure size 432x288 with 1 Axes>"
      ]
     },
     "metadata": {},
     "output_type": "display_data"
    }
   ],
   "source": [
    "# frequent users interactions per bucket\n",
    "plot_user_interactions_per_bucket(user_bucket_interactions_df, frequent_users_bucket)"
   ]
  },
  {
   "cell_type": "markdown",
   "metadata": {},
   "source": [
    "Which timestamps occur in each bucket?"
   ]
  },
  {
   "cell_type": "code",
   "execution_count": 26,
   "metadata": {},
   "outputs": [
    {
     "data": {
      "image/png": "[encoded data removed]",
      "text/plain": [
       "<Figure size 1440x720 with 12 Axes>"
      ]
     },
     "metadata": {},
     "output_type": "display_data"
    }
   ],
   "source": [
    "plot_timestamps_per_bucket(dates_fixed_buckets_df)"
   ]
  },
  {
   "cell_type": "markdown",
   "metadata": {},
   "source": [
    "___"
   ]
  },
  {
   "cell_type": "code",
   "execution_count": 6,
   "metadata": {},
   "outputs": [],
   "source": [
    "num_factors = 200\n",
    "num_iter = 6\n",
    "learn_rate = 0.35\n",
    "regularization = 0.5\n",
    "num_nodes = 8"
   ]
  },
  {
   "cell_type": "code",
   "execution_count": 7,
   "metadata": {},
   "outputs": [],
   "source": [
    "# transforma interações em objeto que contem mappings usuário-itens e item-usuários, contém também métodos de suporte.\n",
    "# recebe listas\n",
    "# stream = ImplicitData(data['UserID'].to_list(), data['ItemID'].to_list())\n",
    "stream = ImplicitData(data['user_id'], data['track_id'])\n",
    "\n",
    "empty_stream = ImplicitData([], [])"
   ]
  },
  {
   "cell_type": "code",
   "execution_count": 8,
   "metadata": {},
   "outputs": [],
   "source": [
    "# O modelo não pode conter o stream, deve ser iniciado com uma lista vazia\n",
    "# Se o stream for passado, ao excluir itens conhecidos o recall é sempre 0. Ao permitir a recomendação de itens já vistos, o recall não é 0.\n",
    "model = ISGD(empty_stream, num_factors, num_iter, learn_rate = learn_rate, u_regularization = regularization, i_regularization = regularization, random_seed = 10)"
   ]
  },
  {
   "cell_type": "code",
   "execution_count": 9,
   "metadata": {},
   "outputs": [],
   "source": [
    "# criamos instancia de EvaluateAndStore para criar holdouts com o método EvaluateAndStore\n",
    "n_holdouts = int( data.shape[0]/n_iter_bucket )\n",
    "eval_palco = EvaluateAndStore(model=model, data=stream, n_holdouts=n_holdouts, metrics=[\"Recall@N\"], N_recommendations=20, seed=42)"
   ]
  },
  {
   "cell_type": "code",
   "execution_count": 10,
   "metadata": {},
   "outputs": [],
   "source": [
    "# interações de 0 a 100 são usadas para pre treino. \n",
    "# count define numero de interações a serem usadas.\n",
    "# holdouts e checkpoints são \n",
    "# store_only - somente guarda holdouts, não faz avaliação prequencial.\n",
    "# default_user - Somente usado quando store_only = False durante avaliação prequencial.\n",
    "_ = eval_palco.EvaluateAndStore(start_eval=0, count=stream.size, store_only=True) # 17 min"
   ]
  },
  {
   "cell_type": "code",
   "execution_count": 19,
   "metadata": {},
   "outputs": [
    {
     "data": {
      "image/png": "[encoded data removed]",
      "text/plain": [
       "<Figure size 720x360 with 1 Axes>"
      ]
     },
     "metadata": {},
     "output_type": "display_data"
    }
   ],
   "source": [
    "plot_bucket_size(eval_object=eval_palco, dataset_name='palco2010', filename='palco2010_bucket_size.png')"
   ]
  },
  {
   "cell_type": "code",
   "execution_count": 14,
   "metadata": {},
   "outputs": [
    {
     "data": {
      "image/png": "[encoded data removed]",
      "text/plain": [
       "<Figure size 720x360 with 1 Axes>"
      ]
     },
     "metadata": {},
     "output_type": "display_data"
    }
   ],
   "source": [
    "plot_n_users_per_bucket(eval_object=eval_palco, dataset_name='palco2010', filename='palco2010_user_per_bucket.png')"
   ]
  },
  {
   "cell_type": "code",
   "execution_count": 53,
   "metadata": {},
   "outputs": [
    {
     "ename": "NameError",
     "evalue": "name 'eval_palco' is not defined",
     "output_type": "error",
     "traceback": [
      "\u001b[0;31m---------------------------------------------------------------------------\u001b[0m",
      "\u001b[0;31mNameError\u001b[0m                                 Traceback (most recent call last)",
      "\u001b[0;32m<ipython-input-53-bfa8df2dc196>\u001b[0m in \u001b[0;36m<module>\u001b[0;34m\u001b[0m\n\u001b[0;32m----> 1\u001b[0;31m \u001b[0mpalco2010_ubm\u001b[0m \u001b[0;34m=\u001b[0m \u001b[0mget_bucket_map\u001b[0m\u001b[0;34m(\u001b[0m\u001b[0meval_object\u001b[0m\u001b[0;34m=\u001b[0m\u001b[0meval_palco\u001b[0m\u001b[0;34m)\u001b[0m\u001b[0;34m\u001b[0m\u001b[0;34m\u001b[0m\u001b[0m\n\u001b[0m\u001b[1;32m      2\u001b[0m \u001b[0mpalco2010_median_user_presence\u001b[0m \u001b[0;34m=\u001b[0m \u001b[0mmedian_user_presence_per_bucket\u001b[0m\u001b[0;34m(\u001b[0m\u001b[0meval_object\u001b[0m\u001b[0;34m=\u001b[0m\u001b[0meval_palco\u001b[0m\u001b[0;34m,\u001b[0m \u001b[0muser_bucket_map\u001b[0m\u001b[0;34m=\u001b[0m\u001b[0mpalco2010_ubm\u001b[0m\u001b[0;34m)\u001b[0m\u001b[0;34m\u001b[0m\u001b[0;34m\u001b[0m\u001b[0m\n\u001b[1;32m      3\u001b[0m \u001b[0mpalco2010_median_user_presence\u001b[0m\u001b[0;34m\u001b[0m\u001b[0;34m\u001b[0m\u001b[0m\n",
      "\u001b[0;31mNameError\u001b[0m: name 'eval_palco' is not defined"
     ]
    }
   ],
   "source": [
    "palco2010_ubm = get_bucket_map(eval_object=eval_palco)\n",
    "palco2010_median_user_presence = median_user_presence_per_bucket(eval_object=eval_palco, user_bucket_map=palco2010_ubm)\n",
    "print( palco2010_median_user_presence )\n",
    "store_user_presence(dataset_name='palco2010',median_user_presence=palco2010_median_user_presence)"
   ]
  },
  {
   "cell_type": "code",
   "execution_count": null,
   "metadata": {},
   "outputs": [
    {
     "data": {
      "text/plain": [
       "['output/joblib_eval_objects_dump/palco2010_ubm']"
      ]
     },
     "metadata": {},
     "output_type": "display_data"
    }
   ],
   "source": [
    "joblib.dump(palco2010_ubm, 'output/joblib_bucket_info_dump/palco2010_ubm', compress=True)"
   ]
  },
  {
   "cell_type": "markdown",
   "metadata": {},
   "source": [
    "___"
   ]
  },
  {
   "cell_type": "markdown",
   "metadata": {},
   "source": [
    "___"
   ]
  },
  {
   "cell_type": "code",
   "execution_count": null,
   "metadata": {},
   "outputs": [],
   "source": [
    "data = pd.read_csv(\"../datasets/ymusic_gte90_6kusers.tsv\",\"\\t\")\n",
    "stream = ImplicitData(data['user_id'],data['item_id'])\n",
    "empty_stream = ImplicitData([], [])"
   ]
  },
  {
   "cell_type": "code",
   "execution_count": null,
   "metadata": {},
   "outputs": [],
   "source": [
    "num_factors = 200\n",
    "num_iter = 9\n",
    "learn_rate = 0.25\n",
    "regularization = 0.45\n",
    "num_nodes = 16"
   ]
  },
  {
   "cell_type": "code",
   "execution_count": null,
   "metadata": {},
   "outputs": [],
   "source": [
    "model = ISGD(empty_stream, num_factors, num_iter, learn_rate = learn_rate, u_regularization = regularization, i_regularization = regularization, random_seed = 10)"
   ]
  },
  {
   "cell_type": "code",
   "execution_count": null,
   "metadata": {},
   "outputs": [],
   "source": [
    "n_holdouts = int( data.shape[0]/n_iter_bucket )\n",
    "eval_ymusic = EvaluateAndStore(model=model, data=stream, n_holdouts=n_holdouts, metrics = [\"Recall@N\"], N_recommendations=20, seed=42)"
   ]
  },
  {
   "cell_type": "code",
   "execution_count": null,
   "metadata": {},
   "outputs": [],
   "source": [
    "_=eval_ymusic.EvaluateAndStore(start_eval=0, count=stream.size, store_only=True) # 42 min"
   ]
  },
  {
   "cell_type": "code",
   "execution_count": null,
   "metadata": {},
   "outputs": [],
   "source": [
    "joblib.dump(eval_ymusic, 'output/joblib_bucket_info_dump/eval_ymusic', compress=True)"
   ]
  },
  {
   "cell_type": "markdown",
   "metadata": {},
   "source": [
    "___\n",
    "### Lastfm"
   ]
  },
  {
   "cell_type": "code",
   "execution_count": null,
   "metadata": {},
   "outputs": [],
   "source": [
    "# importa dataset 'palco playlists'\n",
    "data = pd.read_csv(\"../datasets/lastfm_50u.tsv\",\"\\t\")\n",
    "\n",
    "# transforma interações em objeto que contem mappings usuário-itens e item-usuários, contém também métodos de suporte.\n",
    "# recebe listas\n",
    "stream = ImplicitData(data['user_id'], data['item_id'])\n",
    "\n",
    "empty_stream = ImplicitData([], [])"
   ]
  },
  {
   "cell_type": "code",
   "execution_count": null,
   "metadata": {},
   "outputs": [],
   "source": [
    "num_factors = 160\n",
    "num_iter = 4\n",
    "learn_rate = 0.5\n",
    "regularization = 0.4\n",
    "num_nodes = 8"
   ]
  },
  {
   "cell_type": "code",
   "execution_count": null,
   "metadata": {},
   "outputs": [],
   "source": [
    "# O modelo não pode conter o stream, deve ser iniciado com uma lista vazia\n",
    "# Se o stream for passado, ao excluir itens conhecidos o recall é sempre 0. Ao permitir a recomendação de itens já vistos, o recall não é 0.\n",
    "model = ISGD(empty_stream, num_factors, num_iter, learn_rate = learn_rate, u_regularization = regularization, i_regularization = regularization, random_seed = 10)"
   ]
  },
  {
   "cell_type": "code",
   "execution_count": null,
   "metadata": {},
   "outputs": [],
   "source": [
    "n_holdouts = int( data.shape[0]/n_iter_bucket )\n",
    "eval_lastfm = EvaluateAndStore(model=model, data=stream, n_holdouts=n_holdouts, metrics = [\"Recall@N\"], N_recommendations=20, seed=42)"
   ]
  },
  {
   "cell_type": "code",
   "execution_count": null,
   "metadata": {},
   "outputs": [],
   "source": [
    "_=eval_lastfm.EvaluateAndStore(start_eval=0, count=stream.size, store_only=True) # 441 min"
   ]
  },
  {
   "cell_type": "code",
   "execution_count": null,
   "metadata": {},
   "outputs": [],
   "source": [
    "joblib.dump(eval_lastfm, 'output/joblib_bucket_info_dump/eval_lastfm', compress=True)"
   ]
  },
  {
   "cell_type": "markdown",
   "metadata": {},
   "source": [
    "# Evaluation"
   ]
  },
  {
   "cell_type": "code",
   "execution_count": null,
   "metadata": {},
   "outputs": [],
   "source": [
    "# def plot_n_users_per_bucket(eval_object:EvaluateAndStore, dataset_name:str, filename:str=None):\n",
    "#     n_users = len( eval_object.data.userset )\n",
    "#     n_users_bucket = pd.Series( [len( bucket.userset ) for bucket in eval_object.holdouts] )\n",
    "#     n_users_bucket = n_users_bucket.reset_index()\n",
    "#     n_users_bucket.columns = ['Bucket', 'N_users']\n",
    "#     n_users_bucket['Bucket'] = n_users_bucket['Bucket']+1\n",
    "#     plt.figure(figsize=(10,5))\n",
    "#     sns.barplot(x='Bucket', y='N_users', data=n_users_bucket, color='b', label='users per bucket')\n",
    "#     sns.lineplot(data=np.repeat(n_users, n_users_bucket.shape[0]), label='total users', color='orange')\n",
    "#     plt.title(f'Users per bucket - {dataset_name}');\n",
    "#     if filename:\n",
    "#         plt.savefig(f'images/user_bucket_analysis/{filename}')"
   ]
  },
  {
   "cell_type": "code",
   "execution_count": null,
   "metadata": {},
   "outputs": [
    {
     "data": {
      "image/png": "[encoded data removed]",
      "text/plain": [
       "<Figure size 720x360 with 1 Axes>"
      ]
     },
     "metadata": {},
     "output_type": "display_data"
    }
   ],
   "source": []
  },
  {
   "cell_type": "code",
   "execution_count": null,
   "metadata": {},
   "outputs": [],
   "source": []
  },
  {
   "cell_type": "code",
   "execution_count": null,
   "metadata": {},
   "outputs": [],
   "source": []
  },
  {
   "cell_type": "code",
   "execution_count": null,
   "metadata": {},
   "outputs": [],
   "source": []
  },
  {
   "cell_type": "code",
   "execution_count": 140,
   "metadata": {},
   "outputs": [
    {
     "data": {
      "text/plain": [
       "14.0"
      ]
     },
     "execution_count": 140,
     "metadata": {},
     "output_type": "execute_result"
    }
   ],
   "source": []
  },
  {
   "cell_type": "code",
   "execution_count": null,
   "metadata": {},
   "outputs": [],
   "source": []
  },
  {
   "cell_type": "code",
   "execution_count": null,
   "metadata": {},
   "outputs": [],
   "source": []
  },
  {
   "cell_type": "code",
   "execution_count": 97,
   "metadata": {},
   "outputs": [
    {
     "data": {
      "text/plain": [
       "[array(['user_000174', 'user_000337', 'user_000407', 'user_000707',\n",
       "        'user_000709', 'user_000751', 'user_000957', 'user_000984',\n",
       "        'user_000986'], dtype='<U11'),\n",
       " array(['user_000019', 'user_000033', 'user_000174', 'user_000249',\n",
       "        'user_000262', 'user_000267', 'user_000337', 'user_000390',\n",
       "        'user_000407', 'user_000707', 'user_000709', 'user_000751',\n",
       "        'user_000807', 'user_000882', 'user_000912', 'user_000957',\n",
       "        'user_000984', 'user_000986'], dtype='<U11'),\n",
       " array(['user_000019', 'user_000033', 'user_000174', 'user_000249',\n",
       "        'user_000262', 'user_000337', 'user_000374', 'user_000390',\n",
       "        'user_000407', 'user_000707', 'user_000709', 'user_000751',\n",
       "        'user_000767', 'user_000807', 'user_000882', 'user_000912',\n",
       "        'user_000957', 'user_000984', 'user_000986'], dtype='<U11'),\n",
       " array(['user_000019', 'user_000033', 'user_000174', 'user_000249',\n",
       "        'user_000262', 'user_000267', 'user_000330', 'user_000337',\n",
       "        'user_000374', 'user_000390', 'user_000407', 'user_000707',\n",
       "        'user_000709', 'user_000751', 'user_000767', 'user_000807',\n",
       "        'user_000882', 'user_000912', 'user_000957', 'user_000984',\n",
       "        'user_000986'], dtype='<U11'),\n",
       " array(['user_000019', 'user_000033', 'user_000141', 'user_000174',\n",
       "        'user_000249', 'user_000262', 'user_000267', 'user_000330',\n",
       "        'user_000337', 'user_000374', 'user_000390', 'user_000407',\n",
       "        'user_000707', 'user_000709', 'user_000751', 'user_000767',\n",
       "        'user_000802', 'user_000807', 'user_000882', 'user_000912',\n",
       "        'user_000957', 'user_000984', 'user_000986'], dtype='<U11'),\n",
       " array(['user_000001', 'user_000019', 'user_000033', 'user_000141',\n",
       "        'user_000174', 'user_000202', 'user_000249', 'user_000262',\n",
       "        'user_000267', 'user_000330', 'user_000337', 'user_000374',\n",
       "        'user_000390', 'user_000407', 'user_000415', 'user_000709',\n",
       "        'user_000751', 'user_000767', 'user_000802', 'user_000807',\n",
       "        'user_000882', 'user_000912', 'user_000957', 'user_000984',\n",
       "        'user_000986'], dtype='<U11'),\n",
       " array(['user_000001', 'user_000019', 'user_000033', 'user_000141',\n",
       "        'user_000174', 'user_000202', 'user_000249', 'user_000262',\n",
       "        'user_000267', 'user_000330', 'user_000337', 'user_000374',\n",
       "        'user_000390', 'user_000407', 'user_000415', 'user_000707',\n",
       "        'user_000709', 'user_000751', 'user_000767', 'user_000802',\n",
       "        'user_000807', 'user_000880', 'user_000882', 'user_000912',\n",
       "        'user_000957', 'user_000986'], dtype='<U11'),\n",
       " array(['user_000001', 'user_000019', 'user_000033', 'user_000141',\n",
       "        'user_000174', 'user_000202', 'user_000249', 'user_000262',\n",
       "        'user_000267', 'user_000330', 'user_000337', 'user_000374',\n",
       "        'user_000390', 'user_000407', 'user_000415', 'user_000453',\n",
       "        'user_000707', 'user_000709', 'user_000751', 'user_000767',\n",
       "        'user_000790', 'user_000802', 'user_000807', 'user_000880',\n",
       "        'user_000882', 'user_000912', 'user_000957', 'user_000986'],\n",
       "       dtype='<U11'),\n",
       " array(['user_000019', 'user_000033', 'user_000141', 'user_000174',\n",
       "        'user_000202', 'user_000249', 'user_000262', 'user_000267',\n",
       "        'user_000330', 'user_000333', 'user_000337', 'user_000374',\n",
       "        'user_000407', 'user_000415', 'user_000453', 'user_000707',\n",
       "        'user_000709', 'user_000751', 'user_000767', 'user_000787',\n",
       "        'user_000790', 'user_000802', 'user_000807', 'user_000880',\n",
       "        'user_000882', 'user_000912', 'user_000935', 'user_000957',\n",
       "        'user_000986'], dtype='<U11'),\n",
       " array(['user_000019', 'user_000033', 'user_000091', 'user_000141',\n",
       "        'user_000174', 'user_000202', 'user_000249', 'user_000262',\n",
       "        'user_000267', 'user_000330', 'user_000333', 'user_000374',\n",
       "        'user_000407', 'user_000415', 'user_000453', 'user_000707',\n",
       "        'user_000709', 'user_000751', 'user_000767', 'user_000787',\n",
       "        'user_000790', 'user_000802', 'user_000807', 'user_000880',\n",
       "        'user_000882', 'user_000912', 'user_000935', 'user_000957',\n",
       "        'user_000974', 'user_000986'], dtype='<U11'),\n",
       " array(['user_000019', 'user_000033', 'user_000091', 'user_000141',\n",
       "        'user_000174', 'user_000202', 'user_000249', 'user_000262',\n",
       "        'user_000267', 'user_000330', 'user_000333', 'user_000374',\n",
       "        'user_000407', 'user_000415', 'user_000453', 'user_000707',\n",
       "        'user_000709', 'user_000716', 'user_000751', 'user_000767',\n",
       "        'user_000787', 'user_000790', 'user_000802', 'user_000807',\n",
       "        'user_000882', 'user_000912', 'user_000935', 'user_000957',\n",
       "        'user_000974', 'user_000986'], dtype='<U11'),\n",
       " array(['user_000019', 'user_000033', 'user_000091', 'user_000141',\n",
       "        'user_000174', 'user_000202', 'user_000249', 'user_000262',\n",
       "        'user_000267', 'user_000319', 'user_000330', 'user_000337',\n",
       "        'user_000374', 'user_000407', 'user_000415', 'user_000453',\n",
       "        'user_000707', 'user_000709', 'user_000716', 'user_000751',\n",
       "        'user_000767', 'user_000787', 'user_000790', 'user_000802',\n",
       "        'user_000807', 'user_000880', 'user_000882', 'user_000912',\n",
       "        'user_000935', 'user_000957', 'user_000974', 'user_000986'],\n",
       "       dtype='<U11'),\n",
       " array(['user_000001', 'user_000019', 'user_000033', 'user_000091',\n",
       "        'user_000141', 'user_000174', 'user_000202', 'user_000249',\n",
       "        'user_000262', 'user_000319', 'user_000329', 'user_000337',\n",
       "        'user_000350', 'user_000374', 'user_000407', 'user_000415',\n",
       "        'user_000453', 'user_000707', 'user_000709', 'user_000716',\n",
       "        'user_000751', 'user_000767', 'user_000787', 'user_000790',\n",
       "        'user_000802', 'user_000807', 'user_000874', 'user_000880',\n",
       "        'user_000882', 'user_000912', 'user_000935', 'user_000957'],\n",
       "       dtype='<U11'),\n",
       " array(['user_000001', 'user_000019', 'user_000033', 'user_000091',\n",
       "        'user_000141', 'user_000174', 'user_000202', 'user_000249',\n",
       "        'user_000262', 'user_000267', 'user_000319', 'user_000329',\n",
       "        'user_000337', 'user_000350', 'user_000374', 'user_000407',\n",
       "        'user_000415', 'user_000453', 'user_000540', 'user_000707',\n",
       "        'user_000709', 'user_000716', 'user_000751', 'user_000767',\n",
       "        'user_000787', 'user_000790', 'user_000802', 'user_000807',\n",
       "        'user_000874', 'user_000880', 'user_000882', 'user_000912',\n",
       "        'user_000935', 'user_000957', 'user_000986'], dtype='<U11'),\n",
       " array(['user_000001', 'user_000019', 'user_000033', 'user_000091',\n",
       "        'user_000141', 'user_000174', 'user_000202', 'user_000249',\n",
       "        'user_000262', 'user_000319', 'user_000329', 'user_000337',\n",
       "        'user_000350', 'user_000407', 'user_000415', 'user_000453',\n",
       "        'user_000540', 'user_000707', 'user_000709', 'user_000751',\n",
       "        'user_000767', 'user_000787', 'user_000790', 'user_000802',\n",
       "        'user_000807', 'user_000872', 'user_000874', 'user_000880',\n",
       "        'user_000882', 'user_000912', 'user_000935', 'user_000957',\n",
       "        'user_000974', 'user_000986'], dtype='<U11'),\n",
       " array(['user_000001', 'user_000019', 'user_000033', 'user_000091',\n",
       "        'user_000141', 'user_000174', 'user_000202', 'user_000249',\n",
       "        'user_000262', 'user_000319', 'user_000329', 'user_000337',\n",
       "        'user_000350', 'user_000374', 'user_000407', 'user_000415',\n",
       "        'user_000453', 'user_000540', 'user_000707', 'user_000709',\n",
       "        'user_000716', 'user_000751', 'user_000767', 'user_000787',\n",
       "        'user_000790', 'user_000802', 'user_000807', 'user_000872',\n",
       "        'user_000874', 'user_000880', 'user_000882', 'user_000912',\n",
       "        'user_000935', 'user_000957', 'user_000974', 'user_000986'],\n",
       "       dtype='<U11'),\n",
       " array(['user_000001', 'user_000019', 'user_000033', 'user_000079',\n",
       "        'user_000091', 'user_000141', 'user_000156', 'user_000174',\n",
       "        'user_000202', 'user_000204', 'user_000249', 'user_000262',\n",
       "        'user_000319', 'user_000329', 'user_000350', 'user_000374',\n",
       "        'user_000407', 'user_000415', 'user_000453', 'user_000540',\n",
       "        'user_000707', 'user_000709', 'user_000716', 'user_000751',\n",
       "        'user_000767', 'user_000787', 'user_000790', 'user_000802',\n",
       "        'user_000807', 'user_000872', 'user_000874', 'user_000882',\n",
       "        'user_000912', 'user_000935', 'user_000957', 'user_000974',\n",
       "        'user_000986'], dtype='<U11'),\n",
       " array(['user_000001', 'user_000019', 'user_000033', 'user_000079',\n",
       "        'user_000091', 'user_000141', 'user_000156', 'user_000174',\n",
       "        'user_000202', 'user_000204', 'user_000228', 'user_000249',\n",
       "        'user_000262', 'user_000319', 'user_000329', 'user_000350',\n",
       "        'user_000374', 'user_000407', 'user_000415', 'user_000453',\n",
       "        'user_000540', 'user_000707', 'user_000709', 'user_000716',\n",
       "        'user_000751', 'user_000767', 'user_000787', 'user_000790',\n",
       "        'user_000802', 'user_000807', 'user_000872', 'user_000874',\n",
       "        'user_000882', 'user_000912', 'user_000935', 'user_000957',\n",
       "        'user_000974', 'user_000986'], dtype='<U11'),\n",
       " array(['user_000001', 'user_000019', 'user_000033', 'user_000079',\n",
       "        'user_000091', 'user_000141', 'user_000156', 'user_000174',\n",
       "        'user_000202', 'user_000228', 'user_000249', 'user_000262',\n",
       "        'user_000319', 'user_000329', 'user_000350', 'user_000374',\n",
       "        'user_000407', 'user_000415', 'user_000453', 'user_000540',\n",
       "        'user_000707', 'user_000709', 'user_000716', 'user_000767',\n",
       "        'user_000787', 'user_000790', 'user_000802', 'user_000807',\n",
       "        'user_000872', 'user_000874', 'user_000880', 'user_000882',\n",
       "        'user_000908', 'user_000912', 'user_000935', 'user_000957'],\n",
       "       dtype='<U11'),\n",
       " array(['user_000001', 'user_000019', 'user_000033', 'user_000079',\n",
       "        'user_000091', 'user_000141', 'user_000156', 'user_000174',\n",
       "        'user_000202', 'user_000204', 'user_000228', 'user_000249',\n",
       "        'user_000262', 'user_000267', 'user_000319', 'user_000329',\n",
       "        'user_000350', 'user_000373', 'user_000374', 'user_000407',\n",
       "        'user_000415', 'user_000453', 'user_000540', 'user_000707',\n",
       "        'user_000709', 'user_000716', 'user_000767', 'user_000787',\n",
       "        'user_000790', 'user_000802', 'user_000807', 'user_000872',\n",
       "        'user_000874', 'user_000880', 'user_000882', 'user_000908',\n",
       "        'user_000912', 'user_000935', 'user_000957', 'user_000974'],\n",
       "       dtype='<U11'),\n",
       " array(['user_000001', 'user_000019', 'user_000033', 'user_000079',\n",
       "        'user_000091', 'user_000141', 'user_000156', 'user_000174',\n",
       "        'user_000202', 'user_000204', 'user_000228', 'user_000249',\n",
       "        'user_000262', 'user_000267', 'user_000319', 'user_000337',\n",
       "        'user_000350', 'user_000373', 'user_000374', 'user_000392',\n",
       "        'user_000407', 'user_000415', 'user_000453', 'user_000540',\n",
       "        'user_000587', 'user_000631', 'user_000707', 'user_000709',\n",
       "        'user_000716', 'user_000751', 'user_000767', 'user_000787',\n",
       "        'user_000790', 'user_000802', 'user_000807', 'user_000872',\n",
       "        'user_000874', 'user_000880', 'user_000882', 'user_000908',\n",
       "        'user_000912', 'user_000935', 'user_000957', 'user_000974'],\n",
       "       dtype='<U11'),\n",
       " array(['user_000001', 'user_000033', 'user_000079', 'user_000091',\n",
       "        'user_000141', 'user_000156', 'user_000174', 'user_000202',\n",
       "        'user_000204', 'user_000228', 'user_000249', 'user_000262',\n",
       "        'user_000267', 'user_000319', 'user_000329', 'user_000337',\n",
       "        'user_000350', 'user_000373', 'user_000374', 'user_000392',\n",
       "        'user_000407', 'user_000415', 'user_000453', 'user_000540',\n",
       "        'user_000587', 'user_000631', 'user_000707', 'user_000709',\n",
       "        'user_000716', 'user_000751', 'user_000767', 'user_000787',\n",
       "        'user_000790', 'user_000802', 'user_000807', 'user_000872',\n",
       "        'user_000874', 'user_000882', 'user_000908', 'user_000912',\n",
       "        'user_000935', 'user_000957', 'user_000974'], dtype='<U11')]"
      ]
     },
     "execution_count": 97,
     "metadata": {},
     "output_type": "execute_result"
    }
   ],
   "source": [
    "[bucket.userset for bucket in eval_lastfm.holdouts]"
   ]
  },
  {
   "cell_type": "code",
   "execution_count": 43,
   "metadata": {},
   "outputs": [
    {
     "data": {
      "text/plain": [
       "3784"
      ]
     },
     "execution_count": 43,
     "metadata": {},
     "output_type": "execute_result"
    }
   ],
   "source": [
    "plt.figure(figsize=(10,5))\n",
    "sns.barplot(x='Bucket', y='N_users', data=n_users_bucket, color='b', label='users per bucket')\n",
    "sns.lineplot(data=np.repeat(n_users, n_users_bucket.shape[0]), label='total users', color='orange');"
   ]
  }
 ],
 "metadata": {
  "interpreter": {
   "hash": "93164e1ba08303257f1d4f69270dc17556e83319233af9462e0c249160adc063"
  },
  "kernelspec": {
   "display_name": "Python 3.6.9 ('dissertacao')",
   "language": "python",
   "name": "python3"
  },
  "language_info": {
   "codemirror_mode": {
    "name": "ipython",
    "version": 3
   },
   "file_extension": ".py",
   "mimetype": "text/x-python",
   "name": "python",
   "nbconvert_exporter": "python",
   "pygments_lexer": "ipython3",
   "version": "3.6.9"
  },
  "orig_nbformat": 4
 },
 "nbformat": 4,
 "nbformat_minor": 2
}
