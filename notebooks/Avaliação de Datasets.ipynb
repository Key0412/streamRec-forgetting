{
 "cells": [
  {
   "cell_type": "markdown",
   "metadata": {},
   "source": [
    "Neste notebook:\n",
    "* Avaliação de usuários por bucket  \n",
    "    * em média, e mediana, em quantos buckets os utilizadores estão.  \n",
    "    * quantos usuários novos estão em cada bucket e quantos não ocorrem\n",
    "\n",
    "Objetivo:\n",
    "* explorar caracteristicas dos datasets que permitam\n",
    "    * avaliar se o dataset é util para a análise  \n",
    "    * escolher o número de buckets  "
   ]
  },
  {
   "cell_type": "markdown",
   "metadata": {},
   "source": [
    "Vamos definir o numero de itens em cada bucket como 50k"
   ]
  },
  {
   "cell_type": "code",
   "execution_count": 2,
   "metadata": {},
   "outputs": [],
   "source": [
    "import os\n",
    "import sys\n",
    "sys.path.append(os.path.abspath('') + '/..')"
   ]
  },
  {
   "cell_type": "code",
   "execution_count": 52,
   "metadata": {},
   "outputs": [],
   "source": [
    "from datetime import datetime, timedelta\n",
    "import joblib\n",
    "from data import ImplicitData\n",
    "import pandas as pd \n",
    "import numpy as np \n",
    "from recommenders_implicit import ISGD  # ISGD framework, BISGD,\n",
    "from eval_implicit import EvaluateAndStore # EvaluateAndStore para guardar estados do modelo e holdouts, a avaliação prequencial de ratings implicitos é opcional, , EvalHoldout\n",
    "from plot_utils import plot_n_users_per_bucket, plot_bucket_size\n",
    "import seaborn as sns\n",
    "import matplotlib.pyplot as plt\n",
    "sns.set_style('whitegrid')"
   ]
  },
  {
   "cell_type": "code",
   "execution_count": 4,
   "metadata": {},
   "outputs": [],
   "source": [
    "n_iter_bucket = 50E3"
   ]
  },
  {
   "cell_type": "code",
   "execution_count": 5,
   "metadata": {},
   "outputs": [],
   "source": [
    "def get_bucket_map(eval_object:EvaluateAndStore):\n",
    "    '''\n",
    "    Create a dict that maps users (external id) to the buckets they are in (from 1 to last).\n",
    "    '''\n",
    "    user_bucket_map = {user:[] for user in eval_object.data.userset}\n",
    "    for user in eval_object.data.userset:\n",
    "        for i, bucket in enumerate( eval_object.holdouts ):\n",
    "            if user in bucket.userset:\n",
    "                user_bucket_map[user].append(i+1)\n",
    "    return user_bucket_map\n",
    "\n",
    "def median_user_presence_per_bucket(eval_object:EvaluateAndStore, user_bucket_map:dict):\n",
    "    '''\n",
    "    On median terms, on how many buckets a user is.\n",
    "    '''\n",
    "    presence_list = [len(user_bucket_map[user]) for user in eval_object.data.userset]\n",
    "    return np.median( presence_list )\n",
    "\n",
    "def plot_bucket_size(eval_object, dataset_name, filename=None):\n",
    "    bucket_size = pd.Series( [bucket.size for bucket in eval_object.holdouts] )\n",
    "    bucket_size = bucket_size.reset_index()\n",
    "    bucket_size.columns = ['Bucket', 'Size']\n",
    "    bucket_size['Bucket'] = bucket_size['Bucket']+1\n",
    "    plt.figure(figsize=(10,5))\n",
    "    sns.barplot(x='Bucket', y='Size', data=bucket_size, color='b')\n",
    "    # sns.lineplot(data=np.repeat(n_users, n_users_bucket.shape[0]), label='total users', color='orange')\n",
    "    plt.title(f'Bucket size - {dataset_name}')\n",
    "    if filename:\n",
    "        plt.savefig(f'images/user_bucket_analysis/{filename}')\n",
    "\n",
    "def store_user_presence(dataset_name, median_user_presence):\n",
    "    with open('output/joblib_bucket_info_dump/median_user_presence.txt', 'a') as file:\n",
    "        file.write(f'{dataset_name}: in median terms, users are present in {median_user_presence} bucket\\n')\n",
    "\n",
    "def plot_interactions_per_month(data, dataset_name):\n",
    "    interactions_per_month = data.groupby(by=['date']).count().iloc[:, 0]\n",
    "    interactions_per_month.name = 'count'\n",
    "    interactions_per_month=interactions_per_month.reset_index()\n",
    "    fig, ax = plt.subplots(figsize=(6,10))\n",
    "    fig = sns.barplot(x='count', y='date', data=interactions_per_month, color='blue', ax=ax )\n",
    "    ax.set_yticklabels(labels=list( interactions_per_month['date'].dt.year.astype(str) +'-'+ interactions_per_month['date'].dt.month.astype(str) ))\n",
    "    plt.title(f'{dataset_name}: Interactions per year-month')\n",
    "    plt.savefig(f'images/user_bucket_analysis/{dataset_name}_interactions_year_month.png')\n",
    "\n",
    "def plot_user_presence_distribution(user_presence_df, dataset_name):\n",
    "    fig, ax = plt.subplots(1,3, figsize=(17,4))\n",
    "    user_presence_df['month_%'].plot(kind='hist', ax=ax[0], title='user month presence')\n",
    "    user_presence_df['trimestre_%'].plot(kind='hist', ax=ax[1], title='user quarter presence')\n",
    "    user_presence_df['semestre_%'].plot(kind='hist', ax=ax[2], title='user semester presence')\n",
    "    plt.suptitle(f'{dataset_name}: User presence distribution')\n",
    "    plt.savefig(f'images/user_bucket_analysis/{dataset_name}_user_presence_distribution.png');"
   ]
  },
  {
   "cell_type": "markdown",
   "metadata": {},
   "source": [
    "# Store buckets"
   ]
  },
  {
   "cell_type": "markdown",
   "metadata": {},
   "source": [
    "___\n",
    "### Palco 2010"
   ]
  },
  {
   "cell_type": "code",
   "execution_count": 5,
   "metadata": {},
   "outputs": [],
   "source": [
    "# importa dataset 'palco playlists'\n",
    "data = pd.read_csv(\"../datasets/palco_2010.tsv\",\"\\t\")"
   ]
  },
  {
   "cell_type": "code",
   "execution_count": 6,
   "metadata": {},
   "outputs": [],
   "source": [
    "num_factors = 200\n",
    "num_iter = 6\n",
    "learn_rate = 0.35\n",
    "regularization = 0.5\n",
    "num_nodes = 8"
   ]
  },
  {
   "cell_type": "code",
   "execution_count": 7,
   "metadata": {},
   "outputs": [],
   "source": [
    "# transforma interações em objeto que contem mappings usuário-itens e item-usuários, contém também métodos de suporte.\n",
    "# recebe listas\n",
    "# stream = ImplicitData(data['UserID'].to_list(), data['ItemID'].to_list())\n",
    "stream = ImplicitData(data['user_id'], data['track_id'])\n",
    "\n",
    "empty_stream = ImplicitData([], [])"
   ]
  },
  {
   "cell_type": "code",
   "execution_count": 8,
   "metadata": {},
   "outputs": [],
   "source": [
    "# O modelo não pode conter o stream, deve ser iniciado com uma lista vazia\n",
    "# Se o stream for passado, ao excluir itens conhecidos o recall é sempre 0. Ao permitir a recomendação de itens já vistos, o recall não é 0.\n",
    "model = ISGD(empty_stream, num_factors, num_iter, learn_rate = learn_rate, u_regularization = regularization, i_regularization = regularization, random_seed = 10)"
   ]
  },
  {
   "cell_type": "code",
   "execution_count": 9,
   "metadata": {},
   "outputs": [],
   "source": [
    "# criamos instancia de EvaluateAndStore para criar holdouts com o método EvaluateAndStore\n",
    "n_holdouts = int( data.shape[0]/n_iter_bucket )\n",
    "eval_palco = EvaluateAndStore(model=model, data=stream, n_holdouts=n_holdouts, metrics=[\"Recall@N\"], N_recommendations=20, seed=42)"
   ]
  },
  {
   "cell_type": "code",
   "execution_count": 10,
   "metadata": {},
   "outputs": [],
   "source": [
    "# interações de 0 a 100 são usadas para pre treino. \n",
    "# count define numero de interações a serem usadas.\n",
    "# holdouts e checkpoints são \n",
    "# store_only - somente guarda holdouts, não faz avaliação prequencial.\n",
    "# default_user - Somente usado quando store_only = False durante avaliação prequencial.\n",
    "_ = eval_palco.EvaluateAndStore(start_eval=0, count=stream.size, store_only=True) # 17 min"
   ]
  },
  {
   "cell_type": "code",
   "execution_count": 19,
   "metadata": {},
   "outputs": [
    {
     "data": {
      "image/png": "[encoded data removed]",
      "text/plain": [
       "<Figure size 720x360 with 1 Axes>"
      ]
     },
     "metadata": {},
     "output_type": "display_data"
    }
   ],
   "source": [
    "plot_bucket_size(eval_object=eval_palco, dataset_name='palco2010', filename='palco2010_bucket_size.png')"
   ]
  },
  {
   "cell_type": "code",
   "execution_count": 14,
   "metadata": {},
   "outputs": [
    {
     "data": {
      "image/png": "[encoded data removed]",
      "text/plain": [
       "<Figure size 720x360 with 1 Axes>"
      ]
     },
     "metadata": {},
     "output_type": "display_data"
    }
   ],
   "source": [
    "plot_n_users_per_bucket(eval_object=eval_palco, dataset_name='palco2010', filename='palco2010_user_per_bucket.png')"
   ]
  },
  {
   "cell_type": "code",
   "execution_count": 53,
   "metadata": {},
   "outputs": [
    {
     "ename": "NameError",
     "evalue": "name 'eval_palco' is not defined",
     "output_type": "error",
     "traceback": [
      "\u001b[0;31m---------------------------------------------------------------------------\u001b[0m",
      "\u001b[0;31mNameError\u001b[0m                                 Traceback (most recent call last)",
      "\u001b[0;32m<ipython-input-53-bfa8df2dc196>\u001b[0m in \u001b[0;36m<module>\u001b[0;34m\u001b[0m\n\u001b[0;32m----> 1\u001b[0;31m \u001b[0mpalco2010_ubm\u001b[0m \u001b[0;34m=\u001b[0m \u001b[0mget_bucket_map\u001b[0m\u001b[0;34m(\u001b[0m\u001b[0meval_object\u001b[0m\u001b[0;34m=\u001b[0m\u001b[0meval_palco\u001b[0m\u001b[0;34m)\u001b[0m\u001b[0;34m\u001b[0m\u001b[0;34m\u001b[0m\u001b[0m\n\u001b[0m\u001b[1;32m      2\u001b[0m \u001b[0mpalco2010_median_user_presence\u001b[0m \u001b[0;34m=\u001b[0m \u001b[0mmedian_user_presence_per_bucket\u001b[0m\u001b[0;34m(\u001b[0m\u001b[0meval_object\u001b[0m\u001b[0;34m=\u001b[0m\u001b[0meval_palco\u001b[0m\u001b[0;34m,\u001b[0m \u001b[0muser_bucket_map\u001b[0m\u001b[0;34m=\u001b[0m\u001b[0mpalco2010_ubm\u001b[0m\u001b[0;34m)\u001b[0m\u001b[0;34m\u001b[0m\u001b[0;34m\u001b[0m\u001b[0m\n\u001b[1;32m      3\u001b[0m \u001b[0mpalco2010_median_user_presence\u001b[0m\u001b[0;34m\u001b[0m\u001b[0;34m\u001b[0m\u001b[0m\n",
      "\u001b[0;31mNameError\u001b[0m: name 'eval_palco' is not defined"
     ]
    }
   ],
   "source": [
    "palco2010_ubm = get_bucket_map(eval_object=eval_palco)\n",
    "palco2010_median_user_presence = median_user_presence_per_bucket(eval_object=eval_palco, user_bucket_map=palco2010_ubm)\n",
    "print( palco2010_median_user_presence )\n",
    "store_user_presence(dataset_name='palco2010',median_user_presence=palco2010_median_user_presence)"
   ]
  },
  {
   "cell_type": "code",
   "execution_count": null,
   "metadata": {},
   "outputs": [
    {
     "data": {
      "text/plain": [
       "['output/joblib_eval_objects_dump/palco2010_ubm']"
      ]
     },
     "metadata": {},
     "output_type": "display_data"
    }
   ],
   "source": [
    "joblib.dump(palco2010_ubm, 'output/joblib_bucket_info_dump/palco2010_ubm', compress=True)"
   ]
  },
  {
   "cell_type": "markdown",
   "metadata": {},
   "source": [
    "___\n",
    "### Movielens"
   ]
  },
  {
   "cell_type": "code",
   "execution_count": 6,
   "metadata": {},
   "outputs": [],
   "source": [
    "# importa dataset 'movielensm1'\n",
    "data = pd.read_csv(\"../datasets/ml1m_gte5.csv\",\"\\t\")\n",
    "data['date'] = data['Timestamp'].apply(lambda x: datetime.fromtimestamp( x ).date() )\n",
    "data['year'] = data['Timestamp'].apply(lambda x: datetime.fromtimestamp( x ).year)\n",
    "data['month'] = data['Timestamp'].apply(lambda x: datetime.fromtimestamp( x ).month )\n",
    "data['date'] = data[['year', 'month']].apply(lambda x: datetime.strptime( str(x[0])+'/'+str(x[1]), '%Y/%m' ) , axis=1)"
   ]
  },
  {
   "cell_type": "markdown",
   "metadata": {},
   "source": [
    "How many interactions occur in each month?"
   ]
  },
  {
   "cell_type": "code",
   "execution_count": 7,
   "metadata": {},
   "outputs": [
    {
     "data": {
      "image/png": "[encoded data removed]",
      "text/plain": [
       "<Figure size 432x720 with 1 Axes>"
      ]
     },
     "metadata": {},
     "output_type": "display_data"
    }
   ],
   "source": [
    "plot_interactions_per_month(data=data, dataset_name='Movielens')"
   ]
  },
  {
   "cell_type": "markdown",
   "metadata": {},
   "source": [
    "What is the user presence distribution based on month, quarter, and semester?"
   ]
  },
  {
   "cell_type": "code",
   "execution_count": 8,
   "metadata": {},
   "outputs": [],
   "source": [
    "#counting user interactions per month\n",
    "user_month_interactions = data.groupby(by=['UserID', 'date']).count().iloc[:, 0]\n",
    "user_month_interactions.name = 'count'\n",
    "user_month_interactions = user_month_interactions.reset_index()\n",
    "user_month_interactions.sort_values(by=['date'], ascending=[True], inplace=True)"
   ]
  },
  {
   "cell_type": "code",
   "execution_count": 9,
   "metadata": {},
   "outputs": [],
   "source": [
    "# defining quarter and semester intervals in dataset\n",
    "\n",
    "# https://pandas.pydata.org/docs/user_guide/timeseries.html#timeseries-offset-aliases\n",
    "# https://stackoverflow.com/questions/69714505/how-can-generate-trimester-dates-in-python\n",
    "\n",
    "from pandas import Timestamp, date_range\n",
    "from pandas.tseries.offsets import MonthBegin, MonthEnd\n",
    "\n",
    "start_ts, end_ts = Timestamp(user_month_interactions['date'].unique()[0]), Timestamp(user_month_interactions['date'].unique()[-1])\n",
    "starts = date_range(start_ts, end_ts - MonthEnd(3), freq='3M') + MonthBegin(-1)\n",
    "# starts = date_range(start_ts, end_ts, freq='3M') + MonthBegin(-1)\n",
    "ends = date_range(start_ts + MonthEnd(3), end_ts, freq='3M')\n",
    "trimestres = list(zip(starts, ends))\n",
    "\n",
    "starts = date_range(start_ts, end_ts - MonthEnd(6), freq='6M') + MonthBegin(-1)\n",
    "ends = date_range(start_ts + MonthEnd(6), end_ts, freq='6M')\n",
    "semestres = list(zip(starts, ends))"
   ]
  },
  {
   "cell_type": "code",
   "execution_count": 66,
   "metadata": {},
   "outputs": [],
   "source": [
    "# verifying user presence in months, quarter, and semester\n",
    "user_presence_percentage = []\n",
    "user_presence_map = dict()\n",
    "user_trimestre_interactions = dict()\n",
    "user_semestre_interactions = dict()\n",
    "for u in user_month_interactions['UserID'].unique():\n",
    "    uidx = user_month_interactions['UserID'] == u\n",
    "    month_presence = user_month_interactions.loc[uidx, 'date'].nunique() / user_month_interactions['date'].nunique()\n",
    "    \n",
    "    trimestre_presence = np.repeat(False, len(trimestres)+1 )\n",
    "    semestre_presence = np.repeat(False, len(semestres)+1 )\n",
    "\n",
    "    trimestre_count = np.zeros( len( trimestres )+1 )\n",
    "    semestre_count = np.zeros( len( semestres )+1 )\n",
    "\n",
    "    # for udt in user_month_interactions.loc[uidx, 'date'].unique():\n",
    "    for udt in user_month_interactions.loc[uidx, 'date']:\n",
    "\n",
    "        idx = np.where( [ t[0]<=Timestamp( udt )<=t[1] for t in trimestres ] + [Timestamp( udt ) >= trimestres[-1][1]] )[0]\n",
    "        trimestre_presence[idx] = True\n",
    "        trimestre_count[idx] += 1\n",
    "\n",
    "        idx = np.where( [ t[0]<=Timestamp( udt )<=t[1] for t in semestres ] + [Timestamp( udt ) >= semestres[-1][1]] )[0]\n",
    "        semestre_presence[idx] = True\n",
    "        semestre_count[ idx ] += 1\n",
    "\n",
    "    user_trimestre_interactions[u] = trimestre_count\n",
    "    user_semestre_interactions[u] = semestre_count\n",
    "    \n",
    "    # storing trues and falses for each user ( here, we know exactly where user appears)\n",
    "    user_presence_map[u] = [user_month_interactions.loc[uidx, 'date'].unique(), trimestre_presence, semestre_presence]\n",
    "    # storing frequency in % of user occurence\n",
    "    user_presence_percentage.append(\n",
    "        [u, month_presence, sum(trimestre_presence)/len(trimestre_presence), sum(semestre_presence)/len(semestre_presence)] )\n",
    "\n",
    "# building DF from presence percentage\n",
    "user_presence_df = pd.DataFrame(\n",
    "    user_presence_percentage,\n",
    "    columns=['UserID', 'month_%', 'trimestre_%', 'semestre_%']\n",
    "    ).sort_values(by='month_%', ascending=False)\n",
    "# building DF with counts of quarter and semester interactions\n",
    "user_trimestre_interactions = pd.DataFrame( user_trimestre_interactions ).T\n",
    "user_semestre_interactions = pd.DataFrame( user_semestre_interactions ).T"
   ]
  },
  {
   "cell_type": "code",
   "execution_count": 67,
   "metadata": {},
   "outputs": [
    {
     "data": {
      "text/html": [
       "<div>\n",
       "<style scoped>\n",
       "    .dataframe tbody tr th:only-of-type {\n",
       "        vertical-align: middle;\n",
       "    }\n",
       "\n",
       "    .dataframe tbody tr th {\n",
       "        vertical-align: top;\n",
       "    }\n",
       "\n",
       "    .dataframe thead th {\n",
       "        text-align: right;\n",
       "    }\n",
       "</style>\n",
       "<table border=\"1\" class=\"dataframe\">\n",
       "  <thead>\n",
       "    <tr style=\"text-align: right;\">\n",
       "      <th></th>\n",
       "      <th>UserID</th>\n",
       "      <th>month_%</th>\n",
       "      <th>trimestre_%</th>\n",
       "      <th>semestre_%</th>\n",
       "    </tr>\n",
       "  </thead>\n",
       "  <tbody>\n",
       "    <tr>\n",
       "      <th>5941</th>\n",
       "      <td>195</td>\n",
       "      <td>0.742857</td>\n",
       "      <td>0.833333</td>\n",
       "      <td>0.833333</td>\n",
       "    </tr>\n",
       "    <tr>\n",
       "      <th>3975</th>\n",
       "      <td>1088</td>\n",
       "      <td>0.685714</td>\n",
       "      <td>0.833333</td>\n",
       "      <td>0.833333</td>\n",
       "    </tr>\n",
       "    <tr>\n",
       "      <th>4950</th>\n",
       "      <td>1733</td>\n",
       "      <td>0.628571</td>\n",
       "      <td>0.833333</td>\n",
       "      <td>0.833333</td>\n",
       "    </tr>\n",
       "    <tr>\n",
       "      <th>5398</th>\n",
       "      <td>343</td>\n",
       "      <td>0.600000</td>\n",
       "      <td>0.833333</td>\n",
       "      <td>0.833333</td>\n",
       "    </tr>\n",
       "    <tr>\n",
       "      <th>5768</th>\n",
       "      <td>424</td>\n",
       "      <td>0.571429</td>\n",
       "      <td>0.833333</td>\n",
       "      <td>0.833333</td>\n",
       "    </tr>\n",
       "  </tbody>\n",
       "</table>\n",
       "</div>"
      ],
      "text/plain": [
       "      UserID   month_%  trimestre_%  semestre_%\n",
       "5941     195  0.742857     0.833333    0.833333\n",
       "3975    1088  0.685714     0.833333    0.833333\n",
       "4950    1733  0.628571     0.833333    0.833333\n",
       "5398     343  0.600000     0.833333    0.833333\n",
       "5768     424  0.571429     0.833333    0.833333"
      ]
     },
     "execution_count": 67,
     "metadata": {},
     "output_type": "execute_result"
    }
   ],
   "source": [
    "user_presence_df.head()"
   ]
  },
  {
   "cell_type": "code",
   "execution_count": 68,
   "metadata": {},
   "outputs": [
    {
     "data": {
      "image/png": "[encoded data removed]",
      "text/plain": [
       "<Figure size 1224x288 with 3 Axes>"
      ]
     },
     "metadata": {},
     "output_type": "display_data"
    }
   ],
   "source": [
    "# plotting user frequency distribution\n",
    "plot_user_presence_distribution(user_presence_df, dataset_name='Movielens')"
   ]
  },
  {
   "cell_type": "markdown",
   "metadata": {},
   "source": [
    "How many examples are there per quarter and semester?"
   ]
  },
  {
   "cell_type": "code",
   "execution_count": 78,
   "metadata": {},
   "outputs": [],
   "source": [
    "def plot_interactions_per_qns(user_interactions, date_range, dataset_name=None, type_of_range='quarter'):\n",
    "    dates = [datetime.strftime( d[0], '%Y-%m' ) for d in date_range] + [datetime.strftime( date_range[-1][1]+timedelta(days=1), '%Y-%m' )]\n",
    "    values = user_interactions.sum()\n",
    "    values = values.reset_index()\n",
    "    values.columns = ['date', 'count']\n",
    "    values['date'] = dates\n",
    "    fig, ax = plt.subplots(figsize=(6,10))\n",
    "    fig = sns.barplot(x='count', y='date', data=values, color='blue', ax=ax )\n",
    "    if dataset_name:\n",
    "        plt.title(f'{dataset_name}: Interactions per {type_of_range}')\n",
    "        plt.savefig(f'images/user_bucket_analysis/{dataset_name}_interactions_quarter.png')"
   ]
  },
  {
   "cell_type": "code",
   "execution_count": 70,
   "metadata": {},
   "outputs": [
    {
     "data": {
      "image/png": "[encoded data removed]",
      "text/plain": [
       "<Figure size 432x720 with 1 Axes>"
      ]
     },
     "metadata": {},
     "output_type": "display_data"
    }
   ],
   "source": [
    "plot_interactions_per_qns(user_interactions=user_trimestre_interactions, date_range=trimestres, dataset_name='Movielens', type_of_range='quarter')"
   ]
  },
  {
   "cell_type": "code",
   "execution_count": 71,
   "metadata": {},
   "outputs": [
    {
     "data": {
      "image/png": "[encoded data removed]",
      "text/plain": [
       "<Figure size 432x720 with 1 Axes>"
      ]
     },
     "metadata": {},
     "output_type": "display_data"
    }
   ],
   "source": [
    "plot_interactions_per_qns(user_interactions=user_semestre_interactions, date_range=semestres, dataset_name='Movielens', type_of_range='semester')"
   ]
  },
  {
   "cell_type": "code",
   "execution_count": 72,
   "metadata": {},
   "outputs": [
    {
     "name": "stdout",
     "output_type": "stream",
     "text": [
      "0 users of 6014 (0.0%) occurr in 80.0% or more months (of 35).\n",
      "9 users of 6014 (0.15%) occurr in 80.0% or more quarters (of 12).\n",
      "93 users of 6014 (1.546%) occurr in 80.0% or more semesters (of 6).\n"
     ]
    }
   ],
   "source": [
    "# defining threshold\n",
    "frequency_threshold = 0.8\n",
    "\n",
    "# getting frequent users per month\n",
    "frequent_users_month = user_presence_df[user_presence_df['month_%']>=frequency_threshold ]['UserID'].values\n",
    "# percentage of users that are *frequent in months\n",
    "print(\n",
    "f'''{len(frequent_users_month)} users \\\n",
    "of {user_presence_df['UserID'].nunique()} \\\n",
    "({round( 100*len(frequent_users_month) / data['UserID'].nunique(), 3)}%) occurr in {frequency_threshold*100}% or more months (of {user_month_interactions[\"date\"].nunique()}).'''\n",
    ")\n",
    "\n",
    "# getting frequent users per quarter\n",
    "frequent_users_trimestre = user_presence_df[user_presence_df['trimestre_%']>=frequency_threshold ]['UserID'].values\n",
    "# percentage of users that are *frequent in quarters\n",
    "print(\n",
    "f'''{len(frequent_users_trimestre)} users \\\n",
    "of {user_presence_df['UserID'].nunique()} \\\n",
    "({round( 100*len( frequent_users_trimestre ) / data[\"UserID\"].nunique(), 3)}%) occurr in {frequency_threshold*100}% or more quarters (of {len( trimestres) +1}).'''\n",
    ")\n",
    "\n",
    "# getting frequent users per semester\n",
    "frequent_users_semestre = user_presence_df[user_presence_df['semestre_%']>=frequency_threshold ]['UserID'].values\n",
    "# percentage of users that are *frequent in semesters\n",
    "print(\n",
    "f'''{len(frequent_users_semestre)} users \\\n",
    "of {user_presence_df['UserID'].nunique()} \\\n",
    "({round( 100*len( frequent_users_semestre ) / data[\"UserID\"].nunique(), 3)}%) occurr in {frequency_threshold*100}% or more semesters (of {len( semestres) +1}).'''\n",
    ")"
   ]
  },
  {
   "cell_type": "markdown",
   "metadata": {},
   "source": [
    "In median terms, how many times FREQUENT users appear in each quarter, and semester?"
   ]
  },
  {
   "cell_type": "code",
   "execution_count": 81,
   "metadata": {},
   "outputs": [
    {
     "data": {
      "text/plain": [
       "0     0.0\n",
       "1     0.0\n",
       "2     2.0\n",
       "3     2.0\n",
       "4     2.0\n",
       "5     2.0\n",
       "6     2.0\n",
       "7     2.0\n",
       "8     3.0\n",
       "9     3.0\n",
       "10    2.0\n",
       "11    1.0\n",
       "dtype: float64"
      ]
     },
     "execution_count": 81,
     "metadata": {},
     "output_type": "execute_result"
    }
   ],
   "source": [
    "user_trimestre_interactions.loc[frequent_users_trimestre].median(axis=0)"
   ]
  },
  {
   "cell_type": "code",
   "execution_count": 79,
   "metadata": {},
   "outputs": [
    {
     "data": {
      "image/png": "[encoded data removed]",
      "text/plain": [
       "<Figure size 432x720 with 1 Axes>"
      ]
     },
     "metadata": {},
     "output_type": "display_data"
    }
   ],
   "source": [
    "plot_interactions_per_qns(user_interactions=user_trimestre_interactions.loc[frequent_users_trimestre],\n",
    "    date_range=trimestres)"
   ]
  },
  {
   "cell_type": "code",
   "execution_count": 82,
   "metadata": {},
   "outputs": [
    {
     "data": {
      "text/plain": [
       "0    1.0\n",
       "1    2.0\n",
       "2    2.0\n",
       "3    2.0\n",
       "4    2.0\n",
       "5    1.0\n",
       "dtype: float64"
      ]
     },
     "execution_count": 82,
     "metadata": {},
     "output_type": "execute_result"
    }
   ],
   "source": [
    "user_semestre_interactions.loc[frequent_users_semestre].median(axis=0)"
   ]
  },
  {
   "cell_type": "code",
   "execution_count": 80,
   "metadata": {},
   "outputs": [
    {
     "data": {
      "image/png": "[encoded data removed]",
      "text/plain": [
       "<Figure size 432x720 with 1 Axes>"
      ]
     },
     "metadata": {},
     "output_type": "display_data"
    }
   ],
   "source": [
    "plot_interactions_per_qns(user_interactions=user_semestre_interactions.loc[frequent_users_semestre], date_range=semestres, type_of_range='semester')"
   ]
  },
  {
   "cell_type": "code",
   "execution_count": 83,
   "metadata": {},
   "outputs": [],
   "source": [
    "# these are the users that should be used in holdouts, and only their last interactions\n",
    "# BUT, there are users that do not appear in some intervals, and some have only one interaction\n",
    "user_trimestre_interactions\n",
    "user_semestre_interactions;"
   ]
  },
  {
   "cell_type": "code",
   "execution_count": null,
   "metadata": {},
   "outputs": [],
   "source": []
  },
  {
   "cell_type": "code",
   "execution_count": null,
   "metadata": {},
   "outputs": [],
   "source": []
  },
  {
   "cell_type": "code",
   "execution_count": null,
   "metadata": {},
   "outputs": [],
   "source": []
  },
  {
   "cell_type": "code",
   "execution_count": 13,
   "metadata": {},
   "outputs": [],
   "source": [
    "num_factors = 160\n",
    "num_iter = 8\n",
    "learn_rate = 0.1\n",
    "regularization = 0.4\n",
    "num_nodes = 8"
   ]
  },
  {
   "cell_type": "code",
   "execution_count": 14,
   "metadata": {},
   "outputs": [],
   "source": [
    "# transforma interações em objeto que contem mappings usuário-itens e item-usuários, contém também métodos de suporte.\n",
    "# recebe listas\n",
    "# stream = ImplicitData(data['UserID'].to_list(), data['ItemID'].to_list())\n",
    "stream = ImplicitData(data['UserID'], data['ItemID'])\n",
    "\n",
    "empty_stream = ImplicitData([], [])"
   ]
  },
  {
   "cell_type": "code",
   "execution_count": 15,
   "metadata": {},
   "outputs": [],
   "source": [
    "# O modelo não pode conter o stream, deve ser iniciado com uma lista vazia\n",
    "# Se o stream for passado, ao excluir itens conhecidos o recall é sempre 0. Ao permitir a recomendação de itens já vistos, o recall não é 0.\n",
    "model = ISGD(empty_stream, num_factors, num_iter, learn_rate = learn_rate, u_regularization = regularization, i_regularization = regularization, random_seed = 10)"
   ]
  },
  {
   "cell_type": "code",
   "execution_count": 16,
   "metadata": {},
   "outputs": [],
   "source": [
    "# criamos instancia de EvaluateAndStore para criar holdouts com o método EvaluateAndStore\n",
    "n_holdouts = int( data.shape[0]/n_iter_bucket )\n",
    "eval_movielens = EvaluateAndStore(model=model, data=stream, n_holdouts=n_holdouts, metrics=[\"Recall@N\"], N_recommendations=20, seed=42)"
   ]
  },
  {
   "cell_type": "code",
   "execution_count": 17,
   "metadata": {},
   "outputs": [
    {
     "name": "stdout",
     "output_type": "stream",
     "text": [
      "25 stored in 3\n",
      "25 used in training\n",
      "25 used in training\n",
      "25 used in training\n",
      "25 used in training\n",
      "25 used in training\n",
      "25 used in training\n",
      "25 used in training\n",
      "25 used in training\n",
      "25 used in training\n",
      "24 stored in 3\n",
      "25 used in training\n",
      "24 used in training\n",
      "24 used in training\n",
      "25 used in training\n",
      "24 used in training\n",
      "25 used in training\n",
      "25 used in training\n",
      "24 used in training\n",
      "25 used in training\n",
      "24 used in training\n",
      "25 used in training\n",
      "25 used in training\n",
      "25 used in training\n",
      "25 used in training\n",
      "25 stored in 3\n",
      "25 used in training\n",
      "25 used in training\n",
      "25 used in training\n",
      "25 stored in 3\n",
      "24 used in training\n",
      "24 used in training\n",
      "24 stored in 3\n",
      "24 used in training\n",
      "24 stored in 3\n",
      "24 used in training\n",
      "24 used in training\n",
      "25 used in training\n",
      "25 used in training\n",
      "24 used in training\n",
      "24 used in training\n",
      "24 used in training\n",
      "24 used in training\n",
      "24 used in training\n",
      "24 used in training\n",
      "22 used in training\n",
      "22 stored in 3\n",
      "22 used in training\n",
      "22 stored in 3\n",
      "24 stored in 3\n",
      "22 used in training\n",
      "24 used in training\n",
      "22 used in training\n",
      "24 used in training\n",
      "24 stored in 3\n",
      "24 used in training\n",
      "24 used in training\n",
      "24 used in training\n",
      "22 used in training\n",
      "22 used in training\n",
      "22 stored in 3\n",
      "24 used in training\n",
      "24 used in training\n",
      "22 used in training\n",
      "21 used in training\n",
      "21 used in training\n",
      "21 stored in 3\n",
      "21 used in training\n",
      "20 used in training\n",
      "20 used in training\n",
      "20 stored in 3\n",
      "20 stored in 3\n",
      "20 used in training\n",
      "20 used in training\n",
      "19 stored in 3\n",
      "19 used in training\n",
      "19 used in training\n",
      "19 used in training\n",
      "19 used in training\n",
      "19 used in training\n",
      "19 used in training\n",
      "19 used in training\n",
      "19 used in training\n",
      "19 used in training\n",
      "19 used in training\n",
      "19 used in training\n",
      "19 used in training\n",
      "19 used in training\n",
      "19 used in training\n",
      "19 used in training\n",
      "18 used in training\n",
      "18 used in training\n",
      "18 used in training\n",
      "18 used in training\n",
      "18 used in training\n",
      "18 stored in 3\n",
      "18 stored in 3\n",
      "18 used in training\n",
      "18 used in training\n",
      "18 used in training\n",
      "18 used in training\n",
      "18 used in training\n",
      "18 used in training\n",
      "18 used in training\n",
      "18 stored in 3\n",
      "18 used in training\n",
      "18 used in training\n",
      "18 used in training\n",
      "18 used in training\n",
      "18 used in training\n",
      "18 used in training\n",
      "18 stored in 3\n",
      "18 used in training\n",
      "18 used in training\n",
      "18 used in training\n",
      "18 used in training\n",
      "18 used in training\n",
      "18 used in training\n",
      "18 used in training\n",
      "18 used in training\n",
      "18 used in training\n",
      "18 used in training\n",
      "18 used in training\n",
      "18 used in training\n",
      "18 used in training\n",
      "18 used in training\n",
      "18 used in training\n",
      "18 used in training\n",
      "18 used in training\n",
      "18 used in training\n",
      "18 used in training\n",
      "18 used in training\n",
      "18 used in training\n",
      "18 used in training\n",
      "18 used in training\n",
      "18 used in training\n",
      "18 used in training\n",
      "18 used in training\n",
      "18 stored in 3\n",
      "18 stored in 3\n",
      "18 used in training\n",
      "18 used in training\n",
      "18 used in training\n",
      "18 used in training\n",
      "18 used in training\n",
      "18 used in training\n",
      "18 used in training\n",
      "18 used in training\n",
      "18 used in training\n",
      "18 used in training\n",
      "18 used in training\n",
      "18 used in training\n",
      "18 used in training\n",
      "18 used in training\n",
      "18 used in training\n",
      "18 used in training\n",
      "18 stored in 3\n",
      "18 used in training\n",
      "18 used in training\n",
      "18 used in training\n",
      "18 used in training\n",
      "18 used in training\n",
      "18 used in training\n",
      "18 used in training\n",
      "18 used in training\n",
      "18 used in training\n",
      "18 stored in 3\n",
      "18 used in training\n",
      "18 used in training\n",
      "18 used in training\n",
      "18 used in training\n",
      "18 used in training\n",
      "18 used in training\n",
      "18 used in training\n",
      "18 used in training\n",
      "18 stored in 3\n",
      "18 used in training\n",
      "18 used in training\n",
      "18 used in training\n",
      "18 used in training\n",
      "18 used in training\n",
      "18 used in training\n",
      "18 used in training\n",
      "18 used in training\n",
      "18 used in training\n",
      "18 used in training\n",
      "18 used in training\n",
      "18 used in training\n",
      "18 used in training\n",
      "18 used in training\n",
      "18 used in training\n",
      "18 used in training\n",
      "18 used in training\n",
      "18 used in training\n",
      "18 used in training\n",
      "17 used in training\n",
      "17 used in training\n",
      "17 used in training\n",
      "17 used in training\n",
      "17 used in training\n",
      "17 used in training\n",
      "17 used in training\n",
      "17 used in training\n",
      "17 used in training\n",
      "17 used in training\n",
      "17 used in training\n",
      "17 used in training\n",
      "17 used in training\n",
      "17 used in training\n",
      "17 used in training\n",
      "17 used in training\n",
      "17 used in training\n",
      "17 used in training\n",
      "17 stored in 3\n",
      "17 used in training\n",
      "17 used in training\n",
      "17 used in training\n",
      "17 stored in 3\n",
      "17 used in training\n",
      "17 used in training\n",
      "17 used in training\n",
      "17 used in training\n",
      "17 stored in 3\n",
      "17 used in training\n",
      "17 used in training\n",
      "17 used in training\n",
      "17 stored in 3\n",
      "17 used in training\n",
      "17 used in training\n",
      "17 used in training\n",
      "17 used in training\n",
      "17 used in training\n",
      "17 used in training\n",
      "17 used in training\n",
      "17 used in training\n",
      "17 used in training\n",
      "17 used in training\n",
      "17 used in training\n",
      "17 used in training\n",
      "17 used in training\n",
      "17 used in training\n",
      "17 used in training\n",
      "17 used in training\n",
      "17 stored in 3\n",
      "17 used in training\n",
      "17 used in training\n",
      "17 used in training\n",
      "17 used in training\n",
      "17 used in training\n",
      "17 used in training\n",
      "17 used in training\n",
      "17 used in training\n",
      "17 stored in 3\n",
      "17 used in training\n",
      "17 used in training\n",
      "17 used in training\n",
      "17 used in training\n",
      "17 used in training\n",
      "17 used in training\n",
      "17 used in training\n",
      "17 used in training\n",
      "17 used in training\n",
      "17 used in training\n",
      "17 used in training\n",
      "16 used in training\n",
      "16 used in training\n",
      "16 used in training\n",
      "16 used in training\n",
      "16 used in training\n",
      "15 used in training\n",
      "15 used in training\n",
      "15 used in training\n",
      "14 used in training\n",
      "14 used in training\n",
      "14 used in training\n",
      "14 used in training\n",
      "14 used in training\n",
      "14 used in training\n",
      "13 used in training\n",
      "13 used in training\n",
      "13 used in training\n",
      "13 used in training\n",
      "13 used in training\n",
      "13 stored in 3\n",
      "13 used in training\n",
      "13 used in training\n",
      "13 used in training\n",
      "13 used in training\n",
      "13 used in training\n",
      "12 used in training\n",
      "12 stored in 3\n",
      "12 used in training\n",
      "11 used in training\n",
      "11 used in training\n",
      "11 used in training\n",
      "11 used in training\n",
      "11 used in training\n",
      "11 used in training\n",
      "11 used in training\n",
      "11 used in training\n",
      "11 used in training\n",
      "11 used in training\n",
      "11 used in training\n",
      "11 used in training\n",
      "11 used in training\n",
      "11 used in training\n",
      "11 used in training\n",
      "11 used in training\n",
      "11 used in training\n",
      "12 used in training\n",
      "12 used in training\n",
      "12 used in training\n",
      "12 used in training\n",
      "12 used in training\n",
      "11 used in training\n",
      "11 used in training\n",
      "11 used in training\n",
      "11 stored in 3\n",
      "10 used in training\n",
      "10 used in training\n",
      "10 stored in 3\n",
      "10 used in training\n",
      "10 used in training\n",
      "9 used in training\n",
      "9 used in training\n",
      "9 used in training\n",
      "10 used in training\n",
      "10 used in training\n",
      "10 used in training\n",
      "10 used in training\n",
      "10 used in training\n",
      "10 used in training\n",
      "10 used in training\n",
      "10 used in training\n",
      "10 used in training\n",
      "10 used in training\n",
      "10 stored in 3\n",
      "9 used in training\n",
      "9 used in training\n",
      "10 used in training\n",
      "10 used in training\n",
      "10 used in training\n",
      "9 stored in 3\n",
      "9 stored in 3\n",
      "9 used in training\n",
      "9 stored in 3\n",
      "10 used in training\n",
      "9 used in training\n",
      "9 used in training\n",
      "10 stored in 3\n",
      "10 used in training\n",
      "9 used in training\n",
      "9 used in training\n",
      "9 used in training\n",
      "10 used in training\n",
      "9 used in training\n",
      "10 used in training\n",
      "10 stored in 3\n",
      "10 used in training\n",
      "10 used in training\n",
      "10 used in training\n",
      "10 used in training\n",
      "10 used in training\n",
      "10 used in training\n",
      "9 used in training\n",
      "10 used in training\n",
      "10 used in training\n",
      "10 used in training\n",
      "10 used in training\n",
      "10 used in training\n",
      "9 used in training\n",
      "10 used in training\n",
      "10 stored in 3\n",
      "10 used in training\n",
      "10 used in training\n",
      "10 used in training\n",
      "10 used in training\n",
      "10 used in training\n",
      "10 used in training\n",
      "10 used in training\n",
      "10 used in training\n",
      "10 used in training\n",
      "10 used in training\n",
      "10 used in training\n",
      "10 used in training\n",
      "10 used in training\n",
      "10 used in training\n",
      "10 used in training\n",
      "10 used in training\n",
      "10 used in training\n",
      "10 used in training\n",
      "10 stored in 3\n",
      "10 used in training\n",
      "10 used in training\n",
      "10 used in training\n",
      "10 stored in 3\n",
      "10 used in training\n",
      "10 used in training\n",
      "10 used in training\n",
      "10 used in training\n",
      "10 used in training\n",
      "10 used in training\n",
      "10 used in training\n",
      "10 used in training\n",
      "10 used in training\n",
      "10 used in training\n",
      "10 used in training\n",
      "10 used in training\n",
      "10 used in training\n",
      "10 used in training\n",
      "10 used in training\n",
      "10 used in training\n",
      "10 used in training\n",
      "10 used in training\n",
      "10 used in training\n",
      "10 stored in 3\n",
      "10 used in training\n",
      "10 used in training\n",
      "8 used in training\n",
      "8 used in training\n",
      "10 used in training\n",
      "10 used in training\n",
      "10 used in training\n",
      "8 used in training\n",
      "10 stored in 3\n",
      "10 used in training\n",
      "8 used in training\n",
      "8 used in training\n",
      "8 used in training\n",
      "8 stored in 3\n",
      "10 stored in 3\n",
      "10 used in training\n",
      "10 used in training\n",
      "8 used in training\n",
      "8 stored in 3\n",
      "8 used in training\n",
      "8 used in training\n",
      "8 used in training\n",
      "10 used in training\n",
      "8 stored in 3\n",
      "8 used in training\n",
      "8 stored in 3\n",
      "10 used in training\n",
      "8 used in training\n",
      "8 stored in 3\n",
      "10 used in training\n",
      "8 used in training\n",
      "8 stored in 3\n",
      "8 used in training\n",
      "8 used in training\n",
      "10 used in training\n",
      "10 used in training\n",
      "10 used in training\n",
      "8 stored in 3\n",
      "8 stored in 3\n",
      "8 used in training\n",
      "10 used in training\n",
      "10 used in training\n",
      "10 stored in 3\n",
      "8 used in training\n",
      "8 stored in 3\n",
      "8 stored in 3\n",
      "8 used in training\n",
      "8 used in training\n",
      "8 used in training\n",
      "8 used in training\n",
      "8 used in training\n",
      "8 used in training\n",
      "10 used in training\n",
      "8 used in training\n",
      "8 used in training\n",
      "8 stored in 3\n",
      "8 used in training\n",
      "8 used in training\n",
      "8 used in training\n",
      "8 used in training\n",
      "8 used in training\n",
      "8 used in training\n",
      "8 used in training\n",
      "8 used in training\n",
      "8 used in training\n",
      "7 used in training\n",
      "7 used in training\n",
      "7 used in training\n",
      "7 used in training\n",
      "7 used in training\n",
      "7 stored in 3\n",
      "7 used in training\n",
      "7 used in training\n",
      "7 used in training\n",
      "7 used in training\n",
      "7 stored in 3\n",
      "7 used in training\n",
      "7 used in training\n",
      "7 used in training\n",
      "7 used in training\n",
      "6 used in training\n",
      "6 used in training\n",
      "6 used in training\n",
      "6 used in training\n",
      "6 used in training\n",
      "6 used in training\n",
      "6 used in training\n",
      "6 used in training\n",
      "6 used in training\n",
      "6 used in training\n",
      "6 used in training\n",
      "6 used in training\n",
      "6 used in training\n",
      "6 used in training\n",
      "6 used in training\n",
      "6 used in training\n",
      "6 used in training\n",
      "5 stored in 3\n",
      "5 stored in 3\n",
      "5 used in training\n",
      "5 used in training\n",
      "5 used in training\n",
      "5 stored in 3\n",
      "5 used in training\n",
      "5 used in training\n",
      "5 used in training\n",
      "5 used in training\n",
      "5 used in training\n",
      "5 used in training\n",
      "5 used in training\n",
      "5 used in training\n",
      "5 stored in 3\n",
      "5 used in training\n",
      "5 used in training\n",
      "5 stored in 3\n",
      "5 used in training\n",
      "5 used in training\n",
      "5 used in training\n",
      "4 used in training\n",
      "4 used in training\n",
      "4 used in training\n",
      "4 used in training\n",
      "4 used in training\n",
      "4 stored in 3\n",
      "4 used in training\n",
      "4 used in training\n",
      "4 used in training\n",
      "4 used in training\n",
      "3 used in training\n",
      "3 used in training\n",
      "3 stored in 3\n",
      "3 used in training\n",
      "3 used in training\n",
      "3 used in training\n",
      "3 stored in 3\n",
      "3 used in training\n",
      "3 used in training\n",
      "3 used in training\n",
      "3 used in training\n",
      "2 used in training\n",
      "3 used in training\n",
      "3 used in training\n",
      "2 used in training\n",
      "2 used in training\n",
      "2 used in training\n",
      "3 used in training\n",
      "2 stored in 3\n",
      "3 used in training\n",
      "2 used in training\n",
      "2 used in training\n",
      "2 used in training\n",
      "2 used in training\n",
      "2 stored in 3\n",
      "2 used in training\n",
      "2 used in training\n",
      "2 used in training\n",
      "2 used in training\n",
      "2 stored in 3\n",
      "2 used in training\n",
      "2 used in training\n",
      "2 stored in 3\n",
      "2 used in training\n",
      "2 stored in 3\n",
      "2 used in training\n",
      "2 used in training\n",
      "2 used in training\n",
      "2 stored in 3\n",
      "2 used in training\n",
      "2 used in training\n",
      "2 used in training\n",
      "2 used in training\n",
      "19 used in training\n",
      "19 used in training\n",
      "19 stored in 3\n",
      "19 used in training\n",
      "19 used in training\n",
      "2 used in training\n",
      "19 used in training\n",
      "2 used in training\n",
      "2 used in training\n",
      "2 used in training\n",
      "19 stored in 3\n",
      "2 used in training\n",
      "19 used in training\n",
      "1 used in training\n",
      "1 used in training\n",
      "2 used in training\n",
      "19 used in training\n",
      "1 used in training\n",
      "19 used in training\n",
      "1 used in training\n",
      "1 used in training\n",
      "1 used in training\n",
      "1 used in training\n",
      "1 used in training\n",
      "1 used in training\n",
      "1 used in training\n",
      "1 used in training\n",
      "1 used in training\n",
      "1 used in training\n",
      "15 used in training\n",
      "23 used in training\n",
      "23 used in training\n",
      "23 used in training\n",
      "23 used in training\n",
      "23 used in training\n",
      "23 stored in 3\n",
      "23 used in training\n",
      "23 used in training\n",
      "23 used in training\n",
      "23 used in training\n",
      "23 stored in 3\n",
      "23 used in training\n",
      "23 used in training\n",
      "23 used in training\n",
      "23 used in training\n",
      "23 used in training\n",
      "23 used in training\n",
      "23 stored in 3\n",
      "23 used in training\n",
      "23 stored in 3\n",
      "23 used in training\n",
      "23 used in training\n",
      "23 used in training\n",
      "23 used in training\n",
      "23 used in training\n",
      "23 used in training\n",
      "23 used in training\n",
      "23 used in training\n",
      "23 used in training\n",
      "23 used in training\n",
      "23 used in training\n",
      "23 used in training\n",
      "23 used in training\n",
      "23 used in training\n",
      "23 used in training\n",
      "23 stored in 3\n",
      "19 used in training\n",
      "19 used in training\n",
      "19 used in training\n",
      "19 used in training\n",
      "19 used in training\n",
      "19 stored in 3\n",
      "19 used in training\n",
      "19 used in training\n",
      "19 stored in 3\n",
      "19 used in training\n",
      "19 stored in 3\n",
      "19 used in training\n",
      "19 used in training\n",
      "19 used in training\n",
      "19 used in training\n",
      "19 used in training\n",
      "19 used in training\n",
      "19 used in training\n",
      "1 used in training\n",
      "1 used in training\n",
      "1 used in training\n",
      "1 used in training\n",
      "1 used in training\n",
      "19 stored in 3\n",
      "11 used in training\n",
      "11 used in training\n",
      "11 used in training\n",
      "11 used in training\n",
      "11 used in training\n",
      "11 used in training\n",
      "11 used in training\n",
      "11 stored in 3\n",
      "10 used in training\n",
      "10 used in training\n",
      "10 used in training\n",
      "10 stored in 3\n",
      "10 used in training\n",
      "10 used in training\n",
      "10 used in training\n",
      "10 used in training\n",
      "10 used in training\n",
      "10 used in training\n",
      "10 used in training\n",
      "10 used in training\n",
      "10 used in training\n",
      "10 stored in 3\n",
      "10 used in training\n",
      "10 used in training\n",
      "10 used in training\n",
      "10 used in training\n",
      "10 used in training\n",
      "10 used in training\n",
      "10 used in training\n",
      "10 used in training\n",
      "10 used in training\n",
      "10 stored in 3\n",
      "10 used in training\n",
      "10 used in training\n",
      "10 used in training\n",
      "10 used in training\n",
      "10 used in training\n",
      "10 used in training\n",
      "10 used in training\n",
      "10 used in training\n",
      "10 used in training\n",
      "10 used in training\n",
      "10 used in training\n",
      "10 used in training\n",
      "19 used in training\n",
      "19 used in training\n",
      "19 used in training\n",
      "10 used in training\n",
      "10 used in training\n",
      "10 used in training\n",
      "10 used in training\n",
      "10 used in training\n",
      "10 used in training\n",
      "10 used in training\n",
      "10 stored in 3\n",
      "10 used in training\n",
      "10 used in training\n",
      "10 used in training\n",
      "10 used in training\n",
      "10 used in training\n",
      "10 used in training\n",
      "10 used in training\n",
      "10 used in training\n",
      "10 used in training\n",
      "19 used in training\n",
      "19 used in training\n",
      "19 used in training\n",
      "19 stored in 3\n",
      "19 stored in 3\n",
      "19 used in training\n",
      "24 used in training\n",
      "23 stored in 3\n",
      "23 used in training\n",
      "23 used in training\n",
      "23 stored in 3\n",
      "23 used in training\n",
      "19 used in training\n",
      "20 used in training\n",
      "20 used in training\n"
     ]
    }
   ],
   "source": [
    "%%time\n",
    "# interações de 0 a 100 são usadas para pre treino. \n",
    "# count define numero de interações a serem usadas.\n",
    "# holdouts e checkpoints são \n",
    "# store_only - somente guarda holdouts, não faz avaliação prequencial.\n",
    "# default_user - Somente usado quando store_only = False durante avaliação prequencial.\n",
    "_ = eval_movielens.EvaluateAndStore(start_eval=0, count=stream.size, store_only=True) # 1:40 min"
   ]
  },
  {
   "cell_type": "code",
   "execution_count": 32,
   "metadata": {},
   "outputs": [
    {
     "data": {
      "image/png": "[encoded data removed]",
      "text/plain": [
       "<Figure size 720x360 with 1 Axes>"
      ]
     },
     "metadata": {},
     "output_type": "display_data"
    }
   ],
   "source": [
    "plot_bucket_size(eval_object=eval_movielens, dataset_name='movielens', filename='movielens_bucket_size.png')"
   ]
  },
  {
   "cell_type": "code",
   "execution_count": 33,
   "metadata": {},
   "outputs": [
    {
     "data": {
      "image/png": "[encoded data removed]",
      "text/plain": [
       "<Figure size 720x360 with 1 Axes>"
      ]
     },
     "metadata": {},
     "output_type": "display_data"
    }
   ],
   "source": [
    "plot_n_users_per_bucket(eval_object=eval_movielens, dataset_name='movielens', filename='movielens_user_per_bucket.png')"
   ]
  },
  {
   "cell_type": "code",
   "execution_count": 57,
   "metadata": {},
   "outputs": [],
   "source": [
    "movielens_ubm = get_bucket_map(eval_object=eval_movielens)\n",
    "movielens_median_user_presence = median_user_presence_per_bucket(eval_object=eval_movielens, user_bucket_map=movielens_ubm)\n",
    "print( movielens_median_user_presence )\n",
    "store_user_presence(dataset_name='movielens', median_user_presence=movielens_median_user_presence)"
   ]
  },
  {
   "cell_type": "code",
   "execution_count": 55,
   "metadata": {},
   "outputs": [
    {
     "data": {
      "text/plain": [
       "['output/joblib_bucket_info_dump/movielens_ubm']"
      ]
     },
     "execution_count": 55,
     "metadata": {},
     "output_type": "execute_result"
    }
   ],
   "source": [
    "joblib.dump(movielens_ubm, 'output/joblib_bucket_info_dump/movielens_ubm', compress=True)"
   ]
  },
  {
   "cell_type": "markdown",
   "metadata": {},
   "source": [
    "___"
   ]
  },
  {
   "cell_type": "code",
   "execution_count": null,
   "metadata": {},
   "outputs": [],
   "source": [
    "data = pd.read_csv(\"../datasets/ymusic_gte90_6kusers.tsv\",\"\\t\")\n",
    "stream = ImplicitData(data['user_id'],data['item_id'])\n",
    "empty_stream = ImplicitData([], [])"
   ]
  },
  {
   "cell_type": "code",
   "execution_count": null,
   "metadata": {},
   "outputs": [],
   "source": [
    "num_factors = 200\n",
    "num_iter = 9\n",
    "learn_rate = 0.25\n",
    "regularization = 0.45\n",
    "num_nodes = 16"
   ]
  },
  {
   "cell_type": "code",
   "execution_count": null,
   "metadata": {},
   "outputs": [],
   "source": [
    "model = ISGD(empty_stream, num_factors, num_iter, learn_rate = learn_rate, u_regularization = regularization, i_regularization = regularization, random_seed = 10)"
   ]
  },
  {
   "cell_type": "code",
   "execution_count": null,
   "metadata": {},
   "outputs": [],
   "source": [
    "n_holdouts = int( data.shape[0]/n_iter_bucket )\n",
    "eval_ymusic = EvaluateAndStore(model=model, data=stream, n_holdouts=n_holdouts, metrics = [\"Recall@N\"], N_recommendations=20, seed=42)"
   ]
  },
  {
   "cell_type": "code",
   "execution_count": null,
   "metadata": {},
   "outputs": [],
   "source": [
    "_=eval_ymusic.EvaluateAndStore(start_eval=0, count=stream.size, store_only=True) # 42 min"
   ]
  },
  {
   "cell_type": "code",
   "execution_count": null,
   "metadata": {},
   "outputs": [],
   "source": [
    "joblib.dump(eval_ymusic, 'output/joblib_bucket_info_dump/eval_ymusic', compress=True)"
   ]
  },
  {
   "cell_type": "markdown",
   "metadata": {},
   "source": [
    "___\n",
    "### Lastfm"
   ]
  },
  {
   "cell_type": "code",
   "execution_count": null,
   "metadata": {},
   "outputs": [],
   "source": [
    "# importa dataset 'palco playlists'\n",
    "data = pd.read_csv(\"../datasets/lastfm_50u.tsv\",\"\\t\")\n",
    "\n",
    "# transforma interações em objeto que contem mappings usuário-itens e item-usuários, contém também métodos de suporte.\n",
    "# recebe listas\n",
    "stream = ImplicitData(data['user_id'], data['item_id'])\n",
    "\n",
    "empty_stream = ImplicitData([], [])"
   ]
  },
  {
   "cell_type": "code",
   "execution_count": null,
   "metadata": {},
   "outputs": [],
   "source": [
    "num_factors = 160\n",
    "num_iter = 4\n",
    "learn_rate = 0.5\n",
    "regularization = 0.4\n",
    "num_nodes = 8"
   ]
  },
  {
   "cell_type": "code",
   "execution_count": null,
   "metadata": {},
   "outputs": [],
   "source": [
    "# O modelo não pode conter o stream, deve ser iniciado com uma lista vazia\n",
    "# Se o stream for passado, ao excluir itens conhecidos o recall é sempre 0. Ao permitir a recomendação de itens já vistos, o recall não é 0.\n",
    "model = ISGD(empty_stream, num_factors, num_iter, learn_rate = learn_rate, u_regularization = regularization, i_regularization = regularization, random_seed = 10)"
   ]
  },
  {
   "cell_type": "code",
   "execution_count": null,
   "metadata": {},
   "outputs": [],
   "source": [
    "n_holdouts = int( data.shape[0]/n_iter_bucket )\n",
    "eval_lastfm = EvaluateAndStore(model=model, data=stream, n_holdouts=n_holdouts, metrics = [\"Recall@N\"], N_recommendations=20, seed=42)"
   ]
  },
  {
   "cell_type": "code",
   "execution_count": null,
   "metadata": {},
   "outputs": [],
   "source": [
    "_=eval_lastfm.EvaluateAndStore(start_eval=0, count=stream.size, store_only=True) # 441 min"
   ]
  },
  {
   "cell_type": "code",
   "execution_count": null,
   "metadata": {},
   "outputs": [],
   "source": [
    "joblib.dump(eval_lastfm, 'output/joblib_bucket_info_dump/eval_lastfm', compress=True)"
   ]
  },
  {
   "cell_type": "markdown",
   "metadata": {},
   "source": [
    "# Evaluation"
   ]
  },
  {
   "cell_type": "code",
   "execution_count": null,
   "metadata": {},
   "outputs": [],
   "source": [
    "# def plot_n_users_per_bucket(eval_object:EvaluateAndStore, dataset_name:str, filename:str=None):\n",
    "#     n_users = len( eval_object.data.userset )\n",
    "#     n_users_bucket = pd.Series( [len( bucket.userset ) for bucket in eval_object.holdouts] )\n",
    "#     n_users_bucket = n_users_bucket.reset_index()\n",
    "#     n_users_bucket.columns = ['Bucket', 'N_users']\n",
    "#     n_users_bucket['Bucket'] = n_users_bucket['Bucket']+1\n",
    "#     plt.figure(figsize=(10,5))\n",
    "#     sns.barplot(x='Bucket', y='N_users', data=n_users_bucket, color='b', label='users per bucket')\n",
    "#     sns.lineplot(data=np.repeat(n_users, n_users_bucket.shape[0]), label='total users', color='orange')\n",
    "#     plt.title(f'Users per bucket - {dataset_name}');\n",
    "#     if filename:\n",
    "#         plt.savefig(f'images/user_bucket_analysis/{filename}')"
   ]
  },
  {
   "cell_type": "code",
   "execution_count": null,
   "metadata": {},
   "outputs": [
    {
     "data": {
      "image/png": "[encoded data removed]",
      "text/plain": [
       "<Figure size 720x360 with 1 Axes>"
      ]
     },
     "metadata": {},
     "output_type": "display_data"
    }
   ],
   "source": []
  },
  {
   "cell_type": "code",
   "execution_count": null,
   "metadata": {},
   "outputs": [],
   "source": []
  },
  {
   "cell_type": "code",
   "execution_count": null,
   "metadata": {},
   "outputs": [],
   "source": []
  },
  {
   "cell_type": "code",
   "execution_count": null,
   "metadata": {},
   "outputs": [],
   "source": []
  },
  {
   "cell_type": "code",
   "execution_count": 140,
   "metadata": {},
   "outputs": [
    {
     "data": {
      "text/plain": [
       "14.0"
      ]
     },
     "execution_count": 140,
     "metadata": {},
     "output_type": "execute_result"
    }
   ],
   "source": []
  },
  {
   "cell_type": "code",
   "execution_count": null,
   "metadata": {},
   "outputs": [],
   "source": []
  },
  {
   "cell_type": "code",
   "execution_count": null,
   "metadata": {},
   "outputs": [],
   "source": []
  },
  {
   "cell_type": "code",
   "execution_count": 97,
   "metadata": {},
   "outputs": [
    {
     "data": {
      "text/plain": [
       "[array(['user_000174', 'user_000337', 'user_000407', 'user_000707',\n",
       "        'user_000709', 'user_000751', 'user_000957', 'user_000984',\n",
       "        'user_000986'], dtype='<U11'),\n",
       " array(['user_000019', 'user_000033', 'user_000174', 'user_000249',\n",
       "        'user_000262', 'user_000267', 'user_000337', 'user_000390',\n",
       "        'user_000407', 'user_000707', 'user_000709', 'user_000751',\n",
       "        'user_000807', 'user_000882', 'user_000912', 'user_000957',\n",
       "        'user_000984', 'user_000986'], dtype='<U11'),\n",
       " array(['user_000019', 'user_000033', 'user_000174', 'user_000249',\n",
       "        'user_000262', 'user_000337', 'user_000374', 'user_000390',\n",
       "        'user_000407', 'user_000707', 'user_000709', 'user_000751',\n",
       "        'user_000767', 'user_000807', 'user_000882', 'user_000912',\n",
       "        'user_000957', 'user_000984', 'user_000986'], dtype='<U11'),\n",
       " array(['user_000019', 'user_000033', 'user_000174', 'user_000249',\n",
       "        'user_000262', 'user_000267', 'user_000330', 'user_000337',\n",
       "        'user_000374', 'user_000390', 'user_000407', 'user_000707',\n",
       "        'user_000709', 'user_000751', 'user_000767', 'user_000807',\n",
       "        'user_000882', 'user_000912', 'user_000957', 'user_000984',\n",
       "        'user_000986'], dtype='<U11'),\n",
       " array(['user_000019', 'user_000033', 'user_000141', 'user_000174',\n",
       "        'user_000249', 'user_000262', 'user_000267', 'user_000330',\n",
       "        'user_000337', 'user_000374', 'user_000390', 'user_000407',\n",
       "        'user_000707', 'user_000709', 'user_000751', 'user_000767',\n",
       "        'user_000802', 'user_000807', 'user_000882', 'user_000912',\n",
       "        'user_000957', 'user_000984', 'user_000986'], dtype='<U11'),\n",
       " array(['user_000001', 'user_000019', 'user_000033', 'user_000141',\n",
       "        'user_000174', 'user_000202', 'user_000249', 'user_000262',\n",
       "        'user_000267', 'user_000330', 'user_000337', 'user_000374',\n",
       "        'user_000390', 'user_000407', 'user_000415', 'user_000709',\n",
       "        'user_000751', 'user_000767', 'user_000802', 'user_000807',\n",
       "        'user_000882', 'user_000912', 'user_000957', 'user_000984',\n",
       "        'user_000986'], dtype='<U11'),\n",
       " array(['user_000001', 'user_000019', 'user_000033', 'user_000141',\n",
       "        'user_000174', 'user_000202', 'user_000249', 'user_000262',\n",
       "        'user_000267', 'user_000330', 'user_000337', 'user_000374',\n",
       "        'user_000390', 'user_000407', 'user_000415', 'user_000707',\n",
       "        'user_000709', 'user_000751', 'user_000767', 'user_000802',\n",
       "        'user_000807', 'user_000880', 'user_000882', 'user_000912',\n",
       "        'user_000957', 'user_000986'], dtype='<U11'),\n",
       " array(['user_000001', 'user_000019', 'user_000033', 'user_000141',\n",
       "        'user_000174', 'user_000202', 'user_000249', 'user_000262',\n",
       "        'user_000267', 'user_000330', 'user_000337', 'user_000374',\n",
       "        'user_000390', 'user_000407', 'user_000415', 'user_000453',\n",
       "        'user_000707', 'user_000709', 'user_000751', 'user_000767',\n",
       "        'user_000790', 'user_000802', 'user_000807', 'user_000880',\n",
       "        'user_000882', 'user_000912', 'user_000957', 'user_000986'],\n",
       "       dtype='<U11'),\n",
       " array(['user_000019', 'user_000033', 'user_000141', 'user_000174',\n",
       "        'user_000202', 'user_000249', 'user_000262', 'user_000267',\n",
       "        'user_000330', 'user_000333', 'user_000337', 'user_000374',\n",
       "        'user_000407', 'user_000415', 'user_000453', 'user_000707',\n",
       "        'user_000709', 'user_000751', 'user_000767', 'user_000787',\n",
       "        'user_000790', 'user_000802', 'user_000807', 'user_000880',\n",
       "        'user_000882', 'user_000912', 'user_000935', 'user_000957',\n",
       "        'user_000986'], dtype='<U11'),\n",
       " array(['user_000019', 'user_000033', 'user_000091', 'user_000141',\n",
       "        'user_000174', 'user_000202', 'user_000249', 'user_000262',\n",
       "        'user_000267', 'user_000330', 'user_000333', 'user_000374',\n",
       "        'user_000407', 'user_000415', 'user_000453', 'user_000707',\n",
       "        'user_000709', 'user_000751', 'user_000767', 'user_000787',\n",
       "        'user_000790', 'user_000802', 'user_000807', 'user_000880',\n",
       "        'user_000882', 'user_000912', 'user_000935', 'user_000957',\n",
       "        'user_000974', 'user_000986'], dtype='<U11'),\n",
       " array(['user_000019', 'user_000033', 'user_000091', 'user_000141',\n",
       "        'user_000174', 'user_000202', 'user_000249', 'user_000262',\n",
       "        'user_000267', 'user_000330', 'user_000333', 'user_000374',\n",
       "        'user_000407', 'user_000415', 'user_000453', 'user_000707',\n",
       "        'user_000709', 'user_000716', 'user_000751', 'user_000767',\n",
       "        'user_000787', 'user_000790', 'user_000802', 'user_000807',\n",
       "        'user_000882', 'user_000912', 'user_000935', 'user_000957',\n",
       "        'user_000974', 'user_000986'], dtype='<U11'),\n",
       " array(['user_000019', 'user_000033', 'user_000091', 'user_000141',\n",
       "        'user_000174', 'user_000202', 'user_000249', 'user_000262',\n",
       "        'user_000267', 'user_000319', 'user_000330', 'user_000337',\n",
       "        'user_000374', 'user_000407', 'user_000415', 'user_000453',\n",
       "        'user_000707', 'user_000709', 'user_000716', 'user_000751',\n",
       "        'user_000767', 'user_000787', 'user_000790', 'user_000802',\n",
       "        'user_000807', 'user_000880', 'user_000882', 'user_000912',\n",
       "        'user_000935', 'user_000957', 'user_000974', 'user_000986'],\n",
       "       dtype='<U11'),\n",
       " array(['user_000001', 'user_000019', 'user_000033', 'user_000091',\n",
       "        'user_000141', 'user_000174', 'user_000202', 'user_000249',\n",
       "        'user_000262', 'user_000319', 'user_000329', 'user_000337',\n",
       "        'user_000350', 'user_000374', 'user_000407', 'user_000415',\n",
       "        'user_000453', 'user_000707', 'user_000709', 'user_000716',\n",
       "        'user_000751', 'user_000767', 'user_000787', 'user_000790',\n",
       "        'user_000802', 'user_000807', 'user_000874', 'user_000880',\n",
       "        'user_000882', 'user_000912', 'user_000935', 'user_000957'],\n",
       "       dtype='<U11'),\n",
       " array(['user_000001', 'user_000019', 'user_000033', 'user_000091',\n",
       "        'user_000141', 'user_000174', 'user_000202', 'user_000249',\n",
       "        'user_000262', 'user_000267', 'user_000319', 'user_000329',\n",
       "        'user_000337', 'user_000350', 'user_000374', 'user_000407',\n",
       "        'user_000415', 'user_000453', 'user_000540', 'user_000707',\n",
       "        'user_000709', 'user_000716', 'user_000751', 'user_000767',\n",
       "        'user_000787', 'user_000790', 'user_000802', 'user_000807',\n",
       "        'user_000874', 'user_000880', 'user_000882', 'user_000912',\n",
       "        'user_000935', 'user_000957', 'user_000986'], dtype='<U11'),\n",
       " array(['user_000001', 'user_000019', 'user_000033', 'user_000091',\n",
       "        'user_000141', 'user_000174', 'user_000202', 'user_000249',\n",
       "        'user_000262', 'user_000319', 'user_000329', 'user_000337',\n",
       "        'user_000350', 'user_000407', 'user_000415', 'user_000453',\n",
       "        'user_000540', 'user_000707', 'user_000709', 'user_000751',\n",
       "        'user_000767', 'user_000787', 'user_000790', 'user_000802',\n",
       "        'user_000807', 'user_000872', 'user_000874', 'user_000880',\n",
       "        'user_000882', 'user_000912', 'user_000935', 'user_000957',\n",
       "        'user_000974', 'user_000986'], dtype='<U11'),\n",
       " array(['user_000001', 'user_000019', 'user_000033', 'user_000091',\n",
       "        'user_000141', 'user_000174', 'user_000202', 'user_000249',\n",
       "        'user_000262', 'user_000319', 'user_000329', 'user_000337',\n",
       "        'user_000350', 'user_000374', 'user_000407', 'user_000415',\n",
       "        'user_000453', 'user_000540', 'user_000707', 'user_000709',\n",
       "        'user_000716', 'user_000751', 'user_000767', 'user_000787',\n",
       "        'user_000790', 'user_000802', 'user_000807', 'user_000872',\n",
       "        'user_000874', 'user_000880', 'user_000882', 'user_000912',\n",
       "        'user_000935', 'user_000957', 'user_000974', 'user_000986'],\n",
       "       dtype='<U11'),\n",
       " array(['user_000001', 'user_000019', 'user_000033', 'user_000079',\n",
       "        'user_000091', 'user_000141', 'user_000156', 'user_000174',\n",
       "        'user_000202', 'user_000204', 'user_000249', 'user_000262',\n",
       "        'user_000319', 'user_000329', 'user_000350', 'user_000374',\n",
       "        'user_000407', 'user_000415', 'user_000453', 'user_000540',\n",
       "        'user_000707', 'user_000709', 'user_000716', 'user_000751',\n",
       "        'user_000767', 'user_000787', 'user_000790', 'user_000802',\n",
       "        'user_000807', 'user_000872', 'user_000874', 'user_000882',\n",
       "        'user_000912', 'user_000935', 'user_000957', 'user_000974',\n",
       "        'user_000986'], dtype='<U11'),\n",
       " array(['user_000001', 'user_000019', 'user_000033', 'user_000079',\n",
       "        'user_000091', 'user_000141', 'user_000156', 'user_000174',\n",
       "        'user_000202', 'user_000204', 'user_000228', 'user_000249',\n",
       "        'user_000262', 'user_000319', 'user_000329', 'user_000350',\n",
       "        'user_000374', 'user_000407', 'user_000415', 'user_000453',\n",
       "        'user_000540', 'user_000707', 'user_000709', 'user_000716',\n",
       "        'user_000751', 'user_000767', 'user_000787', 'user_000790',\n",
       "        'user_000802', 'user_000807', 'user_000872', 'user_000874',\n",
       "        'user_000882', 'user_000912', 'user_000935', 'user_000957',\n",
       "        'user_000974', 'user_000986'], dtype='<U11'),\n",
       " array(['user_000001', 'user_000019', 'user_000033', 'user_000079',\n",
       "        'user_000091', 'user_000141', 'user_000156', 'user_000174',\n",
       "        'user_000202', 'user_000228', 'user_000249', 'user_000262',\n",
       "        'user_000319', 'user_000329', 'user_000350', 'user_000374',\n",
       "        'user_000407', 'user_000415', 'user_000453', 'user_000540',\n",
       "        'user_000707', 'user_000709', 'user_000716', 'user_000767',\n",
       "        'user_000787', 'user_000790', 'user_000802', 'user_000807',\n",
       "        'user_000872', 'user_000874', 'user_000880', 'user_000882',\n",
       "        'user_000908', 'user_000912', 'user_000935', 'user_000957'],\n",
       "       dtype='<U11'),\n",
       " array(['user_000001', 'user_000019', 'user_000033', 'user_000079',\n",
       "        'user_000091', 'user_000141', 'user_000156', 'user_000174',\n",
       "        'user_000202', 'user_000204', 'user_000228', 'user_000249',\n",
       "        'user_000262', 'user_000267', 'user_000319', 'user_000329',\n",
       "        'user_000350', 'user_000373', 'user_000374', 'user_000407',\n",
       "        'user_000415', 'user_000453', 'user_000540', 'user_000707',\n",
       "        'user_000709', 'user_000716', 'user_000767', 'user_000787',\n",
       "        'user_000790', 'user_000802', 'user_000807', 'user_000872',\n",
       "        'user_000874', 'user_000880', 'user_000882', 'user_000908',\n",
       "        'user_000912', 'user_000935', 'user_000957', 'user_000974'],\n",
       "       dtype='<U11'),\n",
       " array(['user_000001', 'user_000019', 'user_000033', 'user_000079',\n",
       "        'user_000091', 'user_000141', 'user_000156', 'user_000174',\n",
       "        'user_000202', 'user_000204', 'user_000228', 'user_000249',\n",
       "        'user_000262', 'user_000267', 'user_000319', 'user_000337',\n",
       "        'user_000350', 'user_000373', 'user_000374', 'user_000392',\n",
       "        'user_000407', 'user_000415', 'user_000453', 'user_000540',\n",
       "        'user_000587', 'user_000631', 'user_000707', 'user_000709',\n",
       "        'user_000716', 'user_000751', 'user_000767', 'user_000787',\n",
       "        'user_000790', 'user_000802', 'user_000807', 'user_000872',\n",
       "        'user_000874', 'user_000880', 'user_000882', 'user_000908',\n",
       "        'user_000912', 'user_000935', 'user_000957', 'user_000974'],\n",
       "       dtype='<U11'),\n",
       " array(['user_000001', 'user_000033', 'user_000079', 'user_000091',\n",
       "        'user_000141', 'user_000156', 'user_000174', 'user_000202',\n",
       "        'user_000204', 'user_000228', 'user_000249', 'user_000262',\n",
       "        'user_000267', 'user_000319', 'user_000329', 'user_000337',\n",
       "        'user_000350', 'user_000373', 'user_000374', 'user_000392',\n",
       "        'user_000407', 'user_000415', 'user_000453', 'user_000540',\n",
       "        'user_000587', 'user_000631', 'user_000707', 'user_000709',\n",
       "        'user_000716', 'user_000751', 'user_000767', 'user_000787',\n",
       "        'user_000790', 'user_000802', 'user_000807', 'user_000872',\n",
       "        'user_000874', 'user_000882', 'user_000908', 'user_000912',\n",
       "        'user_000935', 'user_000957', 'user_000974'], dtype='<U11')]"
      ]
     },
     "execution_count": 97,
     "metadata": {},
     "output_type": "execute_result"
    }
   ],
   "source": [
    "[bucket.userset for bucket in eval_lastfm.holdouts]"
   ]
  },
  {
   "cell_type": "code",
   "execution_count": 43,
   "metadata": {},
   "outputs": [
    {
     "data": {
      "text/plain": [
       "3784"
      ]
     },
     "execution_count": 43,
     "metadata": {},
     "output_type": "execute_result"
    }
   ],
   "source": [
    "plt.figure(figsize=(10,5))\n",
    "sns.barplot(x='Bucket', y='N_users', data=n_users_bucket, color='b', label='users per bucket')\n",
    "sns.lineplot(data=np.repeat(n_users, n_users_bucket.shape[0]), label='total users', color='orange');"
   ]
  }
 ],
 "metadata": {
  "interpreter": {
   "hash": "93164e1ba08303257f1d4f69270dc17556e83319233af9462e0c249160adc063"
  },
  "kernelspec": {
   "display_name": "Python 3.6.9 ('dissertacao')",
   "language": "python",
   "name": "python3"
  },
  "language_info": {
   "codemirror_mode": {
    "name": "ipython",
    "version": 3
   },
   "file_extension": ".py",
   "mimetype": "text/x-python",
   "name": "python",
   "nbconvert_exporter": "python",
   "pygments_lexer": "ipython3",
   "version": "3.6.9"
  },
  "orig_nbformat": 4
 },
 "nbformat": 4,
 "nbformat_minor": 2
}
