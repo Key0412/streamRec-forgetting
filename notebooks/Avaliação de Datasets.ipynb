{
 "cells": [
  {
   "cell_type": "markdown",
   "metadata": {},
   "source": [
    "Neste notebook:\n",
    "* Avaliação de usuários por bucket  \n",
    "    * em média, e mediana, em quantos buckets os utilizadores estão.  \n",
    "    * quantos usuários novos estão em cada bucket e quantos não ocorrem\n",
    "\n",
    "Objetivo:\n",
    "* explorar caracteristicas dos datasets que permitam\n",
    "    * avaliar se o dataset é util para a análise  \n",
    "    * escolher o número de buckets  "
   ]
  },
  {
   "cell_type": "markdown",
   "metadata": {},
   "source": [
    "Vamos definir o numero de itens em cada bucket como 50k"
   ]
  },
  {
   "cell_type": "code",
   "execution_count": 1,
   "metadata": {},
   "outputs": [],
   "source": [
    "import os\n",
    "import sys\n",
    "sys.path.append(os.path.abspath('') + '/..')"
   ]
  },
  {
   "cell_type": "code",
   "execution_count": 2,
   "metadata": {},
   "outputs": [],
   "source": [
    "from datetime import datetime\n",
    "import joblib\n",
    "from data import ImplicitData\n",
    "import pandas as pd \n",
    "import numpy as np \n",
    "from recommenders_implicit import ISGD  # ISGD framework, BISGD,\n",
    "from eval_implicit import EvaluateAndStore # EvaluateAndStore para guardar estados do modelo e holdouts, a avaliação prequencial de ratings implicitos é opcional, , EvalHoldout\n",
    "from plot_utils import plot_n_users_per_bucket, plot_bucket_size\n",
    "import seaborn as sns\n",
    "import matplotlib.pyplot as plt\n",
    "sns.set_style('whitegrid')"
   ]
  },
  {
   "cell_type": "code",
   "execution_count": 3,
   "metadata": {},
   "outputs": [],
   "source": [
    "n_iter_bucket = 50E3"
   ]
  },
  {
   "cell_type": "code",
   "execution_count": 4,
   "metadata": {},
   "outputs": [],
   "source": [
    "def get_bucket_map(eval_object:EvaluateAndStore):\n",
    "    '''\n",
    "    Create a dict that maps users (external id) to the buckets they are in (from 1 to last).\n",
    "    '''\n",
    "    user_bucket_map = {user:[] for user in eval_object.data.userset}\n",
    "    for user in eval_object.data.userset:\n",
    "        for i, bucket in enumerate( eval_object.holdouts ):\n",
    "            if user in bucket.userset:\n",
    "                user_bucket_map[user].append(i+1)\n",
    "    return user_bucket_map\n",
    "\n",
    "def median_user_presence_per_bucket(eval_object:EvaluateAndStore, user_bucket_map:dict):\n",
    "    '''\n",
    "    On median terms, on how many buckets a user is.\n",
    "    '''\n",
    "    presence_list = [len(user_bucket_map[user]) for user in eval_object.data.userset]\n",
    "    return np.median( presence_list )\n",
    "\n",
    "def plot_bucket_size(eval_object, dataset_name, filename=None):\n",
    "    bucket_size = pd.Series( [bucket.size for bucket in eval_object.holdouts] )\n",
    "    bucket_size = bucket_size.reset_index()\n",
    "    bucket_size.columns = ['Bucket', 'Size']\n",
    "    bucket_size['Bucket'] = bucket_size['Bucket']+1\n",
    "    plt.figure(figsize=(10,5))\n",
    "    sns.barplot(x='Bucket', y='Size', data=bucket_size, color='b')\n",
    "    # sns.lineplot(data=np.repeat(n_users, n_users_bucket.shape[0]), label='total users', color='orange')\n",
    "    plt.title(f'Bucket size - {dataset_name}')\n",
    "    if filename:\n",
    "        plt.savefig(f'images/user_bucket_analysis/{filename}')\n",
    "\n",
    "def store_user_presence(dataset_name, median_user_presence):\n",
    "    with open('output/joblib_bucket_info_dump/median_user_presence.txt', 'a') as file:\n",
    "        file.write(f'{dataset_name}: in median terms, users are present in {median_user_presence} bucket\\n')\n",
    "\n",
    "def plot_interactions_per_month(data, dataset_name):\n",
    "    interactions_per_month = data.groupby(by=['date']).count().iloc[:, 0]\n",
    "    interactions_per_month.name = 'count'\n",
    "    interactions_per_month=interactions_per_month.reset_index()\n",
    "    fig, ax = plt.subplots(figsize=(6,10))\n",
    "    fig = sns.barplot(x='count', y='date', data=interactions_per_month, color='blue', ax=ax )\n",
    "    ax.set_yticklabels(labels=list( interactions_per_month['date'].dt.year.astype(str) +'-'+ interactions_per_month['date'].dt.month.astype(str) ))\n",
    "    plt.title(f'{dataset_name}: Interactions per year-month')\n",
    "    plt.savefig(f'images/user_bucket_analysis/{dataset_name}_interactions_year_month.png')"
   ]
  },
  {
   "cell_type": "markdown",
   "metadata": {},
   "source": [
    "# Store buckets"
   ]
  },
  {
   "cell_type": "markdown",
   "metadata": {},
   "source": [
    "___\n",
    "### Palco 2010"
   ]
  },
  {
   "cell_type": "code",
   "execution_count": 5,
   "metadata": {},
   "outputs": [],
   "source": [
    "# importa dataset 'palco playlists'\n",
    "data = pd.read_csv(\"../datasets/palco_2010.tsv\",\"\\t\")"
   ]
  },
  {
   "cell_type": "code",
   "execution_count": 6,
   "metadata": {},
   "outputs": [],
   "source": [
    "num_factors = 200\n",
    "num_iter = 6\n",
    "learn_rate = 0.35\n",
    "regularization = 0.5\n",
    "num_nodes = 8"
   ]
  },
  {
   "cell_type": "code",
   "execution_count": 7,
   "metadata": {},
   "outputs": [],
   "source": [
    "# transforma interações em objeto que contem mappings usuário-itens e item-usuários, contém também métodos de suporte.\n",
    "# recebe listas\n",
    "# stream = ImplicitData(data['UserID'].to_list(), data['ItemID'].to_list())\n",
    "stream = ImplicitData(data['user_id'], data['track_id'])\n",
    "\n",
    "empty_stream = ImplicitData([], [])"
   ]
  },
  {
   "cell_type": "code",
   "execution_count": 8,
   "metadata": {},
   "outputs": [],
   "source": [
    "# O modelo não pode conter o stream, deve ser iniciado com uma lista vazia\n",
    "# Se o stream for passado, ao excluir itens conhecidos o recall é sempre 0. Ao permitir a recomendação de itens já vistos, o recall não é 0.\n",
    "model = ISGD(empty_stream, num_factors, num_iter, learn_rate = learn_rate, u_regularization = regularization, i_regularization = regularization, random_seed = 10)"
   ]
  },
  {
   "cell_type": "code",
   "execution_count": 9,
   "metadata": {},
   "outputs": [],
   "source": [
    "# criamos instancia de EvaluateAndStore para criar holdouts com o método EvaluateAndStore\n",
    "n_holdouts = int( data.shape[0]/n_iter_bucket )\n",
    "eval_palco = EvaluateAndStore(model=model, data=stream, n_holdouts=n_holdouts, metrics=[\"Recall@N\"], N_recommendations=20, seed=42)"
   ]
  },
  {
   "cell_type": "code",
   "execution_count": 10,
   "metadata": {},
   "outputs": [],
   "source": [
    "# interações de 0 a 100 são usadas para pre treino. \n",
    "# count define numero de interações a serem usadas.\n",
    "# holdouts e checkpoints são \n",
    "# store_only - somente guarda holdouts, não faz avaliação prequencial.\n",
    "# default_user - Somente usado quando store_only = False durante avaliação prequencial.\n",
    "_ = eval_palco.EvaluateAndStore(start_eval=0, count=stream.size, store_only=True) # 17 min"
   ]
  },
  {
   "cell_type": "code",
   "execution_count": 19,
   "metadata": {},
   "outputs": [
    {
     "data": {
      "image/png": "[encoded data removed]",
      "text/plain": [
       "<Figure size 720x360 with 1 Axes>"
      ]
     },
     "metadata": {},
     "output_type": "display_data"
    }
   ],
   "source": [
    "plot_bucket_size(eval_object=eval_palco, dataset_name='palco2010', filename='palco2010_bucket_size.png')"
   ]
  },
  {
   "cell_type": "code",
   "execution_count": 14,
   "metadata": {},
   "outputs": [
    {
     "data": {
      "image/png": "[encoded data removed]",
      "text/plain": [
       "<Figure size 720x360 with 1 Axes>"
      ]
     },
     "metadata": {},
     "output_type": "display_data"
    }
   ],
   "source": [
    "plot_n_users_per_bucket(eval_object=eval_palco, dataset_name='palco2010', filename='palco2010_user_per_bucket.png')"
   ]
  },
  {
   "cell_type": "code",
   "execution_count": 53,
   "metadata": {},
   "outputs": [
    {
     "ename": "NameError",
     "evalue": "name 'eval_palco' is not defined",
     "output_type": "error",
     "traceback": [
      "\u001b[0;31m---------------------------------------------------------------------------\u001b[0m",
      "\u001b[0;31mNameError\u001b[0m                                 Traceback (most recent call last)",
      "\u001b[0;32m<ipython-input-53-bfa8df2dc196>\u001b[0m in \u001b[0;36m<module>\u001b[0;34m\u001b[0m\n\u001b[0;32m----> 1\u001b[0;31m \u001b[0mpalco2010_ubm\u001b[0m \u001b[0;34m=\u001b[0m \u001b[0mget_bucket_map\u001b[0m\u001b[0;34m(\u001b[0m\u001b[0meval_object\u001b[0m\u001b[0;34m=\u001b[0m\u001b[0meval_palco\u001b[0m\u001b[0;34m)\u001b[0m\u001b[0;34m\u001b[0m\u001b[0;34m\u001b[0m\u001b[0m\n\u001b[0m\u001b[1;32m      2\u001b[0m \u001b[0mpalco2010_median_user_presence\u001b[0m \u001b[0;34m=\u001b[0m \u001b[0mmedian_user_presence_per_bucket\u001b[0m\u001b[0;34m(\u001b[0m\u001b[0meval_object\u001b[0m\u001b[0;34m=\u001b[0m\u001b[0meval_palco\u001b[0m\u001b[0;34m,\u001b[0m \u001b[0muser_bucket_map\u001b[0m\u001b[0;34m=\u001b[0m\u001b[0mpalco2010_ubm\u001b[0m\u001b[0;34m)\u001b[0m\u001b[0;34m\u001b[0m\u001b[0;34m\u001b[0m\u001b[0m\n\u001b[1;32m      3\u001b[0m \u001b[0mpalco2010_median_user_presence\u001b[0m\u001b[0;34m\u001b[0m\u001b[0;34m\u001b[0m\u001b[0m\n",
      "\u001b[0;31mNameError\u001b[0m: name 'eval_palco' is not defined"
     ]
    }
   ],
   "source": [
    "palco2010_ubm = get_bucket_map(eval_object=eval_palco)\n",
    "palco2010_median_user_presence = median_user_presence_per_bucket(eval_object=eval_palco, user_bucket_map=palco2010_ubm)\n",
    "print( palco2010_median_user_presence )\n",
    "store_user_presence(dataset_name='palco2010',median_user_presence=palco2010_median_user_presence)"
   ]
  },
  {
   "cell_type": "code",
   "execution_count": null,
   "metadata": {},
   "outputs": [
    {
     "data": {
      "text/plain": [
       "['output/joblib_eval_objects_dump/palco2010_ubm']"
      ]
     },
     "metadata": {},
     "output_type": "display_data"
    }
   ],
   "source": [
    "joblib.dump(palco2010_ubm, 'output/joblib_bucket_info_dump/palco2010_ubm', compress=True)"
   ]
  },
  {
   "cell_type": "markdown",
   "metadata": {},
   "source": [
    "___\n",
    "### Movielens"
   ]
  },
  {
   "cell_type": "code",
   "execution_count": 5,
   "metadata": {},
   "outputs": [],
   "source": [
    "# importa dataset 'movielensm1'\n",
    "data = pd.read_csv(\"../datasets/ml1m_gte5.csv\",\"\\t\")\n",
    "data['date'] = data['Timestamp'].apply(lambda x: datetime.fromtimestamp( x ).date() )\n",
    "data['year'] = data['Timestamp'].apply(lambda x: datetime.fromtimestamp( x ).year)\n",
    "data['month'] = data['Timestamp'].apply(lambda x: datetime.fromtimestamp( x ).month )\n",
    "data['date'] = data[['year', 'month']].apply(lambda x: datetime.strptime( str(x[0])+'/'+str(x[1]), '%Y/%m' ) , axis=1)"
   ]
  },
  {
   "cell_type": "markdown",
   "metadata": {},
   "source": [
    "How many interactions occur in each month?"
   ]
  },
  {
   "cell_type": "code",
   "execution_count": 6,
   "metadata": {},
   "outputs": [
    {
     "data": {
      "image/png": "[encoded data removed]",
      "text/plain": [
       "<Figure size 432x720 with 1 Axes>"
      ]
     },
     "metadata": {},
     "output_type": "display_data"
    }
   ],
   "source": [
    "plot_interactions_per_month(data=data, dataset_name='Movielens')"
   ]
  },
  {
   "cell_type": "markdown",
   "metadata": {},
   "source": [
    "Which users are frequent based on month, quarter, and semester?"
   ]
  },
  {
   "cell_type": "code",
   "execution_count": 7,
   "metadata": {},
   "outputs": [],
   "source": [
    "#counting user interactions per month\n",
    "user_month_interactions = data.groupby(by=['UserID', 'date']).count().iloc[:, 0]\n",
    "user_month_interactions.name = 'count'\n",
    "user_month_interactions = user_month_interactions.reset_index()\n",
    "user_month_interactions.sort_values(by=['date'], ascending=[True], inplace=True)"
   ]
  },
  {
   "cell_type": "code",
   "execution_count": 8,
   "metadata": {},
   "outputs": [],
   "source": [
    "# defining quarter and semester intervals in dataset\n",
    "\n",
    "# https://pandas.pydata.org/docs/user_guide/timeseries.html#timeseries-offset-aliases\n",
    "# https://stackoverflow.com/questions/69714505/how-can-generate-trimester-dates-in-python\n",
    "\n",
    "from pandas import Timestamp, date_range\n",
    "from pandas.tseries.offsets import MonthBegin, MonthEnd\n",
    "\n",
    "start_ts, end_ts = Timestamp(user_month_interactions['date'].unique()[0]), Timestamp(user_month_interactions['date'].unique()[-1])\n",
    "starts = date_range(start_ts, end_ts - MonthEnd(3), freq='3M') + MonthBegin(-1)\n",
    "# starts = date_range(start_ts, end_ts, freq='3M') + MonthBegin(-1)\n",
    "ends = date_range(start_ts + MonthEnd(3), end_ts, freq='3M')\n",
    "trimestres = list(zip(starts, ends))\n",
    "\n",
    "starts = date_range(start_ts, end_ts - MonthEnd(6), freq='6M') + MonthBegin(-1)\n",
    "ends = date_range(start_ts + MonthEnd(6), end_ts, freq='6M')\n",
    "semestres = list(zip(starts, ends))"
   ]
  },
  {
   "cell_type": "code",
   "execution_count": 9,
   "metadata": {},
   "outputs": [],
   "source": [
    "# verifying user presence in months, quarter, and semester\n",
    "user_presence_percentage = []\n",
    "user_presence_map = []\n",
    "for u in user_month_interactions['UserID'].unique():\n",
    "    uidx = user_month_interactions['UserID'] == u\n",
    "    month_presence = user_month_interactions.loc[uidx, 'date'].nunique() / user_month_interactions['date'].nunique()\n",
    "    \n",
    "    trimestre_presence = np.repeat(False, len(trimestres)+1 )\n",
    "    semestre_presence = np.repeat(False, len(semestres)+1 )\n",
    "    for udt in user_month_interactions.loc[uidx, 'date'].unique():\n",
    "\n",
    "        idx = np.where( [ t[0]<=Timestamp( udt )<=t[1] for t in trimestres ] + [Timestamp( udt ) >= trimestres[-1][1]] )[0]\n",
    "        trimestre_presence[idx] = True\n",
    "\n",
    "        idx = np.where( [ t[0]<=Timestamp( udt )<=t[1] for t in semestres ] + [Timestamp( udt ) >= semestres[-1][1]] )[0]\n",
    "        semestre_presence[idx] = True\n",
    "\n",
    "    # storing trues and falses for each user ( here, we know exactly where user appears)\n",
    "    user_presence_map.append( [u, user_month_interactions.loc[uidx, 'date'].unique(), trimestre_presence, semestre_presence] )\n",
    "    # storing frequency in % of user occurence\n",
    "    user_presence_percentage.append(\n",
    "        [u, month_presence, sum(trimestre_presence)/len(trimestre_presence), sum(semestre_presence)/len(semestre_presence)] )\n",
    "\n",
    "# building DF from presence percentage\n",
    "user_presence_df = pd.DataFrame(\n",
    "    user_presence_percentage,\n",
    "    columns=['UserID', 'month_%', 'trimestre_%', 'semestre_%']\n",
    "    ).sort_values(by='month_%', ascending=False)"
   ]
  },
  {
   "cell_type": "code",
   "execution_count": 42,
   "metadata": {},
   "outputs": [
    {
     "data": {
      "text/html": [
       "<div>\n",
       "<style scoped>\n",
       "    .dataframe tbody tr th:only-of-type {\n",
       "        vertical-align: middle;\n",
       "    }\n",
       "\n",
       "    .dataframe tbody tr th {\n",
       "        vertical-align: top;\n",
       "    }\n",
       "\n",
       "    .dataframe thead th {\n",
       "        text-align: right;\n",
       "    }\n",
       "</style>\n",
       "<table border=\"1\" class=\"dataframe\">\n",
       "  <thead>\n",
       "    <tr style=\"text-align: right;\">\n",
       "      <th></th>\n",
       "      <th>UserID</th>\n",
       "      <th>month_%</th>\n",
       "      <th>trimestre_%</th>\n",
       "      <th>semestre_%</th>\n",
       "    </tr>\n",
       "  </thead>\n",
       "  <tbody>\n",
       "    <tr>\n",
       "      <th>5941</th>\n",
       "      <td>195</td>\n",
       "      <td>0.742857</td>\n",
       "      <td>0.833333</td>\n",
       "      <td>0.833333</td>\n",
       "    </tr>\n",
       "    <tr>\n",
       "      <th>3975</th>\n",
       "      <td>1088</td>\n",
       "      <td>0.685714</td>\n",
       "      <td>0.833333</td>\n",
       "      <td>0.833333</td>\n",
       "    </tr>\n",
       "    <tr>\n",
       "      <th>4950</th>\n",
       "      <td>1733</td>\n",
       "      <td>0.628571</td>\n",
       "      <td>0.833333</td>\n",
       "      <td>0.833333</td>\n",
       "    </tr>\n",
       "    <tr>\n",
       "      <th>5398</th>\n",
       "      <td>343</td>\n",
       "      <td>0.600000</td>\n",
       "      <td>0.833333</td>\n",
       "      <td>0.833333</td>\n",
       "    </tr>\n",
       "    <tr>\n",
       "      <th>5768</th>\n",
       "      <td>424</td>\n",
       "      <td>0.571429</td>\n",
       "      <td>0.833333</td>\n",
       "      <td>0.833333</td>\n",
       "    </tr>\n",
       "  </tbody>\n",
       "</table>\n",
       "</div>"
      ],
      "text/plain": [
       "      UserID   month_%  trimestre_%  semestre_%\n",
       "5941     195  0.742857     0.833333    0.833333\n",
       "3975    1088  0.685714     0.833333    0.833333\n",
       "4950    1733  0.628571     0.833333    0.833333\n",
       "5398     343  0.600000     0.833333    0.833333\n",
       "5768     424  0.571429     0.833333    0.833333"
      ]
     },
     "execution_count": 42,
     "metadata": {},
     "output_type": "execute_result"
    }
   ],
   "source": [
    "user_presence_df.head()"
   ]
  },
  {
   "cell_type": "code",
   "execution_count": null,
   "metadata": {},
   "outputs": [
    {
     "data": {
      "image/png": "[encoded data removed]",
      "text/plain": [
       "<Figure size 1224x288 with 3 Axes>"
      ]
     },
     "metadata": {},
     "output_type": "display_data"
    }
   ],
   "source": [
    "# plotting user frequency distribution\n",
    "fig, ax = plt.subplots(1,3, figsize=(17,4))\n",
    "user_presence_df['month_%'].plot(kind='hist', ax=ax[0], title='user month frequency')\n",
    "user_presence_df['trimestre_%'].plot(kind='hist', ax=ax[1], title='user quarter frequency')\n",
    "user_presence_df['semestre_%'].plot(kind='hist', ax=ax[2], title='user semester frequency');"
   ]
  },
  {
   "cell_type": "code",
   "execution_count": 45,
   "metadata": {},
   "outputs": [],
   "source": [
    "# defining threshold\n",
    "frequency_threshold = 0.8"
   ]
  },
  {
   "cell_type": "code",
   "execution_count": 44,
   "metadata": {},
   "outputs": [
    {
     "name": "stdout",
     "output_type": "stream",
     "text": [
      "[]\n"
     ]
    },
    {
     "data": {
      "text/plain": [
       "0.0"
      ]
     },
     "execution_count": 44,
     "metadata": {},
     "output_type": "execute_result"
    }
   ],
   "source": [
    "# getting frequent users per month\n",
    "frequent_users_month = user_presence_df[user_presence_df['month_%']>=frequency_threshold ]['UserID'].values\n",
    "print( frequent_users_month )\n",
    "# percentage of users that are *frequent in months\n",
    "100*len(frequent_users_month) / data['UserID'].nunique()"
   ]
  },
  {
   "cell_type": "code",
   "execution_count": 43,
   "metadata": {},
   "outputs": [
    {
     "name": "stdout",
     "output_type": "stream",
     "text": [
      "[ 195 1088 1733  343  424 5948 2176 4802 5539]\n"
     ]
    },
    {
     "data": {
      "text/plain": [
       "0.14965081476554706"
      ]
     },
     "execution_count": 43,
     "metadata": {},
     "output_type": "execute_result"
    }
   ],
   "source": [
    "# getting frequent users per quarter\n",
    "frequent_users_trimestre = user_presence_df[user_presence_df['trimestre_%']>=frequency_threshold ]['UserID'].values\n",
    "print( frequent_users_trimestre )\n",
    "# percentage of users that are *frequent in quarters\n",
    "100*len(frequent_users_trimestre) / data['UserID'].nunique()"
   ]
  },
  {
   "cell_type": "code",
   "execution_count": 46,
   "metadata": {},
   "outputs": [
    {
     "name": "stdout",
     "output_type": "stream",
     "text": [
      "[ 195 1088 1733  343  424 4277 4823 1425 5948 2176 4802 1274 4126 5539\n",
      " 2841  496 1451 5312 1421  624 5458 3203 4647 4258 1113 3688 4448 1551\n",
      " 4579 2395 2859 4697 3054 4816 4600 1101 5359 3106 1980 3224  937 3285\n",
      " 3391 1982 5450 5636  911 3158 5063 5090  953 1165 5250 3423 1202 4831\n",
      " 4950   65 2969  146 5557 1203 3842 3080 2380 2810 3041 1352 2015 3125\n",
      " 5394 5046 3368 1647 4861 4785 3592 1120 3562 3363 3971 4771 4085 5054\n",
      " 5787 3471  239 3301 3590 5172 1500 5329 3259]\n"
     ]
    },
    {
     "data": {
      "text/plain": [
       "1.5463917525773196"
      ]
     },
     "execution_count": 46,
     "metadata": {},
     "output_type": "execute_result"
    }
   ],
   "source": [
    "# getting frequent users per semester\n",
    "frequent_users_semestre = user_presence_df[user_presence_df['semestre_%']>=frequency_threshold ]['UserID'].values\n",
    "print( frequent_users_semestre )\n",
    "# percentage of users that are *frequent in semesters\n",
    "100*len( frequent_users_semestre ) / data['UserID'].nunique()"
   ]
  },
  {
   "cell_type": "markdown",
   "metadata": {},
   "source": [
    "In median terms, how many times FREQUENT users appear in each quarter, and semester?"
   ]
  },
  {
   "cell_type": "code",
   "execution_count": 82,
   "metadata": {},
   "outputs": [
    {
     "data": {
      "text/plain": [
       "DatetimeIndex(['2000-04-01', '2000-10-01', '2001-04-01', '2001-10-01',\n",
       "               '2002-04-01'],\n",
       "              dtype='datetime64[ns]', freq=None)"
      ]
     },
     "execution_count": 82,
     "metadata": {},
     "output_type": "execute_result"
    }
   ],
   "source": [
    "starts"
   ]
  },
  {
   "cell_type": "code",
   "execution_count": 87,
   "metadata": {},
   "outputs": [],
   "source": [
    "starts[1:]\n",
    "labels = ['{}'.format(i.strftime('%Y-%m')) for i in starts[1:]]"
   ]
  },
  {
   "cell_type": "code",
   "execution_count": 104,
   "metadata": {},
   "outputs": [
    {
     "data": {
      "text/plain": [
       "0         (2000-03-31 23:59:59.999999999, 2000-10-01]\n",
       "1         (2000-03-31 23:59:59.999999999, 2000-10-01]\n",
       "2         (2000-03-31 23:59:59.999999999, 2000-10-01]\n",
       "3         (2000-03-31 23:59:59.999999999, 2000-10-01]\n",
       "4         (2000-03-31 23:59:59.999999999, 2000-10-01]\n",
       "                             ...                     \n",
       "226305                                            NaN\n",
       "226306                                            NaN\n",
       "226307                                            NaN\n",
       "226308                                            NaN\n",
       "226309                                            NaN\n",
       "Name: date, Length: 226310, dtype: category\n",
       "Categories (4, interval[datetime64[ns]]): [(2000-03-31 23:59:59.999999999, 2000-10-01] < (2000-10-01, 2001-04-01] < (2001-04-01, 2001-10-01] < (2001-10-01, 2002-04-01]]"
      ]
     },
     "execution_count": 104,
     "metadata": {},
     "output_type": "execute_result"
    }
   ],
   "source": [
    "pd.cut(data['date'], bins=starts, include_lowest=True) # , labels=labels"
   ]
  },
  {
   "cell_type": "code",
   "execution_count": 125,
   "metadata": {},
   "outputs": [
    {
     "data": {
      "text/plain": [
       "array([0., 0., 1., 3., 3., 3., 3., 3., 3., 3., 3., 1.])"
      ]
     },
     "execution_count": 125,
     "metadata": {},
     "output_type": "execute_result"
    }
   ],
   "source": [
    "user=195\n",
    "count = np.zeros( len( trimestres )+1 )\n",
    "for d in user_month_interactions[ user_month_interactions['UserID'] == user ]['date']:\n",
    "    count[ np.where( [ t[0]<=Timestamp( d )<=t[1] for t in trimestres ] + [Timestamp( d ) >= trimestres[-1][1]] )[0] ] += 1\n",
    "count"
   ]
  },
  {
   "cell_type": "code",
   "execution_count": null,
   "metadata": {},
   "outputs": [],
   "source": []
  },
  {
   "cell_type": "code",
   "execution_count": 54,
   "metadata": {},
   "outputs": [
    {
     "data": {
      "text/plain": [
       "[5710,\n",
       " array(['2000-05-01T00:00:00.000000000'], dtype='datetime64[ns]'),\n",
       " array([ True, False, False, False, False, False, False, False, False,\n",
       "        False, False, False]),\n",
       " array([ True, False, False, False, False, False])]"
      ]
     },
     "execution_count": 54,
     "metadata": {},
     "output_type": "execute_result"
    }
   ],
   "source": [
    "user_presence_map[195]"
   ]
  },
  {
   "cell_type": "code",
   "execution_count": 47,
   "metadata": {},
   "outputs": [
    {
     "data": {
      "text/plain": [
       "array([ 195, 1088, 1733,  343,  424, 5948, 2176, 4802, 5539])"
      ]
     },
     "execution_count": 47,
     "metadata": {},
     "output_type": "execute_result"
    }
   ],
   "source": [
    "for u in frequent_users_trimestre:\n",
    "    "
   ]
  },
  {
   "cell_type": "code",
   "execution_count": null,
   "metadata": {},
   "outputs": [],
   "source": []
  },
  {
   "cell_type": "code",
   "execution_count": null,
   "metadata": {},
   "outputs": [],
   "source": []
  },
  {
   "cell_type": "code",
   "execution_count": 480,
   "metadata": {},
   "outputs": [],
   "source": [
    "trimestre_presence = np.repeat(False, len(trimestres)+1 )\n",
    "for udt in user_month_interactions.loc[uidx, 'date'].unique():\n",
    "    idx = np.where( [ t[0]<=Timestamp( udt )<=t[1] for t in trimestres ] + [Timestamp( udt ) >= trimestres[-1][1]] )[0]\n",
    "    trimestre_presence[idx] = True"
   ]
  },
  {
   "cell_type": "code",
   "execution_count": 461,
   "metadata": {},
   "outputs": [
    {
     "data": {
      "text/plain": [
       "[[False],\n",
       " [False],\n",
       " [False],\n",
       " [False],\n",
       " [False],\n",
       " [False],\n",
       " [False],\n",
       " [False],\n",
       " [False],\n",
       " [False],\n",
       " [False]]"
      ]
     },
     "execution_count": 461,
     "metadata": {},
     "output_type": "execute_result"
    }
   ],
   "source": [
    "[[t[0]<=udt<=t[1] for udt in user_month_interactions.loc[uidx, 'date'].unique() ] for t in trimestres]\n",
    "    # udt"
   ]
  },
  {
   "cell_type": "code",
   "execution_count": null,
   "metadata": {},
   "outputs": [],
   "source": [
    "[ t[0]<=datest<=t[1] for t in trimestres ]"
   ]
  },
  {
   "cell_type": "code",
   "execution_count": 431,
   "metadata": {},
   "outputs": [
    {
     "data": {
      "text/plain": [
       "[False, True, False, False, False, False, False, False, False, False, False]"
      ]
     },
     "execution_count": 431,
     "metadata": {},
     "output_type": "execute_result"
    }
   ],
   "source": [
    "\n",
    "[ t[0]<=datest<=t[1] for t in trimestres ]\n"
   ]
  },
  {
   "cell_type": "code",
   "execution_count": 421,
   "metadata": {},
   "outputs": [
    {
     "data": {
      "text/plain": [
       "Timestamp('2000-09-01 00:00:00')"
      ]
     },
     "execution_count": 421,
     "metadata": {},
     "output_type": "execute_result"
    }
   ],
   "source": [
    "user_month_interactions.loc[user_month_interactions['UserID'] == 4958, 'date'].iloc[1]"
   ]
  },
  {
   "cell_type": "code",
   "execution_count": 415,
   "metadata": {},
   "outputs": [
    {
     "data": {
      "text/plain": [
       "Timestamp('2000-07-01 00:00:00')"
      ]
     },
     "execution_count": 415,
     "metadata": {},
     "output_type": "execute_result"
    }
   ],
   "source": [
    "user_month_interactions.loc[user_month_interactions['UserID'] == 4958, 'date'][8299]\n"
   ]
  },
  {
   "cell_type": "code",
   "execution_count": null,
   "metadata": {},
   "outputs": [],
   "source": [
    "user_month_interactions[user_month_interactions['UserID'] == 4958]"
   ]
  },
  {
   "cell_type": "code",
   "execution_count": 327,
   "metadata": {},
   "outputs": [
    {
     "data": {
      "text/plain": [
       "1"
      ]
     },
     "execution_count": 327,
     "metadata": {},
     "output_type": "execute_result"
    }
   ],
   "source": [
    "user_month_interactions.loc[uidx, 'date'].nunique()"
   ]
  },
  {
   "cell_type": "code",
   "execution_count": 330,
   "metadata": {},
   "outputs": [
    {
     "data": {
      "text/plain": [
       "11.666666666666666"
      ]
     },
     "execution_count": 330,
     "metadata": {},
     "output_type": "execute_result"
    }
   ],
   "source": [
    "user_month_interactions['date'].nunique()/3"
   ]
  },
  {
   "cell_type": "code",
   "execution_count": 328,
   "metadata": {},
   "outputs": [
    {
     "data": {
      "text/plain": [
       "11.666666666666666"
      ]
     },
     "execution_count": 328,
     "metadata": {},
     "output_type": "execute_result"
    }
   ],
   "source": [
    "( user_month_interactions['date'].nunique() / 3)"
   ]
  },
  {
   "cell_type": "code",
   "execution_count": 324,
   "metadata": {},
   "outputs": [
    {
     "data": {
      "text/html": [
       "<div>\n",
       "<style scoped>\n",
       "    .dataframe tbody tr th:only-of-type {\n",
       "        vertical-align: middle;\n",
       "    }\n",
       "\n",
       "    .dataframe tbody tr th {\n",
       "        vertical-align: top;\n",
       "    }\n",
       "\n",
       "    .dataframe thead th {\n",
       "        text-align: right;\n",
       "    }\n",
       "</style>\n",
       "<table border=\"1\" class=\"dataframe\">\n",
       "  <thead>\n",
       "    <tr style=\"text-align: right;\">\n",
       "      <th></th>\n",
       "      <th>UserID</th>\n",
       "      <th>month_presence</th>\n",
       "      <th>trimestre_presence</th>\n",
       "      <th>semestre_presence</th>\n",
       "    </tr>\n",
       "  </thead>\n",
       "  <tbody>\n",
       "    <tr>\n",
       "      <th>5941</th>\n",
       "      <td>195</td>\n",
       "      <td>0.742857</td>\n",
       "      <td>2.228571</td>\n",
       "      <td>4.457143</td>\n",
       "    </tr>\n",
       "    <tr>\n",
       "      <th>3975</th>\n",
       "      <td>1088</td>\n",
       "      <td>0.685714</td>\n",
       "      <td>2.057143</td>\n",
       "      <td>4.114286</td>\n",
       "    </tr>\n",
       "    <tr>\n",
       "      <th>4950</th>\n",
       "      <td>1733</td>\n",
       "      <td>0.628571</td>\n",
       "      <td>1.885714</td>\n",
       "      <td>3.771429</td>\n",
       "    </tr>\n",
       "    <tr>\n",
       "      <th>5398</th>\n",
       "      <td>343</td>\n",
       "      <td>0.600000</td>\n",
       "      <td>1.800000</td>\n",
       "      <td>3.600000</td>\n",
       "    </tr>\n",
       "    <tr>\n",
       "      <th>5768</th>\n",
       "      <td>424</td>\n",
       "      <td>0.571429</td>\n",
       "      <td>1.714286</td>\n",
       "      <td>3.428571</td>\n",
       "    </tr>\n",
       "    <tr>\n",
       "      <th>...</th>\n",
       "      <td>...</td>\n",
       "      <td>...</td>\n",
       "      <td>...</td>\n",
       "      <td>...</td>\n",
       "    </tr>\n",
       "    <tr>\n",
       "      <th>2257</th>\n",
       "      <td>3530</td>\n",
       "      <td>0.028571</td>\n",
       "      <td>0.085714</td>\n",
       "      <td>0.171429</td>\n",
       "    </tr>\n",
       "    <tr>\n",
       "      <th>2252</th>\n",
       "      <td>3817</td>\n",
       "      <td>0.028571</td>\n",
       "      <td>0.085714</td>\n",
       "      <td>0.171429</td>\n",
       "    </tr>\n",
       "    <tr>\n",
       "      <th>2251</th>\n",
       "      <td>3515</td>\n",
       "      <td>0.028571</td>\n",
       "      <td>0.085714</td>\n",
       "      <td>0.171429</td>\n",
       "    </tr>\n",
       "    <tr>\n",
       "      <th>2250</th>\n",
       "      <td>3698</td>\n",
       "      <td>0.028571</td>\n",
       "      <td>0.085714</td>\n",
       "      <td>0.171429</td>\n",
       "    </tr>\n",
       "    <tr>\n",
       "      <th>6013</th>\n",
       "      <td>398</td>\n",
       "      <td>0.028571</td>\n",
       "      <td>0.085714</td>\n",
       "      <td>0.171429</td>\n",
       "    </tr>\n",
       "  </tbody>\n",
       "</table>\n",
       "<p>6014 rows × 4 columns</p>\n",
       "</div>"
      ],
      "text/plain": [
       "      UserID  month_presence  trimestre_presence  semestre_presence\n",
       "5941     195        0.742857            2.228571           4.457143\n",
       "3975    1088        0.685714            2.057143           4.114286\n",
       "4950    1733        0.628571            1.885714           3.771429\n",
       "5398     343        0.600000            1.800000           3.600000\n",
       "5768     424        0.571429            1.714286           3.428571\n",
       "...      ...             ...                 ...                ...\n",
       "2257    3530        0.028571            0.085714           0.171429\n",
       "2252    3817        0.028571            0.085714           0.171429\n",
       "2251    3515        0.028571            0.085714           0.171429\n",
       "2250    3698        0.028571            0.085714           0.171429\n",
       "6013     398        0.028571            0.085714           0.171429\n",
       "\n",
       "[6014 rows x 4 columns]"
      ]
     },
     "execution_count": 324,
     "metadata": {},
     "output_type": "execute_result"
    }
   ],
   "source": [
    "user_presence_df"
   ]
  },
  {
   "cell_type": "code",
   "execution_count": null,
   "metadata": {},
   "outputs": [],
   "source": []
  },
  {
   "cell_type": "code",
   "execution_count": null,
   "metadata": {},
   "outputs": [],
   "source": []
  },
  {
   "cell_type": "code",
   "execution_count": 155,
   "metadata": {},
   "outputs": [
    {
     "ename": "KeyboardInterrupt",
     "evalue": "",
     "output_type": "error",
     "traceback": [
      "\u001b[0;31m---------------------------------------------------------------------------\u001b[0m",
      "\u001b[0;31mKeyboardInterrupt\u001b[0m                         Traceback (most recent call last)",
      "\u001b[0;32m<ipython-input-155-d89b579e7a98>\u001b[0m in \u001b[0;36m<module>\u001b[0;34m\u001b[0m\n\u001b[0;32m----> 1\u001b[0;31m \u001b[0msns\u001b[0m\u001b[0;34m.\u001b[0m\u001b[0mbarplot\u001b[0m\u001b[0;34m(\u001b[0m\u001b[0mx\u001b[0m\u001b[0;34m=\u001b[0m\u001b[0;34m'UserID'\u001b[0m\u001b[0;34m,\u001b[0m \u001b[0my\u001b[0m\u001b[0;34m=\u001b[0m\u001b[0;34m'count'\u001b[0m\u001b[0;34m,\u001b[0m \u001b[0mhue\u001b[0m\u001b[0;34m=\u001b[0m\u001b[0;34m'year-month'\u001b[0m\u001b[0;34m,\u001b[0m \u001b[0mdata\u001b[0m\u001b[0;34m=\u001b[0m\u001b[0muser_month_interactions\u001b[0m\u001b[0;34m,\u001b[0m \u001b[0mkind\u001b[0m\u001b[0;34m=\u001b[0m\u001b[0;34m'bar'\u001b[0m\u001b[0;34m)\u001b[0m\u001b[0;34m\u001b[0m\u001b[0;34m\u001b[0m\u001b[0m\n\u001b[0m",
      "\u001b[0;32m~/.virtualenvs/dissertacao/lib/python3.6/site-packages/seaborn/_decorators.py\u001b[0m in \u001b[0;36minner_f\u001b[0;34m(*args, **kwargs)\u001b[0m\n\u001b[1;32m     44\u001b[0m             )\n\u001b[1;32m     45\u001b[0m         \u001b[0mkwargs\u001b[0m\u001b[0;34m.\u001b[0m\u001b[0mupdate\u001b[0m\u001b[0;34m(\u001b[0m\u001b[0;34m{\u001b[0m\u001b[0mk\u001b[0m\u001b[0;34m:\u001b[0m \u001b[0marg\u001b[0m \u001b[0;32mfor\u001b[0m \u001b[0mk\u001b[0m\u001b[0;34m,\u001b[0m \u001b[0marg\u001b[0m \u001b[0;32min\u001b[0m \u001b[0mzip\u001b[0m\u001b[0;34m(\u001b[0m\u001b[0msig\u001b[0m\u001b[0;34m.\u001b[0m\u001b[0mparameters\u001b[0m\u001b[0;34m,\u001b[0m \u001b[0margs\u001b[0m\u001b[0;34m)\u001b[0m\u001b[0;34m}\u001b[0m\u001b[0;34m)\u001b[0m\u001b[0;34m\u001b[0m\u001b[0;34m\u001b[0m\u001b[0m\n\u001b[0;32m---> 46\u001b[0;31m         \u001b[0;32mreturn\u001b[0m \u001b[0mf\u001b[0m\u001b[0;34m(\u001b[0m\u001b[0;34m**\u001b[0m\u001b[0mkwargs\u001b[0m\u001b[0;34m)\u001b[0m\u001b[0;34m\u001b[0m\u001b[0;34m\u001b[0m\u001b[0m\n\u001b[0m\u001b[1;32m     47\u001b[0m     \u001b[0;32mreturn\u001b[0m \u001b[0minner_f\u001b[0m\u001b[0;34m\u001b[0m\u001b[0;34m\u001b[0m\u001b[0m\n\u001b[1;32m     48\u001b[0m \u001b[0;34m\u001b[0m\u001b[0m\n",
      "\u001b[0;32m~/.virtualenvs/dissertacao/lib/python3.6/site-packages/seaborn/categorical.py\u001b[0m in \u001b[0;36mbarplot\u001b[0;34m(x, y, hue, data, order, hue_order, estimator, ci, n_boot, units, seed, orient, color, palette, saturation, errcolor, errwidth, capsize, dodge, ax, **kwargs)\u001b[0m\n\u001b[1;32m   3183\u001b[0m                           \u001b[0mestimator\u001b[0m\u001b[0;34m,\u001b[0m \u001b[0mci\u001b[0m\u001b[0;34m,\u001b[0m \u001b[0mn_boot\u001b[0m\u001b[0;34m,\u001b[0m \u001b[0munits\u001b[0m\u001b[0;34m,\u001b[0m \u001b[0mseed\u001b[0m\u001b[0;34m,\u001b[0m\u001b[0;34m\u001b[0m\u001b[0;34m\u001b[0m\u001b[0m\n\u001b[1;32m   3184\u001b[0m                           \u001b[0morient\u001b[0m\u001b[0;34m,\u001b[0m \u001b[0mcolor\u001b[0m\u001b[0;34m,\u001b[0m \u001b[0mpalette\u001b[0m\u001b[0;34m,\u001b[0m \u001b[0msaturation\u001b[0m\u001b[0;34m,\u001b[0m\u001b[0;34m\u001b[0m\u001b[0;34m\u001b[0m\u001b[0m\n\u001b[0;32m-> 3185\u001b[0;31m                           errcolor, errwidth, capsize, dodge)\n\u001b[0m\u001b[1;32m   3186\u001b[0m \u001b[0;34m\u001b[0m\u001b[0m\n\u001b[1;32m   3187\u001b[0m     \u001b[0;32mif\u001b[0m \u001b[0max\u001b[0m \u001b[0;32mis\u001b[0m \u001b[0;32mNone\u001b[0m\u001b[0;34m:\u001b[0m\u001b[0;34m\u001b[0m\u001b[0;34m\u001b[0m\u001b[0m\n",
      "\u001b[0;32m~/.virtualenvs/dissertacao/lib/python3.6/site-packages/seaborn/categorical.py\u001b[0m in \u001b[0;36m__init__\u001b[0;34m(self, x, y, hue, data, order, hue_order, estimator, ci, n_boot, units, seed, orient, color, palette, saturation, errcolor, errwidth, capsize, dodge)\u001b[0m\n\u001b[1;32m   1585\u001b[0m                                  order, hue_order, units)\n\u001b[1;32m   1586\u001b[0m         \u001b[0mself\u001b[0m\u001b[0;34m.\u001b[0m\u001b[0mestablish_colors\u001b[0m\u001b[0;34m(\u001b[0m\u001b[0mcolor\u001b[0m\u001b[0;34m,\u001b[0m \u001b[0mpalette\u001b[0m\u001b[0;34m,\u001b[0m \u001b[0msaturation\u001b[0m\u001b[0;34m)\u001b[0m\u001b[0;34m\u001b[0m\u001b[0;34m\u001b[0m\u001b[0m\n\u001b[0;32m-> 1587\u001b[0;31m         \u001b[0mself\u001b[0m\u001b[0;34m.\u001b[0m\u001b[0mestimate_statistic\u001b[0m\u001b[0;34m(\u001b[0m\u001b[0mestimator\u001b[0m\u001b[0;34m,\u001b[0m \u001b[0mci\u001b[0m\u001b[0;34m,\u001b[0m \u001b[0mn_boot\u001b[0m\u001b[0;34m,\u001b[0m \u001b[0mseed\u001b[0m\u001b[0;34m)\u001b[0m\u001b[0;34m\u001b[0m\u001b[0;34m\u001b[0m\u001b[0m\n\u001b[0m\u001b[1;32m   1588\u001b[0m \u001b[0;34m\u001b[0m\u001b[0m\n\u001b[1;32m   1589\u001b[0m         \u001b[0mself\u001b[0m\u001b[0;34m.\u001b[0m\u001b[0mdodge\u001b[0m \u001b[0;34m=\u001b[0m \u001b[0mdodge\u001b[0m\u001b[0;34m\u001b[0m\u001b[0;34m\u001b[0m\u001b[0m\n",
      "\u001b[0;32m~/.virtualenvs/dissertacao/lib/python3.6/site-packages/seaborn/categorical.py\u001b[0m in \u001b[0;36mestimate_statistic\u001b[0;34m(self, estimator, ci, n_boot, seed)\u001b[0m\n\u001b[1;32m   1504\u001b[0m                     \u001b[0mhue_mask\u001b[0m \u001b[0;34m=\u001b[0m \u001b[0mself\u001b[0m\u001b[0;34m.\u001b[0m\u001b[0mplot_hues\u001b[0m\u001b[0;34m[\u001b[0m\u001b[0mi\u001b[0m\u001b[0;34m]\u001b[0m \u001b[0;34m==\u001b[0m \u001b[0mhue_level\u001b[0m\u001b[0;34m\u001b[0m\u001b[0;34m\u001b[0m\u001b[0m\n\u001b[1;32m   1505\u001b[0m                     \u001b[0;32mif\u001b[0m \u001b[0mself\u001b[0m\u001b[0;34m.\u001b[0m\u001b[0mplot_units\u001b[0m \u001b[0;32mis\u001b[0m \u001b[0;32mNone\u001b[0m\u001b[0;34m:\u001b[0m\u001b[0;34m\u001b[0m\u001b[0;34m\u001b[0m\u001b[0m\n\u001b[0;32m-> 1506\u001b[0;31m                         \u001b[0mstat_data\u001b[0m \u001b[0;34m=\u001b[0m \u001b[0mremove_na\u001b[0m\u001b[0;34m(\u001b[0m\u001b[0mgroup_data\u001b[0m\u001b[0;34m[\u001b[0m\u001b[0mhue_mask\u001b[0m\u001b[0;34m]\u001b[0m\u001b[0;34m)\u001b[0m\u001b[0;34m\u001b[0m\u001b[0;34m\u001b[0m\u001b[0m\n\u001b[0m\u001b[1;32m   1507\u001b[0m                         \u001b[0munit_data\u001b[0m \u001b[0;34m=\u001b[0m \u001b[0;32mNone\u001b[0m\u001b[0;34m\u001b[0m\u001b[0;34m\u001b[0m\u001b[0m\n\u001b[1;32m   1508\u001b[0m                     \u001b[0;32melse\u001b[0m\u001b[0;34m:\u001b[0m\u001b[0;34m\u001b[0m\u001b[0;34m\u001b[0m\u001b[0m\n",
      "\u001b[0;32m~/.virtualenvs/dissertacao/lib/python3.6/site-packages/pandas/core/series.py\u001b[0m in \u001b[0;36m__getitem__\u001b[0;34m(self, key)\u001b[0m\n\u001b[1;32m    900\u001b[0m \u001b[0;34m\u001b[0m\u001b[0m\n\u001b[1;32m    901\u001b[0m         \u001b[0;32mif\u001b[0m \u001b[0mcom\u001b[0m\u001b[0;34m.\u001b[0m\u001b[0mis_bool_indexer\u001b[0m\u001b[0;34m(\u001b[0m\u001b[0mkey\u001b[0m\u001b[0;34m)\u001b[0m\u001b[0;34m:\u001b[0m\u001b[0;34m\u001b[0m\u001b[0;34m\u001b[0m\u001b[0m\n\u001b[0;32m--> 902\u001b[0;31m             \u001b[0mkey\u001b[0m \u001b[0;34m=\u001b[0m \u001b[0mcheck_bool_indexer\u001b[0m\u001b[0;34m(\u001b[0m\u001b[0mself\u001b[0m\u001b[0;34m.\u001b[0m\u001b[0mindex\u001b[0m\u001b[0;34m,\u001b[0m \u001b[0mkey\u001b[0m\u001b[0;34m)\u001b[0m\u001b[0;34m\u001b[0m\u001b[0;34m\u001b[0m\u001b[0m\n\u001b[0m\u001b[1;32m    903\u001b[0m             \u001b[0mkey\u001b[0m \u001b[0;34m=\u001b[0m \u001b[0mnp\u001b[0m\u001b[0;34m.\u001b[0m\u001b[0masarray\u001b[0m\u001b[0;34m(\u001b[0m\u001b[0mkey\u001b[0m\u001b[0;34m,\u001b[0m \u001b[0mdtype\u001b[0m\u001b[0;34m=\u001b[0m\u001b[0mbool\u001b[0m\u001b[0;34m)\u001b[0m\u001b[0;34m\u001b[0m\u001b[0;34m\u001b[0m\u001b[0m\n\u001b[1;32m    904\u001b[0m             \u001b[0;32mreturn\u001b[0m \u001b[0mself\u001b[0m\u001b[0;34m.\u001b[0m\u001b[0m_get_values\u001b[0m\u001b[0;34m(\u001b[0m\u001b[0mkey\u001b[0m\u001b[0;34m)\u001b[0m\u001b[0;34m\u001b[0m\u001b[0;34m\u001b[0m\u001b[0m\n",
      "\u001b[0;32m~/.virtualenvs/dissertacao/lib/python3.6/site-packages/pandas/core/indexing.py\u001b[0m in \u001b[0;36mcheck_bool_indexer\u001b[0;34m(index, key)\u001b[0m\n\u001b[1;32m   2176\u001b[0m     \"\"\"\n\u001b[1;32m   2177\u001b[0m     \u001b[0mresult\u001b[0m \u001b[0;34m=\u001b[0m \u001b[0mkey\u001b[0m\u001b[0;34m\u001b[0m\u001b[0;34m\u001b[0m\u001b[0m\n\u001b[0;32m-> 2178\u001b[0;31m     \u001b[0;32mif\u001b[0m \u001b[0misinstance\u001b[0m\u001b[0;34m(\u001b[0m\u001b[0mkey\u001b[0m\u001b[0;34m,\u001b[0m \u001b[0mABCSeries\u001b[0m\u001b[0;34m)\u001b[0m \u001b[0;32mand\u001b[0m \u001b[0;32mnot\u001b[0m \u001b[0mkey\u001b[0m\u001b[0;34m.\u001b[0m\u001b[0mindex\u001b[0m\u001b[0;34m.\u001b[0m\u001b[0mequals\u001b[0m\u001b[0;34m(\u001b[0m\u001b[0mindex\u001b[0m\u001b[0;34m)\u001b[0m\u001b[0;34m:\u001b[0m\u001b[0;34m\u001b[0m\u001b[0;34m\u001b[0m\u001b[0m\n\u001b[0m\u001b[1;32m   2179\u001b[0m         \u001b[0mresult\u001b[0m \u001b[0;34m=\u001b[0m \u001b[0mresult\u001b[0m\u001b[0;34m.\u001b[0m\u001b[0mreindex\u001b[0m\u001b[0;34m(\u001b[0m\u001b[0mindex\u001b[0m\u001b[0;34m)\u001b[0m\u001b[0;34m\u001b[0m\u001b[0;34m\u001b[0m\u001b[0m\n\u001b[1;32m   2180\u001b[0m         \u001b[0mmask\u001b[0m \u001b[0;34m=\u001b[0m \u001b[0misna\u001b[0m\u001b[0;34m(\u001b[0m\u001b[0mresult\u001b[0m\u001b[0;34m.\u001b[0m\u001b[0m_values\u001b[0m\u001b[0;34m)\u001b[0m\u001b[0;34m\u001b[0m\u001b[0;34m\u001b[0m\u001b[0m\n",
      "\u001b[0;32m~/.virtualenvs/dissertacao/lib/python3.6/site-packages/pandas/core/indexes/base.py\u001b[0m in \u001b[0;36mequals\u001b[0;34m(self, other)\u001b[0m\n\u001b[1;32m   4274\u001b[0m             \u001b[0;32mreturn\u001b[0m \u001b[0mother\u001b[0m\u001b[0;34m.\u001b[0m\u001b[0mequals\u001b[0m\u001b[0;34m(\u001b[0m\u001b[0mself\u001b[0m\u001b[0;34m)\u001b[0m\u001b[0;34m\u001b[0m\u001b[0;34m\u001b[0m\u001b[0m\n\u001b[1;32m   4275\u001b[0m \u001b[0;34m\u001b[0m\u001b[0m\n\u001b[0;32m-> 4276\u001b[0;31m         \u001b[0;32mreturn\u001b[0m \u001b[0marray_equivalent\u001b[0m\u001b[0;34m(\u001b[0m\u001b[0mself\u001b[0m\u001b[0;34m.\u001b[0m\u001b[0m_values\u001b[0m\u001b[0;34m,\u001b[0m \u001b[0mother\u001b[0m\u001b[0;34m.\u001b[0m\u001b[0m_values\u001b[0m\u001b[0;34m)\u001b[0m\u001b[0;34m\u001b[0m\u001b[0;34m\u001b[0m\u001b[0m\n\u001b[0m\u001b[1;32m   4277\u001b[0m \u001b[0;34m\u001b[0m\u001b[0m\n\u001b[1;32m   4278\u001b[0m     \u001b[0;32mdef\u001b[0m \u001b[0midentical\u001b[0m\u001b[0;34m(\u001b[0m\u001b[0mself\u001b[0m\u001b[0;34m,\u001b[0m \u001b[0mother\u001b[0m\u001b[0;34m)\u001b[0m \u001b[0;34m->\u001b[0m \u001b[0mbool\u001b[0m\u001b[0;34m:\u001b[0m\u001b[0;34m\u001b[0m\u001b[0;34m\u001b[0m\u001b[0m\n",
      "\u001b[0;32m~/.virtualenvs/dissertacao/lib/python3.6/site-packages/pandas/core/dtypes/missing.py\u001b[0m in \u001b[0;36marray_equivalent\u001b[0;34m(left, right, strict_nan, dtype_equal)\u001b[0m\n\u001b[1;32m    443\u001b[0m             \u001b[0;32mreturn\u001b[0m \u001b[0;32mFalse\u001b[0m\u001b[0;34m\u001b[0m\u001b[0;34m\u001b[0m\u001b[0m\n\u001b[1;32m    444\u001b[0m \u001b[0;34m\u001b[0m\u001b[0m\n\u001b[0;32m--> 445\u001b[0;31m     \u001b[0;32mreturn\u001b[0m \u001b[0mnp\u001b[0m\u001b[0;34m.\u001b[0m\u001b[0marray_equal\u001b[0m\u001b[0;34m(\u001b[0m\u001b[0mleft\u001b[0m\u001b[0;34m,\u001b[0m \u001b[0mright\u001b[0m\u001b[0;34m)\u001b[0m\u001b[0;34m\u001b[0m\u001b[0;34m\u001b[0m\u001b[0m\n\u001b[0m\u001b[1;32m    446\u001b[0m \u001b[0;34m\u001b[0m\u001b[0m\n\u001b[1;32m    447\u001b[0m \u001b[0;34m\u001b[0m\u001b[0m\n",
      "\u001b[0;31mKeyboardInterrupt\u001b[0m: "
     ]
    }
   ],
   "source": [
    "sns.barplot(x='UserID', y='count',  hue='year-month', data=user_month_interactions, kind='bar')"
   ]
  },
  {
   "cell_type": "code",
   "execution_count": 154,
   "metadata": {},
   "outputs": [
    {
     "name": "stderr",
     "output_type": "stream",
     "text": [
      "/home/klismam/.virtualenvs/dissertacao/lib/python3.6/site-packages/seaborn/categorical.py:3717: UserWarning: The `factorplot` function has been renamed to `catplot`. The original name will be removed in a future release. Please update your code. Note that the default `kind` in `factorplot` (`'point'`) has changed `'strip'` in `catplot`.\n",
      "  warnings.warn(msg)\n"
     ]
    },
    {
     "ename": "KeyboardInterrupt",
     "evalue": "",
     "output_type": "error",
     "traceback": [
      "\u001b[0;31m---------------------------------------------------------------------------\u001b[0m",
      "\u001b[0;31mKeyboardInterrupt\u001b[0m                         Traceback (most recent call last)",
      "\u001b[0;32m<ipython-input-154-189859b93b33>\u001b[0m in \u001b[0;36m<module>\u001b[0;34m\u001b[0m\n\u001b[0;32m----> 1\u001b[0;31m \u001b[0msns\u001b[0m\u001b[0;34m.\u001b[0m\u001b[0mfactorplot\u001b[0m\u001b[0;34m(\u001b[0m\u001b[0mx\u001b[0m\u001b[0;34m=\u001b[0m\u001b[0;34m'UserID'\u001b[0m\u001b[0;34m,\u001b[0m \u001b[0my\u001b[0m\u001b[0;34m=\u001b[0m\u001b[0;34m'count'\u001b[0m\u001b[0;34m,\u001b[0m \u001b[0mhue\u001b[0m\u001b[0;34m=\u001b[0m\u001b[0;34m'year-month'\u001b[0m\u001b[0;34m,\u001b[0m \u001b[0mdata\u001b[0m\u001b[0;34m=\u001b[0m\u001b[0muser_month_interactions\u001b[0m\u001b[0;34m,\u001b[0m \u001b[0mkind\u001b[0m\u001b[0;34m=\u001b[0m\u001b[0;34m'bar'\u001b[0m\u001b[0;34m)\u001b[0m\u001b[0;34m\u001b[0m\u001b[0;34m\u001b[0m\u001b[0m\n\u001b[0m",
      "\u001b[0;32m~/.virtualenvs/dissertacao/lib/python3.6/site-packages/seaborn/categorical.py\u001b[0m in \u001b[0;36mfactorplot\u001b[0;34m(*args, **kwargs)\u001b[0m\n\u001b[1;32m   3725\u001b[0m     \u001b[0mkwargs\u001b[0m\u001b[0;34m.\u001b[0m\u001b[0msetdefault\u001b[0m\u001b[0;34m(\u001b[0m\u001b[0;34m\"kind\"\u001b[0m\u001b[0;34m,\u001b[0m \u001b[0;34m\"point\"\u001b[0m\u001b[0;34m)\u001b[0m\u001b[0;34m\u001b[0m\u001b[0;34m\u001b[0m\u001b[0m\n\u001b[1;32m   3726\u001b[0m \u001b[0;34m\u001b[0m\u001b[0m\n\u001b[0;32m-> 3727\u001b[0;31m     \u001b[0;32mreturn\u001b[0m \u001b[0mcatplot\u001b[0m\u001b[0;34m(\u001b[0m\u001b[0;34m*\u001b[0m\u001b[0margs\u001b[0m\u001b[0;34m,\u001b[0m \u001b[0;34m**\u001b[0m\u001b[0mkwargs\u001b[0m\u001b[0;34m)\u001b[0m\u001b[0;34m\u001b[0m\u001b[0;34m\u001b[0m\u001b[0m\n\u001b[0m\u001b[1;32m   3728\u001b[0m \u001b[0;34m\u001b[0m\u001b[0m\n\u001b[1;32m   3729\u001b[0m \u001b[0;34m\u001b[0m\u001b[0m\n",
      "\u001b[0;32m~/.virtualenvs/dissertacao/lib/python3.6/site-packages/seaborn/_decorators.py\u001b[0m in \u001b[0;36minner_f\u001b[0;34m(*args, **kwargs)\u001b[0m\n\u001b[1;32m     44\u001b[0m             )\n\u001b[1;32m     45\u001b[0m         \u001b[0mkwargs\u001b[0m\u001b[0;34m.\u001b[0m\u001b[0mupdate\u001b[0m\u001b[0;34m(\u001b[0m\u001b[0;34m{\u001b[0m\u001b[0mk\u001b[0m\u001b[0;34m:\u001b[0m \u001b[0marg\u001b[0m \u001b[0;32mfor\u001b[0m \u001b[0mk\u001b[0m\u001b[0;34m,\u001b[0m \u001b[0marg\u001b[0m \u001b[0;32min\u001b[0m \u001b[0mzip\u001b[0m\u001b[0;34m(\u001b[0m\u001b[0msig\u001b[0m\u001b[0;34m.\u001b[0m\u001b[0mparameters\u001b[0m\u001b[0;34m,\u001b[0m \u001b[0margs\u001b[0m\u001b[0;34m)\u001b[0m\u001b[0;34m}\u001b[0m\u001b[0;34m)\u001b[0m\u001b[0;34m\u001b[0m\u001b[0;34m\u001b[0m\u001b[0m\n\u001b[0;32m---> 46\u001b[0;31m         \u001b[0;32mreturn\u001b[0m \u001b[0mf\u001b[0m\u001b[0;34m(\u001b[0m\u001b[0;34m**\u001b[0m\u001b[0mkwargs\u001b[0m\u001b[0;34m)\u001b[0m\u001b[0;34m\u001b[0m\u001b[0;34m\u001b[0m\u001b[0m\n\u001b[0m\u001b[1;32m     47\u001b[0m     \u001b[0;32mreturn\u001b[0m \u001b[0minner_f\u001b[0m\u001b[0;34m\u001b[0m\u001b[0;34m\u001b[0m\u001b[0m\n\u001b[1;32m     48\u001b[0m \u001b[0;34m\u001b[0m\u001b[0m\n",
      "\u001b[0;32m~/.virtualenvs/dissertacao/lib/python3.6/site-packages/seaborn/categorical.py\u001b[0m in \u001b[0;36mcatplot\u001b[0;34m(x, y, hue, data, row, col, col_wrap, estimator, ci, n_boot, units, seed, order, hue_order, row_order, col_order, kind, height, aspect, orient, color, palette, legend, legend_out, sharex, sharey, margin_titles, facet_kws, **kwargs)\u001b[0m\n\u001b[1;32m   3845\u001b[0m \u001b[0;34m\u001b[0m\u001b[0m\n\u001b[1;32m   3846\u001b[0m     \u001b[0;31m# Draw the plot onto the facets\u001b[0m\u001b[0;34m\u001b[0m\u001b[0;34m\u001b[0m\u001b[0;34m\u001b[0m\u001b[0m\n\u001b[0;32m-> 3847\u001b[0;31m     \u001b[0mg\u001b[0m\u001b[0;34m.\u001b[0m\u001b[0mmap_dataframe\u001b[0m\u001b[0;34m(\u001b[0m\u001b[0mplot_func\u001b[0m\u001b[0;34m,\u001b[0m \u001b[0mx\u001b[0m\u001b[0;34m=\u001b[0m\u001b[0mx\u001b[0m\u001b[0;34m,\u001b[0m \u001b[0my\u001b[0m\u001b[0;34m=\u001b[0m\u001b[0my\u001b[0m\u001b[0;34m,\u001b[0m \u001b[0mhue\u001b[0m\u001b[0;34m=\u001b[0m\u001b[0mhue\u001b[0m\u001b[0;34m,\u001b[0m \u001b[0;34m**\u001b[0m\u001b[0mplot_kws\u001b[0m\u001b[0;34m)\u001b[0m\u001b[0;34m\u001b[0m\u001b[0;34m\u001b[0m\u001b[0m\n\u001b[0m\u001b[1;32m   3848\u001b[0m \u001b[0;34m\u001b[0m\u001b[0m\n\u001b[1;32m   3849\u001b[0m     \u001b[0;32mif\u001b[0m \u001b[0mp\u001b[0m\u001b[0;34m.\u001b[0m\u001b[0morient\u001b[0m \u001b[0;34m==\u001b[0m \u001b[0;34m\"h\"\u001b[0m\u001b[0;34m:\u001b[0m\u001b[0;34m\u001b[0m\u001b[0;34m\u001b[0m\u001b[0m\n",
      "\u001b[0;32m~/.virtualenvs/dissertacao/lib/python3.6/site-packages/seaborn/axisgrid.py\u001b[0m in \u001b[0;36mmap_dataframe\u001b[0;34m(self, func, *args, **kwargs)\u001b[0m\n\u001b[1;32m    775\u001b[0m \u001b[0;34m\u001b[0m\u001b[0m\n\u001b[1;32m    776\u001b[0m             \u001b[0;31m# Draw the plot\u001b[0m\u001b[0;34m\u001b[0m\u001b[0;34m\u001b[0m\u001b[0;34m\u001b[0m\u001b[0m\n\u001b[0;32m--> 777\u001b[0;31m             \u001b[0mself\u001b[0m\u001b[0;34m.\u001b[0m\u001b[0m_facet_plot\u001b[0m\u001b[0;34m(\u001b[0m\u001b[0mfunc\u001b[0m\u001b[0;34m,\u001b[0m \u001b[0max\u001b[0m\u001b[0;34m,\u001b[0m \u001b[0margs\u001b[0m\u001b[0;34m,\u001b[0m \u001b[0mkwargs\u001b[0m\u001b[0;34m)\u001b[0m\u001b[0;34m\u001b[0m\u001b[0;34m\u001b[0m\u001b[0m\n\u001b[0m\u001b[1;32m    778\u001b[0m \u001b[0;34m\u001b[0m\u001b[0m\n\u001b[1;32m    779\u001b[0m         \u001b[0;31m# For axis labels, prefer to use positional args for backcompat\u001b[0m\u001b[0;34m\u001b[0m\u001b[0;34m\u001b[0m\u001b[0;34m\u001b[0m\u001b[0m\n",
      "\u001b[0;32m~/.virtualenvs/dissertacao/lib/python3.6/site-packages/seaborn/axisgrid.py\u001b[0m in \u001b[0;36m_facet_plot\u001b[0;34m(self, func, ax, plot_args, plot_kwargs)\u001b[0m\n\u001b[1;32m    804\u001b[0m             \u001b[0mplot_args\u001b[0m \u001b[0;34m=\u001b[0m \u001b[0;34m[\u001b[0m\u001b[0;34m]\u001b[0m\u001b[0;34m\u001b[0m\u001b[0;34m\u001b[0m\u001b[0m\n\u001b[1;32m    805\u001b[0m             \u001b[0mplot_kwargs\u001b[0m\u001b[0;34m[\u001b[0m\u001b[0;34m\"ax\"\u001b[0m\u001b[0;34m]\u001b[0m \u001b[0;34m=\u001b[0m \u001b[0max\u001b[0m\u001b[0;34m\u001b[0m\u001b[0;34m\u001b[0m\u001b[0m\n\u001b[0;32m--> 806\u001b[0;31m         \u001b[0mfunc\u001b[0m\u001b[0;34m(\u001b[0m\u001b[0;34m*\u001b[0m\u001b[0mplot_args\u001b[0m\u001b[0;34m,\u001b[0m \u001b[0;34m**\u001b[0m\u001b[0mplot_kwargs\u001b[0m\u001b[0;34m)\u001b[0m\u001b[0;34m\u001b[0m\u001b[0;34m\u001b[0m\u001b[0m\n\u001b[0m\u001b[1;32m    807\u001b[0m \u001b[0;34m\u001b[0m\u001b[0m\n\u001b[1;32m    808\u001b[0m         \u001b[0;31m# Sort out the supporting information\u001b[0m\u001b[0;34m\u001b[0m\u001b[0;34m\u001b[0m\u001b[0;34m\u001b[0m\u001b[0m\n",
      "\u001b[0;32m~/.virtualenvs/dissertacao/lib/python3.6/site-packages/seaborn/_decorators.py\u001b[0m in \u001b[0;36minner_f\u001b[0;34m(*args, **kwargs)\u001b[0m\n\u001b[1;32m     44\u001b[0m             )\n\u001b[1;32m     45\u001b[0m         \u001b[0mkwargs\u001b[0m\u001b[0;34m.\u001b[0m\u001b[0mupdate\u001b[0m\u001b[0;34m(\u001b[0m\u001b[0;34m{\u001b[0m\u001b[0mk\u001b[0m\u001b[0;34m:\u001b[0m \u001b[0marg\u001b[0m \u001b[0;32mfor\u001b[0m \u001b[0mk\u001b[0m\u001b[0;34m,\u001b[0m \u001b[0marg\u001b[0m \u001b[0;32min\u001b[0m \u001b[0mzip\u001b[0m\u001b[0;34m(\u001b[0m\u001b[0msig\u001b[0m\u001b[0;34m.\u001b[0m\u001b[0mparameters\u001b[0m\u001b[0;34m,\u001b[0m \u001b[0margs\u001b[0m\u001b[0;34m)\u001b[0m\u001b[0;34m}\u001b[0m\u001b[0;34m)\u001b[0m\u001b[0;34m\u001b[0m\u001b[0;34m\u001b[0m\u001b[0m\n\u001b[0;32m---> 46\u001b[0;31m         \u001b[0;32mreturn\u001b[0m \u001b[0mf\u001b[0m\u001b[0;34m(\u001b[0m\u001b[0;34m**\u001b[0m\u001b[0mkwargs\u001b[0m\u001b[0;34m)\u001b[0m\u001b[0;34m\u001b[0m\u001b[0;34m\u001b[0m\u001b[0m\n\u001b[0m\u001b[1;32m     47\u001b[0m     \u001b[0;32mreturn\u001b[0m \u001b[0minner_f\u001b[0m\u001b[0;34m\u001b[0m\u001b[0;34m\u001b[0m\u001b[0m\n\u001b[1;32m     48\u001b[0m \u001b[0;34m\u001b[0m\u001b[0m\n",
      "\u001b[0;32m~/.virtualenvs/dissertacao/lib/python3.6/site-packages/seaborn/categorical.py\u001b[0m in \u001b[0;36mbarplot\u001b[0;34m(x, y, hue, data, order, hue_order, estimator, ci, n_boot, units, seed, orient, color, palette, saturation, errcolor, errwidth, capsize, dodge, ax, **kwargs)\u001b[0m\n\u001b[1;32m   3183\u001b[0m                           \u001b[0mestimator\u001b[0m\u001b[0;34m,\u001b[0m \u001b[0mci\u001b[0m\u001b[0;34m,\u001b[0m \u001b[0mn_boot\u001b[0m\u001b[0;34m,\u001b[0m \u001b[0munits\u001b[0m\u001b[0;34m,\u001b[0m \u001b[0mseed\u001b[0m\u001b[0;34m,\u001b[0m\u001b[0;34m\u001b[0m\u001b[0;34m\u001b[0m\u001b[0m\n\u001b[1;32m   3184\u001b[0m                           \u001b[0morient\u001b[0m\u001b[0;34m,\u001b[0m \u001b[0mcolor\u001b[0m\u001b[0;34m,\u001b[0m \u001b[0mpalette\u001b[0m\u001b[0;34m,\u001b[0m \u001b[0msaturation\u001b[0m\u001b[0;34m,\u001b[0m\u001b[0;34m\u001b[0m\u001b[0;34m\u001b[0m\u001b[0m\n\u001b[0;32m-> 3185\u001b[0;31m                           errcolor, errwidth, capsize, dodge)\n\u001b[0m\u001b[1;32m   3186\u001b[0m \u001b[0;34m\u001b[0m\u001b[0m\n\u001b[1;32m   3187\u001b[0m     \u001b[0;32mif\u001b[0m \u001b[0max\u001b[0m \u001b[0;32mis\u001b[0m \u001b[0;32mNone\u001b[0m\u001b[0;34m:\u001b[0m\u001b[0;34m\u001b[0m\u001b[0;34m\u001b[0m\u001b[0m\n",
      "\u001b[0;32m~/.virtualenvs/dissertacao/lib/python3.6/site-packages/seaborn/categorical.py\u001b[0m in \u001b[0;36m__init__\u001b[0;34m(self, x, y, hue, data, order, hue_order, estimator, ci, n_boot, units, seed, orient, color, palette, saturation, errcolor, errwidth, capsize, dodge)\u001b[0m\n\u001b[1;32m   1585\u001b[0m                                  order, hue_order, units)\n\u001b[1;32m   1586\u001b[0m         \u001b[0mself\u001b[0m\u001b[0;34m.\u001b[0m\u001b[0mestablish_colors\u001b[0m\u001b[0;34m(\u001b[0m\u001b[0mcolor\u001b[0m\u001b[0;34m,\u001b[0m \u001b[0mpalette\u001b[0m\u001b[0;34m,\u001b[0m \u001b[0msaturation\u001b[0m\u001b[0;34m)\u001b[0m\u001b[0;34m\u001b[0m\u001b[0;34m\u001b[0m\u001b[0m\n\u001b[0;32m-> 1587\u001b[0;31m         \u001b[0mself\u001b[0m\u001b[0;34m.\u001b[0m\u001b[0mestimate_statistic\u001b[0m\u001b[0;34m(\u001b[0m\u001b[0mestimator\u001b[0m\u001b[0;34m,\u001b[0m \u001b[0mci\u001b[0m\u001b[0;34m,\u001b[0m \u001b[0mn_boot\u001b[0m\u001b[0;34m,\u001b[0m \u001b[0mseed\u001b[0m\u001b[0;34m)\u001b[0m\u001b[0;34m\u001b[0m\u001b[0;34m\u001b[0m\u001b[0m\n\u001b[0m\u001b[1;32m   1588\u001b[0m \u001b[0;34m\u001b[0m\u001b[0m\n\u001b[1;32m   1589\u001b[0m         \u001b[0mself\u001b[0m\u001b[0;34m.\u001b[0m\u001b[0mdodge\u001b[0m \u001b[0;34m=\u001b[0m \u001b[0mdodge\u001b[0m\u001b[0;34m\u001b[0m\u001b[0;34m\u001b[0m\u001b[0m\n",
      "\u001b[0;32m~/.virtualenvs/dissertacao/lib/python3.6/site-packages/seaborn/categorical.py\u001b[0m in \u001b[0;36mestimate_statistic\u001b[0;34m(self, estimator, ci, n_boot, seed)\u001b[0m\n\u001b[1;32m   1504\u001b[0m                     \u001b[0mhue_mask\u001b[0m \u001b[0;34m=\u001b[0m \u001b[0mself\u001b[0m\u001b[0;34m.\u001b[0m\u001b[0mplot_hues\u001b[0m\u001b[0;34m[\u001b[0m\u001b[0mi\u001b[0m\u001b[0;34m]\u001b[0m \u001b[0;34m==\u001b[0m \u001b[0mhue_level\u001b[0m\u001b[0;34m\u001b[0m\u001b[0;34m\u001b[0m\u001b[0m\n\u001b[1;32m   1505\u001b[0m                     \u001b[0;32mif\u001b[0m \u001b[0mself\u001b[0m\u001b[0;34m.\u001b[0m\u001b[0mplot_units\u001b[0m \u001b[0;32mis\u001b[0m \u001b[0;32mNone\u001b[0m\u001b[0;34m:\u001b[0m\u001b[0;34m\u001b[0m\u001b[0;34m\u001b[0m\u001b[0m\n\u001b[0;32m-> 1506\u001b[0;31m                         \u001b[0mstat_data\u001b[0m \u001b[0;34m=\u001b[0m \u001b[0mremove_na\u001b[0m\u001b[0;34m(\u001b[0m\u001b[0mgroup_data\u001b[0m\u001b[0;34m[\u001b[0m\u001b[0mhue_mask\u001b[0m\u001b[0;34m]\u001b[0m\u001b[0;34m)\u001b[0m\u001b[0;34m\u001b[0m\u001b[0;34m\u001b[0m\u001b[0m\n\u001b[0m\u001b[1;32m   1507\u001b[0m                         \u001b[0munit_data\u001b[0m \u001b[0;34m=\u001b[0m \u001b[0;32mNone\u001b[0m\u001b[0;34m\u001b[0m\u001b[0;34m\u001b[0m\u001b[0m\n\u001b[1;32m   1508\u001b[0m                     \u001b[0;32melse\u001b[0m\u001b[0;34m:\u001b[0m\u001b[0;34m\u001b[0m\u001b[0;34m\u001b[0m\u001b[0m\n",
      "\u001b[0;32m~/.virtualenvs/dissertacao/lib/python3.6/site-packages/seaborn/utils.py\u001b[0m in \u001b[0;36mremove_na\u001b[0;34m(vector)\u001b[0m\n\u001b[1;32m    207\u001b[0m \u001b[0;34m\u001b[0m\u001b[0m\n\u001b[1;32m    208\u001b[0m     \"\"\"\n\u001b[0;32m--> 209\u001b[0;31m     \u001b[0;32mreturn\u001b[0m \u001b[0mvector\u001b[0m\u001b[0;34m[\u001b[0m\u001b[0mpd\u001b[0m\u001b[0;34m.\u001b[0m\u001b[0mnotnull\u001b[0m\u001b[0;34m(\u001b[0m\u001b[0mvector\u001b[0m\u001b[0;34m)\u001b[0m\u001b[0;34m]\u001b[0m\u001b[0;34m\u001b[0m\u001b[0;34m\u001b[0m\u001b[0m\n\u001b[0m\u001b[1;32m    210\u001b[0m \u001b[0;34m\u001b[0m\u001b[0m\n\u001b[1;32m    211\u001b[0m \u001b[0;34m\u001b[0m\u001b[0m\n",
      "\u001b[0;32m~/.virtualenvs/dissertacao/lib/python3.6/site-packages/pandas/core/series.py\u001b[0m in \u001b[0;36m__getitem__\u001b[0;34m(self, key)\u001b[0m\n\u001b[1;32m    902\u001b[0m             \u001b[0mkey\u001b[0m \u001b[0;34m=\u001b[0m \u001b[0mcheck_bool_indexer\u001b[0m\u001b[0;34m(\u001b[0m\u001b[0mself\u001b[0m\u001b[0;34m.\u001b[0m\u001b[0mindex\u001b[0m\u001b[0;34m,\u001b[0m \u001b[0mkey\u001b[0m\u001b[0;34m)\u001b[0m\u001b[0;34m\u001b[0m\u001b[0;34m\u001b[0m\u001b[0m\n\u001b[1;32m    903\u001b[0m             \u001b[0mkey\u001b[0m \u001b[0;34m=\u001b[0m \u001b[0mnp\u001b[0m\u001b[0;34m.\u001b[0m\u001b[0masarray\u001b[0m\u001b[0;34m(\u001b[0m\u001b[0mkey\u001b[0m\u001b[0;34m,\u001b[0m \u001b[0mdtype\u001b[0m\u001b[0;34m=\u001b[0m\u001b[0mbool\u001b[0m\u001b[0;34m)\u001b[0m\u001b[0;34m\u001b[0m\u001b[0;34m\u001b[0m\u001b[0m\n\u001b[0;32m--> 904\u001b[0;31m             \u001b[0;32mreturn\u001b[0m \u001b[0mself\u001b[0m\u001b[0;34m.\u001b[0m\u001b[0m_get_values\u001b[0m\u001b[0;34m(\u001b[0m\u001b[0mkey\u001b[0m\u001b[0;34m)\u001b[0m\u001b[0;34m\u001b[0m\u001b[0;34m\u001b[0m\u001b[0m\n\u001b[0m\u001b[1;32m    905\u001b[0m \u001b[0;34m\u001b[0m\u001b[0m\n\u001b[1;32m    906\u001b[0m         \u001b[0;32mreturn\u001b[0m \u001b[0mself\u001b[0m\u001b[0;34m.\u001b[0m\u001b[0m_get_with\u001b[0m\u001b[0;34m(\u001b[0m\u001b[0mkey\u001b[0m\u001b[0;34m)\u001b[0m\u001b[0;34m\u001b[0m\u001b[0;34m\u001b[0m\u001b[0m\n",
      "\u001b[0;32m~/.virtualenvs/dissertacao/lib/python3.6/site-packages/pandas/core/series.py\u001b[0m in \u001b[0;36m_get_values\u001b[0;34m(self, indexer)\u001b[0m\n\u001b[1;32m    964\u001b[0m     \u001b[0;32mdef\u001b[0m \u001b[0m_get_values\u001b[0m\u001b[0;34m(\u001b[0m\u001b[0mself\u001b[0m\u001b[0;34m,\u001b[0m \u001b[0mindexer\u001b[0m\u001b[0;34m)\u001b[0m\u001b[0;34m:\u001b[0m\u001b[0;34m\u001b[0m\u001b[0;34m\u001b[0m\u001b[0m\n\u001b[1;32m    965\u001b[0m         \u001b[0;32mtry\u001b[0m\u001b[0;34m:\u001b[0m\u001b[0;34m\u001b[0m\u001b[0;34m\u001b[0m\u001b[0m\n\u001b[0;32m--> 966\u001b[0;31m             \u001b[0;32mreturn\u001b[0m \u001b[0mself\u001b[0m\u001b[0;34m.\u001b[0m\u001b[0m_constructor\u001b[0m\u001b[0;34m(\u001b[0m\u001b[0mself\u001b[0m\u001b[0;34m.\u001b[0m\u001b[0m_mgr\u001b[0m\u001b[0;34m.\u001b[0m\u001b[0mget_slice\u001b[0m\u001b[0;34m(\u001b[0m\u001b[0mindexer\u001b[0m\u001b[0;34m)\u001b[0m\u001b[0;34m)\u001b[0m\u001b[0;34m.\u001b[0m\u001b[0m__finalize__\u001b[0m\u001b[0;34m(\u001b[0m\u001b[0mself\u001b[0m\u001b[0;34m,\u001b[0m\u001b[0;34m)\u001b[0m\u001b[0;34m\u001b[0m\u001b[0;34m\u001b[0m\u001b[0m\n\u001b[0m\u001b[1;32m    967\u001b[0m         \u001b[0;32mexcept\u001b[0m \u001b[0mValueError\u001b[0m\u001b[0;34m:\u001b[0m\u001b[0;34m\u001b[0m\u001b[0;34m\u001b[0m\u001b[0m\n\u001b[1;32m    968\u001b[0m             \u001b[0;31m# mpl compat if we look up e.g. ser[:, np.newaxis];\u001b[0m\u001b[0;34m\u001b[0m\u001b[0;34m\u001b[0m\u001b[0;34m\u001b[0m\u001b[0m\n",
      "\u001b[0;32m~/.virtualenvs/dissertacao/lib/python3.6/site-packages/pandas/core/internals/managers.py\u001b[0m in \u001b[0;36mget_slice\u001b[0;34m(self, slobj, axis)\u001b[0m\n\u001b[1;32m   1603\u001b[0m         \u001b[0marray\u001b[0m \u001b[0;34m=\u001b[0m \u001b[0mblk\u001b[0m\u001b[0;34m.\u001b[0m\u001b[0m_slice\u001b[0m\u001b[0;34m(\u001b[0m\u001b[0mslobj\u001b[0m\u001b[0;34m)\u001b[0m\u001b[0;34m\u001b[0m\u001b[0;34m\u001b[0m\u001b[0m\n\u001b[1;32m   1604\u001b[0m         \u001b[0mblock\u001b[0m \u001b[0;34m=\u001b[0m \u001b[0mblk\u001b[0m\u001b[0;34m.\u001b[0m\u001b[0mmake_block_same_class\u001b[0m\u001b[0;34m(\u001b[0m\u001b[0marray\u001b[0m\u001b[0;34m,\u001b[0m \u001b[0mplacement\u001b[0m\u001b[0;34m=\u001b[0m\u001b[0mslice\u001b[0m\u001b[0;34m(\u001b[0m\u001b[0;36m0\u001b[0m\u001b[0;34m,\u001b[0m \u001b[0mlen\u001b[0m\u001b[0;34m(\u001b[0m\u001b[0marray\u001b[0m\u001b[0;34m)\u001b[0m\u001b[0;34m)\u001b[0m\u001b[0;34m)\u001b[0m\u001b[0;34m\u001b[0m\u001b[0;34m\u001b[0m\u001b[0m\n\u001b[0;32m-> 1605\u001b[0;31m         \u001b[0;32mreturn\u001b[0m \u001b[0mtype\u001b[0m\u001b[0;34m(\u001b[0m\u001b[0mself\u001b[0m\u001b[0;34m)\u001b[0m\u001b[0;34m(\u001b[0m\u001b[0mblock\u001b[0m\u001b[0;34m,\u001b[0m \u001b[0mself\u001b[0m\u001b[0;34m.\u001b[0m\u001b[0mindex\u001b[0m\u001b[0;34m[\u001b[0m\u001b[0mslobj\u001b[0m\u001b[0;34m]\u001b[0m\u001b[0;34m)\u001b[0m\u001b[0;34m\u001b[0m\u001b[0;34m\u001b[0m\u001b[0m\n\u001b[0m\u001b[1;32m   1606\u001b[0m \u001b[0;34m\u001b[0m\u001b[0m\n\u001b[1;32m   1607\u001b[0m     \u001b[0;34m@\u001b[0m\u001b[0mproperty\u001b[0m\u001b[0;34m\u001b[0m\u001b[0;34m\u001b[0m\u001b[0m\n",
      "\u001b[0;32m~/.virtualenvs/dissertacao/lib/python3.6/site-packages/pandas/core/indexes/base.py\u001b[0m in \u001b[0;36m__getitem__\u001b[0;34m(self, key)\u001b[0m\n\u001b[1;32m   4109\u001b[0m             \u001b[0;32mreturn\u001b[0m \u001b[0mpromote\u001b[0m\u001b[0;34m(\u001b[0m\u001b[0mgetitem\u001b[0m\u001b[0;34m(\u001b[0m\u001b[0mkey\u001b[0m\u001b[0;34m)\u001b[0m\u001b[0;34m)\u001b[0m\u001b[0;34m\u001b[0m\u001b[0;34m\u001b[0m\u001b[0m\n\u001b[1;32m   4110\u001b[0m \u001b[0;34m\u001b[0m\u001b[0m\n\u001b[0;32m-> 4111\u001b[0;31m         \u001b[0;32mif\u001b[0m \u001b[0mcom\u001b[0m\u001b[0;34m.\u001b[0m\u001b[0mis_bool_indexer\u001b[0m\u001b[0;34m(\u001b[0m\u001b[0mkey\u001b[0m\u001b[0;34m)\u001b[0m\u001b[0;34m:\u001b[0m\u001b[0;34m\u001b[0m\u001b[0;34m\u001b[0m\u001b[0m\n\u001b[0m\u001b[1;32m   4112\u001b[0m             \u001b[0mkey\u001b[0m \u001b[0;34m=\u001b[0m \u001b[0mnp\u001b[0m\u001b[0;34m.\u001b[0m\u001b[0masarray\u001b[0m\u001b[0;34m(\u001b[0m\u001b[0mkey\u001b[0m\u001b[0;34m,\u001b[0m \u001b[0mdtype\u001b[0m\u001b[0;34m=\u001b[0m\u001b[0mbool\u001b[0m\u001b[0;34m)\u001b[0m\u001b[0;34m\u001b[0m\u001b[0;34m\u001b[0m\u001b[0m\n\u001b[1;32m   4113\u001b[0m \u001b[0;34m\u001b[0m\u001b[0m\n",
      "\u001b[0;32m~/.virtualenvs/dissertacao/lib/python3.6/site-packages/pandas/core/common.py\u001b[0m in \u001b[0;36mis_bool_indexer\u001b[0;34m(key)\u001b[0m\n\u001b[1;32m    123\u001b[0m         \u001b[0;32mand\u001b[0m \u001b[0mconvert\u001b[0m \u001b[0mto\u001b[0m \u001b[0man\u001b[0m \u001b[0mndarray\u001b[0m\u001b[0;34m.\u001b[0m\u001b[0;34m\u001b[0m\u001b[0;34m\u001b[0m\u001b[0m\n\u001b[1;32m    124\u001b[0m     \"\"\"\n\u001b[0;32m--> 125\u001b[0;31m     if isinstance(key, (ABCSeries, np.ndarray, ABCIndex)) or (\n\u001b[0m\u001b[1;32m    126\u001b[0m         \u001b[0mis_array_like\u001b[0m\u001b[0;34m(\u001b[0m\u001b[0mkey\u001b[0m\u001b[0;34m)\u001b[0m \u001b[0;32mand\u001b[0m \u001b[0mis_extension_array_dtype\u001b[0m\u001b[0;34m(\u001b[0m\u001b[0mkey\u001b[0m\u001b[0;34m.\u001b[0m\u001b[0mdtype\u001b[0m\u001b[0;34m)\u001b[0m\u001b[0;34m\u001b[0m\u001b[0;34m\u001b[0m\u001b[0m\n\u001b[1;32m    127\u001b[0m     ):\n",
      "\u001b[0;32m~/.virtualenvs/dissertacao/lib/python3.6/site-packages/pandas/core/dtypes/generic.py\u001b[0m in \u001b[0;36m_check\u001b[0;34m(cls, inst)\u001b[0m\n\u001b[1;32m     10\u001b[0m     \u001b[0;34m@\u001b[0m\u001b[0mclassmethod\u001b[0m  \u001b[0;31m# type: ignore\u001b[0m\u001b[0;34m\u001b[0m\u001b[0;34m\u001b[0m\u001b[0m\n\u001b[1;32m     11\u001b[0m     \u001b[0;32mdef\u001b[0m \u001b[0m_check\u001b[0m\u001b[0;34m(\u001b[0m\u001b[0mcls\u001b[0m\u001b[0;34m,\u001b[0m \u001b[0minst\u001b[0m\u001b[0;34m)\u001b[0m \u001b[0;34m->\u001b[0m \u001b[0mbool\u001b[0m\u001b[0;34m:\u001b[0m\u001b[0;34m\u001b[0m\u001b[0;34m\u001b[0m\u001b[0m\n\u001b[0;32m---> 12\u001b[0;31m         \u001b[0;32mreturn\u001b[0m \u001b[0mgetattr\u001b[0m\u001b[0;34m(\u001b[0m\u001b[0minst\u001b[0m\u001b[0;34m,\u001b[0m \u001b[0mattr\u001b[0m\u001b[0;34m,\u001b[0m \u001b[0;34m\"_typ\"\u001b[0m\u001b[0;34m)\u001b[0m \u001b[0;32min\u001b[0m \u001b[0mcomp\u001b[0m\u001b[0;34m\u001b[0m\u001b[0;34m\u001b[0m\u001b[0m\n\u001b[0m\u001b[1;32m     13\u001b[0m \u001b[0;34m\u001b[0m\u001b[0m\n\u001b[1;32m     14\u001b[0m     \u001b[0mdct\u001b[0m \u001b[0;34m=\u001b[0m \u001b[0mdict\u001b[0m\u001b[0;34m(\u001b[0m\u001b[0m__instancecheck__\u001b[0m\u001b[0;34m=\u001b[0m\u001b[0m_check\u001b[0m\u001b[0;34m,\u001b[0m \u001b[0m__subclasscheck__\u001b[0m\u001b[0;34m=\u001b[0m\u001b[0m_check\u001b[0m\u001b[0;34m)\u001b[0m\u001b[0;34m\u001b[0m\u001b[0;34m\u001b[0m\u001b[0m\n",
      "\u001b[0;31mKeyboardInterrupt\u001b[0m: "
     ]
    },
    {
     "data": {
      "image/png": "[encoded data removed]",
      "text/plain": [
       "<Figure size 360x360 with 1 Axes>"
      ]
     },
     "metadata": {},
     "output_type": "display_data"
    }
   ],
   "source": [
    "sns.factorplot(x='UserID', y='count', hue='year-month', data=user_month_interactions, kind='bar')"
   ]
  },
  {
   "cell_type": "code",
   "execution_count": 121,
   "metadata": {},
   "outputs": [
    {
     "data": {
      "text/plain": [
       "226310"
      ]
     },
     "execution_count": 121,
     "metadata": {},
     "output_type": "execute_result"
    }
   ],
   "source": [
    "data.shape[050E3]"
   ]
  },
  {
   "cell_type": "code",
   "execution_count": 118,
   "metadata": {},
   "outputs": [
    {
     "data": {
      "text/plain": [
       "11.533333333333333"
      ]
     },
     "execution_count": 118,
     "metadata": {},
     "output_type": "execute_result"
    }
   ],
   "source": [
    "trimestres = (data['date'].tail(1).values[0] - data['date'].head(1).values[0]).days/(3*30)"
   ]
  },
  {
   "cell_type": "code",
   "execution_count": 80,
   "metadata": {},
   "outputs": [
    {
     "data": {
      "text/plain": [
       "0         2000-04-26\n",
       "1         2000-04-26\n",
       "2         2000-04-26\n",
       "3         2000-04-26\n",
       "4         2000-04-26\n",
       "             ...    \n",
       "226305    2003-02-27\n",
       "226306    2003-02-27\n",
       "226307    2003-02-27\n",
       "226308    2003-02-28\n",
       "226309    2003-02-28\n",
       "Name: date, Length: 226310, dtype: object"
      ]
     },
     "execution_count": 80,
     "metadata": {},
     "output_type": "execute_result"
    }
   ],
   "source": [
    "sns.lineplot(x='date', y='')"
   ]
  },
  {
   "cell_type": "code",
   "execution_count": 13,
   "metadata": {},
   "outputs": [],
   "source": [
    "num_factors = 160\n",
    "num_iter = 8\n",
    "learn_rate = 0.1\n",
    "regularization = 0.4\n",
    "num_nodes = 8"
   ]
  },
  {
   "cell_type": "code",
   "execution_count": 14,
   "metadata": {},
   "outputs": [],
   "source": [
    "# transforma interações em objeto que contem mappings usuário-itens e item-usuários, contém também métodos de suporte.\n",
    "# recebe listas\n",
    "# stream = ImplicitData(data['UserID'].to_list(), data['ItemID'].to_list())\n",
    "stream = ImplicitData(data['UserID'], data['ItemID'])\n",
    "\n",
    "empty_stream = ImplicitData([], [])"
   ]
  },
  {
   "cell_type": "code",
   "execution_count": 15,
   "metadata": {},
   "outputs": [],
   "source": [
    "# O modelo não pode conter o stream, deve ser iniciado com uma lista vazia\n",
    "# Se o stream for passado, ao excluir itens conhecidos o recall é sempre 0. Ao permitir a recomendação de itens já vistos, o recall não é 0.\n",
    "model = ISGD(empty_stream, num_factors, num_iter, learn_rate = learn_rate, u_regularization = regularization, i_regularization = regularization, random_seed = 10)"
   ]
  },
  {
   "cell_type": "code",
   "execution_count": 16,
   "metadata": {},
   "outputs": [],
   "source": [
    "# criamos instancia de EvaluateAndStore para criar holdouts com o método EvaluateAndStore\n",
    "n_holdouts = int( data.shape[0]/n_iter_bucket )\n",
    "eval_movielens = EvaluateAndStore(model=model, data=stream, n_holdouts=n_holdouts, metrics=[\"Recall@N\"], N_recommendations=20, seed=42)"
   ]
  },
  {
   "cell_type": "code",
   "execution_count": 17,
   "metadata": {},
   "outputs": [
    {
     "name": "stdout",
     "output_type": "stream",
     "text": [
      "25 stored in 3\n",
      "25 used in training\n",
      "25 used in training\n",
      "25 used in training\n",
      "25 used in training\n",
      "25 used in training\n",
      "25 used in training\n",
      "25 used in training\n",
      "25 used in training\n",
      "25 used in training\n",
      "24 stored in 3\n",
      "25 used in training\n",
      "24 used in training\n",
      "24 used in training\n",
      "25 used in training\n",
      "24 used in training\n",
      "25 used in training\n",
      "25 used in training\n",
      "24 used in training\n",
      "25 used in training\n",
      "24 used in training\n",
      "25 used in training\n",
      "25 used in training\n",
      "25 used in training\n",
      "25 used in training\n",
      "25 stored in 3\n",
      "25 used in training\n",
      "25 used in training\n",
      "25 used in training\n",
      "25 stored in 3\n",
      "24 used in training\n",
      "24 used in training\n",
      "24 stored in 3\n",
      "24 used in training\n",
      "24 stored in 3\n",
      "24 used in training\n",
      "24 used in training\n",
      "25 used in training\n",
      "25 used in training\n",
      "24 used in training\n",
      "24 used in training\n",
      "24 used in training\n",
      "24 used in training\n",
      "24 used in training\n",
      "24 used in training\n",
      "22 used in training\n",
      "22 stored in 3\n",
      "22 used in training\n",
      "22 stored in 3\n",
      "24 stored in 3\n",
      "22 used in training\n",
      "24 used in training\n",
      "22 used in training\n",
      "24 used in training\n",
      "24 stored in 3\n",
      "24 used in training\n",
      "24 used in training\n",
      "24 used in training\n",
      "22 used in training\n",
      "22 used in training\n",
      "22 stored in 3\n",
      "24 used in training\n",
      "24 used in training\n",
      "22 used in training\n",
      "21 used in training\n",
      "21 used in training\n",
      "21 stored in 3\n",
      "21 used in training\n",
      "20 used in training\n",
      "20 used in training\n",
      "20 stored in 3\n",
      "20 stored in 3\n",
      "20 used in training\n",
      "20 used in training\n",
      "19 stored in 3\n",
      "19 used in training\n",
      "19 used in training\n",
      "19 used in training\n",
      "19 used in training\n",
      "19 used in training\n",
      "19 used in training\n",
      "19 used in training\n",
      "19 used in training\n",
      "19 used in training\n",
      "19 used in training\n",
      "19 used in training\n",
      "19 used in training\n",
      "19 used in training\n",
      "19 used in training\n",
      "19 used in training\n",
      "18 used in training\n",
      "18 used in training\n",
      "18 used in training\n",
      "18 used in training\n",
      "18 used in training\n",
      "18 stored in 3\n",
      "18 stored in 3\n",
      "18 used in training\n",
      "18 used in training\n",
      "18 used in training\n",
      "18 used in training\n",
      "18 used in training\n",
      "18 used in training\n",
      "18 used in training\n",
      "18 stored in 3\n",
      "18 used in training\n",
      "18 used in training\n",
      "18 used in training\n",
      "18 used in training\n",
      "18 used in training\n",
      "18 used in training\n",
      "18 stored in 3\n",
      "18 used in training\n",
      "18 used in training\n",
      "18 used in training\n",
      "18 used in training\n",
      "18 used in training\n",
      "18 used in training\n",
      "18 used in training\n",
      "18 used in training\n",
      "18 used in training\n",
      "18 used in training\n",
      "18 used in training\n",
      "18 used in training\n",
      "18 used in training\n",
      "18 used in training\n",
      "18 used in training\n",
      "18 used in training\n",
      "18 used in training\n",
      "18 used in training\n",
      "18 used in training\n",
      "18 used in training\n",
      "18 used in training\n",
      "18 used in training\n",
      "18 used in training\n",
      "18 used in training\n",
      "18 used in training\n",
      "18 used in training\n",
      "18 stored in 3\n",
      "18 stored in 3\n",
      "18 used in training\n",
      "18 used in training\n",
      "18 used in training\n",
      "18 used in training\n",
      "18 used in training\n",
      "18 used in training\n",
      "18 used in training\n",
      "18 used in training\n",
      "18 used in training\n",
      "18 used in training\n",
      "18 used in training\n",
      "18 used in training\n",
      "18 used in training\n",
      "18 used in training\n",
      "18 used in training\n",
      "18 used in training\n",
      "18 stored in 3\n",
      "18 used in training\n",
      "18 used in training\n",
      "18 used in training\n",
      "18 used in training\n",
      "18 used in training\n",
      "18 used in training\n",
      "18 used in training\n",
      "18 used in training\n",
      "18 used in training\n",
      "18 stored in 3\n",
      "18 used in training\n",
      "18 used in training\n",
      "18 used in training\n",
      "18 used in training\n",
      "18 used in training\n",
      "18 used in training\n",
      "18 used in training\n",
      "18 used in training\n",
      "18 stored in 3\n",
      "18 used in training\n",
      "18 used in training\n",
      "18 used in training\n",
      "18 used in training\n",
      "18 used in training\n",
      "18 used in training\n",
      "18 used in training\n",
      "18 used in training\n",
      "18 used in training\n",
      "18 used in training\n",
      "18 used in training\n",
      "18 used in training\n",
      "18 used in training\n",
      "18 used in training\n",
      "18 used in training\n",
      "18 used in training\n",
      "18 used in training\n",
      "18 used in training\n",
      "18 used in training\n",
      "17 used in training\n",
      "17 used in training\n",
      "17 used in training\n",
      "17 used in training\n",
      "17 used in training\n",
      "17 used in training\n",
      "17 used in training\n",
      "17 used in training\n",
      "17 used in training\n",
      "17 used in training\n",
      "17 used in training\n",
      "17 used in training\n",
      "17 used in training\n",
      "17 used in training\n",
      "17 used in training\n",
      "17 used in training\n",
      "17 used in training\n",
      "17 used in training\n",
      "17 stored in 3\n",
      "17 used in training\n",
      "17 used in training\n",
      "17 used in training\n",
      "17 stored in 3\n",
      "17 used in training\n",
      "17 used in training\n",
      "17 used in training\n",
      "17 used in training\n",
      "17 stored in 3\n",
      "17 used in training\n",
      "17 used in training\n",
      "17 used in training\n",
      "17 stored in 3\n",
      "17 used in training\n",
      "17 used in training\n",
      "17 used in training\n",
      "17 used in training\n",
      "17 used in training\n",
      "17 used in training\n",
      "17 used in training\n",
      "17 used in training\n",
      "17 used in training\n",
      "17 used in training\n",
      "17 used in training\n",
      "17 used in training\n",
      "17 used in training\n",
      "17 used in training\n",
      "17 used in training\n",
      "17 used in training\n",
      "17 stored in 3\n",
      "17 used in training\n",
      "17 used in training\n",
      "17 used in training\n",
      "17 used in training\n",
      "17 used in training\n",
      "17 used in training\n",
      "17 used in training\n",
      "17 used in training\n",
      "17 stored in 3\n",
      "17 used in training\n",
      "17 used in training\n",
      "17 used in training\n",
      "17 used in training\n",
      "17 used in training\n",
      "17 used in training\n",
      "17 used in training\n",
      "17 used in training\n",
      "17 used in training\n",
      "17 used in training\n",
      "17 used in training\n",
      "16 used in training\n",
      "16 used in training\n",
      "16 used in training\n",
      "16 used in training\n",
      "16 used in training\n",
      "15 used in training\n",
      "15 used in training\n",
      "15 used in training\n",
      "14 used in training\n",
      "14 used in training\n",
      "14 used in training\n",
      "14 used in training\n",
      "14 used in training\n",
      "14 used in training\n",
      "13 used in training\n",
      "13 used in training\n",
      "13 used in training\n",
      "13 used in training\n",
      "13 used in training\n",
      "13 stored in 3\n",
      "13 used in training\n",
      "13 used in training\n",
      "13 used in training\n",
      "13 used in training\n",
      "13 used in training\n",
      "12 used in training\n",
      "12 stored in 3\n",
      "12 used in training\n",
      "11 used in training\n",
      "11 used in training\n",
      "11 used in training\n",
      "11 used in training\n",
      "11 used in training\n",
      "11 used in training\n",
      "11 used in training\n",
      "11 used in training\n",
      "11 used in training\n",
      "11 used in training\n",
      "11 used in training\n",
      "11 used in training\n",
      "11 used in training\n",
      "11 used in training\n",
      "11 used in training\n",
      "11 used in training\n",
      "11 used in training\n",
      "12 used in training\n",
      "12 used in training\n",
      "12 used in training\n",
      "12 used in training\n",
      "12 used in training\n",
      "11 used in training\n",
      "11 used in training\n",
      "11 used in training\n",
      "11 stored in 3\n",
      "10 used in training\n",
      "10 used in training\n",
      "10 stored in 3\n",
      "10 used in training\n",
      "10 used in training\n",
      "9 used in training\n",
      "9 used in training\n",
      "9 used in training\n",
      "10 used in training\n",
      "10 used in training\n",
      "10 used in training\n",
      "10 used in training\n",
      "10 used in training\n",
      "10 used in training\n",
      "10 used in training\n",
      "10 used in training\n",
      "10 used in training\n",
      "10 used in training\n",
      "10 stored in 3\n",
      "9 used in training\n",
      "9 used in training\n",
      "10 used in training\n",
      "10 used in training\n",
      "10 used in training\n",
      "9 stored in 3\n",
      "9 stored in 3\n",
      "9 used in training\n",
      "9 stored in 3\n",
      "10 used in training\n",
      "9 used in training\n",
      "9 used in training\n",
      "10 stored in 3\n",
      "10 used in training\n",
      "9 used in training\n",
      "9 used in training\n",
      "9 used in training\n",
      "10 used in training\n",
      "9 used in training\n",
      "10 used in training\n",
      "10 stored in 3\n",
      "10 used in training\n",
      "10 used in training\n",
      "10 used in training\n",
      "10 used in training\n",
      "10 used in training\n",
      "10 used in training\n",
      "9 used in training\n",
      "10 used in training\n",
      "10 used in training\n",
      "10 used in training\n",
      "10 used in training\n",
      "10 used in training\n",
      "9 used in training\n",
      "10 used in training\n",
      "10 stored in 3\n",
      "10 used in training\n",
      "10 used in training\n",
      "10 used in training\n",
      "10 used in training\n",
      "10 used in training\n",
      "10 used in training\n",
      "10 used in training\n",
      "10 used in training\n",
      "10 used in training\n",
      "10 used in training\n",
      "10 used in training\n",
      "10 used in training\n",
      "10 used in training\n",
      "10 used in training\n",
      "10 used in training\n",
      "10 used in training\n",
      "10 used in training\n",
      "10 used in training\n",
      "10 stored in 3\n",
      "10 used in training\n",
      "10 used in training\n",
      "10 used in training\n",
      "10 stored in 3\n",
      "10 used in training\n",
      "10 used in training\n",
      "10 used in training\n",
      "10 used in training\n",
      "10 used in training\n",
      "10 used in training\n",
      "10 used in training\n",
      "10 used in training\n",
      "10 used in training\n",
      "10 used in training\n",
      "10 used in training\n",
      "10 used in training\n",
      "10 used in training\n",
      "10 used in training\n",
      "10 used in training\n",
      "10 used in training\n",
      "10 used in training\n",
      "10 used in training\n",
      "10 used in training\n",
      "10 stored in 3\n",
      "10 used in training\n",
      "10 used in training\n",
      "8 used in training\n",
      "8 used in training\n",
      "10 used in training\n",
      "10 used in training\n",
      "10 used in training\n",
      "8 used in training\n",
      "10 stored in 3\n",
      "10 used in training\n",
      "8 used in training\n",
      "8 used in training\n",
      "8 used in training\n",
      "8 stored in 3\n",
      "10 stored in 3\n",
      "10 used in training\n",
      "10 used in training\n",
      "8 used in training\n",
      "8 stored in 3\n",
      "8 used in training\n",
      "8 used in training\n",
      "8 used in training\n",
      "10 used in training\n",
      "8 stored in 3\n",
      "8 used in training\n",
      "8 stored in 3\n",
      "10 used in training\n",
      "8 used in training\n",
      "8 stored in 3\n",
      "10 used in training\n",
      "8 used in training\n",
      "8 stored in 3\n",
      "8 used in training\n",
      "8 used in training\n",
      "10 used in training\n",
      "10 used in training\n",
      "10 used in training\n",
      "8 stored in 3\n",
      "8 stored in 3\n",
      "8 used in training\n",
      "10 used in training\n",
      "10 used in training\n",
      "10 stored in 3\n",
      "8 used in training\n",
      "8 stored in 3\n",
      "8 stored in 3\n",
      "8 used in training\n",
      "8 used in training\n",
      "8 used in training\n",
      "8 used in training\n",
      "8 used in training\n",
      "8 used in training\n",
      "10 used in training\n",
      "8 used in training\n",
      "8 used in training\n",
      "8 stored in 3\n",
      "8 used in training\n",
      "8 used in training\n",
      "8 used in training\n",
      "8 used in training\n",
      "8 used in training\n",
      "8 used in training\n",
      "8 used in training\n",
      "8 used in training\n",
      "8 used in training\n",
      "7 used in training\n",
      "7 used in training\n",
      "7 used in training\n",
      "7 used in training\n",
      "7 used in training\n",
      "7 stored in 3\n",
      "7 used in training\n",
      "7 used in training\n",
      "7 used in training\n",
      "7 used in training\n",
      "7 stored in 3\n",
      "7 used in training\n",
      "7 used in training\n",
      "7 used in training\n",
      "7 used in training\n",
      "6 used in training\n",
      "6 used in training\n",
      "6 used in training\n",
      "6 used in training\n",
      "6 used in training\n",
      "6 used in training\n",
      "6 used in training\n",
      "6 used in training\n",
      "6 used in training\n",
      "6 used in training\n",
      "6 used in training\n",
      "6 used in training\n",
      "6 used in training\n",
      "6 used in training\n",
      "6 used in training\n",
      "6 used in training\n",
      "6 used in training\n",
      "5 stored in 3\n",
      "5 stored in 3\n",
      "5 used in training\n",
      "5 used in training\n",
      "5 used in training\n",
      "5 stored in 3\n",
      "5 used in training\n",
      "5 used in training\n",
      "5 used in training\n",
      "5 used in training\n",
      "5 used in training\n",
      "5 used in training\n",
      "5 used in training\n",
      "5 used in training\n",
      "5 stored in 3\n",
      "5 used in training\n",
      "5 used in training\n",
      "5 stored in 3\n",
      "5 used in training\n",
      "5 used in training\n",
      "5 used in training\n",
      "4 used in training\n",
      "4 used in training\n",
      "4 used in training\n",
      "4 used in training\n",
      "4 used in training\n",
      "4 stored in 3\n",
      "4 used in training\n",
      "4 used in training\n",
      "4 used in training\n",
      "4 used in training\n",
      "3 used in training\n",
      "3 used in training\n",
      "3 stored in 3\n",
      "3 used in training\n",
      "3 used in training\n",
      "3 used in training\n",
      "3 stored in 3\n",
      "3 used in training\n",
      "3 used in training\n",
      "3 used in training\n",
      "3 used in training\n",
      "2 used in training\n",
      "3 used in training\n",
      "3 used in training\n",
      "2 used in training\n",
      "2 used in training\n",
      "2 used in training\n",
      "3 used in training\n",
      "2 stored in 3\n",
      "3 used in training\n",
      "2 used in training\n",
      "2 used in training\n",
      "2 used in training\n",
      "2 used in training\n",
      "2 stored in 3\n",
      "2 used in training\n",
      "2 used in training\n",
      "2 used in training\n",
      "2 used in training\n",
      "2 stored in 3\n",
      "2 used in training\n",
      "2 used in training\n",
      "2 stored in 3\n",
      "2 used in training\n",
      "2 stored in 3\n",
      "2 used in training\n",
      "2 used in training\n",
      "2 used in training\n",
      "2 stored in 3\n",
      "2 used in training\n",
      "2 used in training\n",
      "2 used in training\n",
      "2 used in training\n",
      "19 used in training\n",
      "19 used in training\n",
      "19 stored in 3\n",
      "19 used in training\n",
      "19 used in training\n",
      "2 used in training\n",
      "19 used in training\n",
      "2 used in training\n",
      "2 used in training\n",
      "2 used in training\n",
      "19 stored in 3\n",
      "2 used in training\n",
      "19 used in training\n",
      "1 used in training\n",
      "1 used in training\n",
      "2 used in training\n",
      "19 used in training\n",
      "1 used in training\n",
      "19 used in training\n",
      "1 used in training\n",
      "1 used in training\n",
      "1 used in training\n",
      "1 used in training\n",
      "1 used in training\n",
      "1 used in training\n",
      "1 used in training\n",
      "1 used in training\n",
      "1 used in training\n",
      "1 used in training\n",
      "15 used in training\n",
      "23 used in training\n",
      "23 used in training\n",
      "23 used in training\n",
      "23 used in training\n",
      "23 used in training\n",
      "23 stored in 3\n",
      "23 used in training\n",
      "23 used in training\n",
      "23 used in training\n",
      "23 used in training\n",
      "23 stored in 3\n",
      "23 used in training\n",
      "23 used in training\n",
      "23 used in training\n",
      "23 used in training\n",
      "23 used in training\n",
      "23 used in training\n",
      "23 stored in 3\n",
      "23 used in training\n",
      "23 stored in 3\n",
      "23 used in training\n",
      "23 used in training\n",
      "23 used in training\n",
      "23 used in training\n",
      "23 used in training\n",
      "23 used in training\n",
      "23 used in training\n",
      "23 used in training\n",
      "23 used in training\n",
      "23 used in training\n",
      "23 used in training\n",
      "23 used in training\n",
      "23 used in training\n",
      "23 used in training\n",
      "23 used in training\n",
      "23 stored in 3\n",
      "19 used in training\n",
      "19 used in training\n",
      "19 used in training\n",
      "19 used in training\n",
      "19 used in training\n",
      "19 stored in 3\n",
      "19 used in training\n",
      "19 used in training\n",
      "19 stored in 3\n",
      "19 used in training\n",
      "19 stored in 3\n",
      "19 used in training\n",
      "19 used in training\n",
      "19 used in training\n",
      "19 used in training\n",
      "19 used in training\n",
      "19 used in training\n",
      "19 used in training\n",
      "1 used in training\n",
      "1 used in training\n",
      "1 used in training\n",
      "1 used in training\n",
      "1 used in training\n",
      "19 stored in 3\n",
      "11 used in training\n",
      "11 used in training\n",
      "11 used in training\n",
      "11 used in training\n",
      "11 used in training\n",
      "11 used in training\n",
      "11 used in training\n",
      "11 stored in 3\n",
      "10 used in training\n",
      "10 used in training\n",
      "10 used in training\n",
      "10 stored in 3\n",
      "10 used in training\n",
      "10 used in training\n",
      "10 used in training\n",
      "10 used in training\n",
      "10 used in training\n",
      "10 used in training\n",
      "10 used in training\n",
      "10 used in training\n",
      "10 used in training\n",
      "10 stored in 3\n",
      "10 used in training\n",
      "10 used in training\n",
      "10 used in training\n",
      "10 used in training\n",
      "10 used in training\n",
      "10 used in training\n",
      "10 used in training\n",
      "10 used in training\n",
      "10 used in training\n",
      "10 stored in 3\n",
      "10 used in training\n",
      "10 used in training\n",
      "10 used in training\n",
      "10 used in training\n",
      "10 used in training\n",
      "10 used in training\n",
      "10 used in training\n",
      "10 used in training\n",
      "10 used in training\n",
      "10 used in training\n",
      "10 used in training\n",
      "10 used in training\n",
      "19 used in training\n",
      "19 used in training\n",
      "19 used in training\n",
      "10 used in training\n",
      "10 used in training\n",
      "10 used in training\n",
      "10 used in training\n",
      "10 used in training\n",
      "10 used in training\n",
      "10 used in training\n",
      "10 stored in 3\n",
      "10 used in training\n",
      "10 used in training\n",
      "10 used in training\n",
      "10 used in training\n",
      "10 used in training\n",
      "10 used in training\n",
      "10 used in training\n",
      "10 used in training\n",
      "10 used in training\n",
      "19 used in training\n",
      "19 used in training\n",
      "19 used in training\n",
      "19 stored in 3\n",
      "19 stored in 3\n",
      "19 used in training\n",
      "24 used in training\n",
      "23 stored in 3\n",
      "23 used in training\n",
      "23 used in training\n",
      "23 stored in 3\n",
      "23 used in training\n",
      "19 used in training\n",
      "20 used in training\n",
      "20 used in training\n"
     ]
    }
   ],
   "source": [
    "%%time\n",
    "# interações de 0 a 100 são usadas para pre treino. \n",
    "# count define numero de interações a serem usadas.\n",
    "# holdouts e checkpoints são \n",
    "# store_only - somente guarda holdouts, não faz avaliação prequencial.\n",
    "# default_user - Somente usado quando store_only = False durante avaliação prequencial.\n",
    "_ = eval_movielens.EvaluateAndStore(start_eval=0, count=stream.size, store_only=True) # 1:40 min"
   ]
  },
  {
   "cell_type": "code",
   "execution_count": 32,
   "metadata": {},
   "outputs": [
    {
     "data": {
      "image/png": "[encoded data removed]",
      "text/plain": [
       "<Figure size 720x360 with 1 Axes>"
      ]
     },
     "metadata": {},
     "output_type": "display_data"
    }
   ],
   "source": [
    "plot_bucket_size(eval_object=eval_movielens, dataset_name='movielens', filename='movielens_bucket_size.png')"
   ]
  },
  {
   "cell_type": "code",
   "execution_count": 33,
   "metadata": {},
   "outputs": [
    {
     "data": {
      "image/png": "[encoded data removed]",
      "text/plain": [
       "<Figure size 720x360 with 1 Axes>"
      ]
     },
     "metadata": {},
     "output_type": "display_data"
    }
   ],
   "source": [
    "plot_n_users_per_bucket(eval_object=eval_movielens, dataset_name='movielens', filename='movielens_user_per_bucket.png')"
   ]
  },
  {
   "cell_type": "code",
   "execution_count": 57,
   "metadata": {},
   "outputs": [],
   "source": [
    "movielens_ubm = get_bucket_map(eval_object=eval_movielens)\n",
    "movielens_median_user_presence = median_user_presence_per_bucket(eval_object=eval_movielens, user_bucket_map=movielens_ubm)\n",
    "print( movielens_median_user_presence )\n",
    "store_user_presence(dataset_name='movielens', median_user_presence=movielens_median_user_presence)"
   ]
  },
  {
   "cell_type": "code",
   "execution_count": 55,
   "metadata": {},
   "outputs": [
    {
     "data": {
      "text/plain": [
       "['output/joblib_bucket_info_dump/movielens_ubm']"
      ]
     },
     "execution_count": 55,
     "metadata": {},
     "output_type": "execute_result"
    }
   ],
   "source": [
    "joblib.dump(movielens_ubm, 'output/joblib_bucket_info_dump/movielens_ubm', compress=True)"
   ]
  },
  {
   "cell_type": "markdown",
   "metadata": {},
   "source": [
    "___"
   ]
  },
  {
   "cell_type": "code",
   "execution_count": null,
   "metadata": {},
   "outputs": [],
   "source": [
    "data = pd.read_csv(\"../datasets/ymusic_gte90_6kusers.tsv\",\"\\t\")\n",
    "stream = ImplicitData(data['user_id'],data['item_id'])\n",
    "empty_stream = ImplicitData([], [])"
   ]
  },
  {
   "cell_type": "code",
   "execution_count": null,
   "metadata": {},
   "outputs": [],
   "source": [
    "num_factors = 200\n",
    "num_iter = 9\n",
    "learn_rate = 0.25\n",
    "regularization = 0.45\n",
    "num_nodes = 16"
   ]
  },
  {
   "cell_type": "code",
   "execution_count": null,
   "metadata": {},
   "outputs": [],
   "source": [
    "model = ISGD(empty_stream, num_factors, num_iter, learn_rate = learn_rate, u_regularization = regularization, i_regularization = regularization, random_seed = 10)"
   ]
  },
  {
   "cell_type": "code",
   "execution_count": null,
   "metadata": {},
   "outputs": [],
   "source": [
    "n_holdouts = int( data.shape[0]/n_iter_bucket )\n",
    "eval_ymusic = EvaluateAndStore(model=model, data=stream, n_holdouts=n_holdouts, metrics = [\"Recall@N\"], N_recommendations=20, seed=42)"
   ]
  },
  {
   "cell_type": "code",
   "execution_count": null,
   "metadata": {},
   "outputs": [],
   "source": [
    "_=eval_ymusic.EvaluateAndStore(start_eval=0, count=stream.size, store_only=True) # 42 min"
   ]
  },
  {
   "cell_type": "code",
   "execution_count": null,
   "metadata": {},
   "outputs": [],
   "source": [
    "joblib.dump(eval_ymusic, 'output/joblib_bucket_info_dump/eval_ymusic', compress=True)"
   ]
  },
  {
   "cell_type": "markdown",
   "metadata": {},
   "source": [
    "___\n",
    "### Lastfm"
   ]
  },
  {
   "cell_type": "code",
   "execution_count": null,
   "metadata": {},
   "outputs": [],
   "source": [
    "# importa dataset 'palco playlists'\n",
    "data = pd.read_csv(\"../datasets/lastfm_50u.tsv\",\"\\t\")\n",
    "\n",
    "# transforma interações em objeto que contem mappings usuário-itens e item-usuários, contém também métodos de suporte.\n",
    "# recebe listas\n",
    "stream = ImplicitData(data['user_id'], data['item_id'])\n",
    "\n",
    "empty_stream = ImplicitData([], [])"
   ]
  },
  {
   "cell_type": "code",
   "execution_count": null,
   "metadata": {},
   "outputs": [],
   "source": [
    "num_factors = 160\n",
    "num_iter = 4\n",
    "learn_rate = 0.5\n",
    "regularization = 0.4\n",
    "num_nodes = 8"
   ]
  },
  {
   "cell_type": "code",
   "execution_count": null,
   "metadata": {},
   "outputs": [],
   "source": [
    "# O modelo não pode conter o stream, deve ser iniciado com uma lista vazia\n",
    "# Se o stream for passado, ao excluir itens conhecidos o recall é sempre 0. Ao permitir a recomendação de itens já vistos, o recall não é 0.\n",
    "model = ISGD(empty_stream, num_factors, num_iter, learn_rate = learn_rate, u_regularization = regularization, i_regularization = regularization, random_seed = 10)"
   ]
  },
  {
   "cell_type": "code",
   "execution_count": null,
   "metadata": {},
   "outputs": [],
   "source": [
    "n_holdouts = int( data.shape[0]/n_iter_bucket )\n",
    "eval_lastfm = EvaluateAndStore(model=model, data=stream, n_holdouts=n_holdouts, metrics = [\"Recall@N\"], N_recommendations=20, seed=42)"
   ]
  },
  {
   "cell_type": "code",
   "execution_count": null,
   "metadata": {},
   "outputs": [],
   "source": [
    "_=eval_lastfm.EvaluateAndStore(start_eval=0, count=stream.size, store_only=True) # 441 min"
   ]
  },
  {
   "cell_type": "code",
   "execution_count": null,
   "metadata": {},
   "outputs": [],
   "source": [
    "joblib.dump(eval_lastfm, 'output/joblib_bucket_info_dump/eval_lastfm', compress=True)"
   ]
  },
  {
   "cell_type": "markdown",
   "metadata": {},
   "source": [
    "# Evaluation"
   ]
  },
  {
   "cell_type": "code",
   "execution_count": null,
   "metadata": {},
   "outputs": [],
   "source": [
    "# def plot_n_users_per_bucket(eval_object:EvaluateAndStore, dataset_name:str, filename:str=None):\n",
    "#     n_users = len( eval_object.data.userset )\n",
    "#     n_users_bucket = pd.Series( [len( bucket.userset ) for bucket in eval_object.holdouts] )\n",
    "#     n_users_bucket = n_users_bucket.reset_index()\n",
    "#     n_users_bucket.columns = ['Bucket', 'N_users']\n",
    "#     n_users_bucket['Bucket'] = n_users_bucket['Bucket']+1\n",
    "#     plt.figure(figsize=(10,5))\n",
    "#     sns.barplot(x='Bucket', y='N_users', data=n_users_bucket, color='b', label='users per bucket')\n",
    "#     sns.lineplot(data=np.repeat(n_users, n_users_bucket.shape[0]), label='total users', color='orange')\n",
    "#     plt.title(f'Users per bucket - {dataset_name}');\n",
    "#     if filename:\n",
    "#         plt.savefig(f'images/user_bucket_analysis/{filename}')"
   ]
  },
  {
   "cell_type": "code",
   "execution_count": null,
   "metadata": {},
   "outputs": [
    {
     "data": {
      "image/png": "[encoded data removed]",
      "text/plain": [
       "<Figure size 720x360 with 1 Axes>"
      ]
     },
     "metadata": {},
     "output_type": "display_data"
    }
   ],
   "source": []
  },
  {
   "cell_type": "code",
   "execution_count": null,
   "metadata": {},
   "outputs": [],
   "source": []
  },
  {
   "cell_type": "code",
   "execution_count": null,
   "metadata": {},
   "outputs": [],
   "source": []
  },
  {
   "cell_type": "code",
   "execution_count": null,
   "metadata": {},
   "outputs": [],
   "source": []
  },
  {
   "cell_type": "code",
   "execution_count": 140,
   "metadata": {},
   "outputs": [
    {
     "data": {
      "text/plain": [
       "14.0"
      ]
     },
     "execution_count": 140,
     "metadata": {},
     "output_type": "execute_result"
    }
   ],
   "source": []
  },
  {
   "cell_type": "code",
   "execution_count": null,
   "metadata": {},
   "outputs": [],
   "source": []
  },
  {
   "cell_type": "code",
   "execution_count": null,
   "metadata": {},
   "outputs": [],
   "source": []
  },
  {
   "cell_type": "code",
   "execution_count": 97,
   "metadata": {},
   "outputs": [
    {
     "data": {
      "text/plain": [
       "[array(['user_000174', 'user_000337', 'user_000407', 'user_000707',\n",
       "        'user_000709', 'user_000751', 'user_000957', 'user_000984',\n",
       "        'user_000986'], dtype='<U11'),\n",
       " array(['user_000019', 'user_000033', 'user_000174', 'user_000249',\n",
       "        'user_000262', 'user_000267', 'user_000337', 'user_000390',\n",
       "        'user_000407', 'user_000707', 'user_000709', 'user_000751',\n",
       "        'user_000807', 'user_000882', 'user_000912', 'user_000957',\n",
       "        'user_000984', 'user_000986'], dtype='<U11'),\n",
       " array(['user_000019', 'user_000033', 'user_000174', 'user_000249',\n",
       "        'user_000262', 'user_000337', 'user_000374', 'user_000390',\n",
       "        'user_000407', 'user_000707', 'user_000709', 'user_000751',\n",
       "        'user_000767', 'user_000807', 'user_000882', 'user_000912',\n",
       "        'user_000957', 'user_000984', 'user_000986'], dtype='<U11'),\n",
       " array(['user_000019', 'user_000033', 'user_000174', 'user_000249',\n",
       "        'user_000262', 'user_000267', 'user_000330', 'user_000337',\n",
       "        'user_000374', 'user_000390', 'user_000407', 'user_000707',\n",
       "        'user_000709', 'user_000751', 'user_000767', 'user_000807',\n",
       "        'user_000882', 'user_000912', 'user_000957', 'user_000984',\n",
       "        'user_000986'], dtype='<U11'),\n",
       " array(['user_000019', 'user_000033', 'user_000141', 'user_000174',\n",
       "        'user_000249', 'user_000262', 'user_000267', 'user_000330',\n",
       "        'user_000337', 'user_000374', 'user_000390', 'user_000407',\n",
       "        'user_000707', 'user_000709', 'user_000751', 'user_000767',\n",
       "        'user_000802', 'user_000807', 'user_000882', 'user_000912',\n",
       "        'user_000957', 'user_000984', 'user_000986'], dtype='<U11'),\n",
       " array(['user_000001', 'user_000019', 'user_000033', 'user_000141',\n",
       "        'user_000174', 'user_000202', 'user_000249', 'user_000262',\n",
       "        'user_000267', 'user_000330', 'user_000337', 'user_000374',\n",
       "        'user_000390', 'user_000407', 'user_000415', 'user_000709',\n",
       "        'user_000751', 'user_000767', 'user_000802', 'user_000807',\n",
       "        'user_000882', 'user_000912', 'user_000957', 'user_000984',\n",
       "        'user_000986'], dtype='<U11'),\n",
       " array(['user_000001', 'user_000019', 'user_000033', 'user_000141',\n",
       "        'user_000174', 'user_000202', 'user_000249', 'user_000262',\n",
       "        'user_000267', 'user_000330', 'user_000337', 'user_000374',\n",
       "        'user_000390', 'user_000407', 'user_000415', 'user_000707',\n",
       "        'user_000709', 'user_000751', 'user_000767', 'user_000802',\n",
       "        'user_000807', 'user_000880', 'user_000882', 'user_000912',\n",
       "        'user_000957', 'user_000986'], dtype='<U11'),\n",
       " array(['user_000001', 'user_000019', 'user_000033', 'user_000141',\n",
       "        'user_000174', 'user_000202', 'user_000249', 'user_000262',\n",
       "        'user_000267', 'user_000330', 'user_000337', 'user_000374',\n",
       "        'user_000390', 'user_000407', 'user_000415', 'user_000453',\n",
       "        'user_000707', 'user_000709', 'user_000751', 'user_000767',\n",
       "        'user_000790', 'user_000802', 'user_000807', 'user_000880',\n",
       "        'user_000882', 'user_000912', 'user_000957', 'user_000986'],\n",
       "       dtype='<U11'),\n",
       " array(['user_000019', 'user_000033', 'user_000141', 'user_000174',\n",
       "        'user_000202', 'user_000249', 'user_000262', 'user_000267',\n",
       "        'user_000330', 'user_000333', 'user_000337', 'user_000374',\n",
       "        'user_000407', 'user_000415', 'user_000453', 'user_000707',\n",
       "        'user_000709', 'user_000751', 'user_000767', 'user_000787',\n",
       "        'user_000790', 'user_000802', 'user_000807', 'user_000880',\n",
       "        'user_000882', 'user_000912', 'user_000935', 'user_000957',\n",
       "        'user_000986'], dtype='<U11'),\n",
       " array(['user_000019', 'user_000033', 'user_000091', 'user_000141',\n",
       "        'user_000174', 'user_000202', 'user_000249', 'user_000262',\n",
       "        'user_000267', 'user_000330', 'user_000333', 'user_000374',\n",
       "        'user_000407', 'user_000415', 'user_000453', 'user_000707',\n",
       "        'user_000709', 'user_000751', 'user_000767', 'user_000787',\n",
       "        'user_000790', 'user_000802', 'user_000807', 'user_000880',\n",
       "        'user_000882', 'user_000912', 'user_000935', 'user_000957',\n",
       "        'user_000974', 'user_000986'], dtype='<U11'),\n",
       " array(['user_000019', 'user_000033', 'user_000091', 'user_000141',\n",
       "        'user_000174', 'user_000202', 'user_000249', 'user_000262',\n",
       "        'user_000267', 'user_000330', 'user_000333', 'user_000374',\n",
       "        'user_000407', 'user_000415', 'user_000453', 'user_000707',\n",
       "        'user_000709', 'user_000716', 'user_000751', 'user_000767',\n",
       "        'user_000787', 'user_000790', 'user_000802', 'user_000807',\n",
       "        'user_000882', 'user_000912', 'user_000935', 'user_000957',\n",
       "        'user_000974', 'user_000986'], dtype='<U11'),\n",
       " array(['user_000019', 'user_000033', 'user_000091', 'user_000141',\n",
       "        'user_000174', 'user_000202', 'user_000249', 'user_000262',\n",
       "        'user_000267', 'user_000319', 'user_000330', 'user_000337',\n",
       "        'user_000374', 'user_000407', 'user_000415', 'user_000453',\n",
       "        'user_000707', 'user_000709', 'user_000716', 'user_000751',\n",
       "        'user_000767', 'user_000787', 'user_000790', 'user_000802',\n",
       "        'user_000807', 'user_000880', 'user_000882', 'user_000912',\n",
       "        'user_000935', 'user_000957', 'user_000974', 'user_000986'],\n",
       "       dtype='<U11'),\n",
       " array(['user_000001', 'user_000019', 'user_000033', 'user_000091',\n",
       "        'user_000141', 'user_000174', 'user_000202', 'user_000249',\n",
       "        'user_000262', 'user_000319', 'user_000329', 'user_000337',\n",
       "        'user_000350', 'user_000374', 'user_000407', 'user_000415',\n",
       "        'user_000453', 'user_000707', 'user_000709', 'user_000716',\n",
       "        'user_000751', 'user_000767', 'user_000787', 'user_000790',\n",
       "        'user_000802', 'user_000807', 'user_000874', 'user_000880',\n",
       "        'user_000882', 'user_000912', 'user_000935', 'user_000957'],\n",
       "       dtype='<U11'),\n",
       " array(['user_000001', 'user_000019', 'user_000033', 'user_000091',\n",
       "        'user_000141', 'user_000174', 'user_000202', 'user_000249',\n",
       "        'user_000262', 'user_000267', 'user_000319', 'user_000329',\n",
       "        'user_000337', 'user_000350', 'user_000374', 'user_000407',\n",
       "        'user_000415', 'user_000453', 'user_000540', 'user_000707',\n",
       "        'user_000709', 'user_000716', 'user_000751', 'user_000767',\n",
       "        'user_000787', 'user_000790', 'user_000802', 'user_000807',\n",
       "        'user_000874', 'user_000880', 'user_000882', 'user_000912',\n",
       "        'user_000935', 'user_000957', 'user_000986'], dtype='<U11'),\n",
       " array(['user_000001', 'user_000019', 'user_000033', 'user_000091',\n",
       "        'user_000141', 'user_000174', 'user_000202', 'user_000249',\n",
       "        'user_000262', 'user_000319', 'user_000329', 'user_000337',\n",
       "        'user_000350', 'user_000407', 'user_000415', 'user_000453',\n",
       "        'user_000540', 'user_000707', 'user_000709', 'user_000751',\n",
       "        'user_000767', 'user_000787', 'user_000790', 'user_000802',\n",
       "        'user_000807', 'user_000872', 'user_000874', 'user_000880',\n",
       "        'user_000882', 'user_000912', 'user_000935', 'user_000957',\n",
       "        'user_000974', 'user_000986'], dtype='<U11'),\n",
       " array(['user_000001', 'user_000019', 'user_000033', 'user_000091',\n",
       "        'user_000141', 'user_000174', 'user_000202', 'user_000249',\n",
       "        'user_000262', 'user_000319', 'user_000329', 'user_000337',\n",
       "        'user_000350', 'user_000374', 'user_000407', 'user_000415',\n",
       "        'user_000453', 'user_000540', 'user_000707', 'user_000709',\n",
       "        'user_000716', 'user_000751', 'user_000767', 'user_000787',\n",
       "        'user_000790', 'user_000802', 'user_000807', 'user_000872',\n",
       "        'user_000874', 'user_000880', 'user_000882', 'user_000912',\n",
       "        'user_000935', 'user_000957', 'user_000974', 'user_000986'],\n",
       "       dtype='<U11'),\n",
       " array(['user_000001', 'user_000019', 'user_000033', 'user_000079',\n",
       "        'user_000091', 'user_000141', 'user_000156', 'user_000174',\n",
       "        'user_000202', 'user_000204', 'user_000249', 'user_000262',\n",
       "        'user_000319', 'user_000329', 'user_000350', 'user_000374',\n",
       "        'user_000407', 'user_000415', 'user_000453', 'user_000540',\n",
       "        'user_000707', 'user_000709', 'user_000716', 'user_000751',\n",
       "        'user_000767', 'user_000787', 'user_000790', 'user_000802',\n",
       "        'user_000807', 'user_000872', 'user_000874', 'user_000882',\n",
       "        'user_000912', 'user_000935', 'user_000957', 'user_000974',\n",
       "        'user_000986'], dtype='<U11'),\n",
       " array(['user_000001', 'user_000019', 'user_000033', 'user_000079',\n",
       "        'user_000091', 'user_000141', 'user_000156', 'user_000174',\n",
       "        'user_000202', 'user_000204', 'user_000228', 'user_000249',\n",
       "        'user_000262', 'user_000319', 'user_000329', 'user_000350',\n",
       "        'user_000374', 'user_000407', 'user_000415', 'user_000453',\n",
       "        'user_000540', 'user_000707', 'user_000709', 'user_000716',\n",
       "        'user_000751', 'user_000767', 'user_000787', 'user_000790',\n",
       "        'user_000802', 'user_000807', 'user_000872', 'user_000874',\n",
       "        'user_000882', 'user_000912', 'user_000935', 'user_000957',\n",
       "        'user_000974', 'user_000986'], dtype='<U11'),\n",
       " array(['user_000001', 'user_000019', 'user_000033', 'user_000079',\n",
       "        'user_000091', 'user_000141', 'user_000156', 'user_000174',\n",
       "        'user_000202', 'user_000228', 'user_000249', 'user_000262',\n",
       "        'user_000319', 'user_000329', 'user_000350', 'user_000374',\n",
       "        'user_000407', 'user_000415', 'user_000453', 'user_000540',\n",
       "        'user_000707', 'user_000709', 'user_000716', 'user_000767',\n",
       "        'user_000787', 'user_000790', 'user_000802', 'user_000807',\n",
       "        'user_000872', 'user_000874', 'user_000880', 'user_000882',\n",
       "        'user_000908', 'user_000912', 'user_000935', 'user_000957'],\n",
       "       dtype='<U11'),\n",
       " array(['user_000001', 'user_000019', 'user_000033', 'user_000079',\n",
       "        'user_000091', 'user_000141', 'user_000156', 'user_000174',\n",
       "        'user_000202', 'user_000204', 'user_000228', 'user_000249',\n",
       "        'user_000262', 'user_000267', 'user_000319', 'user_000329',\n",
       "        'user_000350', 'user_000373', 'user_000374', 'user_000407',\n",
       "        'user_000415', 'user_000453', 'user_000540', 'user_000707',\n",
       "        'user_000709', 'user_000716', 'user_000767', 'user_000787',\n",
       "        'user_000790', 'user_000802', 'user_000807', 'user_000872',\n",
       "        'user_000874', 'user_000880', 'user_000882', 'user_000908',\n",
       "        'user_000912', 'user_000935', 'user_000957', 'user_000974'],\n",
       "       dtype='<U11'),\n",
       " array(['user_000001', 'user_000019', 'user_000033', 'user_000079',\n",
       "        'user_000091', 'user_000141', 'user_000156', 'user_000174',\n",
       "        'user_000202', 'user_000204', 'user_000228', 'user_000249',\n",
       "        'user_000262', 'user_000267', 'user_000319', 'user_000337',\n",
       "        'user_000350', 'user_000373', 'user_000374', 'user_000392',\n",
       "        'user_000407', 'user_000415', 'user_000453', 'user_000540',\n",
       "        'user_000587', 'user_000631', 'user_000707', 'user_000709',\n",
       "        'user_000716', 'user_000751', 'user_000767', 'user_000787',\n",
       "        'user_000790', 'user_000802', 'user_000807', 'user_000872',\n",
       "        'user_000874', 'user_000880', 'user_000882', 'user_000908',\n",
       "        'user_000912', 'user_000935', 'user_000957', 'user_000974'],\n",
       "       dtype='<U11'),\n",
       " array(['user_000001', 'user_000033', 'user_000079', 'user_000091',\n",
       "        'user_000141', 'user_000156', 'user_000174', 'user_000202',\n",
       "        'user_000204', 'user_000228', 'user_000249', 'user_000262',\n",
       "        'user_000267', 'user_000319', 'user_000329', 'user_000337',\n",
       "        'user_000350', 'user_000373', 'user_000374', 'user_000392',\n",
       "        'user_000407', 'user_000415', 'user_000453', 'user_000540',\n",
       "        'user_000587', 'user_000631', 'user_000707', 'user_000709',\n",
       "        'user_000716', 'user_000751', 'user_000767', 'user_000787',\n",
       "        'user_000790', 'user_000802', 'user_000807', 'user_000872',\n",
       "        'user_000874', 'user_000882', 'user_000908', 'user_000912',\n",
       "        'user_000935', 'user_000957', 'user_000974'], dtype='<U11')]"
      ]
     },
     "execution_count": 97,
     "metadata": {},
     "output_type": "execute_result"
    }
   ],
   "source": [
    "[bucket.userset for bucket in eval_lastfm.holdouts]"
   ]
  },
  {
   "cell_type": "code",
   "execution_count": 43,
   "metadata": {},
   "outputs": [
    {
     "data": {
      "text/plain": [
       "3784"
      ]
     },
     "execution_count": 43,
     "metadata": {},
     "output_type": "execute_result"
    }
   ],
   "source": [
    "plt.figure(figsize=(10,5))\n",
    "sns.barplot(x='Bucket', y='N_users', data=n_users_bucket, color='b', label='users per bucket')\n",
    "sns.lineplot(data=np.repeat(n_users, n_users_bucket.shape[0]), label='total users', color='orange');"
   ]
  }
 ],
 "metadata": {
  "interpreter": {
   "hash": "93164e1ba08303257f1d4f69270dc17556e83319233af9462e0c249160adc063"
  },
  "kernelspec": {
   "display_name": "Python 3.6.9 ('dissertacao')",
   "language": "python",
   "name": "python3"
  },
  "language_info": {
   "codemirror_mode": {
    "name": "ipython",
    "version": 3
   },
   "file_extension": ".py",
   "mimetype": "text/x-python",
   "name": "python",
   "nbconvert_exporter": "python",
   "pygments_lexer": "ipython3",
   "version": "3.6.9"
  },
  "orig_nbformat": 4
 },
 "nbformat": 4,
 "nbformat_minor": 2
}
