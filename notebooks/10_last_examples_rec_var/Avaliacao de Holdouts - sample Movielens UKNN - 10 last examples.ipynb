{
 "cells": [
  {
   "attachments": {},
   "cell_type": "markdown",
   "metadata": {},
   "source": [
    "# Avaliação em holdouts - Movielens\n",
    "\n",
    "* Exp1: 10 last examples of each user \n",
    "* Exp7: 10 last examples, and dont remove items that are in holdout from train data, and allow seen items, and dont remove items sent to holdout from bucket"
   ]
  },
  {
   "cell_type": "markdown",
   "metadata": {},
   "source": [
    "# Import stuff"
   ]
  },
  {
   "cell_type": "code",
   "execution_count": 1,
   "metadata": {},
   "outputs": [],
   "source": [
    "import os\n",
    "import sys\n",
    "sys.path.append(os.path.abspath('') + '/../..')"
   ]
  },
  {
   "cell_type": "code",
   "execution_count": 2,
   "metadata": {},
   "outputs": [],
   "source": [
    "from data import ImplicitData, getBucketsHoldouts\n",
    "from plot_utils import lineplot_recallxholdout, recall_heatmap\n",
    "from dataset_evaluation_utils import *\n",
    "from recommenders_implicit import ISGD, RAISGD, RSISGD, UserKNN  # ISGD framework, BISGD,\n",
    "from eval_implicit import EvaluateHoldouts, EvaluateAndStore, EvalPrequential # EvaluateAndStore para guardar estados do modelo e holdouts, a avaliação prequencial de ratings implicitos é opcional, , EvalHoldout\n",
    "\n",
    "from datetime import datetime\n",
    "import joblib\n",
    "import pandas as pd \n",
    "import numpy as np \n",
    "import seaborn as sns\n",
    "import matplotlib.pyplot as plt\n",
    "sns.set_style('whitegrid')"
   ]
  },
  {
   "cell_type": "markdown",
   "metadata": {},
   "source": [
    "___\n",
    "# BWT FWT"
   ]
  },
  {
   "cell_type": "markdown",
   "metadata": {},
   "source": [
    "ACC, BWT, e FWT - Lopez-Paz e Ranzato GEM"
   ]
  },
  {
   "cell_type": "code",
   "execution_count": 3,
   "metadata": {},
   "outputs": [],
   "source": [
    "def avg_recall(results_matrix): # Lopez-Paz e Ranzato GEM 2017\n",
    "    return np.mean( np.diag(results_matrix) )\n",
    "\n",
    "def compute_BWT(results_matrix): # Lopez-Paz e Ranzato GEM 2017\n",
    "    BWT = []\n",
    "    n_checkpoints = results_matrix.shape[0]\n",
    "    for T in range(1, n_checkpoints): # 1 means holdout 2, 2 means 3, so on\n",
    "        Rti = results_matrix.iloc[T, 0:T] # get models performances' on previous holdouts\n",
    "        Rii = np.diag(results_matrix)[0:T] # get models performances' on their closest holdouts (diagonal)\n",
    "        E = sum( Rti - Rii ) # future models performances' - performances' of models closest to holdouts (diagonal)\n",
    "        BWT.append( E/T ) # store average BWT for model\n",
    "    return BWT, np.mean( BWT ) # return BWT and average BWT for all models\n",
    "\n",
    "def compute_FWT(results_matrix): # Díaz-Rodriguez et al. 2018\n",
    "    upper_tri = results_matrix.to_numpy()[np.triu_indices(results_matrix.shape[0], k=1)]\n",
    "    return np.mean(upper_tri)"
   ]
  },
  {
   "cell_type": "markdown",
   "metadata": {},
   "source": [
    "___\n",
    "# Read Data"
   ]
  },
  {
   "cell_type": "code",
   "execution_count": 4,
   "metadata": {},
   "outputs": [],
   "source": [
    "# importa dataset 'movieles'\n",
    "data = pd.read_csv('../output/movielens_dump/sampled_movielens.csv')\n",
    "user_col = 'UserID'\n",
    "item_col = 'ItemID'"
   ]
  },
  {
   "cell_type": "code",
   "execution_count": 5,
   "metadata": {},
   "outputs": [
    {
     "data": {
      "text/plain": [
       "((50742, 7), 1427, 2492)"
      ]
     },
     "execution_count": 5,
     "metadata": {},
     "output_type": "execute_result"
    }
   ],
   "source": [
    "data.shape, data[user_col].nunique(), data[item_col].nunique()"
   ]
  },
  {
   "cell_type": "code",
   "execution_count": 6,
   "metadata": {},
   "outputs": [
    {
     "data": {
      "text/plain": [
       "0"
      ]
     },
     "execution_count": 6,
     "metadata": {},
     "output_type": "execute_result"
    }
   ],
   "source": [
    "data[[user_col, item_col]].duplicated().sum()"
   ]
  },
  {
   "cell_type": "code",
   "execution_count": 7,
   "metadata": {},
   "outputs": [
    {
     "data": {
      "text/plain": [
       "(50742, 7)"
      ]
     },
     "execution_count": 7,
     "metadata": {},
     "output_type": "execute_result"
    }
   ],
   "source": [
    "data.shape"
   ]
  },
  {
   "cell_type": "code",
   "execution_count": 8,
   "metadata": {},
   "outputs": [
    {
     "data": {
      "text/html": [
       "<div>\n",
       "<style scoped>\n",
       "    .dataframe tbody tr th:only-of-type {\n",
       "        vertical-align: middle;\n",
       "    }\n",
       "\n",
       "    .dataframe tbody tr th {\n",
       "        vertical-align: top;\n",
       "    }\n",
       "\n",
       "    .dataframe thead th {\n",
       "        text-align: right;\n",
       "    }\n",
       "</style>\n",
       "<table border=\"1\" class=\"dataframe\">\n",
       "  <thead>\n",
       "    <tr style=\"text-align: right;\">\n",
       "      <th></th>\n",
       "      <th>UserID</th>\n",
       "      <th>ItemID</th>\n",
       "      <th>Timestamp</th>\n",
       "      <th>date2</th>\n",
       "      <th>year</th>\n",
       "      <th>month</th>\n",
       "      <th>date</th>\n",
       "    </tr>\n",
       "  </thead>\n",
       "  <tbody>\n",
       "    <tr>\n",
       "      <th>0</th>\n",
       "      <td>4448</td>\n",
       "      <td>902</td>\n",
       "      <td>965087178</td>\n",
       "      <td>2000-07-31 23:46:18</td>\n",
       "      <td>2000</td>\n",
       "      <td>7</td>\n",
       "      <td>2000-07-01 00:00:00</td>\n",
       "    </tr>\n",
       "    <tr>\n",
       "      <th>1</th>\n",
       "      <td>4448</td>\n",
       "      <td>3793</td>\n",
       "      <td>965087267</td>\n",
       "      <td>2000-07-31 23:47:47</td>\n",
       "      <td>2000</td>\n",
       "      <td>7</td>\n",
       "      <td>2000-07-01 00:00:00</td>\n",
       "    </tr>\n",
       "    <tr>\n",
       "      <th>2</th>\n",
       "      <td>4448</td>\n",
       "      <td>3751</td>\n",
       "      <td>965087267</td>\n",
       "      <td>2000-07-31 23:47:47</td>\n",
       "      <td>2000</td>\n",
       "      <td>7</td>\n",
       "      <td>2000-07-01 00:00:00</td>\n",
       "    </tr>\n",
       "    <tr>\n",
       "      <th>3</th>\n",
       "      <td>4448</td>\n",
       "      <td>3578</td>\n",
       "      <td>965087349</td>\n",
       "      <td>2000-07-31 23:49:09</td>\n",
       "      <td>2000</td>\n",
       "      <td>7</td>\n",
       "      <td>2000-07-01 00:00:00</td>\n",
       "    </tr>\n",
       "    <tr>\n",
       "      <th>4</th>\n",
       "      <td>4448</td>\n",
       "      <td>3481</td>\n",
       "      <td>965087470</td>\n",
       "      <td>2000-07-31 23:51:10</td>\n",
       "      <td>2000</td>\n",
       "      <td>7</td>\n",
       "      <td>2000-07-01 00:00:00</td>\n",
       "    </tr>\n",
       "  </tbody>\n",
       "</table>\n",
       "</div>"
      ],
      "text/plain": [
       "   UserID  ItemID  Timestamp                date2  year  month  \\\n",
       "0    4448     902  965087178  2000-07-31 23:46:18  2000      7   \n",
       "1    4448    3793  965087267  2000-07-31 23:47:47  2000      7   \n",
       "2    4448    3751  965087267  2000-07-31 23:47:47  2000      7   \n",
       "3    4448    3578  965087349  2000-07-31 23:49:09  2000      7   \n",
       "4    4448    3481  965087470  2000-07-31 23:51:10  2000      7   \n",
       "\n",
       "                  date  \n",
       "0  2000-07-01 00:00:00  \n",
       "1  2000-07-01 00:00:00  \n",
       "2  2000-07-01 00:00:00  \n",
       "3  2000-07-01 00:00:00  \n",
       "4  2000-07-01 00:00:00  "
      ]
     },
     "execution_count": 8,
     "metadata": {},
     "output_type": "execute_result"
    }
   ],
   "source": [
    "data.head()"
   ]
  },
  {
   "cell_type": "code",
   "execution_count": 9,
   "metadata": {},
   "outputs": [
    {
     "name": "stdout",
     "output_type": "stream",
     "text": [
      "<class 'pandas.core.frame.DataFrame'>\n",
      "RangeIndex: 50742 entries, 0 to 50741\n",
      "Data columns (total 7 columns):\n",
      " #   Column     Non-Null Count  Dtype \n",
      "---  ------     --------------  ----- \n",
      " 0   UserID     50742 non-null  int64 \n",
      " 1   ItemID     50742 non-null  int64 \n",
      " 2   Timestamp  50742 non-null  int64 \n",
      " 3   date2      50742 non-null  object\n",
      " 4   year       50742 non-null  int64 \n",
      " 5   month      50742 non-null  int64 \n",
      " 6   date       50742 non-null  object\n",
      "dtypes: int64(5), object(2)\n",
      "memory usage: 2.7+ MB\n"
     ]
    }
   ],
   "source": [
    "data.info()"
   ]
  },
  {
   "cell_type": "markdown",
   "metadata": {},
   "source": [
    "### Convert timestamp"
   ]
  },
  {
   "cell_type": "code",
   "execution_count": 10,
   "metadata": {},
   "outputs": [
    {
     "name": "stdout",
     "output_type": "stream",
     "text": [
      "CPU times: user 361 ms, sys: 1.47 ms, total: 363 ms\n",
      "Wall time: 362 ms\n"
     ]
    }
   ],
   "source": [
    "%%time \n",
    "# 2.42s\n",
    "data['date'] = data['date'].apply(lambda x: datetime.strptime(x, '%Y-%m-%d %X'))\n",
    "# data.sort_values(by='timestamp', inplace=True)"
   ]
  },
  {
   "cell_type": "code",
   "execution_count": 11,
   "metadata": {},
   "outputs": [
    {
     "name": "stdout",
     "output_type": "stream",
     "text": [
      "CPU times: user 46 ms, sys: 1.86 ms, total: 47.8 ms\n",
      "Wall time: 51.7 ms\n"
     ]
    },
    {
     "data": {
      "text/plain": [
       "Text(0.5, 1.0, 'interactions per month')"
      ]
     },
     "execution_count": 11,
     "metadata": {},
     "output_type": "execute_result"
    },
    {
     "data": {
      "image/png": "[encoded data removed]",
      "text/plain": [
       "<Figure size 432x288 with 1 Axes>"
      ]
     },
     "metadata": {},
     "output_type": "display_data"
    }
   ],
   "source": [
    "%%time\n",
    "# 198ms\n",
    "interactions_per_month = data.groupby(by=['date']).count().iloc[:, 0]\n",
    "interactions_per_month.name = 'count'\n",
    "interactions_per_month=interactions_per_month.reset_index()\n",
    "_ = interactions_per_month.copy()\n",
    "_['date'] = _['date'].dt.date\n",
    "_.groupby('date').sum().plot(kind='bar')\n",
    "plt.title('interactions per month')"
   ]
  },
  {
   "attachments": {},
   "cell_type": "markdown",
   "metadata": {},
   "source": [
    "# Hyperparameters"
   ]
  },
  {
   "cell_type": "code",
   "execution_count": 12,
   "metadata": {},
   "outputs": [],
   "source": [
    "# define hyperparameters\n",
    "K = 10\n",
    "similarity = 'cosine'"
   ]
  },
  {
   "attachments": {},
   "cell_type": "markdown",
   "metadata": {},
   "source": [
    "# **Running only exp 7 - exp 7 is best performer in ISGD - UKNN takes too long**"
   ]
  },
  {
   "cell_type": "markdown",
   "metadata": {},
   "source": [
    "# EXPERIMENT 7\n",
    "\n",
    "CODE TO GET LAST N INTERACTIONS FROM EACH USER AS HOLDOUT  \n",
    "* IF USER DID NOT INTERACT WITH AT LEAST N+1 ITEMS, THEN IT IS NOT USED FOR HOLDOUT  \n",
    "* LAST 10 INTERACTIONS FROM EACH USER AS HOLDOUT\n",
    "* RECOMENDING SEEN ITEMS IS ALLOWED\n",
    "* DON'T REMOVE INTERACTIONS IN HOLDOUT FROM BUCKETS\n",
    "* DON'T REMOVE INTERACTIONS **SENT** TO HOLDOUT FROM BUCKET"
   ]
  },
  {
   "cell_type": "code",
   "execution_count": 13,
   "metadata": {},
   "outputs": [
    {
     "name": "stdout",
     "output_type": "stream",
     "text": [
      "Creating buckets. . .\n",
      "Creating holdouts. . .\n"
     ]
    }
   ],
   "source": [
    "# CODE TO GET LAST N INTERACTIONS FROM EACH USER AS HOLDOUT\n",
    "# IF USER DID NOT INTERACT WITH AT LEAST N+1 ITEMS, THEN IT IS NOT USED FOR HOLDOUT\n",
    "\n",
    "N = 10\n",
    "cold_start_buckets = 0\n",
    "#     print('0',data.shape[0]) # debug\n",
    "print('Creating buckets. . .')\n",
    "buckets = []\n",
    "# assert interval_type in ['W', 'M', 'QS', 'F'], \"interval must be one of W, M, QS, or F\"\n",
    "# create buckets based on months\n",
    "months = data['date'].unique()\n",
    "for interval in months:\n",
    "    idx = (data['date'] == interval)\n",
    "    buckets.append( data[idx] )\n",
    "\n",
    "print('Creating holdouts. . .')\n",
    "# create holdouts with last user interaction\n",
    "holdouts = []\n",
    "\n",
    "for i, b in enumerate( buckets ):\n",
    "    if i >= cold_start_buckets:\n",
    "        condition = (b[user_col].value_counts() > N)\n",
    "        frequent_users = b[user_col].value_counts()[ condition ].index\n",
    "        holdout_idx = []\n",
    "        for u in frequent_users:\n",
    "            tail_idx = list( b[b[user_col] == u].tail(N).index )\n",
    "            holdout_idx += tail_idx\n",
    "        holdout = b.loc[holdout_idx].reset_index(drop=True)\n",
    "        holdouts.append(holdout)\n",
    "        # buckets[i] = b.drop(index=holdout_idx).reset_index(drop=True)\n",
    "        buckets[i] = b.reset_index(drop=True)"
   ]
  },
  {
   "cell_type": "code",
   "execution_count": 14,
   "metadata": {},
   "outputs": [
    {
     "name": "stdout",
     "output_type": "stream",
     "text": [
      "Converting to ImplicitData. . .\n",
      "Done!\n"
     ]
    }
   ],
   "source": [
    "print('Converting to ImplicitData. . .')\n",
    "for i, b in enumerate(buckets):\n",
    "    buckets[i] = ImplicitData(user_list=b[user_col], item_list=b[item_col]) # convert to ImplicitData\n",
    "\n",
    "for j, h in enumerate(holdouts):\n",
    "    holdouts[j] = ImplicitData(user_list=h[user_col], item_list=h[item_col]) # convert to ImplicitData\n",
    "\n",
    "print('Done!')\n",
    "# return buckets, holdouts"
   ]
  },
  {
   "cell_type": "code",
   "execution_count": 16,
   "metadata": {},
   "outputs": [
    {
     "data": {
      "text/plain": [
       "(50742, 11990)"
      ]
     },
     "execution_count": 16,
     "metadata": {},
     "output_type": "execute_result"
    }
   ],
   "source": [
    "sum( [b.size for b in buckets] ), sum( [h.size for h in holdouts] )"
   ]
  },
  {
   "cell_type": "code",
   "execution_count": 17,
   "metadata": {},
   "outputs": [],
   "source": [
    "# transforma interações em objeto que contem mappings usuário-itens e item-usuários, contém também métodos de suporte. recebe listas\n",
    "# stream = ImplicitData(data[user_col], data[item_col])\n",
    "# O modelo deve ser iniciado com uma lista vazia\n",
    "empty_stream = ImplicitData([], [])\n",
    "# Se o stream for passado, ao excluir itens conhecidos o recall é sempre 0. Ao permitir a recomendação de itens já vistos, o recall não é 0.\n",
    "model = UserKNN(empty_stream, k=K, similarity=similarity)"
   ]
  },
  {
   "cell_type": "code",
   "execution_count": 18,
   "metadata": {},
   "outputs": [],
   "source": [
    "# criamos instancia de EvaluateHoldouts para treinar o modelo e criar checkpoints\n",
    "eval = EvaluateHoldouts(model=model, buckets=buckets, holdouts=holdouts)"
   ]
  },
  {
   "cell_type": "code",
   "execution_count": 19,
   "metadata": {},
   "outputs": [
    {
     "name": "stdout",
     "output_type": "stream",
     "text": [
      "----------------------------------------------------------------------------------------------------\n",
      "Train bucket 0\n",
      "Test Holdout 0\n",
      "Test Holdout 1\n",
      "recommendations not made for users in holdout 1 x checkpoint 0: 2630\n",
      "Test Holdout 2\n",
      "recommendations not made for users in holdout 2 x checkpoint 0: 3440\n",
      "----------------------------------------------------------------------------------------------------\n",
      "Train bucket 1\n",
      "Test Holdout 0\n",
      "Test Holdout 1\n",
      "Test Holdout 2\n",
      "recommendations not made for users in holdout 2 x checkpoint 1: 2920\n",
      "----------------------------------------------------------------------------------------------------\n",
      "Train bucket 2\n",
      "Test Holdout 0\n",
      "Test Holdout 1\n",
      "Test Holdout 2\n",
      "CPU times: user 4h 43min 7s, sys: 743 ms, total: 4h 43min 7s\n",
      "Wall time: 4h 43min 8s\n"
     ]
    }
   ],
   "source": [
    "%%time\n",
    "# 28min 20s\n",
    "eval.Train_Evaluate(N_recommendations=20, exclude_known_items=False, default_user='none')"
   ]
  },
  {
   "cell_type": "code",
   "execution_count": 20,
   "metadata": {},
   "outputs": [],
   "source": [
    "rm = eval.results_matrix\n",
    "df_exp7 = pd.DataFrame(rm)\n",
    "# df.to_csv('output/palco_2010_dump/sample_palco2010 month_bucket ISGD results.csv', index=False)"
   ]
  },
  {
   "attachments": {},
   "cell_type": "markdown",
   "metadata": {},
   "source": [
    "# Result EXP 7"
   ]
  },
  {
   "cell_type": "code",
   "execution_count": 21,
   "metadata": {},
   "outputs": [
    {
     "data": {
      "image/png": "[encoded data removed]",
      "text/plain": [
       "<Figure size 1080x720 with 2 Axes>"
      ]
     },
     "metadata": {},
     "output_type": "display_data"
    }
   ],
   "source": [
    "# result with N=10 last interactions of each user - items in holdout are removed from the training data\n",
    "recall_heatmap(df_exp7,\n",
    "    round_point=3,\n",
    "    title='Recall@20 UKNN - Movielens - N=10 for each user - allow known items - dont remove items in holdout from buckets - dont remove items sent to holdout from bucket 1:1',\n",
    "    filepath=None) #='images/heatmaps/palco_2010 month_bucket ISGD heatmap.png'"
   ]
  },
  {
   "cell_type": "code",
   "execution_count": 22,
   "metadata": {},
   "outputs": [
    {
     "data": {
      "text/plain": [
       "0.2342664692245405"
      ]
     },
     "execution_count": 22,
     "metadata": {},
     "output_type": "execute_result"
    }
   ],
   "source": [
    "arecall = avg_recall(df_exp7)\n",
    "arecall"
   ]
  },
  {
   "cell_type": "code",
   "execution_count": 23,
   "metadata": {},
   "outputs": [
    {
     "data": {
      "text/plain": [
       "([-0.012103174603174588, -0.014914021164021157], -0.013508597883597873)"
      ]
     },
     "execution_count": 23,
     "metadata": {},
     "output_type": "execute_result"
    }
   ],
   "source": [
    "BWT, meanBWT = compute_BWT(df_exp7)\n",
    "BWT, meanBWT"
   ]
  },
  {
   "cell_type": "code",
   "execution_count": 24,
   "metadata": {},
   "outputs": [
    {
     "data": {
      "text/plain": [
       "0.0492302844450593"
      ]
     },
     "execution_count": 24,
     "metadata": {},
     "output_type": "execute_result"
    }
   ],
   "source": [
    "FWT = compute_FWT(df_exp7)\n",
    "FWT\n",
    "# que itens que usuario utilizou no passado e deixou de consumir o sistema ainda pode recomendar"
   ]
  },
  {
   "attachments": {},
   "cell_type": "markdown",
   "metadata": {},
   "source": [
    "# Store exp results"
   ]
  },
  {
   "cell_type": "code",
   "execution_count": 25,
   "metadata": {},
   "outputs": [],
   "source": [
    "# allresults = [df_exp1, df_exp2, df_exp3, df_exp4, df_exp5, df_exp6, df_exp7, df_exp8, df_exp9]\n",
    "allresults = [df_exp7]"
   ]
  },
  {
   "cell_type": "code",
   "execution_count": 26,
   "metadata": {},
   "outputs": [],
   "source": [
    "allresults[0].to_csv('../output_10_last_examples/Movielens_UKNN_result_exp_7')"
   ]
  },
  {
   "cell_type": "code",
   "execution_count": 29,
   "metadata": {},
   "outputs": [],
   "source": [
    "# df_exp7.to_csv(f'../output_p10_10_examples/UKNN_result_exp_7')"
   ]
  },
  {
   "attachments": {},
   "cell_type": "markdown",
   "metadata": {},
   "source": [
    "# Read results"
   ]
  },
  {
   "cell_type": "code",
   "execution_count": 30,
   "metadata": {},
   "outputs": [],
   "source": [
    "import os\n",
    "import sys\n",
    "sys.path.append(os.path.abspath('') + '/../..')\n",
    "from data import ImplicitData, getBucketsHoldouts\n",
    "from plot_utils import lineplot_recallxholdout, recall_heatmap\n",
    "from dataset_evaluation_utils import *\n",
    "from recommenders_implicit import ISGD, RAISGD, RSISGD  # ISGD framework, BISGD,\n",
    "from eval_implicit import EvaluateHoldouts, EvaluateAndStore, EvalPrequential # EvaluateAndStore para guardar estados do modelo e holdouts, a avaliação prequencial de ratings implicitos é opcional, , EvalHoldout\n",
    "\n",
    "from datetime import datetime\n",
    "import joblib\n",
    "import pandas as pd \n",
    "import numpy as np \n",
    "import seaborn as sns\n",
    "import matplotlib.pyplot as plt\n",
    "sns.set_style('whitegrid')\n",
    "\n",
    "def avg_recall(results_matrix): # Lopez-Paz e Ranzato GEM 2017\n",
    "    return np.mean( np.diag(results_matrix) )\n",
    "\n",
    "def compute_BWT(results_matrix): # Lopez-Paz e Ranzato GEM 2017\n",
    "    BWT = []\n",
    "    n_checkpoints = results_matrix.shape[0]\n",
    "    for T in range(1, n_checkpoints): # 1 means holdout 2, 2 means 3, so on\n",
    "        Rti = results_matrix.iloc[T, 0:T] # get models performances' on previous holdouts\n",
    "        Rii = np.diag(results_matrix)[0:T] # get models performances' on their closest holdouts (diagonal)\n",
    "        E = sum( Rti - Rii ) # future models performances' - performances' of models closest to holdouts (diagonal)\n",
    "        BWT.append( E/T ) # store average BWT for model\n",
    "    return BWT, np.mean( BWT ) # return BWT and average BWT for all models\n",
    "\n",
    "def compute_FWT(results_matrix): # Díaz-Rodriguez et al. 2018\n",
    "    upper_tri = results_matrix.to_numpy()[np.triu_indices(results_matrix.shape[0], k=1)]\n",
    "    return np.mean(upper_tri)"
   ]
  },
  {
   "attachments": {},
   "cell_type": "markdown",
   "metadata": {},
   "source": [
    "* Exp1: 10 last examples of each user \n",
    "* Exp3: 10 last examples, and allow seen items\n",
    "* Exp5: 10 last examples, and dont remove items that are in holdout from train data, and allow seen items\n",
    "* Exp7: 10 last examples, and dont remove items that are in holdout from train data, and allow seen items, and dont remove items sent to holdout from bucket\n",
    "* Exp9: 10 randomly selected examples from each user, and dont remove items that are in holdout from train data, and allow seen items, and dont remove items sent to holdout from bucket"
   ]
  },
  {
   "cell_type": "code",
   "execution_count": 31,
   "metadata": {},
   "outputs": [
    {
     "data": {
      "text/html": [
       "<div>\n",
       "<style scoped>\n",
       "    .dataframe tbody tr th:only-of-type {\n",
       "        vertical-align: middle;\n",
       "    }\n",
       "\n",
       "    .dataframe tbody tr th {\n",
       "        vertical-align: top;\n",
       "    }\n",
       "\n",
       "    .dataframe thead th {\n",
       "        text-align: right;\n",
       "    }\n",
       "</style>\n",
       "<table border=\"1\" class=\"dataframe\">\n",
       "  <thead>\n",
       "    <tr style=\"text-align: right;\">\n",
       "      <th></th>\n",
       "      <th>7</th>\n",
       "    </tr>\n",
       "  </thead>\n",
       "  <tbody>\n",
       "    <tr>\n",
       "      <th>BWT</th>\n",
       "      <td>-0.013509</td>\n",
       "    </tr>\n",
       "    <tr>\n",
       "      <th>FWT</th>\n",
       "      <td>0.049230</td>\n",
       "    </tr>\n",
       "    <tr>\n",
       "      <th>avg_recall</th>\n",
       "      <td>0.234266</td>\n",
       "    </tr>\n",
       "  </tbody>\n",
       "</table>\n",
       "</div>"
      ],
      "text/plain": [
       "                   7\n",
       "BWT        -0.013509\n",
       "FWT         0.049230\n",
       "avg_recall  0.234266"
      ]
     },
     "execution_count": 31,
     "metadata": {},
     "output_type": "execute_result"
    }
   ],
   "source": [
    "results_10_each_user = {}\n",
    "results_10_each_user[7]=pd.read_csv(f'../output_10_last_examples/Movielens_UKNN_result_exp_7', index_col=0)\n",
    "\n",
    "results_10_each_user = {\n",
    "    k: {\n",
    "        'avg_recall': avg_recall( results_10_each_user[k]),\n",
    "        'BWT': compute_BWT( results_10_each_user[k] )[-1],\n",
    "        'FWT': compute_FWT( results_10_each_user[k] )\n",
    "        }\n",
    "    for k in results_10_each_user.keys()\n",
    "}\n",
    "\n",
    "results_10_each_user = pd.DataFrame( results_10_each_user )\n",
    "\n",
    "results_10_each_user"
   ]
  },
  {
   "cell_type": "code",
   "execution_count": null,
   "metadata": {},
   "outputs": [],
   "source": []
  },
  {
   "attachments": {},
   "cell_type": "markdown",
   "metadata": {},
   "source": [
    "# ORIGINAL RESULT - DONT CONTINUE\n"
   ]
  },
  {
   "cell_type": "code",
   "execution_count": null,
   "metadata": {},
   "outputs": [
    {
     "data": {
      "image/png": "[encoded data removed]",
      "text/plain": [
       "<Figure size 1080x720 with 2 Axes>"
      ]
     },
     "metadata": {},
     "output_type": "display_data"
    }
   ],
   "source": [
    "recall_heatmap(df,\n",
    "    round_point=3,\n",
    "    title='Recall@20 for UKNN checkpoints across Holdouts - Movielens',\n",
    "    filepath='images/heatmaps/movielens_dump/sample_movielens month_bucket UKNN heatmap.png') #='images/heatmaps/palco_2010 month_bucket ISGD heatmap.png'"
   ]
  },
  {
   "cell_type": "code",
   "execution_count": null,
   "metadata": {},
   "outputs": [
    {
     "data": {
      "text/plain": [
       "0.07200884888504978"
      ]
     },
     "metadata": {},
     "output_type": "display_data"
    }
   ],
   "source": [
    "arecall = avg_recall(df)\n",
    "arecall"
   ]
  },
  {
   "cell_type": "code",
   "execution_count": null,
   "metadata": {},
   "outputs": [
    {
     "data": {
      "text/plain": [
       "([0.01807228915662651, 0.004511257700485195], 0.011291773428555852)"
      ]
     },
     "metadata": {},
     "output_type": "display_data"
    }
   ],
   "source": [
    "BWT, meanBWT = compute_BWT(df)\n",
    "BWT, meanBWT"
   ]
  },
  {
   "cell_type": "code",
   "execution_count": null,
   "metadata": {},
   "outputs": [
    {
     "data": {
      "text/plain": [
       "0.05223304019451692"
      ]
     },
     "metadata": {},
     "output_type": "display_data"
    }
   ],
   "source": [
    "FWT = compute_FWT(df)\n",
    "FWT\n",
    "# que itens que usuario utilizou no passado e deixou de consumir o sistema ainda pode recomendar"
   ]
  }
 ],
 "metadata": {
  "kernelspec": {
   "display_name": "dissertacao",
   "language": "python",
   "name": "python3"
  },
  "language_info": {
   "codemirror_mode": {
    "name": "ipython",
    "version": 3
   },
   "file_extension": ".py",
   "mimetype": "text/x-python",
   "name": "python",
   "nbconvert_exporter": "python",
   "pygments_lexer": "ipython3",
   "version": "3.6.9"
  },
  "vscode": {
   "interpreter": {
    "hash": "93164e1ba08303257f1d4f69270dc17556e83319233af9462e0c249160adc063"
   }
  }
 },
 "nbformat": 4,
 "nbformat_minor": 4
}
