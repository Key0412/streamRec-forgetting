{
 "cells": [
  {
   "cell_type": "code",
   "execution_count": 1,
   "metadata": {},
   "outputs": [],
   "source": [
    "# import os\n",
    "# import sys\n",
    "# sys.path.append(os.path.abspath('') + '/..')\n",
    "\n",
    "# from data import ImplicitData\n",
    "\n",
    "from flurs.data.entity import User, Item, Event\n",
    "from flurs.recommender import UserKNNRecommender\n",
    "import pandas as pd\n",
    "import numpy as np"
   ]
  },
  {
   "cell_type": "code",
   "execution_count": 2,
   "metadata": {
    "collapsed": true,
    "jupyter": {
     "outputs_hidden": true,
     "source_hidden": true
    }
   },
   "outputs": [
    {
     "data": {
      "text/html": [
       "<div>\n",
       "<style scoped>\n",
       "    .dataframe tbody tr th:only-of-type {\n",
       "        vertical-align: middle;\n",
       "    }\n",
       "\n",
       "    .dataframe tbody tr th {\n",
       "        vertical-align: top;\n",
       "    }\n",
       "\n",
       "    .dataframe thead th {\n",
       "        text-align: right;\n",
       "    }\n",
       "</style>\n",
       "<table border=\"1\" class=\"dataframe\">\n",
       "  <thead>\n",
       "    <tr style=\"text-align: right;\">\n",
       "      <th></th>\n",
       "      <th>UserID</th>\n",
       "      <th>ItemID</th>\n",
       "      <th>Timestamp</th>\n",
       "    </tr>\n",
       "  </thead>\n",
       "  <tbody>\n",
       "    <tr>\n",
       "      <th>0</th>\n",
       "      <td>6040</td>\n",
       "      <td>593</td>\n",
       "      <td>956703954</td>\n",
       "    </tr>\n",
       "    <tr>\n",
       "      <th>1</th>\n",
       "      <td>6040</td>\n",
       "      <td>2019</td>\n",
       "      <td>956703977</td>\n",
       "    </tr>\n",
       "    <tr>\n",
       "      <th>2</th>\n",
       "      <td>6040</td>\n",
       "      <td>213</td>\n",
       "      <td>956704056</td>\n",
       "    </tr>\n",
       "    <tr>\n",
       "      <th>3</th>\n",
       "      <td>6040</td>\n",
       "      <td>3111</td>\n",
       "      <td>956704056</td>\n",
       "    </tr>\n",
       "    <tr>\n",
       "      <th>4</th>\n",
       "      <td>6040</td>\n",
       "      <td>912</td>\n",
       "      <td>956704191</td>\n",
       "    </tr>\n",
       "  </tbody>\n",
       "</table>\n",
       "</div>"
      ],
      "text/plain": [
       "   UserID  ItemID  Timestamp\n",
       "0    6040     593  956703954\n",
       "1    6040    2019  956703977\n",
       "2    6040     213  956704056\n",
       "3    6040    3111  956704056\n",
       "4    6040     912  956704191"
      ]
     },
     "execution_count": 2,
     "metadata": {},
     "output_type": "execute_result"
    }
   ],
   "source": [
    "data = pd.read_csv(\"../datasets/ml1m_gte5.csv\", sep='\\t')\n",
    "user_col = 'UserID'\n",
    "item_col = 'ItemID'\n",
    "data.head()"
   ]
  },
  {
   "cell_type": "code",
   "execution_count": 3,
   "metadata": {
    "jupyter": {
     "source_hidden": true
    }
   },
   "outputs": [],
   "source": [
    "data2=data.copy()"
   ]
  },
  {
   "cell_type": "code",
   "execution_count": 4,
   "metadata": {
    "jupyter": {
     "source_hidden": true
    }
   },
   "outputs": [],
   "source": [
    "usermap = pd.Series(pd.unique( data[user_col] )).reset_index().set_index(0).to_dict()['index']\n",
    "itemmap = pd.Series(pd.unique( data[item_col] )).reset_index().set_index(0).to_dict()['index']\n",
    "# 3m 24.7s\n",
    "# def mapfun(x, unique=pd.unique( data[item_col] )):\n",
    "#     return np.where( unique == x )[0][0]\n",
    "# remaping user/item names so that they are ordered from 0 to number of users/items\n",
    "# Flurs need user/item IDs to be increasing order integers\n",
    "# data2[item_col]=data2[item_col].map(mapfun)\n",
    "# data2[user_col]=data2[user_col].map( lambda x: mapfun( x, unique=pd.unique( data[user_col] ) ) )\n",
    "\n",
    "data2[user_col]=data2[user_col].map(usermap)\n",
    "data2[item_col]=data2[item_col].map(itemmap)\n",
    "\n",
    "data2 = data2.iloc[:, :2].values"
   ]
  },
  {
   "cell_type": "code",
   "execution_count": 5,
   "metadata": {
    "jupyter": {
     "source_hidden": true
    }
   },
   "outputs": [],
   "source": [
    "# Initialize model\n",
    "knn_RS = UserKNNRecommender(k=5)\n",
    "knn_RS.initialize()"
   ]
  },
  {
   "cell_type": "code",
   "execution_count": 6,
   "metadata": {
    "collapsed": true,
    "jupyter": {
     "outputs_hidden": true,
     "source_hidden": true
    }
   },
   "outputs": [
    {
     "name": "stderr",
     "output_type": "stream",
     "text": [
      "/home/klismam/.virtualenvs/dissertacao/lib/python3.6/site-packages/flurs/model/user_knn.py:80: RuntimeWarning: invalid value encountered in sqrt\n",
      "  self.S[ua, idx] = self.B[ua, idx] / (np.sqrt(self.C[ua, idx]) * np.sqrt(self.D[ua, idx]))\n"
     ]
    },
    {
     "ename": "KeyboardInterrupt",
     "evalue": "",
     "output_type": "error",
     "traceback": [
      "\u001b[0;31m---------------------------------------------------------------------------\u001b[0m",
      "\u001b[0;31mKeyboardInterrupt\u001b[0m                         Traceback (most recent call last)",
      "\u001b[0;32m<ipython-input-6-f8dc03cc382e>\u001b[0m in \u001b[0;36m<module>\u001b[0;34m\u001b[0m\n\u001b[1;32m      9\u001b[0m \u001b[0;34m\u001b[0m\u001b[0m\n\u001b[1;32m     10\u001b[0m     \u001b[0mevent\u001b[0m \u001b[0;34m=\u001b[0m \u001b[0mEvent\u001b[0m\u001b[0;34m(\u001b[0m\u001b[0muser\u001b[0m\u001b[0;34m,\u001b[0m \u001b[0mitem\u001b[0m\u001b[0;34m)\u001b[0m\u001b[0;34m\u001b[0m\u001b[0;34m\u001b[0m\u001b[0m\n\u001b[0;32m---> 11\u001b[0;31m     \u001b[0mknn_RS\u001b[0m\u001b[0;34m.\u001b[0m\u001b[0mupdate\u001b[0m\u001b[0;34m(\u001b[0m\u001b[0mevent\u001b[0m\u001b[0;34m)\u001b[0m\u001b[0;34m\u001b[0m\u001b[0;34m\u001b[0m\u001b[0m\n\u001b[0m",
      "\u001b[0;32m~/.virtualenvs/dissertacao/lib/python3.6/site-packages/flurs/recommender/user_knn.py\u001b[0m in \u001b[0;36mupdate\u001b[0;34m(self, e, batch_train)\u001b[0m\n\u001b[1;32m     65\u001b[0m \u001b[0;34m\u001b[0m\u001b[0m\n\u001b[1;32m     66\u001b[0m     \u001b[0;32mdef\u001b[0m \u001b[0mupdate\u001b[0m\u001b[0;34m(\u001b[0m\u001b[0mself\u001b[0m\u001b[0;34m,\u001b[0m \u001b[0me\u001b[0m\u001b[0;34m,\u001b[0m \u001b[0mbatch_train\u001b[0m\u001b[0;34m=\u001b[0m\u001b[0;32mFalse\u001b[0m\u001b[0;34m)\u001b[0m\u001b[0;34m:\u001b[0m\u001b[0;34m\u001b[0m\u001b[0;34m\u001b[0m\u001b[0m\n\u001b[0;32m---> 67\u001b[0;31m         \u001b[0mself\u001b[0m\u001b[0;34m.\u001b[0m\u001b[0mupdate_model\u001b[0m\u001b[0;34m(\u001b[0m\u001b[0me\u001b[0m\u001b[0;34m.\u001b[0m\u001b[0muser\u001b[0m\u001b[0;34m.\u001b[0m\u001b[0mindex\u001b[0m\u001b[0;34m,\u001b[0m \u001b[0me\u001b[0m\u001b[0;34m.\u001b[0m\u001b[0mitem\u001b[0m\u001b[0;34m.\u001b[0m\u001b[0mindex\u001b[0m\u001b[0;34m,\u001b[0m \u001b[0me\u001b[0m\u001b[0;34m.\u001b[0m\u001b[0mvalue\u001b[0m\u001b[0;34m)\u001b[0m\u001b[0;34m\u001b[0m\u001b[0;34m\u001b[0m\u001b[0m\n\u001b[0m\u001b[1;32m     68\u001b[0m \u001b[0;34m\u001b[0m\u001b[0m\n\u001b[1;32m     69\u001b[0m     \u001b[0;32mdef\u001b[0m \u001b[0mscore\u001b[0m\u001b[0;34m(\u001b[0m\u001b[0mself\u001b[0m\u001b[0;34m,\u001b[0m \u001b[0muser\u001b[0m\u001b[0;34m,\u001b[0m \u001b[0mcandidates\u001b[0m\u001b[0;34m)\u001b[0m\u001b[0;34m:\u001b[0m\u001b[0;34m\u001b[0m\u001b[0;34m\u001b[0m\u001b[0m\n",
      "\u001b[0;32m~/.virtualenvs/dissertacao/lib/python3.6/site-packages/flurs/model/user_knn.py\u001b[0m in \u001b[0;36mupdate_model\u001b[0;34m(self, ua, ia, value)\u001b[0m\n\u001b[1;32m     68\u001b[0m             \u001b[0;32mfor\u001b[0m \u001b[0mih\u001b[0m \u001b[0;32min\u001b[0m \u001b[0mrange\u001b[0m\u001b[0;34m(\u001b[0m\u001b[0mself\u001b[0m\u001b[0;34m.\u001b[0m\u001b[0mn_item\u001b[0m\u001b[0;34m)\u001b[0m\u001b[0;34m:\u001b[0m\u001b[0;34m\u001b[0m\u001b[0;34m\u001b[0m\u001b[0m\n\u001b[1;32m     69\u001b[0m                 \u001b[0;31m# only for co-rated items\u001b[0m\u001b[0;34m\u001b[0m\u001b[0;34m\u001b[0m\u001b[0;34m\u001b[0m\u001b[0m\n\u001b[0;32m---> 70\u001b[0;31m                 \u001b[0;32mif\u001b[0m \u001b[0mself\u001b[0m\u001b[0;34m.\u001b[0m\u001b[0mR\u001b[0m\u001b[0;34m[\u001b[0m\u001b[0mua\u001b[0m\u001b[0;34m,\u001b[0m \u001b[0mih\u001b[0m\u001b[0;34m]\u001b[0m \u001b[0;34m!=\u001b[0m \u001b[0;36m0\u001b[0m \u001b[0;32mand\u001b[0m \u001b[0mself\u001b[0m\u001b[0;34m.\u001b[0m\u001b[0mR\u001b[0m\u001b[0;34m[\u001b[0m\u001b[0muy\u001b[0m\u001b[0;34m,\u001b[0m \u001b[0mih\u001b[0m\u001b[0;34m]\u001b[0m \u001b[0;34m!=\u001b[0m \u001b[0;36m0\u001b[0m\u001b[0;34m:\u001b[0m\u001b[0;34m\u001b[0m\u001b[0;34m\u001b[0m\u001b[0m\n\u001b[0m\u001b[1;32m     71\u001b[0m                     \u001b[0me\u001b[0m \u001b[0;34m=\u001b[0m \u001b[0me\u001b[0m \u001b[0;34m-\u001b[0m \u001b[0md\u001b[0m \u001b[0;34m*\u001b[0m \u001b[0;34m(\u001b[0m\u001b[0mself\u001b[0m\u001b[0;34m.\u001b[0m\u001b[0mR\u001b[0m\u001b[0;34m[\u001b[0m\u001b[0muy\u001b[0m\u001b[0;34m,\u001b[0m \u001b[0mih\u001b[0m\u001b[0;34m]\u001b[0m \u001b[0;34m-\u001b[0m \u001b[0mself\u001b[0m\u001b[0;34m.\u001b[0m\u001b[0musers\u001b[0m\u001b[0;34m[\u001b[0m\u001b[0muy\u001b[0m\u001b[0;34m]\u001b[0m\u001b[0;34m[\u001b[0m\u001b[0;34m'mean'\u001b[0m\u001b[0;34m]\u001b[0m\u001b[0;34m)\u001b[0m\u001b[0;34m\u001b[0m\u001b[0;34m\u001b[0m\u001b[0m\n\u001b[1;32m     72\u001b[0m                     \u001b[0mf\u001b[0m \u001b[0;34m=\u001b[0m \u001b[0mf\u001b[0m \u001b[0;34m+\u001b[0m \u001b[0md\u001b[0m \u001b[0;34m**\u001b[0m \u001b[0;36m2\u001b[0m \u001b[0;34m-\u001b[0m \u001b[0;36m2\u001b[0m \u001b[0;34m*\u001b[0m \u001b[0md\u001b[0m \u001b[0;34m*\u001b[0m \u001b[0;34m(\u001b[0m\u001b[0mself\u001b[0m\u001b[0;34m.\u001b[0m\u001b[0mR\u001b[0m\u001b[0;34m[\u001b[0m\u001b[0mua\u001b[0m\u001b[0;34m,\u001b[0m \u001b[0mih\u001b[0m\u001b[0;34m]\u001b[0m \u001b[0;34m-\u001b[0m \u001b[0mprev_mean\u001b[0m\u001b[0;34m)\u001b[0m\u001b[0;34m\u001b[0m\u001b[0;34m\u001b[0m\u001b[0m\n",
      "\u001b[0;31mKeyboardInterrupt\u001b[0m: "
     ]
    }
   ],
   "source": [
    "# For each interaction - register user, register item, register event\n",
    "for u, i in data2[:1000]:\n",
    "    # print(u,i)\n",
    "    user = User(u)\n",
    "    knn_RS.register(user)\n",
    "\n",
    "    item = Item(i)\n",
    "    knn_RS.register(item)\n",
    "\n",
    "    event = Event(user, item)\n",
    "    knn_RS.update(event)"
   ]
  },
  {
   "cell_type": "code",
   "execution_count": null,
   "metadata": {
    "collapsed": true,
    "jupyter": {
     "outputs_hidden": true,
     "source_hidden": true
    }
   },
   "outputs": [
    {
     "data": {
      "text/plain": [
       "set()"
      ]
     },
     "execution_count": 25,
     "metadata": {},
     "output_type": "execute_result"
    }
   ],
   "source": [
    "knn_RS.users[0]['known_items']"
   ]
  },
  {
   "cell_type": "code",
   "execution_count": null,
   "metadata": {
    "jupyter": {
     "source_hidden": true
    }
   },
   "outputs": [],
   "source": [
    "for i in knn_RS.users[0]['known_items']:\n",
    "    print(i)"
   ]
  },
  {
   "cell_type": "code",
   "execution_count": null,
   "metadata": {
    "collapsed": true,
    "jupyter": {
     "outputs_hidden": true,
     "source_hidden": true
    }
   },
   "outputs": [
    {
     "data": {
      "text/plain": [
       "(array([516, 192, 162, 163, 164, 165, 166, 167, 168, 169, 170, 171, 172,\n",
       "        173, 174, 175, 176, 177, 178, 179, 180, 181, 182, 183, 184, 185,\n",
       "        186, 187, 188, 189, 190, 161, 160, 159, 143, 130, 131, 132, 133,\n",
       "        134, 135, 136, 137, 138, 139, 140, 141, 142, 144, 158, 145, 146,\n",
       "        147, 148, 149, 150, 151, 152, 153, 154, 155, 156, 157, 191, 193,\n",
       "        257, 194, 227, 228, 229, 230, 231, 232, 233, 234, 235, 236, 237,\n",
       "        238, 239, 240, 241, 242, 243, 244, 245, 246, 247, 248, 249, 250,\n",
       "        251, 252, 253, 254, 255, 226, 225, 224, 208, 195, 196, 197, 198,\n",
       "        199, 200, 201, 202, 203, 204, 205, 206, 207, 209, 223, 210, 211,\n",
       "        212, 213, 214, 215, 216, 217, 218, 219, 220, 221, 222, 129, 128,\n",
       "        127, 126,  33,  34,  35,  36,  37,  38,  39,  40,  41,  42,  43,\n",
       "         44,  45,  46,  47,  48,  49,  50,  51,  52,  53,  54,  55,  56,\n",
       "         57,  58,  59,  60,  61,  32,  31,  30,  14,   1,   2,   3,   4,\n",
       "          5,   6,   7,   8,   9,  10,  11,  12,  13,  15,  29,  16,  17,\n",
       "         18,  19,  20,  21,  22,  23,  24,  25,  26,  27,  28,  62,  63,\n",
       "         64, 111,  98,  99, 100, 101, 102, 103, 104, 105, 106, 107, 108,\n",
       "        109, 110, 112,  96, 113, 114, 115, 116, 117, 118, 119, 120, 121,\n",
       "        122, 123, 124, 125,  97,  95,  65,  79,  66,  67,  68,  69,  70,\n",
       "         71,  72,  73,  74,  75,  76,  77,  78,  80,  94,  81,  82,  83,\n",
       "         84,  85,  86,  87,  88,  89,  90,  91,  92,  93, 256, 258, 515,\n",
       "        451, 421, 422, 423, 424, 425, 426, 427, 428, 429, 430, 431, 432,\n",
       "        433, 434, 435, 436, 437, 438, 439, 440, 441, 442, 443, 444, 445,\n",
       "        446, 447, 448, 449, 420, 419, 418, 402, 389, 390, 391, 392, 393,\n",
       "        394, 395, 396, 397, 398, 399, 400, 401, 403, 417, 404, 405, 406,\n",
       "        407, 408, 409, 410, 411, 412, 413, 414, 415, 416, 450, 452, 259,\n",
       "        453, 486, 487, 488, 489, 490, 491, 492, 493, 494, 495, 496, 497,\n",
       "        498, 499, 500, 501, 502, 503, 504, 505, 506, 507, 508, 509, 510,\n",
       "        511, 512, 513, 514, 485, 484, 483, 467, 454, 455, 456, 457, 458,\n",
       "        459, 460, 461, 462, 463, 464, 465, 466, 468, 482, 469, 470, 471,\n",
       "        472, 473, 474, 475, 476, 477, 478, 479, 480, 481, 388, 387, 386,\n",
       "        385, 292, 293, 294, 295, 296, 297, 298, 299, 300, 301, 302, 303,\n",
       "        304, 305, 306, 307, 308, 309, 310, 311, 312, 313, 314, 315, 316,\n",
       "        317, 318, 319, 320, 291, 290, 289, 273, 260, 261, 262, 263, 264,\n",
       "        265, 266, 267, 268, 269, 270, 271, 272, 274, 288, 275, 276, 277,\n",
       "        278, 279, 280, 281, 282, 283, 284, 285, 286, 287, 321, 322, 323,\n",
       "        370, 357, 358, 359, 360, 361, 362, 363, 364, 365, 366, 367, 368,\n",
       "        369, 371, 355, 372, 373, 374, 375, 376, 377, 378, 379, 380, 381,\n",
       "        382, 383, 384, 356, 354, 324, 338, 325, 326, 327, 328, 329, 330,\n",
       "        331, 332, 333, 334, 335, 336, 337, 339, 353, 340, 341, 342, 343,\n",
       "        344, 345, 346, 347, 348, 349, 350, 351, 352,   0]),\n",
       " array([nan, nan, nan, nan, nan, nan, nan, nan, nan, nan, nan, nan, nan,\n",
       "        nan, nan, nan, nan, nan, nan, nan, nan, nan, nan, nan, nan, nan,\n",
       "        nan, nan, nan, nan, nan, nan, nan, nan, nan, nan, nan, nan, nan,\n",
       "        nan, nan, nan, nan, nan, nan, nan, nan, nan, nan, nan, nan, nan,\n",
       "        nan, nan, nan, nan, nan, nan, nan, nan, nan, nan, nan, nan, nan,\n",
       "        nan, nan, nan, nan, nan, nan, nan, nan, nan, nan, nan, nan, nan,\n",
       "        nan, nan, nan, nan, nan, nan, nan, nan, nan, nan, nan, nan, nan,\n",
       "        nan, nan, nan, nan, nan, nan, nan, nan, nan, nan, nan, nan, nan,\n",
       "        nan, nan, nan, nan, nan, nan, nan, nan, nan, nan, nan, nan, nan,\n",
       "        nan, nan, nan, nan, nan, nan, nan, nan, nan, nan, nan, nan, nan,\n",
       "        nan, nan, nan, nan, nan, nan, nan, nan, nan, nan, nan, nan, nan,\n",
       "        nan, nan, nan, nan, nan, nan, nan, nan, nan, nan, nan, nan, nan,\n",
       "        nan, nan, nan, nan, nan, nan, nan, nan, nan, nan, nan, nan, nan,\n",
       "        nan, nan, nan, nan, nan, nan, nan, nan, nan, nan, nan, nan, nan,\n",
       "        nan, nan, nan, nan, nan, nan, nan, nan, nan, nan, nan, nan, nan,\n",
       "        nan, nan, nan, nan, nan, nan, nan, nan, nan, nan, nan, nan, nan,\n",
       "        nan, nan, nan, nan, nan, nan, nan, nan, nan, nan, nan, nan, nan,\n",
       "        nan, nan, nan, nan, nan, nan, nan, nan, nan, nan, nan, nan, nan,\n",
       "        nan, nan, nan, nan, nan, nan, nan, nan, nan, nan, nan, nan, nan,\n",
       "        nan, nan, nan, nan, nan, nan, nan, nan, nan, nan, nan, nan, nan,\n",
       "        nan, nan, nan, nan, nan, nan, nan, nan, nan, nan, nan, nan, nan,\n",
       "        nan, nan, nan, nan, nan, nan, nan, nan, nan, nan, nan, nan, nan,\n",
       "        nan, nan, nan, nan, nan, nan, nan, nan, nan, nan, nan, nan, nan,\n",
       "        nan, nan, nan, nan, nan, nan, nan, nan, nan, nan, nan, nan, nan,\n",
       "        nan, nan, nan, nan, nan, nan, nan, nan, nan, nan, nan, nan, nan,\n",
       "        nan, nan, nan, nan, nan, nan, nan, nan, nan, nan, nan, nan, nan,\n",
       "        nan, nan, nan, nan, nan, nan, nan, nan, nan, nan, nan, nan, nan,\n",
       "        nan, nan, nan, nan, nan, nan, nan, nan, nan, nan, nan, nan, nan,\n",
       "        nan, nan, nan, nan, nan, nan, nan, nan, nan, nan, nan, nan, nan,\n",
       "        nan, nan, nan, nan, nan, nan, nan, nan, nan, nan, nan, nan, nan,\n",
       "        nan, nan, nan, nan, nan, nan, nan, nan, nan, nan, nan, nan, nan,\n",
       "        nan, nan, nan, nan, nan, nan, nan, nan, nan, nan, nan, nan, nan,\n",
       "        nan, nan, nan, nan, nan, nan, nan, nan, nan, nan, nan, nan, nan,\n",
       "        nan, nan, nan, nan, nan, nan, nan, nan, nan, nan, nan, nan, nan,\n",
       "        nan, nan, nan, nan, nan, nan, nan, nan, nan, nan, nan, nan, nan,\n",
       "        nan, nan, nan, nan, nan, nan, nan, nan, nan, nan, nan, nan, nan,\n",
       "        nan, nan, nan, nan, nan, nan, nan, nan, nan, nan, nan, nan, nan,\n",
       "        nan, nan, nan, nan, nan, nan, nan, nan, nan, nan, nan, nan, nan,\n",
       "        nan, nan, nan, nan, nan, nan, nan, nan, nan, nan, nan, nan, nan,\n",
       "        nan, nan, nan, nan, nan, nan, nan, nan, nan, nan]))"
      ]
     },
     "execution_count": 74,
     "metadata": {},
     "output_type": "execute_result"
    }
   ],
   "source": [
    "knn_RS.recommend(User(0), np.unique( data2[:1000, 1] ) ) # np.unique( data2[:, 1] ).reshape(1,-1)\n",
    "# => (sorted candidates, scores)"
   ]
  },
  {
   "cell_type": "code",
   "execution_count": null,
   "metadata": {},
   "outputs": [],
   "source": []
  },
  {
   "cell_type": "code",
   "execution_count": 8,
   "metadata": {},
   "outputs": [],
   "source": [
    "import os\n",
    "import sys\n",
    "sys.path.append(os.path.abspath('') + '/..')\n",
    "from data import ImplicitData, getBucketsHoldouts\n",
    "from plot_utils import lineplot_recallxholdout, recall_heatmap\n",
    "from dataset_evaluation_utils import *\n",
    "from recommenders_implicit import ISGD, RAISGD, RSISGD  # ISGD framework, BISGD,\n",
    "from eval_implicit import EvaluateHoldouts, EvaluateAndStore # EvaluateAndStore para guardar estados do modelo e holdouts, a avaliação prequencial de ratings implicitos é opcional, , EvalHoldout\n",
    "\n",
    "from flurs.data.entity import User, Item, Event\n",
    "from flurs.recommender import UserKNNRecommender, BPRMFRecommender, SketchRecommender\n",
    "import pandas as pd\n",
    "import numpy as np\n",
    "\n",
    "from datetime import datetime\n",
    "import joblib\n",
    "import pandas as pd \n",
    "import numpy as np \n",
    "import seaborn as sns\n",
    "import matplotlib.pyplot as plt\n",
    "sns.set_style('whitegrid')"
   ]
  },
  {
   "cell_type": "code",
   "execution_count": 3,
   "metadata": {},
   "outputs": [],
   "source": [
    "# importa dataset 'books playlists'\n",
    "data = pd.read_csv('output/amazonbooks_dump/3rd_sampled_amazon_books.csv')\n",
    "dataset_name = 'Amazon_Books'\n",
    "user_col = 'user_id'\n",
    "item_col = 'item_id'\n",
    "# data.sort_values(by='timestamp', inplace=True)"
   ]
  },
  {
   "cell_type": "code",
   "execution_count": 4,
   "metadata": {},
   "outputs": [],
   "source": [
    "buckets = joblib.load('output/amazonbooks_dump/3rd_sample_buckets.joblib')\n",
    "holdouts = joblib.load('output/amazonbooks_dump/3rd_sample_holdouts.joblib')"
   ]
  },
  {
   "cell_type": "code",
   "execution_count": 5,
   "metadata": {},
   "outputs": [],
   "source": [
    "# https://flurs.readthedocs.io/en/latest/reference.html#evaluation-utilities\n",
    "import time\n",
    "\n",
    "class EvaluateHoldouts_Flurs():\n",
    "    def __init__(self, model, buckets, holdouts, data, user_col, item_col):\n",
    "        self.model = model\n",
    "        self.buckets = buckets\n",
    "        self.holdouts = holdouts\n",
    "        self.usermap = pd.Series(pd.unique( data[user_col] )).reset_index().set_index(0).to_dict()['index']\n",
    "        self.itemmap = pd.Series(pd.unique( data[item_col] )).reset_index().set_index(0).to_dict()['index']\n",
    "        self.max_users = data[user_col].nunique()\n",
    "        self.max_items = data[item_col].nunique()\n",
    "        self.metrics = [\"Recall@N\"]\n",
    "        self.IncrementalTraining_time_record = {}\n",
    "        self.EvaluateHoldouts_time_record = {}\n",
    "\n",
    "    def train_evaluate(self, N_recommendations=20, exclude_known_items:bool=True):\n",
    "        '''\n",
    "        Incremental training of recommendation model.\n",
    "        '''\n",
    "        # model_checkpoints = []\n",
    "        self.results_matrix = np.zeros( shape=( len( self.holdouts ), len( self.holdouts ) ) )\n",
    "        # metric = self.metrics[0]\n",
    "        self.N_recommendations = N_recommendations\n",
    "        self.exclude_known_items = exclude_known_items\n",
    "        # Initialize model\n",
    "        # model = UserKNNRecommender(k=5) # model\n",
    "        self.model.initialize()\n",
    "        print('register users')\n",
    "        s = time.time()\n",
    "        for u in range(0, self.max_users):\n",
    "            if not ((u*100)/self.max_users)%5:\n",
    "                print (((u*100)/self.max_users),'%')\n",
    "            self.model.register(User(u))\n",
    "        f = time.time()\n",
    "        print( f-s, 'register users time' )\n",
    "        print('register items')\n",
    "        s = time.time()\n",
    "        for i in range(0, self.max_items):\n",
    "            if not ((i*100)/self.max_items)%5:\n",
    "                print (((i*100)/self.max_items),'%')\n",
    "            self.model.register(Item(i))\n",
    "        f = time.time()\n",
    "        print( f-s, 'register items time' )\n",
    "        self.max_item_ID = 0\n",
    "        self.cold_start_buckets = len( self.buckets ) - len( self.holdouts ) \n",
    "        # for each bucket, perform incremental training, evaluate model state against all holdouts\n",
    "        for b, bucket in enumerate(self.buckets):\n",
    "            print(f'Training: bucket {b}')\n",
    "            incrtrain_time = []\n",
    "            for i in range(bucket.size):\n",
    "                if not ( (i*100)/bucket.size ) % 5:\n",
    "                    print(( (i*100)/bucket.size ), '%')\n",
    "                uid,iid = bucket.GetTuple(i)\n",
    "                s = time.time()\n",
    "                u_flurs, i_flurs = self.usermap[uid], self.itemmap[iid]\n",
    "                self.max_item_ID = max(self.max_item_ID, i_flurs)\n",
    "                # For each interaction - register user, register item, register event\n",
    "                user = User(u_flurs)\n",
    "                item = Item(i_flurs)\n",
    "                event = Event(user, item)\n",
    "#                 self.model.register(user)\n",
    "#                 self.model.register(item)\n",
    "                self.model.update(event)\n",
    "                f = time.time()\n",
    "                incrtrain_time.append(f-s)        \n",
    "\n",
    "            self.IncrementalTraining_time_record[f'bucket_{b}'] = {\n",
    "                'size':bucket.size,\n",
    "                'train time vector':incrtrain_time,\n",
    "                'avg train time':np.mean(incrtrain_time),\n",
    "                'total train time':np.sum(incrtrain_time)\n",
    "                }            \n",
    "\n",
    "            if b >= self.cold_start_buckets:\n",
    "                self._evaluate(n_bucket=b)\n",
    "\n",
    "    def _evaluate(self, n_bucket):\n",
    "        # after learning a bucket, evaluate model over every holdout     \n",
    "        evaluate_time = [] \n",
    "        time_get_tuple = []\n",
    "        time_recommend = []\n",
    "        time_del_user_items = []\n",
    "        time_eval_point = []  \n",
    "        for i, hd in enumerate(self.holdouts):\n",
    "            print(f'Evaluating: model {n_bucket-self.cold_start_buckets} x holdout {i}')\n",
    "            start_evaluate_time = time.time()\n",
    "            results = {}\n",
    "            # for metric in self.metrics:\n",
    "            metric = self.metrics[0]\n",
    "            results[metric] = []\n",
    "            for hd_i in range(hd.size):\n",
    "                if not ( (hd_i*100)/hd.size ) % 5:\n",
    "                    print(( (hd_i*100)/hd.size ), '%')\n",
    "                # GetTuple\n",
    "                s = time.time()\n",
    "                uid, iid = hd.GetTuple(hd_i) # get external IDs\n",
    "                u_flurs, i_flurs = self.usermap[uid], self.itemmap[iid]\n",
    "                user = User(u_flurs)\n",
    "                f = time.time()\n",
    "                time_get_tuple.append(f - s)\n",
    "                # recommend\n",
    "                s = time.time()\n",
    "                reclist = self.model.recommend(user, np.arange(self.max_item_ID+1) )[0]\n",
    "                f = time.time()\n",
    "                time_recommend.append(f - s)\n",
    "                # get items seen by user up until bucket 'n_bucket'\n",
    "                # delete seen items \n",
    "                s = time.time()\n",
    "                user_items = self.buckets[n_bucket].GetUserItems(uid, internal=False) \n",
    "                for previous_b in range(n_bucket):\n",
    "                    user_items = np.concatenate((user_items, self.buckets[previous_b].GetUserItems(uid, internal=False)))\n",
    "                user_items = [self.itemmap[i] for i in user_items]\n",
    "                if self.exclude_known_items:\n",
    "                    reclist = np.delete(reclist, user_items)\n",
    "                f = time.time()\n",
    "                time_del_user_items.append(f - s)\n",
    "                # get n recommendations\n",
    "                n = self.N_recommendations\n",
    "                if n == -1:\n",
    "                    n = len(reclist)\n",
    "                reclist = reclist[:n]\n",
    "                if len(reclist):\n",
    "                    s = time.time()\n",
    "                    results[metric].append(self.__EvalPoint(i_flurs, reclist))\n",
    "                    f = time.time()\n",
    "                    time_eval_point.append(f - s)\n",
    "                else:\n",
    "                    print(uid, 'user not seen')\n",
    "            result = results[metric]\n",
    "            n_not_seen = hd.size - len(result) # if user was not seen, its not added to recall. May be needed to store difference.\n",
    "            if n_not_seen:\n",
    "                print(f'recommendations not made for users in holdout {i} x bucket {n_bucket}: {n_not_seen}')\n",
    "            result = sum( result ) / len(result)\n",
    "            self.results_matrix[n_bucket-self.cold_start_buckets, i] = result\n",
    "            end_evaluate_time = time.time()\n",
    "            evaluate_time.append(end_evaluate_time - start_evaluate_time)\n",
    "            self.EvaluateHoldouts_time_record[f'model {n_bucket-self.cold_start_buckets} x holdout {i}'] = {\n",
    "                'size': hd.size,\n",
    "                'train time vector':evaluate_time,\n",
    "                'avg model eval time':np.mean(evaluate_time),\n",
    "                'total train time':np.sum(evaluate_time),\n",
    "                'time_get_tuple': time_get_tuple,\n",
    "                'time_recommend': time_recommend,\n",
    "                'time_del_user_items': time_del_user_items,\n",
    "                'time_eval_point': time_eval_point,\n",
    "            }\n",
    "\n",
    "    def __EvalPoint(self, item_id, reclist):\n",
    "        result = 0\n",
    "        if len(reclist) == 0:\n",
    "            return 0\n",
    "        for metric in self.metrics:\n",
    "            if metric == \"Recall@N\":\n",
    "                result = int(item_id in reclist)\n",
    "        return result"
   ]
  },
  {
   "cell_type": "code",
   "execution_count": 7,
   "metadata": {},
   "outputs": [],
   "source": [
    "eval_KNN = EvaluateHoldouts_Flurs(UserKNNRecommender(k=5), buckets, holdouts, data, user_col, item_col)"
   ]
  },
  {
   "cell_type": "code",
   "execution_count": null,
   "metadata": {},
   "outputs": [
    {
     "name": "stdout",
     "output_type": "stream",
     "text": [
      "register users\n",
      "0.0 %\n",
      "20.0 %\n",
      "40.0 %\n",
      "60.0 %\n",
      "80.0 %\n",
      "0.2770051956176758 register users time\n",
      "register items\n",
      "0.0 %\n",
      "20.0 %\n",
      "40.0 %\n"
     ]
    }
   ],
   "source": [
    "%%time\n",
    "# quase 3 horas só pra registrar usuários e itens\n",
    "eval_KNN.train_evaluate(N_recommendations = 20, exclude_known_items = True)"
   ]
  },
  {
   "cell_type": "code",
   "execution_count": 9,
   "metadata": {},
   "outputs": [],
   "source": [
    "BPRMF = EvaluateHoldouts_Flurs(BPRMFRecommender(), buckets, holdouts, data, user_col, item_col)"
   ]
  },
  {
   "cell_type": "code",
   "execution_count": 10,
   "metadata": {},
   "outputs": [
    {
     "name": "stdout",
     "output_type": "stream",
     "text": [
      "register users\n",
      "0.0 %\n",
      "20.0 %\n",
      "40.0 %\n",
      "60.0 %\n",
      "80.0 %\n",
      "0.010806798934936523 register users time\n",
      "register items\n",
      "0.0 %\n",
      "20.0 %\n",
      "40.0 %\n"
     ]
    },
    {
     "ename": "KeyboardInterrupt",
     "evalue": "",
     "output_type": "error",
     "traceback": [
      "\u001b[0;31m---------------------------------------------------------------------------\u001b[0m",
      "\u001b[0;31mKeyboardInterrupt\u001b[0m                         Traceback (most recent call last)",
      "File \u001b[0;32m<timed eval>:1\u001b[0m, in \u001b[0;36m<module>\u001b[0;34m\u001b[0m\n",
      "Input \u001b[0;32mIn [5]\u001b[0m, in \u001b[0;36mEvaluateHoldouts_Flurs.train_evaluate\u001b[0;34m(self, N_recommendations, exclude_known_items)\u001b[0m\n\u001b[1;32m     41\u001b[0m     \u001b[38;5;28;01mif\u001b[39;00m \u001b[38;5;129;01mnot\u001b[39;00m ((i\u001b[38;5;241m*\u001b[39m\u001b[38;5;241m100\u001b[39m)\u001b[38;5;241m/\u001b[39m\u001b[38;5;28mself\u001b[39m\u001b[38;5;241m.\u001b[39mmax_items)\u001b[38;5;241m%\u001b[39m\u001b[38;5;241m5\u001b[39m:\n\u001b[1;32m     42\u001b[0m         \u001b[38;5;28mprint\u001b[39m (((i\u001b[38;5;241m*\u001b[39m\u001b[38;5;241m100\u001b[39m)\u001b[38;5;241m/\u001b[39m\u001b[38;5;28mself\u001b[39m\u001b[38;5;241m.\u001b[39mmax_items),\u001b[38;5;124m'\u001b[39m\u001b[38;5;124m%\u001b[39m\u001b[38;5;124m'\u001b[39m)\n\u001b[0;32m---> 43\u001b[0m     \u001b[38;5;28;43mself\u001b[39;49m\u001b[38;5;241;43m.\u001b[39;49m\u001b[43mmodel\u001b[49m\u001b[38;5;241;43m.\u001b[39;49m\u001b[43mregister\u001b[49m\u001b[43m(\u001b[49m\u001b[43mItem\u001b[49m\u001b[43m(\u001b[49m\u001b[43mi\u001b[49m\u001b[43m)\u001b[49m\u001b[43m)\u001b[49m\n\u001b[1;32m     44\u001b[0m f \u001b[38;5;241m=\u001b[39m time\u001b[38;5;241m.\u001b[39mtime()\n\u001b[1;32m     45\u001b[0m \u001b[38;5;28mprint\u001b[39m( f\u001b[38;5;241m-\u001b[39ms, \u001b[38;5;124m'\u001b[39m\u001b[38;5;124mregister items time\u001b[39m\u001b[38;5;124m'\u001b[39m )\n",
      "File \u001b[0;32m~/.virtualenvs/streamrec_venv/lib/python3.8/site-packages/flurs/base.py:43\u001b[0m, in \u001b[0;36mRecommenderMixin.register\u001b[0;34m(self, entity)\u001b[0m\n\u001b[1;32m     41\u001b[0m     \u001b[38;5;28mself\u001b[39m\u001b[38;5;241m.\u001b[39mregister_user(entity)\n\u001b[1;32m     42\u001b[0m \u001b[38;5;28;01melif\u001b[39;00m t \u001b[38;5;241m==\u001b[39m Item:\n\u001b[0;32m---> 43\u001b[0m     \u001b[38;5;28;43mself\u001b[39;49m\u001b[38;5;241;43m.\u001b[39;49m\u001b[43mregister_item\u001b[49m\u001b[43m(\u001b[49m\u001b[43mentity\u001b[49m\u001b[43m)\u001b[49m\n",
      "File \u001b[0;32m~/.virtualenvs/streamrec_venv/lib/python3.8/site-packages/flurs/recommender/bprmf.py:32\u001b[0m, in \u001b[0;36mBPRMFRecommender.register_item\u001b[0;34m(self, item)\u001b[0m\n\u001b[1;32m     30\u001b[0m     \u001b[38;5;28mself\u001b[39m\u001b[38;5;241m.\u001b[39mQ \u001b[38;5;241m=\u001b[39m i_vec\n\u001b[1;32m     31\u001b[0m \u001b[38;5;28;01melse\u001b[39;00m:\n\u001b[0;32m---> 32\u001b[0m     \u001b[38;5;28mself\u001b[39m\u001b[38;5;241m.\u001b[39mQ \u001b[38;5;241m=\u001b[39m \u001b[43mnp\u001b[49m\u001b[38;5;241;43m.\u001b[39;49m\u001b[43mconcatenate\u001b[49m\u001b[43m(\u001b[49m\u001b[43m(\u001b[49m\u001b[38;5;28;43mself\u001b[39;49m\u001b[38;5;241;43m.\u001b[39;49m\u001b[43mQ\u001b[49m\u001b[43m,\u001b[49m\u001b[43m \u001b[49m\u001b[43mi_vec\u001b[49m\u001b[43m)\u001b[49m\u001b[43m)\u001b[49m\n",
      "File \u001b[0;32m<__array_function__ internals>:5\u001b[0m, in \u001b[0;36mconcatenate\u001b[0;34m(*args, **kwargs)\u001b[0m\n",
      "\u001b[0;31mKeyboardInterrupt\u001b[0m: "
     ]
    }
   ],
   "source": [
    "%%time\n",
    "# bem mais rápido registrar usuários e itens com BPRMF do que com KNN\n",
    "BPRMF.train_evaluate(N_recommendations = 20, exclude_known_items = True)"
   ]
  },
  {
   "cell_type": "code",
   "execution_count": null,
   "metadata": {},
   "outputs": [],
   "source": [
    "eval_KNN"
   ]
  },
  {
   "cell_type": "code",
   "execution_count": null,
   "metadata": {},
   "outputs": [],
   "source": [
    "import json\n",
    "json.dump()"
   ]
  }
 ],
 "metadata": {
  "kernelspec": {
   "display_name": "streamrec_venv",
   "language": "python",
   "name": "streamrec_venv"
  },
  "language_info": {
   "codemirror_mode": {
    "name": "ipython",
    "version": 3
   },
   "file_extension": ".py",
   "mimetype": "text/x-python",
   "name": "python",
   "nbconvert_exporter": "python",
   "pygments_lexer": "ipython3",
   "version": "3.8.10"
  },
  "vscode": {
   "interpreter": {
    "hash": "93164e1ba08303257f1d4f69270dc17556e83319233af9462e0c249160adc063"
   }
  }
 },
 "nbformat": 4,
 "nbformat_minor": 4
}
